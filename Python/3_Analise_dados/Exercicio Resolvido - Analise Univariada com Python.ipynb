{
 "cells": [
  {
   "cell_type": "markdown",
   "metadata": {},
   "source": [
    "# Análise Exploratória de Dados com Python\n",
    "## Análise Univariada - Exercício\n",
    "O objetivo deste notebook é aplicar as principais funções em Python para conduzir uma análise univariada de dados, a saber:\n",
    "- Medidas resumo\n",
    "- Tabela de frequência"
   ]
  },
  {
   "cell_type": "markdown",
   "metadata": {},
   "source": [
    "### Enunciado\n",
    "\n"
   ]
  },
  {
   "cell_type": "markdown",
   "metadata": {},
   "source": [
    "Uma empresa solicitou a uma consultoria um diagnóstico de seu Serviço de Suporte a Clientes. Com base no diagnóstico a partir da análise de dados, a empresa pretende entender quais são as oportunidades de melhorias dos produtos e serviços ofertados.   \r\n",
    "\r\n",
    "Considerando a base **dados_suporte_tecnico.xlsx**, extraia dos dados informações para auxiliar o diagnóstico.  \r\n",
    "\r\n",
    "Como roteiro, responda às perguntas:  \r\n",
    "\r\n",
    "a) Interessado em saber quais são os tempos médios de atendimento (TMA), você decidiu utilizar o conceito de quartis. Qual seria o valor de tempo de atendimento que separaria os 25% dos tickets abertos?  \r\n",
    "\r\n",
    "b) Há uma concentração de tickets em algum turno de trabalho?  \r\n",
    "\r\n",
    "c) Divida os tempos TMA em intervalos baixo-médio-alto e faça sua análise. Quais são suas conclusões?  \r\n",
    "\r\n",
    "d) Assim como para a métrica Tempo Médio de Atendimento (TMA), analisada anteriormente, faça uma análise similar para Taxa de Conversão de Atendimento.  \r\n",
    "\r\n",
    "e) Crie uma tabela de frequência para Atendente e analise. Quais são suas conclusões?  \r\n"
   ]
  },
  {
   "cell_type": "code",
   "execution_count": 1,
   "metadata": {},
   "outputs": [],
   "source": [
    "import pandas as pd"
   ]
  },
  {
   "cell_type": "code",
   "execution_count": 2,
   "metadata": {},
   "outputs": [
    {
     "data": {
      "text/plain": [
       "'2.1.4'"
      ]
     },
     "execution_count": 2,
     "metadata": {},
     "output_type": "execute_result"
    }
   ],
   "source": [
    "pd.__version__"
   ]
  },
  {
   "cell_type": "markdown",
   "metadata": {},
   "source": [
    "### Carregando os dados"
   ]
  },
  {
   "cell_type": "code",
   "execution_count": 3,
   "metadata": {},
   "outputs": [
    {
     "name": "stdout",
     "output_type": "stream",
     "text": [
      "<class 'pandas.core.frame.DataFrame'>\n",
      "RangeIndex: 3025 entries, 0 to 3024\n",
      "Data columns (total 12 columns):\n",
      " #   Column                         Non-Null Count  Dtype         \n",
      "---  ------                         --------------  -----         \n",
      " 0   ticket_id                      3025 non-null   int64         \n",
      " 1   inicio_atendimento             3025 non-null   datetime64[ns]\n",
      " 2   fim_atendimento                3025 non-null   datetime64[ns]\n",
      " 3   turno                          3025 non-null   object        \n",
      " 4   atendente_nome                 3025 non-null   object        \n",
      " 5   resolvido_na_primeira_chamada  3025 non-null   object        \n",
      " 6   conversao_atendimento          3025 non-null   object        \n",
      " 7   nota_csat                      3006 non-null   float64       \n",
      " 8   produto                        3025 non-null   object        \n",
      " 9   cliente                        3025 non-null   object        \n",
      " 10  ticket_reaberto                3025 non-null   object        \n",
      " 11  ticket_original                939 non-null    float64       \n",
      "dtypes: datetime64[ns](2), float64(2), int64(1), object(7)\n",
      "memory usage: 283.7+ KB\n"
     ]
    }
   ],
   "source": [
    "# Lendo a base de dados\n",
    "df = pd.read_excel('Exercicio_suporte_tecnico.xlsx')\n",
    "df.info()"
   ]
  },
  {
   "cell_type": "code",
   "execution_count": 4,
   "metadata": {},
   "outputs": [
    {
     "data": {
      "text/html": [
       "<div>\n",
       "<style scoped>\n",
       "    .dataframe tbody tr th:only-of-type {\n",
       "        vertical-align: middle;\n",
       "    }\n",
       "\n",
       "    .dataframe tbody tr th {\n",
       "        vertical-align: top;\n",
       "    }\n",
       "\n",
       "    .dataframe thead th {\n",
       "        text-align: right;\n",
       "    }\n",
       "</style>\n",
       "<table border=\"1\" class=\"dataframe\">\n",
       "  <thead>\n",
       "    <tr style=\"text-align: right;\">\n",
       "      <th></th>\n",
       "      <th>ticket_id</th>\n",
       "      <th>inicio_atendimento</th>\n",
       "      <th>fim_atendimento</th>\n",
       "      <th>turno</th>\n",
       "      <th>atendente_nome</th>\n",
       "      <th>resolvido_na_primeira_chamada</th>\n",
       "      <th>conversao_atendimento</th>\n",
       "      <th>nota_csat</th>\n",
       "      <th>produto</th>\n",
       "      <th>cliente</th>\n",
       "      <th>ticket_reaberto</th>\n",
       "      <th>ticket_original</th>\n",
       "    </tr>\n",
       "  </thead>\n",
       "  <tbody>\n",
       "    <tr>\n",
       "      <th>0</th>\n",
       "      <td>1048</td>\n",
       "      <td>2023-12-01 06:00:00</td>\n",
       "      <td>2023-12-01 06:15:00</td>\n",
       "      <td>Manhã</td>\n",
       "      <td>Carla Souza</td>\n",
       "      <td>Sim</td>\n",
       "      <td>Sim</td>\n",
       "      <td>7.0</td>\n",
       "      <td>Serviço C</td>\n",
       "      <td>Empresa X</td>\n",
       "      <td>Não</td>\n",
       "      <td>NaN</td>\n",
       "    </tr>\n",
       "    <tr>\n",
       "      <th>1</th>\n",
       "      <td>436</td>\n",
       "      <td>2023-12-01 06:12:00</td>\n",
       "      <td>2023-12-01 06:18:00</td>\n",
       "      <td>Manhã</td>\n",
       "      <td>Ana Paula</td>\n",
       "      <td>Sim</td>\n",
       "      <td>Sim</td>\n",
       "      <td>4.0</td>\n",
       "      <td>Serviço C</td>\n",
       "      <td>Empresa Z</td>\n",
       "      <td>Não</td>\n",
       "      <td>NaN</td>\n",
       "    </tr>\n",
       "    <tr>\n",
       "      <th>2</th>\n",
       "      <td>1725</td>\n",
       "      <td>2023-12-01 06:18:00</td>\n",
       "      <td>2023-12-01 06:52:00</td>\n",
       "      <td>Manhã</td>\n",
       "      <td>Maria Fernandes</td>\n",
       "      <td>Não</td>\n",
       "      <td>Não</td>\n",
       "      <td>3.0</td>\n",
       "      <td>Produto B</td>\n",
       "      <td>Empresa Y</td>\n",
       "      <td>Sim</td>\n",
       "      <td>NaN</td>\n",
       "    </tr>\n",
       "    <tr>\n",
       "      <th>3</th>\n",
       "      <td>1186</td>\n",
       "      <td>2023-12-01 06:19:00</td>\n",
       "      <td>2023-12-01 06:56:00</td>\n",
       "      <td>Manhã</td>\n",
       "      <td>Carla Souza</td>\n",
       "      <td>Sim</td>\n",
       "      <td>Sim</td>\n",
       "      <td>4.0</td>\n",
       "      <td>Serviço C</td>\n",
       "      <td>Empresa X</td>\n",
       "      <td>Não</td>\n",
       "      <td>NaN</td>\n",
       "    </tr>\n",
       "    <tr>\n",
       "      <th>4</th>\n",
       "      <td>2683</td>\n",
       "      <td>2023-12-01 06:27:00</td>\n",
       "      <td>2023-12-01 06:50:00</td>\n",
       "      <td>Manhã</td>\n",
       "      <td>Ricardo Andrade</td>\n",
       "      <td>Não</td>\n",
       "      <td>Não</td>\n",
       "      <td>2.0</td>\n",
       "      <td>Produto A</td>\n",
       "      <td>Empresa Z</td>\n",
       "      <td>Não</td>\n",
       "      <td>NaN</td>\n",
       "    </tr>\n",
       "  </tbody>\n",
       "</table>\n",
       "</div>"
      ],
      "text/plain": [
       "   ticket_id  inicio_atendimento     fim_atendimento  turno   atendente_nome  \\\n",
       "0       1048 2023-12-01 06:00:00 2023-12-01 06:15:00  Manhã      Carla Souza   \n",
       "1        436 2023-12-01 06:12:00 2023-12-01 06:18:00  Manhã        Ana Paula   \n",
       "2       1725 2023-12-01 06:18:00 2023-12-01 06:52:00  Manhã  Maria Fernandes   \n",
       "3       1186 2023-12-01 06:19:00 2023-12-01 06:56:00  Manhã      Carla Souza   \n",
       "4       2683 2023-12-01 06:27:00 2023-12-01 06:50:00  Manhã  Ricardo Andrade   \n",
       "\n",
       "  resolvido_na_primeira_chamada conversao_atendimento  nota_csat    produto  \\\n",
       "0                           Sim                   Sim        7.0  Serviço C   \n",
       "1                           Sim                   Sim        4.0  Serviço C   \n",
       "2                           Não                   Não        3.0  Produto B   \n",
       "3                           Sim                   Sim        4.0  Serviço C   \n",
       "4                           Não                   Não        2.0  Produto A   \n",
       "\n",
       "     cliente ticket_reaberto  ticket_original  \n",
       "0  Empresa X             Não              NaN  \n",
       "1  Empresa Z             Não              NaN  \n",
       "2  Empresa Y             Sim              NaN  \n",
       "3  Empresa X             Não              NaN  \n",
       "4  Empresa Z             Não              NaN  "
      ]
     },
     "execution_count": 4,
     "metadata": {},
     "output_type": "execute_result"
    }
   ],
   "source": [
    "df.head()"
   ]
  },
  {
   "cell_type": "markdown",
   "metadata": {},
   "source": [
    "### Análise Univariada\n",
    "\n",
    "O primeiro indicador a ser analisado é o **Tempo Médio de Atendimento (TMA)**, uma medida calculada para computar a duração entre o momento do início e o final do contato do atendimento.  "
   ]
  },
  {
   "cell_type": "markdown",
   "metadata": {},
   "source": [
    "#### a) TMA - 25%\n",
    "Interessado em saber quais são os tempos médios de atendimento - TMA, você decidiu utilizar o conceito de quartis. Qual seria o valor de tempo de atendimento que separaria os 25% dos tickets abertos?"
   ]
  },
  {
   "cell_type": "code",
   "execution_count": 5,
   "metadata": {},
   "outputs": [],
   "source": [
    "# Criando uma coluna para o cálculo do TMA\n",
    "df['TMA'] = df['fim_atendimento']-df['inicio_atendimento']"
   ]
  },
  {
   "cell_type": "code",
   "execution_count": 6,
   "metadata": {},
   "outputs": [
    {
     "data": {
      "text/plain": [
       "count                         3025\n",
       "mean     0 days 00:33:18.069421487\n",
       "std      0 days 00:17:15.480476207\n",
       "min                0 days 00:02:00\n",
       "25%                0 days 00:18:00\n",
       "50%                0 days 00:36:00\n",
       "75%                0 days 00:48:00\n",
       "max                0 days 01:00:00\n",
       "Name: TMA, dtype: object"
      ]
     },
     "execution_count": 6,
     "metadata": {},
     "output_type": "execute_result"
    }
   ],
   "source": [
    "# Estatística descritiva básica - Medidas resumo\n",
    "df['TMA'].describe()"
   ]
  },
  {
   "cell_type": "markdown",
   "metadata": {},
   "source": [
    "_Resposta a)_:  \n",
    "O tempo médio de atendimento (TMA) para o primeiro quartil (25% do tickets abertos) é 18 minutos.  \n",
    "Ou seja, em 25% dos casos, o atendimento é finalizado em um tempo menor ou igual a 18 minutos. "
   ]
  },
  {
   "cell_type": "markdown",
   "metadata": {},
   "source": [
    "#### b) Tickets por turno de trabalho  \n",
    "Há uma concentração de tickets em algum turno de trabalho?\r\n"
   ]
  },
  {
   "cell_type": "code",
   "execution_count": 7,
   "metadata": {},
   "outputs": [
    {
     "data": {
      "text/html": [
       "<div>\n",
       "<style scoped>\n",
       "    .dataframe tbody tr th:only-of-type {\n",
       "        vertical-align: middle;\n",
       "    }\n",
       "\n",
       "    .dataframe tbody tr th {\n",
       "        vertical-align: top;\n",
       "    }\n",
       "\n",
       "    .dataframe thead th {\n",
       "        text-align: right;\n",
       "    }\n",
       "</style>\n",
       "<table border=\"1\" class=\"dataframe\">\n",
       "  <thead>\n",
       "    <tr style=\"text-align: right;\">\n",
       "      <th></th>\n",
       "      <th>Turno</th>\n",
       "      <th>Frequência Absoluta</th>\n",
       "      <th>Frequência Relativa</th>\n",
       "      <th>Frequência Acumulada</th>\n",
       "    </tr>\n",
       "  </thead>\n",
       "  <tbody>\n",
       "    <tr>\n",
       "      <th>0</th>\n",
       "      <td>Noite</td>\n",
       "      <td>1289</td>\n",
       "      <td>0.426116</td>\n",
       "      <td>0.426116</td>\n",
       "    </tr>\n",
       "    <tr>\n",
       "      <th>1</th>\n",
       "      <td>Manhã</td>\n",
       "      <td>1022</td>\n",
       "      <td>0.337851</td>\n",
       "      <td>0.763967</td>\n",
       "    </tr>\n",
       "    <tr>\n",
       "      <th>2</th>\n",
       "      <td>Tarde</td>\n",
       "      <td>714</td>\n",
       "      <td>0.236033</td>\n",
       "      <td>1.000000</td>\n",
       "    </tr>\n",
       "  </tbody>\n",
       "</table>\n",
       "</div>"
      ],
      "text/plain": [
       "   Turno  Frequência Absoluta  Frequência Relativa  Frequência Acumulada\n",
       "0  Noite                 1289             0.426116              0.426116\n",
       "1  Manhã                 1022             0.337851              0.763967\n",
       "2  Tarde                  714             0.236033              1.000000"
      ]
     },
     "execution_count": 7,
     "metadata": {},
     "output_type": "execute_result"
    }
   ],
   "source": [
    "# Frequencia de tickets por turno de trabalho\n",
    "tabela_frequencia_turno = df['turno'].value_counts().reset_index() \n",
    "tabela_frequencia_turno.columns = ['Turno', 'Frequência Absoluta']\n",
    "tabela_frequencia_turno['Frequência Relativa']=tabela_frequencia_turno['Frequência Absoluta']/tabela_frequencia_turno['Frequência Absoluta'].sum()\n",
    "tabela_frequencia_turno['Frequência Acumulada']=tabela_frequencia_turno['Frequência Relativa'].cumsum()\n",
    "tabela_frequencia_turno"
   ]
  },
  {
   "cell_type": "markdown",
   "metadata": {},
   "source": [
    "_Resposta b)_:  \n",
    "O turno que mais concentra atendimentos é o turno da noite, com 42% dos atendimentos (1289 tickets no período analisado), o que corresponde a quase o dobro dos atendimentos da parte da tarde (23%)."
   ]
  },
  {
   "cell_type": "code",
   "execution_count": 8,
   "metadata": {},
   "outputs": [
    {
     "data": {
      "text/plain": [
       "turno\n",
       "Noite    42.6%\n",
       "Manhã    33.8%\n",
       "Tarde    23.6%\n",
       "Name: count, dtype: object"
      ]
     },
     "execution_count": 8,
     "metadata": {},
     "output_type": "execute_result"
    }
   ],
   "source": [
    "# Frequencia de tickets por turno de trabalho - percentual - outra forma de calcular a frequencia relativa\n",
    "(df['turno'].value_counts()*100/df['turno'].count()).apply('{:.1f}%'.format)"
   ]
  },
  {
   "cell_type": "markdown",
   "metadata": {},
   "source": [
    "#### c) Frequência de Intervalos para TMA  \n",
    "Divida os tempos TMA em 3 intervalos (baixo-médio-alto) e analise. Quais são suas conclusões?  \n",
    "\r\n"
   ]
  },
  {
   "cell_type": "code",
   "execution_count": 9,
   "metadata": {},
   "outputs": [
    {
     "data": {
      "text/plain": [
       "faixa_TMA\n",
       "(0 days 00:40:40, 0 days 01:00:00]           1229\n",
       "(0 days 00:01:56.520000, 0 days 00:21:20]     907\n",
       "(0 days 00:21:20, 0 days 00:40:40]            889\n",
       "Name: count, dtype: int64"
      ]
     },
     "execution_count": 9,
     "metadata": {},
     "output_type": "execute_result"
    }
   ],
   "source": [
    "# Criando uma coluna com intervalos de TMA\n",
    "df['faixa_TMA'] = pd.cut(df['TMA'],3) \n",
    "df['faixa_TMA'].value_counts()"
   ]
  },
  {
   "cell_type": "code",
   "execution_count": 10,
   "metadata": {},
   "outputs": [
    {
     "data": {
      "text/plain": [
       "faixa_TMA\n",
       "Alto     1229\n",
       "Baixo     907\n",
       "Médio     889\n",
       "Name: count, dtype: int64"
      ]
     },
     "execution_count": 10,
     "metadata": {},
     "output_type": "execute_result"
    }
   ],
   "source": [
    "# Criando uma coluna para os intervalos de TMA + nomes para os intervalos\n",
    "df['faixa_TMA'] = pd.cut(df['TMA'],3,labels=['Baixo','Médio','Alto'], ordered=True)\n",
    "df['faixa_TMA'].value_counts()"
   ]
  },
  {
   "cell_type": "code",
   "execution_count": 11,
   "metadata": {},
   "outputs": [
    {
     "data": {
      "text/plain": [
       "faixa_TMA\n",
       "Alto     40.6%\n",
       "Baixo    30.0%\n",
       "Médio    29.4%\n",
       "Name: count, dtype: object"
      ]
     },
     "execution_count": 11,
     "metadata": {},
     "output_type": "execute_result"
    }
   ],
   "source": [
    "# Faixa TMA - percentual - cálculo alternativo da frequencia relativa\n",
    "(df['faixa_TMA'].value_counts()*100/df['faixa_TMA'].count()).apply('{:.1f}%'.format)"
   ]
  },
  {
   "cell_type": "markdown",
   "metadata": {},
   "source": [
    "_Resposta c)_:  \n",
    "Observa-se que 40,6% dos atendimentos tem um TMA Alto (maior do que 40 min)."
   ]
  },
  {
   "cell_type": "markdown",
   "metadata": {},
   "source": [
    "#### d) Taxa de Conversão de Atendimento\n",
    "Assim como para a métrica Tempo Médio de Atendimento (TMA), analisada anteriormente, faça uma análise similar para Taxa de Conversão de Atendimento.\r\n"
   ]
  },
  {
   "cell_type": "code",
   "execution_count": 12,
   "metadata": {},
   "outputs": [
    {
     "data": {
      "text/plain": [
       "conversao_atendimento\n",
       "Não    51.2%\n",
       "Sim    48.8%\n",
       "Name: count, dtype: object"
      ]
     },
     "execution_count": 12,
     "metadata": {},
     "output_type": "execute_result"
    }
   ],
   "source": [
    "(df['conversao_atendimento'].value_counts()*100/df['conversao_atendimento'].count()).apply('{:.1f}%'.format)"
   ]
  },
  {
   "cell_type": "markdown",
   "metadata": {},
   "source": [
    "_Resposta d)_:  \n",
    "Observa-se que em um pouco mais da metade dos casos (51,2%) não há conversão do atendimento, isto é, o cliente não considera que aquele atendimento resolveu o problema dele."
   ]
  },
  {
   "cell_type": "markdown",
   "metadata": {},
   "source": [
    "#### e) Frequência de Atendimentos por Atendente  \n",
    "Crie uma tabela de frequência para Atendente e analise. Quais são suas conclusões?  \n",
    "\r\n",
    "\r\n"
   ]
  },
  {
   "cell_type": "code",
   "execution_count": 13,
   "metadata": {},
   "outputs": [
    {
     "data": {
      "text/plain": [
       "atendente_nome\n",
       "Lucas Martins      524\n",
       "Ana Paula          512\n",
       "João Silva         508\n",
       "Maria Fernandes    507\n",
       "Carla Souza        501\n",
       "Ricardo Andrade    473\n",
       "Name: count, dtype: int64"
      ]
     },
     "execution_count": 13,
     "metadata": {},
     "output_type": "execute_result"
    }
   ],
   "source": [
    "# Frequência Absoluta\n",
    "df['atendente_nome'].value_counts()"
   ]
  },
  {
   "cell_type": "code",
   "execution_count": 14,
   "metadata": {},
   "outputs": [
    {
     "data": {
      "text/plain": [
       "atendente_nome\n",
       "Lucas Martins      17.3%\n",
       "Ana Paula          16.9%\n",
       "João Silva         16.8%\n",
       "Maria Fernandes    16.8%\n",
       "Carla Souza        16.6%\n",
       "Ricardo Andrade    15.6%\n",
       "Name: count, dtype: object"
      ]
     },
     "execution_count": 14,
     "metadata": {},
     "output_type": "execute_result"
    }
   ],
   "source": [
    "# Frequência Relativa\n",
    "(df['atendente_nome'].value_counts()*100/df['atendente_nome'].count()).apply('{:.1f}%'.format)"
   ]
  },
  {
   "cell_type": "markdown",
   "metadata": {},
   "source": [
    "_Resposta e)_:  \n",
    "Observa-se que a distribuição de tickets entre os atendentes apresenta um padrão sem muitas discrepâncias, a não ser por uma ligeira participação maior de Lucas (17,3%) e menor de Ricardo (15,6%)."
   ]
  }
 ],
 "metadata": {
  "kernelspec": {
   "display_name": "Python 3",
   "language": "python",
   "name": "python3"
  },
  "language_info": {
   "codemirror_mode": {
    "name": "ipython",
    "version": 3
   },
   "file_extension": ".py",
   "mimetype": "text/x-python",
   "name": "python",
   "nbconvert_exporter": "python",
   "pygments_lexer": "ipython3",
   "version": "3.7.6"
  }
 },
 "nbformat": 4,
 "nbformat_minor": 4
}
