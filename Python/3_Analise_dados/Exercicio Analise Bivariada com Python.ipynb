{
 "cells": [
  {
   "cell_type": "markdown",
   "metadata": {},
   "source": [
    "# Análise Exploratória de Dados com Python\n",
    "## Análise Bivariada - Exercício\n",
    "O objetivo deste notebook é exercitar as principais funções em Python para conduzir uma análise bivariada de dados, aplicando os conceitos de:\n",
    "- Correlação linear de Pearson  \n",
    "- Information Value\n",
    "\n",
    "Além destes, construir gráficos que evidenciem as relações entre duas variáveis.  "
   ]
  },
  {
   "cell_type": "markdown",
   "metadata": {},
   "source": [
    "### Enunciado\n",
    "\n"
   ]
  },
  {
   "cell_type": "markdown",
   "metadata": {},
   "source": [
    "Uma empresa solicitou a uma consultoria um diagnóstico de seu Serviço de Suporte a Clientes. Com base no diagnóstico a partir da análise de dados, a empresa pretende entender quais são as oportunidades de melhorias dos produtos e serviços ofertados.   \r\n",
    "\r\n",
    "Considerando a base **dados_suporte_tecnico.xlsx**, extraia dos dados informações para auxiliar o diagnóstico.  \r\n",
    "\r\n",
    "Como roteiro de uma análise bivariada, responda às perguntas:  \r\n",
    "\r\n",
    "a) Há correlação entre o Tempo Médio de Atendimento (TMA) e a nota recebida pelo atendimento?  Visualize o resultado em um gráfico.  \r\n",
    "\r\n",
    "b) Há alguma diferença na nota se houve a conversão do atendimento ou não? Visualize.  \r\n",
    "\r\n",
    "c) Há alguma diferença na nota se houve a resolução na primeira chamada ou não? Visualize.  \r\n",
    "\r\n",
    "d) O atendente é uma variável importante para o ticket ser resolvido na primeira chamada? Dica: use o conceito de Information Value."
   ]
  },
  {
   "cell_type": "markdown",
   "metadata": {},
   "source": [
    "### Carregando os dados"
   ]
  },
  {
   "cell_type": "code",
   "execution_count": null,
   "metadata": {},
   "outputs": [],
   "source": []
  },
  {
   "cell_type": "markdown",
   "metadata": {},
   "source": [
    "### Análise Bivariada\n",
    "\n",
    "O primeiro indicador a ser analisado é o **Tempo Médio de Atendimento (TMA)**, uma medida calculada para computar a duração entre o momento do início e o final do contato do atendimento.  "
   ]
  },
  {
   "cell_type": "markdown",
   "metadata": {},
   "source": [
    "#### a) Correlação entre TMA e nota do atendimento"
   ]
  },
  {
   "cell_type": "code",
   "execution_count": null,
   "metadata": {},
   "outputs": [],
   "source": []
  },
  {
   "cell_type": "markdown",
   "metadata": {},
   "source": [
    "#### b) Nota do Atendimento se há ou não conversão\n",
    "Há alguma diferença na nota se houve a conversão do atendimento ou não? Visualize.\n"
   ]
  },
  {
   "cell_type": "code",
   "execution_count": null,
   "metadata": {},
   "outputs": [],
   "source": []
  },
  {
   "cell_type": "markdown",
   "metadata": {},
   "source": [
    "#### c) Nota do Atendimento se foi resolvido no primeiro contato\n",
    "Há alguma diferença na nota se houve o ticket foi resolvido no primeiro contato ou não? Visualize.\n"
   ]
  },
  {
   "cell_type": "code",
   "execution_count": null,
   "metadata": {},
   "outputs": [],
   "source": []
  },
  {
   "cell_type": "markdown",
   "metadata": {},
   "source": [
    "#### d) IV para resolução no primeiro contato\n",
    "Verifique se o atendente é uma variável importante para indicar que o ticket vai ser resolvido no primeiro contato."
   ]
  },
  {
   "cell_type": "code",
   "execution_count": null,
   "metadata": {},
   "outputs": [],
   "source": []
  }
 ],
 "metadata": {
  "kernelspec": {
   "display_name": "Python 3",
   "language": "python",
   "name": "python3"
  },
  "language_info": {
   "codemirror_mode": {
    "name": "ipython",
    "version": 3
   },
   "file_extension": ".py",
   "mimetype": "text/x-python",
   "name": "python",
   "nbconvert_exporter": "python",
   "pygments_lexer": "ipython3",
   "version": "3.7.6"
  }
 },
 "nbformat": 4,
 "nbformat_minor": 4
}
