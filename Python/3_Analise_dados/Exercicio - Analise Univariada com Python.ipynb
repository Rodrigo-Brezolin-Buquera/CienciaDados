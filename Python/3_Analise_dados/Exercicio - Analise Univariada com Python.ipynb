{
 "cells": [
  {
   "cell_type": "markdown",
   "metadata": {},
   "source": [
    "# Análise Exploratória de Dados com Python\n",
    "## Análise Univariada - Exercício\n",
    "O objetivo deste notebook é aplicar as principais funções em Python para conduzir uma análise univariada de dados, a saber:\n",
    "- Medidas resumo\n",
    "- Tabela de frequência"
   ]
  },
  {
   "cell_type": "markdown",
   "metadata": {},
   "source": [
    "### Enunciado\n",
    "\n"
   ]
  },
  {
   "cell_type": "markdown",
   "metadata": {},
   "source": [
    "Uma empresa solicitou a uma consultoria um diagnóstico de seu Serviço de Suporte a Clientes. Com base no diagnóstico a partir da análise de dados, a empresa pretende entender quais são as oportunidades de melhorias dos produtos e serviços ofertados.   \r\n",
    "\r\n",
    "Considerando a base **dados_suporte_tecnico.xlsx**, extraia dos dados informações para auxiliar o diagnóstico.  \r\n",
    "\r\n",
    "Como roteiro, responda às perguntas:  \r\n",
    "\r\n",
    "a) Interessado em saber quais são os tempos médios de atendimento (TMA), você decidiu utilizar o conceito de quartis. Qual seria o valor de tempo de atendimento que separaria os 25% dos tickets abertos?  \r\n",
    "\r\n",
    "b) Há uma concentração de tickets em algum turno de trabalho?  \r\n",
    "\r\n",
    "c) Divida os tempos TMA em intervalos baixo-médio-alto e faça sua análise. Quais são suas conclusões?  \r\n",
    "\r\n",
    "d) Assim como para a métrica Tempo Médio de Atendimento (TMA), analisada anteriormente, faça uma análise similar para Taxa de Conversão de Atendimento.  \r\n",
    "\r\n",
    "e) Crie uma tabela de frequência para Atendente e analise. Quais são suas conclusões?  \r\n"
   ]
  },
  {
   "cell_type": "code",
   "execution_count": null,
   "metadata": {},
   "outputs": [],
   "source": [
    "import pandas as pd"
   ]
  },
  {
   "cell_type": "code",
   "execution_count": null,
   "metadata": {},
   "outputs": [],
   "source": [
    "pd.__version__"
   ]
  },
  {
   "cell_type": "markdown",
   "metadata": {},
   "source": [
    "### Carregando os dados"
   ]
  },
  {
   "cell_type": "code",
   "execution_count": null,
   "metadata": {},
   "outputs": [],
   "source": []
  },
  {
   "cell_type": "markdown",
   "metadata": {},
   "source": [
    "### Análise Univariada\n",
    "\n",
    "O primeiro indicador a ser analisado é o **Tempo Médio de Atendimento (TMA)**, uma medida calculada para computar a duração entre o momento do início e o final do contato do atendimento.  "
   ]
  },
  {
   "cell_type": "markdown",
   "metadata": {},
   "source": [
    "#### a) TMA - 25%\n",
    "Interessado em saber quais são os tempos médios de atendimento - TMA, você decidiu utilizar o conceito de quartis. Qual seria o valor de tempo de atendimento que separaria os 25% dos tickets abertos?"
   ]
  },
  {
   "cell_type": "code",
   "execution_count": null,
   "metadata": {},
   "outputs": [],
   "source": []
  },
  {
   "cell_type": "markdown",
   "metadata": {},
   "source": [
    "#### b) Tickets por turno de trabalho  \n",
    "Há uma concentração de tickets em algum turno de trabalho?\r\n"
   ]
  },
  {
   "cell_type": "code",
   "execution_count": null,
   "metadata": {},
   "outputs": [],
   "source": []
  },
  {
   "cell_type": "markdown",
   "metadata": {},
   "source": [
    "#### c) Frequência de Intervalos para TMA  \n",
    "Divida os tempos TMA em 3 intervalos (baixo-médio-alto) e analise. Quais são suas conclusões?  \n",
    "\r\n"
   ]
  },
  {
   "cell_type": "code",
   "execution_count": null,
   "metadata": {},
   "outputs": [],
   "source": []
  },
  {
   "cell_type": "markdown",
   "metadata": {},
   "source": [
    "#### d) Taxa de Conversão de Atendimento\n",
    "Assim como para a métrica Tempo Médio de Atendimento (TMA), analisada anteriormente, faça uma análise similar para Taxa de Conversão de Atendimento.\r\n"
   ]
  },
  {
   "cell_type": "code",
   "execution_count": null,
   "metadata": {},
   "outputs": [],
   "source": []
  },
  {
   "cell_type": "markdown",
   "metadata": {},
   "source": [
    "#### e) Frequência de Atendimentos por Atendente  \n",
    "Crie uma tabela de frequência para Atendente e analise. Quais são suas conclusões?  \n",
    "\r\n",
    "\r\n"
   ]
  },
  {
   "cell_type": "code",
   "execution_count": null,
   "metadata": {},
   "outputs": [],
   "source": []
  }
 ],
 "metadata": {
  "kernelspec": {
   "display_name": "Python 3",
   "language": "python",
   "name": "python3"
  },
  "language_info": {
   "codemirror_mode": {
    "name": "ipython",
    "version": 3
   },
   "file_extension": ".py",
   "mimetype": "text/x-python",
   "name": "python",
   "nbconvert_exporter": "python",
   "pygments_lexer": "ipython3",
   "version": "3.7.6"
  }
 },
 "nbformat": 4,
 "nbformat_minor": 4
}
