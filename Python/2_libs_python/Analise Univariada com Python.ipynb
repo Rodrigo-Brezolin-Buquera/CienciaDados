{
 "cells": [
  {
   "cell_type": "markdown",
   "metadata": {},
   "source": [
    "# Análise Exploratória de Dados com Python\n",
    "\n",
    "## Análise Univariada\n",
    "\n",
    "O objetivo deste notebook é apresentar as principais funções em Python para conduzir uma análise univariada de dados, a saber:  \n",
    "\r",
    "- Medidas Resumo\n",
    "- Tabela de Frequência "
   ]
  },
  {
   "cell_type": "code",
   "execution_count": 1,
   "metadata": {},
   "outputs": [],
   "source": [
    "import pandas as pd\n",
    "import numpy as np"
   ]
  },
  {
   "cell_type": "code",
   "execution_count": 2,
   "metadata": {},
   "outputs": [
    {
     "data": {
      "text/plain": [
       "'2.1.4'"
      ]
     },
     "execution_count": 2,
     "metadata": {},
     "output_type": "execute_result"
    }
   ],
   "source": [
    "pd.__version__"
   ]
  },
  {
   "cell_type": "code",
   "execution_count": 3,
   "metadata": {},
   "outputs": [
    {
     "data": {
      "text/plain": [
       "'1.26.4'"
      ]
     },
     "execution_count": 3,
     "metadata": {},
     "output_type": "execute_result"
    }
   ],
   "source": [
    "np.__version__"
   ]
  },
  {
   "cell_type": "code",
   "execution_count": 4,
   "metadata": {},
   "outputs": [],
   "source": [
    "# Definir o número de casas decimais desejado\n",
    "pd.set_option('display.float_format', '{:.2f}'.format)"
   ]
  },
  {
   "cell_type": "markdown",
   "metadata": {
    "jp-MarkdownHeadingCollapsed": true
   },
   "source": [
    "### Contexto \n",
    "Suponha que você necessite fazer uma análise sobre a saúde dos funcionários de uma empresa. \n",
    "A base de dados disponível possui informações de funcionários de várias profissões e incluem dados de idade, atividade física, avaliação cardíaca, qualidade do sono, entre outras."
   ]
  },
  {
   "cell_type": "markdown",
   "metadata": {},
   "source": [
    "### Carregando dados\n",
    "Referência: Adaptado de https://www.kaggle.com/datasets/uom190346a/sleep-health-and-lifestyle-dataset  \n",
    "(Sob Licença CC0 - Domínio Público)"
   ]
  },
  {
   "cell_type": "code",
   "execution_count": 5,
   "metadata": {},
   "outputs": [
    {
     "name": "stdout",
     "output_type": "stream",
     "text": [
      "<class 'pandas.core.frame.DataFrame'>\n",
      "RangeIndex: 374 entries, 0 to 373\n",
      "Data columns (total 13 columns):\n",
      " #   Column                     Non-Null Count  Dtype  \n",
      "---  ------                     --------------  -----  \n",
      " 0   ID                         374 non-null    int64  \n",
      " 1   Gênero                     374 non-null    object \n",
      " 2   Idade                      374 non-null    int64  \n",
      " 3   Profissão                  374 non-null    object \n",
      " 4   Duração do sono            374 non-null    float64\n",
      " 5   Qualidade do sono          374 non-null    int64  \n",
      " 6   Nível de Atividade Física  374 non-null    int64  \n",
      " 7   Nível de Stress            374 non-null    int64  \n",
      " 8   Categoria IMC              374 non-null    object \n",
      " 9   Pressão Sanguínea          374 non-null    object \n",
      " 10  Batimento Cardíaco         374 non-null    int64  \n",
      " 11  Passos diários             374 non-null    int64  \n",
      " 12  Distúrbio do sono          374 non-null    object \n",
      "dtypes: float64(1), int64(7), object(5)\n",
      "memory usage: 38.1+ KB\n"
     ]
    }
   ],
   "source": [
    "# Lendo os dados da planilha Excel\n",
    "df = pd.read_excel('dados_sono_e_saude.xlsx')\n",
    "df.info()"
   ]
  },
  {
   "cell_type": "code",
   "execution_count": 6,
   "metadata": {},
   "outputs": [
    {
     "data": {
      "text/html": [
       "<div>\n",
       "<style scoped>\n",
       "    .dataframe tbody tr th:only-of-type {\n",
       "        vertical-align: middle;\n",
       "    }\n",
       "\n",
       "    .dataframe tbody tr th {\n",
       "        vertical-align: top;\n",
       "    }\n",
       "\n",
       "    .dataframe thead th {\n",
       "        text-align: right;\n",
       "    }\n",
       "</style>\n",
       "<table border=\"1\" class=\"dataframe\">\n",
       "  <thead>\n",
       "    <tr style=\"text-align: right;\">\n",
       "      <th></th>\n",
       "      <th>ID</th>\n",
       "      <th>Gênero</th>\n",
       "      <th>Idade</th>\n",
       "      <th>Profissão</th>\n",
       "      <th>Duração do sono</th>\n",
       "      <th>Qualidade do sono</th>\n",
       "      <th>Nível de Atividade Física</th>\n",
       "      <th>Nível de Stress</th>\n",
       "      <th>Categoria IMC</th>\n",
       "      <th>Pressão Sanguínea</th>\n",
       "      <th>Batimento Cardíaco</th>\n",
       "      <th>Passos diários</th>\n",
       "      <th>Distúrbio do sono</th>\n",
       "    </tr>\n",
       "  </thead>\n",
       "  <tbody>\n",
       "    <tr>\n",
       "      <th>0</th>\n",
       "      <td>1</td>\n",
       "      <td>M</td>\n",
       "      <td>27</td>\n",
       "      <td>Engenheiro de Software</td>\n",
       "      <td>6.10</td>\n",
       "      <td>6</td>\n",
       "      <td>42</td>\n",
       "      <td>6</td>\n",
       "      <td>Sobrepeso</td>\n",
       "      <td>126/83</td>\n",
       "      <td>77</td>\n",
       "      <td>4200</td>\n",
       "      <td>-</td>\n",
       "    </tr>\n",
       "    <tr>\n",
       "      <th>1</th>\n",
       "      <td>2</td>\n",
       "      <td>M</td>\n",
       "      <td>28</td>\n",
       "      <td>Médico</td>\n",
       "      <td>6.20</td>\n",
       "      <td>6</td>\n",
       "      <td>60</td>\n",
       "      <td>8</td>\n",
       "      <td>Normal</td>\n",
       "      <td>125/80</td>\n",
       "      <td>75</td>\n",
       "      <td>10000</td>\n",
       "      <td>-</td>\n",
       "    </tr>\n",
       "    <tr>\n",
       "      <th>2</th>\n",
       "      <td>3</td>\n",
       "      <td>M</td>\n",
       "      <td>28</td>\n",
       "      <td>Médico</td>\n",
       "      <td>6.20</td>\n",
       "      <td>6</td>\n",
       "      <td>60</td>\n",
       "      <td>8</td>\n",
       "      <td>Normal</td>\n",
       "      <td>125/80</td>\n",
       "      <td>75</td>\n",
       "      <td>10000</td>\n",
       "      <td>-</td>\n",
       "    </tr>\n",
       "  </tbody>\n",
       "</table>\n",
       "</div>"
      ],
      "text/plain": [
       "   ID Gênero  Idade               Profissão  Duração do sono  \\\n",
       "0   1      M     27  Engenheiro de Software             6.10   \n",
       "1   2      M     28                  Médico             6.20   \n",
       "2   3      M     28                  Médico             6.20   \n",
       "\n",
       "   Qualidade do sono  Nível de Atividade Física  Nível de Stress  \\\n",
       "0                  6                         42                6   \n",
       "1                  6                         60                8   \n",
       "2                  6                         60                8   \n",
       "\n",
       "  Categoria IMC Pressão Sanguínea  Batimento Cardíaco  Passos diários  \\\n",
       "0     Sobrepeso            126/83                  77            4200   \n",
       "1        Normal            125/80                  75           10000   \n",
       "2        Normal            125/80                  75           10000   \n",
       "\n",
       "  Distúrbio do sono  \n",
       "0                 -  \n",
       "1                 -  \n",
       "2                 -  "
      ]
     },
     "execution_count": 6,
     "metadata": {},
     "output_type": "execute_result"
    }
   ],
   "source": [
    "df.head(3)"
   ]
  },
  {
   "cell_type": "markdown",
   "metadata": {
    "jp-MarkdownHeadingCollapsed": true
   },
   "source": [
    "### Medidas Resumo"
   ]
  },
  {
   "cell_type": "markdown",
   "metadata": {},
   "source": [
    "#### Média"
   ]
  },
  {
   "cell_type": "code",
   "execution_count": 7,
   "metadata": {},
   "outputs": [
    {
     "data": {
      "text/plain": [
       "42.18449197860963"
      ]
     },
     "execution_count": 7,
     "metadata": {},
     "output_type": "execute_result"
    }
   ],
   "source": [
    "# com pandas\n",
    "df['Idade'].mean()"
   ]
  },
  {
   "cell_type": "code",
   "execution_count": 8,
   "metadata": {},
   "outputs": [
    {
     "data": {
      "text/plain": [
       "42.18449197860963"
      ]
     },
     "execution_count": 8,
     "metadata": {},
     "output_type": "execute_result"
    }
   ],
   "source": [
    "# com numpy\n",
    "np.mean(df['Idade'])"
   ]
  },
  {
   "cell_type": "markdown",
   "metadata": {
    "jp-MarkdownHeadingCollapsed": true
   },
   "source": [
    "#### Mediana"
   ]
  },
  {
   "cell_type": "code",
   "execution_count": 9,
   "metadata": {},
   "outputs": [
    {
     "data": {
      "text/plain": [
       "43.0"
      ]
     },
     "execution_count": 9,
     "metadata": {},
     "output_type": "execute_result"
    }
   ],
   "source": [
    "# com pandas\n",
    "df['Idade'].median()"
   ]
  },
  {
   "cell_type": "code",
   "execution_count": 10,
   "metadata": {},
   "outputs": [
    {
     "data": {
      "text/plain": [
       "43.0"
      ]
     },
     "execution_count": 10,
     "metadata": {},
     "output_type": "execute_result"
    }
   ],
   "source": [
    "# com numpy\n",
    "np.median(df['Idade'])"
   ]
  },
  {
   "cell_type": "markdown",
   "metadata": {
    "jp-MarkdownHeadingCollapsed": true
   },
   "source": [
    "#### Máximo e Mínimo"
   ]
  },
  {
   "cell_type": "code",
   "execution_count": 11,
   "metadata": {},
   "outputs": [
    {
     "data": {
      "text/plain": [
       "59"
      ]
     },
     "execution_count": 11,
     "metadata": {},
     "output_type": "execute_result"
    }
   ],
   "source": [
    "# com pandas - máximo\n",
    "df['Idade'].max()"
   ]
  },
  {
   "cell_type": "code",
   "execution_count": 12,
   "metadata": {},
   "outputs": [
    {
     "data": {
      "text/plain": [
       "27"
      ]
     },
     "execution_count": 12,
     "metadata": {},
     "output_type": "execute_result"
    }
   ],
   "source": [
    "# com pandas - mínimo\n",
    "df['Idade'].min()"
   ]
  },
  {
   "cell_type": "code",
   "execution_count": 13,
   "metadata": {},
   "outputs": [
    {
     "data": {
      "text/plain": [
       "59"
      ]
     },
     "execution_count": 13,
     "metadata": {},
     "output_type": "execute_result"
    }
   ],
   "source": [
    "# com numpy - máximo\n",
    "np.max(df['Idade'])"
   ]
  },
  {
   "cell_type": "code",
   "execution_count": 14,
   "metadata": {},
   "outputs": [
    {
     "data": {
      "text/plain": [
       "27"
      ]
     },
     "execution_count": 14,
     "metadata": {},
     "output_type": "execute_result"
    }
   ],
   "source": [
    "# com numpy - mínimo\n",
    "np.min(df['Idade'])"
   ]
  },
  {
   "cell_type": "markdown",
   "metadata": {
    "jp-MarkdownHeadingCollapsed": true
   },
   "source": [
    "#### Desvio Padrão"
   ]
  },
  {
   "cell_type": "markdown",
   "metadata": {},
   "source": [
    "Desvio Padrão da População - supondo que a base de dados representa todos os funcionários da empresa"
   ]
  },
  {
   "cell_type": "code",
   "execution_count": 15,
   "metadata": {},
   "outputs": [
    {
     "data": {
      "text/plain": [
       "8.661530606217873"
      ]
     },
     "execution_count": 15,
     "metadata": {},
     "output_type": "execute_result"
    }
   ],
   "source": [
    "# com numpy - Desvio Padrão da População\n",
    "np.std(df['Idade'])"
   ]
  },
  {
   "cell_type": "code",
   "execution_count": 16,
   "metadata": {},
   "outputs": [
    {
     "data": {
      "text/plain": [
       "8.661530606217873"
      ]
     },
     "execution_count": 16,
     "metadata": {},
     "output_type": "execute_result"
    }
   ],
   "source": [
    "# com pandas - Desvio Padrão da População\n",
    "df['Idade'].std(ddof=0)"
   ]
  },
  {
   "cell_type": "markdown",
   "metadata": {},
   "source": [
    "Desvio Padrão da Amostra - supondo que a base de dados não seja de todos os funcionários da empresa mas apenas de uma amostra"
   ]
  },
  {
   "cell_type": "code",
   "execution_count": 17,
   "metadata": {},
   "outputs": [
    {
     "data": {
      "text/plain": [
       "8.67313346554724"
      ]
     },
     "execution_count": 17,
     "metadata": {},
     "output_type": "execute_result"
    }
   ],
   "source": [
    "# com numpy - Desvio Padrão da Amostra\n",
    "np.std(df['Idade'],ddof=1)"
   ]
  },
  {
   "cell_type": "code",
   "execution_count": 19,
   "metadata": {},
   "outputs": [
    {
     "data": {
      "text/plain": [
       "8.67313346554724"
      ]
     },
     "execution_count": 19,
     "metadata": {},
     "output_type": "execute_result"
    }
   ],
   "source": [
    "# com pandas - Desvio Padrão da Amostra\n",
    "df['Idade'].std(ddof=1)\n",
    "#df['Idade'].std()"
   ]
  },
  {
   "cell_type": "markdown",
   "metadata": {
    "jp-MarkdownHeadingCollapsed": true
   },
   "source": [
    "#### Quartis, Percentis"
   ]
  },
  {
   "cell_type": "code",
   "execution_count": 20,
   "metadata": {},
   "outputs": [
    {
     "data": {
      "text/plain": [
       "35.25"
      ]
     },
     "execution_count": 20,
     "metadata": {},
     "output_type": "execute_result"
    }
   ],
   "source": [
    "# com pandas - 1o quartil\n",
    "df['Idade'].quantile(.25)"
   ]
  },
  {
   "cell_type": "code",
   "execution_count": 21,
   "metadata": {},
   "outputs": [
    {
     "data": {
      "text/plain": [
       "31.0"
      ]
     },
     "execution_count": 21,
     "metadata": {},
     "output_type": "execute_result"
    }
   ],
   "source": [
    "# com pandas - percentil (1o. decil)\n",
    "df['Idade'].quantile(.10)"
   ]
  },
  {
   "cell_type": "code",
   "execution_count": 22,
   "metadata": {},
   "outputs": [
    {
     "data": {
      "text/plain": [
       "35.25"
      ]
     },
     "execution_count": 22,
     "metadata": {},
     "output_type": "execute_result"
    }
   ],
   "source": [
    "# com numpy - 1o quartil\n",
    "np.percentile(df['Idade'],25)"
   ]
  },
  {
   "cell_type": "code",
   "execution_count": 23,
   "metadata": {},
   "outputs": [
    {
     "data": {
      "text/plain": [
       "35.25"
      ]
     },
     "execution_count": 23,
     "metadata": {},
     "output_type": "execute_result"
    }
   ],
   "source": [
    "# com numpy - 1o quartil - outra forma\n",
    "np.quantile(df['Idade'],.25)"
   ]
  },
  {
   "cell_type": "code",
   "execution_count": 24,
   "metadata": {},
   "outputs": [
    {
     "data": {
      "text/plain": [
       "31.0"
      ]
     },
     "execution_count": 24,
     "metadata": {},
     "output_type": "execute_result"
    }
   ],
   "source": [
    "# com numpy - 1o decil\n",
    "np.percentile(df['Idade'],10)"
   ]
  },
  {
   "cell_type": "markdown",
   "metadata": {
    "jp-MarkdownHeadingCollapsed": true
   },
   "source": [
    "#### Resumo das Medidas Resumo - Describe!"
   ]
  },
  {
   "cell_type": "code",
   "execution_count": 25,
   "metadata": {},
   "outputs": [
    {
     "data": {
      "text/html": [
       "<div>\n",
       "<style scoped>\n",
       "    .dataframe tbody tr th:only-of-type {\n",
       "        vertical-align: middle;\n",
       "    }\n",
       "\n",
       "    .dataframe tbody tr th {\n",
       "        vertical-align: top;\n",
       "    }\n",
       "\n",
       "    .dataframe thead th {\n",
       "        text-align: right;\n",
       "    }\n",
       "</style>\n",
       "<table border=\"1\" class=\"dataframe\">\n",
       "  <thead>\n",
       "    <tr style=\"text-align: right;\">\n",
       "      <th></th>\n",
       "      <th>ID</th>\n",
       "      <th>Idade</th>\n",
       "      <th>Duração do sono</th>\n",
       "      <th>Qualidade do sono</th>\n",
       "      <th>Nível de Atividade Física</th>\n",
       "      <th>Nível de Stress</th>\n",
       "      <th>Batimento Cardíaco</th>\n",
       "      <th>Passos diários</th>\n",
       "    </tr>\n",
       "  </thead>\n",
       "  <tbody>\n",
       "    <tr>\n",
       "      <th>count</th>\n",
       "      <td>374.00</td>\n",
       "      <td>374.00</td>\n",
       "      <td>374.00</td>\n",
       "      <td>374.00</td>\n",
       "      <td>374.00</td>\n",
       "      <td>374.00</td>\n",
       "      <td>374.00</td>\n",
       "      <td>374.00</td>\n",
       "    </tr>\n",
       "    <tr>\n",
       "      <th>mean</th>\n",
       "      <td>187.50</td>\n",
       "      <td>42.18</td>\n",
       "      <td>7.13</td>\n",
       "      <td>7.31</td>\n",
       "      <td>59.17</td>\n",
       "      <td>5.39</td>\n",
       "      <td>70.17</td>\n",
       "      <td>6816.84</td>\n",
       "    </tr>\n",
       "    <tr>\n",
       "      <th>std</th>\n",
       "      <td>108.11</td>\n",
       "      <td>8.67</td>\n",
       "      <td>0.80</td>\n",
       "      <td>1.20</td>\n",
       "      <td>20.83</td>\n",
       "      <td>1.77</td>\n",
       "      <td>4.14</td>\n",
       "      <td>1617.92</td>\n",
       "    </tr>\n",
       "    <tr>\n",
       "      <th>min</th>\n",
       "      <td>1.00</td>\n",
       "      <td>27.00</td>\n",
       "      <td>5.80</td>\n",
       "      <td>4.00</td>\n",
       "      <td>30.00</td>\n",
       "      <td>3.00</td>\n",
       "      <td>65.00</td>\n",
       "      <td>3000.00</td>\n",
       "    </tr>\n",
       "    <tr>\n",
       "      <th>25%</th>\n",
       "      <td>94.25</td>\n",
       "      <td>35.25</td>\n",
       "      <td>6.40</td>\n",
       "      <td>6.00</td>\n",
       "      <td>45.00</td>\n",
       "      <td>4.00</td>\n",
       "      <td>68.00</td>\n",
       "      <td>5600.00</td>\n",
       "    </tr>\n",
       "    <tr>\n",
       "      <th>50%</th>\n",
       "      <td>187.50</td>\n",
       "      <td>43.00</td>\n",
       "      <td>7.20</td>\n",
       "      <td>7.00</td>\n",
       "      <td>60.00</td>\n",
       "      <td>5.00</td>\n",
       "      <td>70.00</td>\n",
       "      <td>7000.00</td>\n",
       "    </tr>\n",
       "    <tr>\n",
       "      <th>75%</th>\n",
       "      <td>280.75</td>\n",
       "      <td>50.00</td>\n",
       "      <td>7.80</td>\n",
       "      <td>8.00</td>\n",
       "      <td>75.00</td>\n",
       "      <td>7.00</td>\n",
       "      <td>72.00</td>\n",
       "      <td>8000.00</td>\n",
       "    </tr>\n",
       "    <tr>\n",
       "      <th>max</th>\n",
       "      <td>374.00</td>\n",
       "      <td>59.00</td>\n",
       "      <td>8.50</td>\n",
       "      <td>9.00</td>\n",
       "      <td>90.00</td>\n",
       "      <td>8.00</td>\n",
       "      <td>86.00</td>\n",
       "      <td>10000.00</td>\n",
       "    </tr>\n",
       "  </tbody>\n",
       "</table>\n",
       "</div>"
      ],
      "text/plain": [
       "          ID  Idade  Duração do sono  Qualidade do sono  \\\n",
       "count 374.00 374.00           374.00             374.00   \n",
       "mean  187.50  42.18             7.13               7.31   \n",
       "std   108.11   8.67             0.80               1.20   \n",
       "min     1.00  27.00             5.80               4.00   \n",
       "25%    94.25  35.25             6.40               6.00   \n",
       "50%   187.50  43.00             7.20               7.00   \n",
       "75%   280.75  50.00             7.80               8.00   \n",
       "max   374.00  59.00             8.50               9.00   \n",
       "\n",
       "       Nível de Atividade Física  Nível de Stress  Batimento Cardíaco  \\\n",
       "count                     374.00           374.00              374.00   \n",
       "mean                       59.17             5.39               70.17   \n",
       "std                        20.83             1.77                4.14   \n",
       "min                        30.00             3.00               65.00   \n",
       "25%                        45.00             4.00               68.00   \n",
       "50%                        60.00             5.00               70.00   \n",
       "75%                        75.00             7.00               72.00   \n",
       "max                        90.00             8.00               86.00   \n",
       "\n",
       "       Passos diários  \n",
       "count          374.00  \n",
       "mean          6816.84  \n",
       "std           1617.92  \n",
       "min           3000.00  \n",
       "25%           5600.00  \n",
       "50%           7000.00  \n",
       "75%           8000.00  \n",
       "max          10000.00  "
      ]
     },
     "execution_count": 25,
     "metadata": {},
     "output_type": "execute_result"
    }
   ],
   "source": [
    "# apenas variáveis numéricas\n",
    "df.describe()"
   ]
  },
  {
   "cell_type": "code",
   "execution_count": 26,
   "metadata": {},
   "outputs": [
    {
     "data": {
      "text/html": [
       "<div>\n",
       "<style scoped>\n",
       "    .dataframe tbody tr th:only-of-type {\n",
       "        vertical-align: middle;\n",
       "    }\n",
       "\n",
       "    .dataframe tbody tr th {\n",
       "        vertical-align: top;\n",
       "    }\n",
       "\n",
       "    .dataframe thead th {\n",
       "        text-align: right;\n",
       "    }\n",
       "</style>\n",
       "<table border=\"1\" class=\"dataframe\">\n",
       "  <thead>\n",
       "    <tr style=\"text-align: right;\">\n",
       "      <th></th>\n",
       "      <th>ID</th>\n",
       "      <th>Gênero</th>\n",
       "      <th>Idade</th>\n",
       "      <th>Profissão</th>\n",
       "      <th>Duração do sono</th>\n",
       "      <th>Qualidade do sono</th>\n",
       "      <th>Nível de Atividade Física</th>\n",
       "      <th>Nível de Stress</th>\n",
       "      <th>Categoria IMC</th>\n",
       "      <th>Pressão Sanguínea</th>\n",
       "      <th>Batimento Cardíaco</th>\n",
       "      <th>Passos diários</th>\n",
       "      <th>Distúrbio do sono</th>\n",
       "    </tr>\n",
       "  </thead>\n",
       "  <tbody>\n",
       "    <tr>\n",
       "      <th>count</th>\n",
       "      <td>374.00</td>\n",
       "      <td>374</td>\n",
       "      <td>374.00</td>\n",
       "      <td>374</td>\n",
       "      <td>374.00</td>\n",
       "      <td>374.00</td>\n",
       "      <td>374.00</td>\n",
       "      <td>374.00</td>\n",
       "      <td>374</td>\n",
       "      <td>374</td>\n",
       "      <td>374.00</td>\n",
       "      <td>374.00</td>\n",
       "      <td>374</td>\n",
       "    </tr>\n",
       "    <tr>\n",
       "      <th>unique</th>\n",
       "      <td>NaN</td>\n",
       "      <td>2</td>\n",
       "      <td>NaN</td>\n",
       "      <td>10</td>\n",
       "      <td>NaN</td>\n",
       "      <td>NaN</td>\n",
       "      <td>NaN</td>\n",
       "      <td>NaN</td>\n",
       "      <td>3</td>\n",
       "      <td>25</td>\n",
       "      <td>NaN</td>\n",
       "      <td>NaN</td>\n",
       "      <td>3</td>\n",
       "    </tr>\n",
       "    <tr>\n",
       "      <th>top</th>\n",
       "      <td>NaN</td>\n",
       "      <td>M</td>\n",
       "      <td>NaN</td>\n",
       "      <td>Enfermeiro</td>\n",
       "      <td>NaN</td>\n",
       "      <td>NaN</td>\n",
       "      <td>NaN</td>\n",
       "      <td>NaN</td>\n",
       "      <td>Normal</td>\n",
       "      <td>130/85</td>\n",
       "      <td>NaN</td>\n",
       "      <td>NaN</td>\n",
       "      <td>-</td>\n",
       "    </tr>\n",
       "    <tr>\n",
       "      <th>freq</th>\n",
       "      <td>NaN</td>\n",
       "      <td>189</td>\n",
       "      <td>NaN</td>\n",
       "      <td>73</td>\n",
       "      <td>NaN</td>\n",
       "      <td>NaN</td>\n",
       "      <td>NaN</td>\n",
       "      <td>NaN</td>\n",
       "      <td>216</td>\n",
       "      <td>99</td>\n",
       "      <td>NaN</td>\n",
       "      <td>NaN</td>\n",
       "      <td>220</td>\n",
       "    </tr>\n",
       "    <tr>\n",
       "      <th>mean</th>\n",
       "      <td>187.50</td>\n",
       "      <td>NaN</td>\n",
       "      <td>42.18</td>\n",
       "      <td>NaN</td>\n",
       "      <td>7.13</td>\n",
       "      <td>7.31</td>\n",
       "      <td>59.17</td>\n",
       "      <td>5.39</td>\n",
       "      <td>NaN</td>\n",
       "      <td>NaN</td>\n",
       "      <td>70.17</td>\n",
       "      <td>6816.84</td>\n",
       "      <td>NaN</td>\n",
       "    </tr>\n",
       "    <tr>\n",
       "      <th>std</th>\n",
       "      <td>108.11</td>\n",
       "      <td>NaN</td>\n",
       "      <td>8.67</td>\n",
       "      <td>NaN</td>\n",
       "      <td>0.80</td>\n",
       "      <td>1.20</td>\n",
       "      <td>20.83</td>\n",
       "      <td>1.77</td>\n",
       "      <td>NaN</td>\n",
       "      <td>NaN</td>\n",
       "      <td>4.14</td>\n",
       "      <td>1617.92</td>\n",
       "      <td>NaN</td>\n",
       "    </tr>\n",
       "    <tr>\n",
       "      <th>min</th>\n",
       "      <td>1.00</td>\n",
       "      <td>NaN</td>\n",
       "      <td>27.00</td>\n",
       "      <td>NaN</td>\n",
       "      <td>5.80</td>\n",
       "      <td>4.00</td>\n",
       "      <td>30.00</td>\n",
       "      <td>3.00</td>\n",
       "      <td>NaN</td>\n",
       "      <td>NaN</td>\n",
       "      <td>65.00</td>\n",
       "      <td>3000.00</td>\n",
       "      <td>NaN</td>\n",
       "    </tr>\n",
       "    <tr>\n",
       "      <th>25%</th>\n",
       "      <td>94.25</td>\n",
       "      <td>NaN</td>\n",
       "      <td>35.25</td>\n",
       "      <td>NaN</td>\n",
       "      <td>6.40</td>\n",
       "      <td>6.00</td>\n",
       "      <td>45.00</td>\n",
       "      <td>4.00</td>\n",
       "      <td>NaN</td>\n",
       "      <td>NaN</td>\n",
       "      <td>68.00</td>\n",
       "      <td>5600.00</td>\n",
       "      <td>NaN</td>\n",
       "    </tr>\n",
       "    <tr>\n",
       "      <th>50%</th>\n",
       "      <td>187.50</td>\n",
       "      <td>NaN</td>\n",
       "      <td>43.00</td>\n",
       "      <td>NaN</td>\n",
       "      <td>7.20</td>\n",
       "      <td>7.00</td>\n",
       "      <td>60.00</td>\n",
       "      <td>5.00</td>\n",
       "      <td>NaN</td>\n",
       "      <td>NaN</td>\n",
       "      <td>70.00</td>\n",
       "      <td>7000.00</td>\n",
       "      <td>NaN</td>\n",
       "    </tr>\n",
       "    <tr>\n",
       "      <th>75%</th>\n",
       "      <td>280.75</td>\n",
       "      <td>NaN</td>\n",
       "      <td>50.00</td>\n",
       "      <td>NaN</td>\n",
       "      <td>7.80</td>\n",
       "      <td>8.00</td>\n",
       "      <td>75.00</td>\n",
       "      <td>7.00</td>\n",
       "      <td>NaN</td>\n",
       "      <td>NaN</td>\n",
       "      <td>72.00</td>\n",
       "      <td>8000.00</td>\n",
       "      <td>NaN</td>\n",
       "    </tr>\n",
       "    <tr>\n",
       "      <th>max</th>\n",
       "      <td>374.00</td>\n",
       "      <td>NaN</td>\n",
       "      <td>59.00</td>\n",
       "      <td>NaN</td>\n",
       "      <td>8.50</td>\n",
       "      <td>9.00</td>\n",
       "      <td>90.00</td>\n",
       "      <td>8.00</td>\n",
       "      <td>NaN</td>\n",
       "      <td>NaN</td>\n",
       "      <td>86.00</td>\n",
       "      <td>10000.00</td>\n",
       "      <td>NaN</td>\n",
       "    </tr>\n",
       "  </tbody>\n",
       "</table>\n",
       "</div>"
      ],
      "text/plain": [
       "           ID Gênero  Idade   Profissão  Duração do sono  Qualidade do sono  \\\n",
       "count  374.00    374 374.00         374           374.00             374.00   \n",
       "unique    NaN      2    NaN          10              NaN                NaN   \n",
       "top       NaN      M    NaN  Enfermeiro              NaN                NaN   \n",
       "freq      NaN    189    NaN          73              NaN                NaN   \n",
       "mean   187.50    NaN  42.18         NaN             7.13               7.31   \n",
       "std    108.11    NaN   8.67         NaN             0.80               1.20   \n",
       "min      1.00    NaN  27.00         NaN             5.80               4.00   \n",
       "25%     94.25    NaN  35.25         NaN             6.40               6.00   \n",
       "50%    187.50    NaN  43.00         NaN             7.20               7.00   \n",
       "75%    280.75    NaN  50.00         NaN             7.80               8.00   \n",
       "max    374.00    NaN  59.00         NaN             8.50               9.00   \n",
       "\n",
       "        Nível de Atividade Física  Nível de Stress Categoria IMC  \\\n",
       "count                      374.00           374.00           374   \n",
       "unique                        NaN              NaN             3   \n",
       "top                           NaN              NaN        Normal   \n",
       "freq                          NaN              NaN           216   \n",
       "mean                        59.17             5.39           NaN   \n",
       "std                         20.83             1.77           NaN   \n",
       "min                         30.00             3.00           NaN   \n",
       "25%                         45.00             4.00           NaN   \n",
       "50%                         60.00             5.00           NaN   \n",
       "75%                         75.00             7.00           NaN   \n",
       "max                         90.00             8.00           NaN   \n",
       "\n",
       "       Pressão Sanguínea  Batimento Cardíaco  Passos diários Distúrbio do sono  \n",
       "count                374              374.00          374.00               374  \n",
       "unique                25                 NaN             NaN                 3  \n",
       "top               130/85                 NaN             NaN                 -  \n",
       "freq                  99                 NaN             NaN               220  \n",
       "mean                 NaN               70.17         6816.84               NaN  \n",
       "std                  NaN                4.14         1617.92               NaN  \n",
       "min                  NaN               65.00         3000.00               NaN  \n",
       "25%                  NaN               68.00         5600.00               NaN  \n",
       "50%                  NaN               70.00         7000.00               NaN  \n",
       "75%                  NaN               72.00         8000.00               NaN  \n",
       "max                  NaN               86.00        10000.00               NaN  "
      ]
     },
     "execution_count": 26,
     "metadata": {},
     "output_type": "execute_result"
    }
   ],
   "source": [
    "# para todos os tipos de dados\n",
    "df.describe(include='all')"
   ]
  },
  {
   "cell_type": "markdown",
   "metadata": {},
   "source": [
    "### Tabela de Frequência"
   ]
  },
  {
   "cell_type": "code",
   "execution_count": 28,
   "metadata": {},
   "outputs": [
    {
     "data": {
      "text/plain": [
       "Profissão\n",
       "Enfermeiro                73\n",
       "Médico                    71\n",
       "Engenheiro                63\n",
       "Advogado                  47\n",
       "Professor                 40\n",
       "Contador                  37\n",
       "Vendedor                  34\n",
       "Engenheiro de Software     4\n",
       "Cientista                  4\n",
       "Manager                    1\n",
       "Name: count, dtype: int64"
      ]
     },
     "execution_count": 28,
     "metadata": {},
     "output_type": "execute_result"
    }
   ],
   "source": [
    "# com pandas\n",
    "df['Profissão'].value_counts()"
   ]
  },
  {
   "cell_type": "markdown",
   "metadata": {},
   "source": [
    "#### Frequência Absoluta"
   ]
  },
  {
   "cell_type": "code",
   "execution_count": 29,
   "metadata": {},
   "outputs": [
    {
     "data": {
      "text/html": [
       "<div>\n",
       "<style scoped>\n",
       "    .dataframe tbody tr th:only-of-type {\n",
       "        vertical-align: middle;\n",
       "    }\n",
       "\n",
       "    .dataframe tbody tr th {\n",
       "        vertical-align: top;\n",
       "    }\n",
       "\n",
       "    .dataframe thead th {\n",
       "        text-align: right;\n",
       "    }\n",
       "</style>\n",
       "<table border=\"1\" class=\"dataframe\">\n",
       "  <thead>\n",
       "    <tr style=\"text-align: right;\">\n",
       "      <th></th>\n",
       "      <th>Profissão</th>\n",
       "      <th>Frequência Absoluta</th>\n",
       "    </tr>\n",
       "  </thead>\n",
       "  <tbody>\n",
       "    <tr>\n",
       "      <th>0</th>\n",
       "      <td>Enfermeiro</td>\n",
       "      <td>73</td>\n",
       "    </tr>\n",
       "    <tr>\n",
       "      <th>1</th>\n",
       "      <td>Médico</td>\n",
       "      <td>71</td>\n",
       "    </tr>\n",
       "    <tr>\n",
       "      <th>2</th>\n",
       "      <td>Engenheiro</td>\n",
       "      <td>63</td>\n",
       "    </tr>\n",
       "    <tr>\n",
       "      <th>3</th>\n",
       "      <td>Advogado</td>\n",
       "      <td>47</td>\n",
       "    </tr>\n",
       "    <tr>\n",
       "      <th>4</th>\n",
       "      <td>Professor</td>\n",
       "      <td>40</td>\n",
       "    </tr>\n",
       "    <tr>\n",
       "      <th>5</th>\n",
       "      <td>Contador</td>\n",
       "      <td>37</td>\n",
       "    </tr>\n",
       "    <tr>\n",
       "      <th>6</th>\n",
       "      <td>Vendedor</td>\n",
       "      <td>34</td>\n",
       "    </tr>\n",
       "    <tr>\n",
       "      <th>7</th>\n",
       "      <td>Engenheiro de Software</td>\n",
       "      <td>4</td>\n",
       "    </tr>\n",
       "    <tr>\n",
       "      <th>8</th>\n",
       "      <td>Cientista</td>\n",
       "      <td>4</td>\n",
       "    </tr>\n",
       "    <tr>\n",
       "      <th>9</th>\n",
       "      <td>Manager</td>\n",
       "      <td>1</td>\n",
       "    </tr>\n",
       "  </tbody>\n",
       "</table>\n",
       "</div>"
      ],
      "text/plain": [
       "                Profissão  Frequência Absoluta\n",
       "0              Enfermeiro                   73\n",
       "1                  Médico                   71\n",
       "2              Engenheiro                   63\n",
       "3                Advogado                   47\n",
       "4               Professor                   40\n",
       "5                Contador                   37\n",
       "6                Vendedor                   34\n",
       "7  Engenheiro de Software                    4\n",
       "8               Cientista                    4\n",
       "9                 Manager                    1"
      ]
     },
     "execution_count": 29,
     "metadata": {},
     "output_type": "execute_result"
    }
   ],
   "source": [
    "# mesmo resultado com formatação\n",
    "tabela_frequencia = df['Profissão'].value_counts().reset_index() \n",
    "tabela_frequencia.columns = ['Profissão', 'Frequência Absoluta']\n",
    "tabela_frequencia"
   ]
  },
  {
   "cell_type": "markdown",
   "metadata": {},
   "source": [
    "#### Frequência Relativa"
   ]
  },
  {
   "cell_type": "code",
   "execution_count": 30,
   "metadata": {},
   "outputs": [
    {
     "data": {
      "text/html": [
       "<div>\n",
       "<style scoped>\n",
       "    .dataframe tbody tr th:only-of-type {\n",
       "        vertical-align: middle;\n",
       "    }\n",
       "\n",
       "    .dataframe tbody tr th {\n",
       "        vertical-align: top;\n",
       "    }\n",
       "\n",
       "    .dataframe thead th {\n",
       "        text-align: right;\n",
       "    }\n",
       "</style>\n",
       "<table border=\"1\" class=\"dataframe\">\n",
       "  <thead>\n",
       "    <tr style=\"text-align: right;\">\n",
       "      <th></th>\n",
       "      <th>Profissão</th>\n",
       "      <th>Frequência Absoluta</th>\n",
       "      <th>Frequência Relativa</th>\n",
       "    </tr>\n",
       "  </thead>\n",
       "  <tbody>\n",
       "    <tr>\n",
       "      <th>0</th>\n",
       "      <td>Enfermeiro</td>\n",
       "      <td>73</td>\n",
       "      <td>0.20</td>\n",
       "    </tr>\n",
       "    <tr>\n",
       "      <th>1</th>\n",
       "      <td>Médico</td>\n",
       "      <td>71</td>\n",
       "      <td>0.19</td>\n",
       "    </tr>\n",
       "    <tr>\n",
       "      <th>2</th>\n",
       "      <td>Engenheiro</td>\n",
       "      <td>63</td>\n",
       "      <td>0.17</td>\n",
       "    </tr>\n",
       "    <tr>\n",
       "      <th>3</th>\n",
       "      <td>Advogado</td>\n",
       "      <td>47</td>\n",
       "      <td>0.13</td>\n",
       "    </tr>\n",
       "    <tr>\n",
       "      <th>4</th>\n",
       "      <td>Professor</td>\n",
       "      <td>40</td>\n",
       "      <td>0.11</td>\n",
       "    </tr>\n",
       "    <tr>\n",
       "      <th>5</th>\n",
       "      <td>Contador</td>\n",
       "      <td>37</td>\n",
       "      <td>0.10</td>\n",
       "    </tr>\n",
       "    <tr>\n",
       "      <th>6</th>\n",
       "      <td>Vendedor</td>\n",
       "      <td>34</td>\n",
       "      <td>0.09</td>\n",
       "    </tr>\n",
       "    <tr>\n",
       "      <th>7</th>\n",
       "      <td>Engenheiro de Software</td>\n",
       "      <td>4</td>\n",
       "      <td>0.01</td>\n",
       "    </tr>\n",
       "    <tr>\n",
       "      <th>8</th>\n",
       "      <td>Cientista</td>\n",
       "      <td>4</td>\n",
       "      <td>0.01</td>\n",
       "    </tr>\n",
       "    <tr>\n",
       "      <th>9</th>\n",
       "      <td>Manager</td>\n",
       "      <td>1</td>\n",
       "      <td>0.00</td>\n",
       "    </tr>\n",
       "  </tbody>\n",
       "</table>\n",
       "</div>"
      ],
      "text/plain": [
       "                Profissão  Frequência Absoluta  Frequência Relativa\n",
       "0              Enfermeiro                   73                 0.20\n",
       "1                  Médico                   71                 0.19\n",
       "2              Engenheiro                   63                 0.17\n",
       "3                Advogado                   47                 0.13\n",
       "4               Professor                   40                 0.11\n",
       "5                Contador                   37                 0.10\n",
       "6                Vendedor                   34                 0.09\n",
       "7  Engenheiro de Software                    4                 0.01\n",
       "8               Cientista                    4                 0.01\n",
       "9                 Manager                    1                 0.00"
      ]
     },
     "execution_count": 30,
     "metadata": {},
     "output_type": "execute_result"
    }
   ],
   "source": [
    "tabela_frequencia['Frequência Relativa']=tabela_frequencia['Frequência Absoluta']/tabela_frequencia['Frequência Absoluta'].sum()\n",
    "tabela_frequencia"
   ]
  },
  {
   "cell_type": "markdown",
   "metadata": {},
   "source": [
    "#### Frequência Acumulada"
   ]
  },
  {
   "cell_type": "code",
   "execution_count": 31,
   "metadata": {},
   "outputs": [
    {
     "data": {
      "text/html": [
       "<div>\n",
       "<style scoped>\n",
       "    .dataframe tbody tr th:only-of-type {\n",
       "        vertical-align: middle;\n",
       "    }\n",
       "\n",
       "    .dataframe tbody tr th {\n",
       "        vertical-align: top;\n",
       "    }\n",
       "\n",
       "    .dataframe thead th {\n",
       "        text-align: right;\n",
       "    }\n",
       "</style>\n",
       "<table border=\"1\" class=\"dataframe\">\n",
       "  <thead>\n",
       "    <tr style=\"text-align: right;\">\n",
       "      <th></th>\n",
       "      <th>Profissão</th>\n",
       "      <th>Frequência Absoluta</th>\n",
       "      <th>Frequência Relativa</th>\n",
       "      <th>Frequência Acumulada</th>\n",
       "    </tr>\n",
       "  </thead>\n",
       "  <tbody>\n",
       "    <tr>\n",
       "      <th>0</th>\n",
       "      <td>Enfermeiro</td>\n",
       "      <td>73</td>\n",
       "      <td>0.20</td>\n",
       "      <td>0.20</td>\n",
       "    </tr>\n",
       "    <tr>\n",
       "      <th>1</th>\n",
       "      <td>Médico</td>\n",
       "      <td>71</td>\n",
       "      <td>0.19</td>\n",
       "      <td>0.39</td>\n",
       "    </tr>\n",
       "    <tr>\n",
       "      <th>2</th>\n",
       "      <td>Engenheiro</td>\n",
       "      <td>63</td>\n",
       "      <td>0.17</td>\n",
       "      <td>0.55</td>\n",
       "    </tr>\n",
       "    <tr>\n",
       "      <th>3</th>\n",
       "      <td>Advogado</td>\n",
       "      <td>47</td>\n",
       "      <td>0.13</td>\n",
       "      <td>0.68</td>\n",
       "    </tr>\n",
       "    <tr>\n",
       "      <th>4</th>\n",
       "      <td>Professor</td>\n",
       "      <td>40</td>\n",
       "      <td>0.11</td>\n",
       "      <td>0.79</td>\n",
       "    </tr>\n",
       "    <tr>\n",
       "      <th>5</th>\n",
       "      <td>Contador</td>\n",
       "      <td>37</td>\n",
       "      <td>0.10</td>\n",
       "      <td>0.89</td>\n",
       "    </tr>\n",
       "    <tr>\n",
       "      <th>6</th>\n",
       "      <td>Vendedor</td>\n",
       "      <td>34</td>\n",
       "      <td>0.09</td>\n",
       "      <td>0.98</td>\n",
       "    </tr>\n",
       "    <tr>\n",
       "      <th>7</th>\n",
       "      <td>Engenheiro de Software</td>\n",
       "      <td>4</td>\n",
       "      <td>0.01</td>\n",
       "      <td>0.99</td>\n",
       "    </tr>\n",
       "    <tr>\n",
       "      <th>8</th>\n",
       "      <td>Cientista</td>\n",
       "      <td>4</td>\n",
       "      <td>0.01</td>\n",
       "      <td>1.00</td>\n",
       "    </tr>\n",
       "    <tr>\n",
       "      <th>9</th>\n",
       "      <td>Manager</td>\n",
       "      <td>1</td>\n",
       "      <td>0.00</td>\n",
       "      <td>1.00</td>\n",
       "    </tr>\n",
       "  </tbody>\n",
       "</table>\n",
       "</div>"
      ],
      "text/plain": [
       "                Profissão  Frequência Absoluta  Frequência Relativa  \\\n",
       "0              Enfermeiro                   73                 0.20   \n",
       "1                  Médico                   71                 0.19   \n",
       "2              Engenheiro                   63                 0.17   \n",
       "3                Advogado                   47                 0.13   \n",
       "4               Professor                   40                 0.11   \n",
       "5                Contador                   37                 0.10   \n",
       "6                Vendedor                   34                 0.09   \n",
       "7  Engenheiro de Software                    4                 0.01   \n",
       "8               Cientista                    4                 0.01   \n",
       "9                 Manager                    1                 0.00   \n",
       "\n",
       "   Frequência Acumulada  \n",
       "0                  0.20  \n",
       "1                  0.39  \n",
       "2                  0.55  \n",
       "3                  0.68  \n",
       "4                  0.79  \n",
       "5                  0.89  \n",
       "6                  0.98  \n",
       "7                  0.99  \n",
       "8                  1.00  \n",
       "9                  1.00  "
      ]
     },
     "execution_count": 31,
     "metadata": {},
     "output_type": "execute_result"
    }
   ],
   "source": [
    "tabela_frequencia['Frequência Acumulada']=tabela_frequencia['Frequência Relativa'].cumsum()\n",
    "tabela_frequencia"
   ]
  },
  {
   "cell_type": "markdown",
   "metadata": {},
   "source": [
    "#### Frequência com Intervalos de Dados"
   ]
  },
  {
   "cell_type": "code",
   "execution_count": 32,
   "metadata": {},
   "outputs": [
    {
     "data": {
      "text/html": [
       "<div>\n",
       "<style scoped>\n",
       "    .dataframe tbody tr th:only-of-type {\n",
       "        vertical-align: middle;\n",
       "    }\n",
       "\n",
       "    .dataframe tbody tr th {\n",
       "        vertical-align: top;\n",
       "    }\n",
       "\n",
       "    .dataframe thead th {\n",
       "        text-align: right;\n",
       "    }\n",
       "</style>\n",
       "<table border=\"1\" class=\"dataframe\">\n",
       "  <thead>\n",
       "    <tr style=\"text-align: right;\">\n",
       "      <th></th>\n",
       "      <th>Idade</th>\n",
       "      <th>Frequência Absoluta</th>\n",
       "    </tr>\n",
       "  </thead>\n",
       "  <tbody>\n",
       "    <tr>\n",
       "      <th>0</th>\n",
       "      <td>43</td>\n",
       "      <td>34</td>\n",
       "    </tr>\n",
       "    <tr>\n",
       "      <th>1</th>\n",
       "      <td>44</td>\n",
       "      <td>30</td>\n",
       "    </tr>\n",
       "    <tr>\n",
       "      <th>2</th>\n",
       "      <td>37</td>\n",
       "      <td>20</td>\n",
       "    </tr>\n",
       "    <tr>\n",
       "      <th>3</th>\n",
       "      <td>38</td>\n",
       "      <td>20</td>\n",
       "    </tr>\n",
       "    <tr>\n",
       "      <th>4</th>\n",
       "      <td>50</td>\n",
       "      <td>20</td>\n",
       "    </tr>\n",
       "    <tr>\n",
       "      <th>5</th>\n",
       "      <td>31</td>\n",
       "      <td>18</td>\n",
       "    </tr>\n",
       "    <tr>\n",
       "      <th>6</th>\n",
       "      <td>32</td>\n",
       "      <td>17</td>\n",
       "    </tr>\n",
       "    <tr>\n",
       "      <th>7</th>\n",
       "      <td>53</td>\n",
       "      <td>17</td>\n",
       "    </tr>\n",
       "    <tr>\n",
       "      <th>8</th>\n",
       "      <td>59</td>\n",
       "      <td>16</td>\n",
       "    </tr>\n",
       "    <tr>\n",
       "      <th>9</th>\n",
       "      <td>39</td>\n",
       "      <td>15</td>\n",
       "    </tr>\n",
       "    <tr>\n",
       "      <th>10</th>\n",
       "      <td>45</td>\n",
       "      <td>14</td>\n",
       "    </tr>\n",
       "    <tr>\n",
       "      <th>11</th>\n",
       "      <td>33</td>\n",
       "      <td>13</td>\n",
       "    </tr>\n",
       "    <tr>\n",
       "      <th>12</th>\n",
       "      <td>30</td>\n",
       "      <td>13</td>\n",
       "    </tr>\n",
       "    <tr>\n",
       "      <th>13</th>\n",
       "      <td>29</td>\n",
       "      <td>13</td>\n",
       "    </tr>\n",
       "    <tr>\n",
       "      <th>14</th>\n",
       "      <td>35</td>\n",
       "      <td>12</td>\n",
       "    </tr>\n",
       "    <tr>\n",
       "      <th>15</th>\n",
       "      <td>36</td>\n",
       "      <td>12</td>\n",
       "    </tr>\n",
       "    <tr>\n",
       "      <th>16</th>\n",
       "      <td>41</td>\n",
       "      <td>12</td>\n",
       "    </tr>\n",
       "    <tr>\n",
       "      <th>17</th>\n",
       "      <td>49</td>\n",
       "      <td>11</td>\n",
       "    </tr>\n",
       "    <tr>\n",
       "      <th>18</th>\n",
       "      <td>57</td>\n",
       "      <td>9</td>\n",
       "    </tr>\n",
       "    <tr>\n",
       "      <th>19</th>\n",
       "      <td>52</td>\n",
       "      <td>9</td>\n",
       "    </tr>\n",
       "    <tr>\n",
       "      <th>20</th>\n",
       "      <td>42</td>\n",
       "      <td>9</td>\n",
       "    </tr>\n",
       "    <tr>\n",
       "      <th>21</th>\n",
       "      <td>51</td>\n",
       "      <td>8</td>\n",
       "    </tr>\n",
       "    <tr>\n",
       "      <th>22</th>\n",
       "      <td>54</td>\n",
       "      <td>7</td>\n",
       "    </tr>\n",
       "    <tr>\n",
       "      <th>23</th>\n",
       "      <td>58</td>\n",
       "      <td>6</td>\n",
       "    </tr>\n",
       "    <tr>\n",
       "      <th>24</th>\n",
       "      <td>28</td>\n",
       "      <td>5</td>\n",
       "    </tr>\n",
       "    <tr>\n",
       "      <th>25</th>\n",
       "      <td>40</td>\n",
       "      <td>4</td>\n",
       "    </tr>\n",
       "    <tr>\n",
       "      <th>26</th>\n",
       "      <td>48</td>\n",
       "      <td>3</td>\n",
       "    </tr>\n",
       "    <tr>\n",
       "      <th>27</th>\n",
       "      <td>55</td>\n",
       "      <td>2</td>\n",
       "    </tr>\n",
       "    <tr>\n",
       "      <th>28</th>\n",
       "      <td>56</td>\n",
       "      <td>2</td>\n",
       "    </tr>\n",
       "    <tr>\n",
       "      <th>29</th>\n",
       "      <td>34</td>\n",
       "      <td>2</td>\n",
       "    </tr>\n",
       "    <tr>\n",
       "      <th>30</th>\n",
       "      <td>27</td>\n",
       "      <td>1</td>\n",
       "    </tr>\n",
       "  </tbody>\n",
       "</table>\n",
       "</div>"
      ],
      "text/plain": [
       "    Idade  Frequência Absoluta\n",
       "0      43                   34\n",
       "1      44                   30\n",
       "2      37                   20\n",
       "3      38                   20\n",
       "4      50                   20\n",
       "5      31                   18\n",
       "6      32                   17\n",
       "7      53                   17\n",
       "8      59                   16\n",
       "9      39                   15\n",
       "10     45                   14\n",
       "11     33                   13\n",
       "12     30                   13\n",
       "13     29                   13\n",
       "14     35                   12\n",
       "15     36                   12\n",
       "16     41                   12\n",
       "17     49                   11\n",
       "18     57                    9\n",
       "19     52                    9\n",
       "20     42                    9\n",
       "21     51                    8\n",
       "22     54                    7\n",
       "23     58                    6\n",
       "24     28                    5\n",
       "25     40                    4\n",
       "26     48                    3\n",
       "27     55                    2\n",
       "28     56                    2\n",
       "29     34                    2\n",
       "30     27                    1"
      ]
     },
     "execution_count": 32,
     "metadata": {},
     "output_type": "execute_result"
    }
   ],
   "source": [
    "tabela_frequencia_idade = df['Idade'].value_counts().reset_index() \n",
    "tabela_frequencia_idade.columns = ['Idade', 'Frequência Absoluta']\n",
    "tabela_frequencia_idade"
   ]
  },
  {
   "cell_type": "code",
   "execution_count": 35,
   "metadata": {},
   "outputs": [
    {
     "data": {
      "text/plain": [
       "0    27\n",
       "1    28\n",
       "2    28\n",
       "3    28\n",
       "4    28\n",
       "Name: Idade, dtype: int64"
      ]
     },
     "execution_count": 35,
     "metadata": {},
     "output_type": "execute_result"
    }
   ],
   "source": [
    "df['Idade'].head()"
   ]
  },
  {
   "cell_type": "code",
   "execution_count": 33,
   "metadata": {},
   "outputs": [
    {
     "data": {
      "text/plain": [
       "0      (27.0, 33.0]\n",
       "1      (27.0, 33.0]\n",
       "2      (27.0, 33.0]\n",
       "3      (27.0, 33.0]\n",
       "4      (27.0, 33.0]\n",
       "           ...     \n",
       "369    (53.0, 59.0]\n",
       "370    (53.0, 59.0]\n",
       "371    (53.0, 59.0]\n",
       "372    (53.0, 59.0]\n",
       "373    (53.0, 59.0]\n",
       "Name: Faixa Etaria, Length: 374, dtype: category\n",
       "Categories (5, interval[float64, right]): [(27.0, 33.0] < (33.0, 40.0] < (40.0, 46.0] < (46.0, 53.0] < (53.0, 59.0]]"
      ]
     },
     "execution_count": 33,
     "metadata": {},
     "output_type": "execute_result"
    }
   ],
   "source": [
    "# Nova coluna para intervalos de idades\n",
    "df['Faixa Etaria'] = pd.Series(pd.cut(df['Idade'], 5,precision=0))\n",
    "df['Faixa Etaria']"
   ]
  },
  {
   "cell_type": "code",
   "execution_count": 36,
   "metadata": {},
   "outputs": [
    {
     "data": {
      "text/html": [
       "<div>\n",
       "<style scoped>\n",
       "    .dataframe tbody tr th:only-of-type {\n",
       "        vertical-align: middle;\n",
       "    }\n",
       "\n",
       "    .dataframe tbody tr th {\n",
       "        vertical-align: top;\n",
       "    }\n",
       "\n",
       "    .dataframe thead th {\n",
       "        text-align: right;\n",
       "    }\n",
       "</style>\n",
       "<table border=\"1\" class=\"dataframe\">\n",
       "  <thead>\n",
       "    <tr style=\"text-align: right;\">\n",
       "      <th></th>\n",
       "      <th>Faixa Etaria</th>\n",
       "      <th>Frequência Absoluta</th>\n",
       "    </tr>\n",
       "  </thead>\n",
       "  <tbody>\n",
       "    <tr>\n",
       "      <th>0</th>\n",
       "      <td>(40.0, 46.0]</td>\n",
       "      <td>103</td>\n",
       "    </tr>\n",
       "    <tr>\n",
       "      <th>1</th>\n",
       "      <td>(33.0, 40.0]</td>\n",
       "      <td>81</td>\n",
       "    </tr>\n",
       "    <tr>\n",
       "      <th>2</th>\n",
       "      <td>(27.0, 33.0]</td>\n",
       "      <td>80</td>\n",
       "    </tr>\n",
       "    <tr>\n",
       "      <th>3</th>\n",
       "      <td>(53.0, 59.0]</td>\n",
       "      <td>59</td>\n",
       "    </tr>\n",
       "    <tr>\n",
       "      <th>4</th>\n",
       "      <td>(46.0, 53.0]</td>\n",
       "      <td>51</td>\n",
       "    </tr>\n",
       "  </tbody>\n",
       "</table>\n",
       "</div>"
      ],
      "text/plain": [
       "   Faixa Etaria  Frequência Absoluta\n",
       "0  (40.0, 46.0]                  103\n",
       "1  (33.0, 40.0]                   81\n",
       "2  (27.0, 33.0]                   80\n",
       "3  (53.0, 59.0]                   59\n",
       "4  (46.0, 53.0]                   51"
      ]
     },
     "execution_count": 36,
     "metadata": {},
     "output_type": "execute_result"
    }
   ],
   "source": [
    "# Frequencia Absoluta das faixas etárias\n",
    "tabela_frequencia_faixa_etaria = df['Faixa Etaria'].value_counts().reset_index() \n",
    "tabela_frequencia_faixa_etaria.columns = ['Faixa Etaria', 'Frequência Absoluta']\n",
    "tabela_frequencia_faixa_etaria"
   ]
  },
  {
   "cell_type": "code",
   "execution_count": 38,
   "metadata": {},
   "outputs": [
    {
     "data": {
      "text/html": [
       "<div>\n",
       "<style scoped>\n",
       "    .dataframe tbody tr th:only-of-type {\n",
       "        vertical-align: middle;\n",
       "    }\n",
       "\n",
       "    .dataframe tbody tr th {\n",
       "        vertical-align: top;\n",
       "    }\n",
       "\n",
       "    .dataframe thead th {\n",
       "        text-align: right;\n",
       "    }\n",
       "</style>\n",
       "<table border=\"1\" class=\"dataframe\">\n",
       "  <thead>\n",
       "    <tr style=\"text-align: right;\">\n",
       "      <th></th>\n",
       "      <th>Faixa Etaria</th>\n",
       "      <th>Frequência Absoluta</th>\n",
       "    </tr>\n",
       "  </thead>\n",
       "  <tbody>\n",
       "    <tr>\n",
       "      <th>2</th>\n",
       "      <td>(27.0, 33.0]</td>\n",
       "      <td>80</td>\n",
       "    </tr>\n",
       "    <tr>\n",
       "      <th>1</th>\n",
       "      <td>(33.0, 40.0]</td>\n",
       "      <td>81</td>\n",
       "    </tr>\n",
       "    <tr>\n",
       "      <th>0</th>\n",
       "      <td>(40.0, 46.0]</td>\n",
       "      <td>103</td>\n",
       "    </tr>\n",
       "    <tr>\n",
       "      <th>4</th>\n",
       "      <td>(46.0, 53.0]</td>\n",
       "      <td>51</td>\n",
       "    </tr>\n",
       "    <tr>\n",
       "      <th>3</th>\n",
       "      <td>(53.0, 59.0]</td>\n",
       "      <td>59</td>\n",
       "    </tr>\n",
       "  </tbody>\n",
       "</table>\n",
       "</div>"
      ],
      "text/plain": [
       "   Faixa Etaria  Frequência Absoluta\n",
       "2  (27.0, 33.0]                   80\n",
       "1  (33.0, 40.0]                   81\n",
       "0  (40.0, 46.0]                  103\n",
       "4  (46.0, 53.0]                   51\n",
       "3  (53.0, 59.0]                   59"
      ]
     },
     "execution_count": 38,
     "metadata": {},
     "output_type": "execute_result"
    }
   ],
   "source": [
    "# Frequencia Absoluta das faixas etárias - ordenada por Faixa Etária\n",
    "#tabela_frequencia_faixa_etaria.sort_values(by='Faixa Etaria', inplace=True)\n",
    "tabela_frequencia_faixa_etaria = tabela_frequencia_faixa_etaria.sort_values(by='Faixa Etaria')\n",
    "tabela_frequencia_faixa_etaria"
   ]
  },
  {
   "cell_type": "code",
   "execution_count": 39,
   "metadata": {},
   "outputs": [
    {
     "data": {
      "text/html": [
       "<div>\n",
       "<style scoped>\n",
       "    .dataframe tbody tr th:only-of-type {\n",
       "        vertical-align: middle;\n",
       "    }\n",
       "\n",
       "    .dataframe tbody tr th {\n",
       "        vertical-align: top;\n",
       "    }\n",
       "\n",
       "    .dataframe thead th {\n",
       "        text-align: right;\n",
       "    }\n",
       "</style>\n",
       "<table border=\"1\" class=\"dataframe\">\n",
       "  <thead>\n",
       "    <tr style=\"text-align: right;\">\n",
       "      <th></th>\n",
       "      <th>Faixa Etaria</th>\n",
       "      <th>Frequência Absoluta</th>\n",
       "      <th>Frequência Relativa</th>\n",
       "    </tr>\n",
       "  </thead>\n",
       "  <tbody>\n",
       "    <tr>\n",
       "      <th>2</th>\n",
       "      <td>(27.0, 33.0]</td>\n",
       "      <td>80</td>\n",
       "      <td>0.21</td>\n",
       "    </tr>\n",
       "    <tr>\n",
       "      <th>1</th>\n",
       "      <td>(33.0, 40.0]</td>\n",
       "      <td>81</td>\n",
       "      <td>0.22</td>\n",
       "    </tr>\n",
       "    <tr>\n",
       "      <th>0</th>\n",
       "      <td>(40.0, 46.0]</td>\n",
       "      <td>103</td>\n",
       "      <td>0.28</td>\n",
       "    </tr>\n",
       "    <tr>\n",
       "      <th>4</th>\n",
       "      <td>(46.0, 53.0]</td>\n",
       "      <td>51</td>\n",
       "      <td>0.14</td>\n",
       "    </tr>\n",
       "    <tr>\n",
       "      <th>3</th>\n",
       "      <td>(53.0, 59.0]</td>\n",
       "      <td>59</td>\n",
       "      <td>0.16</td>\n",
       "    </tr>\n",
       "  </tbody>\n",
       "</table>\n",
       "</div>"
      ],
      "text/plain": [
       "   Faixa Etaria  Frequência Absoluta  Frequência Relativa\n",
       "2  (27.0, 33.0]                   80                 0.21\n",
       "1  (33.0, 40.0]                   81                 0.22\n",
       "0  (40.0, 46.0]                  103                 0.28\n",
       "4  (46.0, 53.0]                   51                 0.14\n",
       "3  (53.0, 59.0]                   59                 0.16"
      ]
     },
     "execution_count": 39,
     "metadata": {},
     "output_type": "execute_result"
    }
   ],
   "source": [
    "# Frequencia Relativa das faixas etárias\n",
    "tabela_frequencia_faixa_etaria['Frequência Relativa']=tabela_frequencia_faixa_etaria['Frequência Absoluta']/tabela_frequencia_faixa_etaria['Frequência Absoluta'].sum()\n",
    "tabela_frequencia_faixa_etaria"
   ]
  },
  {
   "cell_type": "code",
   "execution_count": 40,
   "metadata": {},
   "outputs": [
    {
     "data": {
      "text/html": [
       "<div>\n",
       "<style scoped>\n",
       "    .dataframe tbody tr th:only-of-type {\n",
       "        vertical-align: middle;\n",
       "    }\n",
       "\n",
       "    .dataframe tbody tr th {\n",
       "        vertical-align: top;\n",
       "    }\n",
       "\n",
       "    .dataframe thead th {\n",
       "        text-align: right;\n",
       "    }\n",
       "</style>\n",
       "<table border=\"1\" class=\"dataframe\">\n",
       "  <thead>\n",
       "    <tr style=\"text-align: right;\">\n",
       "      <th></th>\n",
       "      <th>Faixa Etaria</th>\n",
       "      <th>Frequência Absoluta</th>\n",
       "      <th>Frequência Relativa</th>\n",
       "      <th>Frequência Acumulada</th>\n",
       "    </tr>\n",
       "  </thead>\n",
       "  <tbody>\n",
       "    <tr>\n",
       "      <th>2</th>\n",
       "      <td>(27.0, 33.0]</td>\n",
       "      <td>80</td>\n",
       "      <td>0.21</td>\n",
       "      <td>0.21</td>\n",
       "    </tr>\n",
       "    <tr>\n",
       "      <th>1</th>\n",
       "      <td>(33.0, 40.0]</td>\n",
       "      <td>81</td>\n",
       "      <td>0.22</td>\n",
       "      <td>0.43</td>\n",
       "    </tr>\n",
       "    <tr>\n",
       "      <th>0</th>\n",
       "      <td>(40.0, 46.0]</td>\n",
       "      <td>103</td>\n",
       "      <td>0.28</td>\n",
       "      <td>0.71</td>\n",
       "    </tr>\n",
       "    <tr>\n",
       "      <th>4</th>\n",
       "      <td>(46.0, 53.0]</td>\n",
       "      <td>51</td>\n",
       "      <td>0.14</td>\n",
       "      <td>0.84</td>\n",
       "    </tr>\n",
       "    <tr>\n",
       "      <th>3</th>\n",
       "      <td>(53.0, 59.0]</td>\n",
       "      <td>59</td>\n",
       "      <td>0.16</td>\n",
       "      <td>1.00</td>\n",
       "    </tr>\n",
       "  </tbody>\n",
       "</table>\n",
       "</div>"
      ],
      "text/plain": [
       "   Faixa Etaria  Frequência Absoluta  Frequência Relativa  \\\n",
       "2  (27.0, 33.0]                   80                 0.21   \n",
       "1  (33.0, 40.0]                   81                 0.22   \n",
       "0  (40.0, 46.0]                  103                 0.28   \n",
       "4  (46.0, 53.0]                   51                 0.14   \n",
       "3  (53.0, 59.0]                   59                 0.16   \n",
       "\n",
       "   Frequência Acumulada  \n",
       "2                  0.21  \n",
       "1                  0.43  \n",
       "0                  0.71  \n",
       "4                  0.84  \n",
       "3                  1.00  "
      ]
     },
     "execution_count": 40,
     "metadata": {},
     "output_type": "execute_result"
    }
   ],
   "source": [
    "# Frequencia Acumulada das faixas etárias\n",
    "tabela_frequencia_faixa_etaria['Frequência Acumulada']=tabela_frequencia_faixa_etaria['Frequência Relativa'].cumsum()\n",
    "tabela_frequencia_faixa_etaria"
   ]
  },
  {
   "cell_type": "code",
   "execution_count": null,
   "metadata": {},
   "outputs": [],
   "source": []
  }
 ],
 "metadata": {
  "kernelspec": {
   "display_name": "Python 3",
   "language": "python",
   "name": "python3"
  },
  "language_info": {
   "codemirror_mode": {
    "name": "ipython",
    "version": 3
   },
   "file_extension": ".py",
   "mimetype": "text/x-python",
   "name": "python",
   "nbconvert_exporter": "python",
   "pygments_lexer": "ipython3",
   "version": "3.7.6"
  }
 },
 "nbformat": 4,
 "nbformat_minor": 4
}
