{
 "cells": [
  {
   "cell_type": "markdown",
   "metadata": {},
   "source": [
    "# Análise Exploratória de Dados com Python\n",
    "\n",
    "## Análise Bivariada\n",
    "\n",
    "O objetivo deste notebook é apresentar as principais funções em Python para conduzir uma análise bivariada de dados, a saber:  \n",
    "\r",
    "- Correlação de Pearson\n",
    "- Information Value\n",
    "- Extra: Gráficos"
   ]
  },
  {
   "cell_type": "code",
   "execution_count": 1,
   "metadata": {},
   "outputs": [],
   "source": [
    "import pandas as pd\n",
    "import numpy as np"
   ]
  },
  {
   "cell_type": "code",
   "execution_count": 2,
   "metadata": {},
   "outputs": [
    {
     "data": {
      "text/plain": [
       "'2.1.4'"
      ]
     },
     "execution_count": 2,
     "metadata": {},
     "output_type": "execute_result"
    }
   ],
   "source": [
    "pd.__version__"
   ]
  },
  {
   "cell_type": "code",
   "execution_count": 3,
   "metadata": {},
   "outputs": [
    {
     "data": {
      "text/plain": [
       "'1.26.4'"
      ]
     },
     "execution_count": 3,
     "metadata": {},
     "output_type": "execute_result"
    }
   ],
   "source": [
    "np.__version__"
   ]
  },
  {
   "cell_type": "code",
   "execution_count": 4,
   "metadata": {},
   "outputs": [],
   "source": [
    "# Definir o número de casas decimais desejado\n",
    "pd.set_option('display.float_format', '{:.2f}'.format)"
   ]
  },
  {
   "cell_type": "markdown",
   "metadata": {
    "jp-MarkdownHeadingCollapsed": true
   },
   "source": [
    "### Contexto \n",
    "Suponha que você necessite fazer uma análise sobre a saúde dos funcionários de uma empresa. \n",
    "A base de dados disponível possui informações de funcionários de várias profissões e incluem dados de idade, atividade física, avaliação cardíaca, qualidade do sono, entre outras."
   ]
  },
  {
   "cell_type": "markdown",
   "metadata": {},
   "source": [
    "### Carregando dados\n",
    "Referência:  \n",
    "Adaptado de https://www.kaggle.com/datasets/uom190346a/sleep-health-and-lifestyle-dataset  \n",
    "(sob Licença CC0 - Domínio Público)"
   ]
  },
  {
   "cell_type": "code",
   "execution_count": 5,
   "metadata": {},
   "outputs": [
    {
     "name": "stdout",
     "output_type": "stream",
     "text": [
      "<class 'pandas.core.frame.DataFrame'>\n",
      "Index: 374 entries, 1 to 374\n",
      "Data columns (total 12 columns):\n",
      " #   Column                     Non-Null Count  Dtype  \n",
      "---  ------                     --------------  -----  \n",
      " 0   Gênero                     373 non-null    object \n",
      " 1   Idade                      374 non-null    int64  \n",
      " 2   Profissão                  374 non-null    object \n",
      " 3   Duração do sono            374 non-null    float64\n",
      " 4   Qualidade do sono          374 non-null    int64  \n",
      " 5   Nível de Atividade Física  374 non-null    int64  \n",
      " 6   Nível de Stress            374 non-null    int64  \n",
      " 7   Categoria IMC              374 non-null    object \n",
      " 8   Pressão Sanguínea          374 non-null    object \n",
      " 9   Batimento Cardíaco         374 non-null    int64  \n",
      " 10  Passos diários             374 non-null    int64  \n",
      " 11  Distúrbio do sono          374 non-null    object \n",
      "dtypes: float64(1), int64(6), object(5)\n",
      "memory usage: 38.0+ KB\n"
     ]
    }
   ],
   "source": [
    "# Lendo a base de dados no formato de planilha Excel\n",
    "df = pd.read_excel('dados_sono_e_saude.xlsx').set_index('ID')\n",
    "df.info()"
   ]
  },
  {
   "cell_type": "code",
   "execution_count": 6,
   "metadata": {},
   "outputs": [
    {
     "data": {
      "text/html": [
       "<div>\n",
       "<style scoped>\n",
       "    .dataframe tbody tr th:only-of-type {\n",
       "        vertical-align: middle;\n",
       "    }\n",
       "\n",
       "    .dataframe tbody tr th {\n",
       "        vertical-align: top;\n",
       "    }\n",
       "\n",
       "    .dataframe thead th {\n",
       "        text-align: right;\n",
       "    }\n",
       "</style>\n",
       "<table border=\"1\" class=\"dataframe\">\n",
       "  <thead>\n",
       "    <tr style=\"text-align: right;\">\n",
       "      <th></th>\n",
       "      <th>Gênero</th>\n",
       "      <th>Idade</th>\n",
       "      <th>Profissão</th>\n",
       "      <th>Duração do sono</th>\n",
       "      <th>Qualidade do sono</th>\n",
       "      <th>Nível de Atividade Física</th>\n",
       "      <th>Nível de Stress</th>\n",
       "      <th>Categoria IMC</th>\n",
       "      <th>Pressão Sanguínea</th>\n",
       "      <th>Batimento Cardíaco</th>\n",
       "      <th>Passos diários</th>\n",
       "      <th>Distúrbio do sono</th>\n",
       "    </tr>\n",
       "    <tr>\n",
       "      <th>ID</th>\n",
       "      <th></th>\n",
       "      <th></th>\n",
       "      <th></th>\n",
       "      <th></th>\n",
       "      <th></th>\n",
       "      <th></th>\n",
       "      <th></th>\n",
       "      <th></th>\n",
       "      <th></th>\n",
       "      <th></th>\n",
       "      <th></th>\n",
       "      <th></th>\n",
       "    </tr>\n",
       "  </thead>\n",
       "  <tbody>\n",
       "    <tr>\n",
       "      <th>1</th>\n",
       "      <td>M</td>\n",
       "      <td>27</td>\n",
       "      <td>Engenheiro de Software</td>\n",
       "      <td>6.10</td>\n",
       "      <td>6</td>\n",
       "      <td>42</td>\n",
       "      <td>6</td>\n",
       "      <td>Sobrepeso</td>\n",
       "      <td>126/83</td>\n",
       "      <td>77</td>\n",
       "      <td>4200</td>\n",
       "      <td>-</td>\n",
       "    </tr>\n",
       "    <tr>\n",
       "      <th>2</th>\n",
       "      <td>NaN</td>\n",
       "      <td>28</td>\n",
       "      <td>Médico</td>\n",
       "      <td>6.20</td>\n",
       "      <td>6</td>\n",
       "      <td>60</td>\n",
       "      <td>8</td>\n",
       "      <td>Normal</td>\n",
       "      <td>125/80</td>\n",
       "      <td>75</td>\n",
       "      <td>10000</td>\n",
       "      <td>-</td>\n",
       "    </tr>\n",
       "    <tr>\n",
       "      <th>3</th>\n",
       "      <td>M</td>\n",
       "      <td>28</td>\n",
       "      <td>Médico</td>\n",
       "      <td>6.20</td>\n",
       "      <td>6</td>\n",
       "      <td>60</td>\n",
       "      <td>8</td>\n",
       "      <td>Normal</td>\n",
       "      <td>125/80</td>\n",
       "      <td>75</td>\n",
       "      <td>10000</td>\n",
       "      <td>-</td>\n",
       "    </tr>\n",
       "  </tbody>\n",
       "</table>\n",
       "</div>"
      ],
      "text/plain": [
       "   Gênero  Idade               Profissão  Duração do sono  Qualidade do sono  \\\n",
       "ID                                                                             \n",
       "1       M     27  Engenheiro de Software             6.10                  6   \n",
       "2     NaN     28                  Médico             6.20                  6   \n",
       "3       M     28                  Médico             6.20                  6   \n",
       "\n",
       "    Nível de Atividade Física  Nível de Stress Categoria IMC  \\\n",
       "ID                                                             \n",
       "1                          42                6     Sobrepeso   \n",
       "2                          60                8        Normal   \n",
       "3                          60                8        Normal   \n",
       "\n",
       "   Pressão Sanguínea  Batimento Cardíaco  Passos diários Distúrbio do sono  \n",
       "ID                                                                          \n",
       "1             126/83                  77            4200                 -  \n",
       "2             125/80                  75           10000                 -  \n",
       "3             125/80                  75           10000                 -  "
      ]
     },
     "execution_count": 6,
     "metadata": {},
     "output_type": "execute_result"
    }
   ],
   "source": [
    "df.head(3)"
   ]
  },
  {
   "cell_type": "markdown",
   "metadata": {},
   "source": [
    "### Correlação de Pearson"
   ]
  },
  {
   "cell_type": "markdown",
   "metadata": {},
   "source": [
    "A correlação de Pearson é uma medida estatítisca para avaliar o grau de associação entre duas variáveis de tipo numérico.  "
   ]
  },
  {
   "cell_type": "markdown",
   "metadata": {},
   "source": [
    "**Exemplo**: existe correlação entre a idade do funcionário e o nível de atividade física?"
   ]
  },
  {
   "cell_type": "code",
   "execution_count": 7,
   "metadata": {},
   "outputs": [
    {
     "data": {
      "text/plain": [
       "array([[1.        , 0.17899272],\n",
       "       [0.17899272, 1.        ]])"
      ]
     },
     "execution_count": 7,
     "metadata": {},
     "output_type": "execute_result"
    }
   ],
   "source": [
    "# usando numpy - Resultado matriz\n",
    "np.corrcoef(df['Idade'], df['Nível de Atividade Física'], rowvar=False)"
   ]
  },
  {
   "cell_type": "code",
   "execution_count": 8,
   "metadata": {},
   "outputs": [
    {
     "data": {
      "text/plain": [
       "0.17899272043316178"
      ]
     },
     "execution_count": 8,
     "metadata": {},
     "output_type": "execute_result"
    }
   ],
   "source": [
    "# usando pandas - resultado escalar\n",
    "df['Idade'].corr(df['Nível de Atividade Física'], method='pearson')"
   ]
  },
  {
   "cell_type": "code",
   "execution_count": 9,
   "metadata": {},
   "outputs": [
    {
     "data": {
      "text/html": [
       "<div>\n",
       "<style scoped>\n",
       "    .dataframe tbody tr th:only-of-type {\n",
       "        vertical-align: middle;\n",
       "    }\n",
       "\n",
       "    .dataframe tbody tr th {\n",
       "        vertical-align: top;\n",
       "    }\n",
       "\n",
       "    .dataframe thead th {\n",
       "        text-align: right;\n",
       "    }\n",
       "</style>\n",
       "<table border=\"1\" class=\"dataframe\">\n",
       "  <thead>\n",
       "    <tr style=\"text-align: right;\">\n",
       "      <th></th>\n",
       "      <th>Idade</th>\n",
       "      <th>Duração do sono</th>\n",
       "      <th>Qualidade do sono</th>\n",
       "      <th>Nível de Atividade Física</th>\n",
       "      <th>Nível de Stress</th>\n",
       "      <th>Batimento Cardíaco</th>\n",
       "      <th>Passos diários</th>\n",
       "    </tr>\n",
       "  </thead>\n",
       "  <tbody>\n",
       "    <tr>\n",
       "      <th>Idade</th>\n",
       "      <td>1.00</td>\n",
       "      <td>0.34</td>\n",
       "      <td>0.47</td>\n",
       "      <td>0.18</td>\n",
       "      <td>-0.42</td>\n",
       "      <td>-0.23</td>\n",
       "      <td>0.06</td>\n",
       "    </tr>\n",
       "    <tr>\n",
       "      <th>Duração do sono</th>\n",
       "      <td>0.34</td>\n",
       "      <td>1.00</td>\n",
       "      <td>0.88</td>\n",
       "      <td>0.21</td>\n",
       "      <td>-0.81</td>\n",
       "      <td>-0.52</td>\n",
       "      <td>-0.04</td>\n",
       "    </tr>\n",
       "    <tr>\n",
       "      <th>Qualidade do sono</th>\n",
       "      <td>0.47</td>\n",
       "      <td>0.88</td>\n",
       "      <td>1.00</td>\n",
       "      <td>0.19</td>\n",
       "      <td>-0.90</td>\n",
       "      <td>-0.66</td>\n",
       "      <td>0.02</td>\n",
       "    </tr>\n",
       "    <tr>\n",
       "      <th>Nível de Atividade Física</th>\n",
       "      <td>0.18</td>\n",
       "      <td>0.21</td>\n",
       "      <td>0.19</td>\n",
       "      <td>1.00</td>\n",
       "      <td>-0.03</td>\n",
       "      <td>0.14</td>\n",
       "      <td>0.77</td>\n",
       "    </tr>\n",
       "    <tr>\n",
       "      <th>Nível de Stress</th>\n",
       "      <td>-0.42</td>\n",
       "      <td>-0.81</td>\n",
       "      <td>-0.90</td>\n",
       "      <td>-0.03</td>\n",
       "      <td>1.00</td>\n",
       "      <td>0.67</td>\n",
       "      <td>0.19</td>\n",
       "    </tr>\n",
       "    <tr>\n",
       "      <th>Batimento Cardíaco</th>\n",
       "      <td>-0.23</td>\n",
       "      <td>-0.52</td>\n",
       "      <td>-0.66</td>\n",
       "      <td>0.14</td>\n",
       "      <td>0.67</td>\n",
       "      <td>1.00</td>\n",
       "      <td>-0.03</td>\n",
       "    </tr>\n",
       "    <tr>\n",
       "      <th>Passos diários</th>\n",
       "      <td>0.06</td>\n",
       "      <td>-0.04</td>\n",
       "      <td>0.02</td>\n",
       "      <td>0.77</td>\n",
       "      <td>0.19</td>\n",
       "      <td>-0.03</td>\n",
       "      <td>1.00</td>\n",
       "    </tr>\n",
       "  </tbody>\n",
       "</table>\n",
       "</div>"
      ],
      "text/plain": [
       "                           Idade  Duração do sono  Qualidade do sono  \\\n",
       "Idade                       1.00             0.34               0.47   \n",
       "Duração do sono             0.34             1.00               0.88   \n",
       "Qualidade do sono           0.47             0.88               1.00   \n",
       "Nível de Atividade Física   0.18             0.21               0.19   \n",
       "Nível de Stress            -0.42            -0.81              -0.90   \n",
       "Batimento Cardíaco         -0.23            -0.52              -0.66   \n",
       "Passos diários              0.06            -0.04               0.02   \n",
       "\n",
       "                           Nível de Atividade Física  Nível de Stress  \\\n",
       "Idade                                           0.18            -0.42   \n",
       "Duração do sono                                 0.21            -0.81   \n",
       "Qualidade do sono                               0.19            -0.90   \n",
       "Nível de Atividade Física                       1.00            -0.03   \n",
       "Nível de Stress                                -0.03             1.00   \n",
       "Batimento Cardíaco                              0.14             0.67   \n",
       "Passos diários                                  0.77             0.19   \n",
       "\n",
       "                           Batimento Cardíaco  Passos diários  \n",
       "Idade                                   -0.23            0.06  \n",
       "Duração do sono                         -0.52           -0.04  \n",
       "Qualidade do sono                       -0.66            0.02  \n",
       "Nível de Atividade Física                0.14            0.77  \n",
       "Nível de Stress                          0.67            0.19  \n",
       "Batimento Cardíaco                       1.00           -0.03  \n",
       "Passos diários                          -0.03            1.00  "
      ]
     },
     "execution_count": 9,
     "metadata": {},
     "output_type": "execute_result"
    }
   ],
   "source": [
    "# usando pandas - resultado matriz geral\n",
    "df.corr(method='pearson', numeric_only=True)"
   ]
  },
  {
   "cell_type": "markdown",
   "metadata": {},
   "source": [
    "### Information Value (IV)"
   ]
  },
  {
   "cell_type": "markdown",
   "metadata": {},
   "source": [
    "Information Value (IV) é uma medida estatítisca para avaliar o grau de associação entre duas variáveis de tipo categórica (nominal), sendo uma delas binária (evento/ não evento) "
   ]
  },
  {
   "cell_type": "markdown",
   "metadata": {},
   "source": [
    "Para o cálculo do IV, tem-se as seguintes etapas:\n",
    "1) Definir as variáveis que serão analisadas, e qual a binária (evento/ não evento)\n",
    "2) Calcular o % de eventos e o % de não-eventos em cada categoria por meio da tabela de frequência relativa\n",
    "3) Calcular o ln (logaritmo natural) da divisão entre % de eventos e % de não-eventos (Odds)\n",
    "4) Multiplicar o resultado do cálculo anterior pela somatória da diferença entre % de eventos e % não eventos de eventos e somar para obter o IV final"
   ]
  },
  {
   "cell_type": "markdown",
   "metadata": {},
   "source": [
    "**Exemplo**: qual o IV da Categoria IMC em relação a distúrbio do sono?"
   ]
  },
  {
   "cell_type": "markdown",
   "metadata": {},
   "source": [
    "**Etapa 1:**  \n",
    "1.a) Conhecendo as variáveis que serão analisadas: _Distúrbio do sono_"
   ]
  },
  {
   "cell_type": "code",
   "execution_count": 10,
   "metadata": {},
   "outputs": [
    {
     "data": {
      "text/plain": [
       "Distúrbio do sono\n",
       "-                 220\n",
       "Apneia do sono     78\n",
       "Insônia            76\n",
       "Name: count, dtype: int64"
      ]
     },
     "execution_count": 10,
     "metadata": {},
     "output_type": "execute_result"
    }
   ],
   "source": [
    "df['Distúrbio do sono'].value_counts()"
   ]
  },
  {
   "cell_type": "markdown",
   "metadata": {},
   "source": [
    "Como a variável _\"Distúrbio do sono\"_ possui 3 valores distintos, vamos transformá-la para uma variável indicadora com os valores \"Sim\"/\"Não\", sendo \"Sim\" para qualquer tipo de Distúrbio do sono (apneia ou insônia) e Não no caso de ausência de Distúrbio do sono"
   ]
  },
  {
   "cell_type": "code",
   "execution_count": 11,
   "metadata": {},
   "outputs": [],
   "source": [
    "df['Indicador - Distúrbio do sono'] = df['Distúrbio do sono']!='-'\n",
    "df['Indicador - Distúrbio do sono'] = df['Indicador - Distúrbio do sono'].replace(True,'Sim')\n",
    "df['Indicador - Distúrbio do sono'] = df['Indicador - Distúrbio do sono'].replace(False,'Não')"
   ]
  },
  {
   "cell_type": "code",
   "execution_count": 12,
   "metadata": {},
   "outputs": [
    {
     "data": {
      "text/plain": [
       "Indicador - Distúrbio do sono\n",
       "Não    220\n",
       "Sim    154\n",
       "Name: count, dtype: int64"
      ]
     },
     "execution_count": 12,
     "metadata": {},
     "output_type": "execute_result"
    }
   ],
   "source": [
    "df['Indicador - Distúrbio do sono'].value_counts()"
   ]
  },
  {
   "cell_type": "markdown",
   "metadata": {},
   "source": [
    "1.b) Conhecendo as variáveis que serão analisadas: _Categoria IMC_"
   ]
  },
  {
   "cell_type": "code",
   "execution_count": 13,
   "metadata": {},
   "outputs": [
    {
     "data": {
      "text/plain": [
       "Categoria IMC\n",
       "Normal       216\n",
       "Sobrepeso    148\n",
       "Obeso         10\n",
       "Name: count, dtype: int64"
      ]
     },
     "execution_count": 13,
     "metadata": {},
     "output_type": "execute_result"
    }
   ],
   "source": [
    "df['Categoria IMC'].value_counts()"
   ]
  },
  {
   "cell_type": "markdown",
   "metadata": {},
   "source": [
    "**Etapa 2:**  \n",
    "Criando a tabela de frequência relativa das variáveis"
   ]
  },
  {
   "cell_type": "code",
   "execution_count": 14,
   "metadata": {},
   "outputs": [
    {
     "data": {
      "text/html": [
       "<div>\n",
       "<style scoped>\n",
       "    .dataframe tbody tr th:only-of-type {\n",
       "        vertical-align: middle;\n",
       "    }\n",
       "\n",
       "    .dataframe tbody tr th {\n",
       "        vertical-align: top;\n",
       "    }\n",
       "\n",
       "    .dataframe thead th {\n",
       "        text-align: right;\n",
       "    }\n",
       "</style>\n",
       "<table border=\"1\" class=\"dataframe\">\n",
       "  <thead>\n",
       "    <tr style=\"text-align: right;\">\n",
       "      <th>Indicador - Distúrbio do sono</th>\n",
       "      <th>Não</th>\n",
       "      <th>Sim</th>\n",
       "      <th>Total</th>\n",
       "    </tr>\n",
       "    <tr>\n",
       "      <th>Categoria IMC</th>\n",
       "      <th></th>\n",
       "      <th></th>\n",
       "      <th></th>\n",
       "    </tr>\n",
       "  </thead>\n",
       "  <tbody>\n",
       "    <tr>\n",
       "      <th>Normal</th>\n",
       "      <td>200</td>\n",
       "      <td>16</td>\n",
       "      <td>216</td>\n",
       "    </tr>\n",
       "    <tr>\n",
       "      <th>Obeso</th>\n",
       "      <td>1</td>\n",
       "      <td>9</td>\n",
       "      <td>10</td>\n",
       "    </tr>\n",
       "    <tr>\n",
       "      <th>Sobrepeso</th>\n",
       "      <td>19</td>\n",
       "      <td>129</td>\n",
       "      <td>148</td>\n",
       "    </tr>\n",
       "    <tr>\n",
       "      <th>Total</th>\n",
       "      <td>220</td>\n",
       "      <td>154</td>\n",
       "      <td>374</td>\n",
       "    </tr>\n",
       "  </tbody>\n",
       "</table>\n",
       "</div>"
      ],
      "text/plain": [
       "Indicador - Distúrbio do sono  Não  Sim  Total\n",
       "Categoria IMC                                 \n",
       "Normal                         200   16    216\n",
       "Obeso                            1    9     10\n",
       "Sobrepeso                       19  129    148\n",
       "Total                          220  154    374"
      ]
     },
     "execution_count": 14,
     "metadata": {},
     "output_type": "execute_result"
    }
   ],
   "source": [
    "tabela_frequencia = pd.crosstab(df['Categoria IMC'],df['Indicador - Distúrbio do sono'],\n",
    "                                margins=True, margins_name='Total')\n",
    "tabela_frequencia"
   ]
  },
  {
   "cell_type": "code",
   "execution_count": 15,
   "metadata": {},
   "outputs": [
    {
     "data": {
      "text/html": [
       "<style type=\"text/css\">\n",
       "</style>\n",
       "<table id=\"T_f5074\">\n",
       "  <thead>\n",
       "    <tr>\n",
       "      <th class=\"index_name level0\" >Indicador - Distúrbio do sono</th>\n",
       "      <th id=\"T_f5074_level0_col0\" class=\"col_heading level0 col0\" >Não</th>\n",
       "      <th id=\"T_f5074_level0_col1\" class=\"col_heading level0 col1\" >Sim</th>\n",
       "      <th id=\"T_f5074_level0_col2\" class=\"col_heading level0 col2\" >Total</th>\n",
       "    </tr>\n",
       "    <tr>\n",
       "      <th class=\"index_name level0\" >Categoria IMC</th>\n",
       "      <th class=\"blank col0\" >&nbsp;</th>\n",
       "      <th class=\"blank col1\" >&nbsp;</th>\n",
       "      <th class=\"blank col2\" >&nbsp;</th>\n",
       "    </tr>\n",
       "  </thead>\n",
       "  <tbody>\n",
       "    <tr>\n",
       "      <th id=\"T_f5074_level0_row0\" class=\"row_heading level0 row0\" >Normal</th>\n",
       "      <td id=\"T_f5074_row0_col0\" class=\"data row0 col0\" >90.9%</td>\n",
       "      <td id=\"T_f5074_row0_col1\" class=\"data row0 col1\" >10.4%</td>\n",
       "      <td id=\"T_f5074_row0_col2\" class=\"data row0 col2\" >57.8%</td>\n",
       "    </tr>\n",
       "    <tr>\n",
       "      <th id=\"T_f5074_level0_row1\" class=\"row_heading level0 row1\" >Obeso</th>\n",
       "      <td id=\"T_f5074_row1_col0\" class=\"data row1 col0\" >0.5%</td>\n",
       "      <td id=\"T_f5074_row1_col1\" class=\"data row1 col1\" >5.8%</td>\n",
       "      <td id=\"T_f5074_row1_col2\" class=\"data row1 col2\" >2.7%</td>\n",
       "    </tr>\n",
       "    <tr>\n",
       "      <th id=\"T_f5074_level0_row2\" class=\"row_heading level0 row2\" >Sobrepeso</th>\n",
       "      <td id=\"T_f5074_row2_col0\" class=\"data row2 col0\" >8.6%</td>\n",
       "      <td id=\"T_f5074_row2_col1\" class=\"data row2 col1\" >83.8%</td>\n",
       "      <td id=\"T_f5074_row2_col2\" class=\"data row2 col2\" >39.6%</td>\n",
       "    </tr>\n",
       "  </tbody>\n",
       "</table>\n"
      ],
      "text/plain": [
       "<pandas.io.formats.style.Styler at 0x213f579e710>"
      ]
     },
     "execution_count": 15,
     "metadata": {},
     "output_type": "execute_result"
    }
   ],
   "source": [
    "tabela_frequencia_relativa = pd.crosstab(df['Categoria IMC'],df['Indicador - Distúrbio do sono'],\n",
    "                                margins=True, margins_name='Total', normalize='columns')\n",
    "#tabela_frequencia_relativa.style.format('{:.3f}')\n",
    "tabela_frequencia_relativa.style.format('{:.1%}')"
   ]
  },
  {
   "cell_type": "markdown",
   "metadata": {},
   "source": [
    "**Etapa 3:**  \n",
    "Criando a coluna de ln(Odds)"
   ]
  },
  {
   "cell_type": "code",
   "execution_count": 16,
   "metadata": {},
   "outputs": [
    {
     "data": {
      "text/html": [
       "<div>\n",
       "<style scoped>\n",
       "    .dataframe tbody tr th:only-of-type {\n",
       "        vertical-align: middle;\n",
       "    }\n",
       "\n",
       "    .dataframe tbody tr th {\n",
       "        vertical-align: top;\n",
       "    }\n",
       "\n",
       "    .dataframe thead th {\n",
       "        text-align: right;\n",
       "    }\n",
       "</style>\n",
       "<table border=\"1\" class=\"dataframe\">\n",
       "  <thead>\n",
       "    <tr style=\"text-align: right;\">\n",
       "      <th>Indicador - Distúrbio do sono</th>\n",
       "      <th>Não</th>\n",
       "      <th>Sim</th>\n",
       "      <th>Total</th>\n",
       "      <th>ln(Odds)</th>\n",
       "    </tr>\n",
       "    <tr>\n",
       "      <th>Categoria IMC</th>\n",
       "      <th></th>\n",
       "      <th></th>\n",
       "      <th></th>\n",
       "      <th></th>\n",
       "    </tr>\n",
       "  </thead>\n",
       "  <tbody>\n",
       "    <tr>\n",
       "      <th>Normal</th>\n",
       "      <td>0.91</td>\n",
       "      <td>0.10</td>\n",
       "      <td>0.58</td>\n",
       "      <td>2.17</td>\n",
       "    </tr>\n",
       "    <tr>\n",
       "      <th>Obeso</th>\n",
       "      <td>0.00</td>\n",
       "      <td>0.06</td>\n",
       "      <td>0.03</td>\n",
       "      <td>-2.55</td>\n",
       "    </tr>\n",
       "    <tr>\n",
       "      <th>Sobrepeso</th>\n",
       "      <td>0.09</td>\n",
       "      <td>0.84</td>\n",
       "      <td>0.40</td>\n",
       "      <td>-2.27</td>\n",
       "    </tr>\n",
       "  </tbody>\n",
       "</table>\n",
       "</div>"
      ],
      "text/plain": [
       "Indicador - Distúrbio do sono  Não  Sim  Total  ln(Odds)\n",
       "Categoria IMC                                           \n",
       "Normal                        0.91 0.10   0.58      2.17\n",
       "Obeso                         0.00 0.06   0.03     -2.55\n",
       "Sobrepeso                     0.09 0.84   0.40     -2.27"
      ]
     },
     "execution_count": 16,
     "metadata": {},
     "output_type": "execute_result"
    }
   ],
   "source": [
    "tabela_frequencia_relativa['ln(Odds)'] = np.log(tabela_frequencia_relativa['Não']/tabela_frequencia_relativa['Sim'])\n",
    "tabela_frequencia_relativa #.style.format('{:.1%}')                       "
   ]
  },
  {
   "cell_type": "markdown",
   "metadata": {},
   "source": [
    "**Etapa 4:**  \n",
    "Calculando IV"
   ]
  },
  {
   "cell_type": "code",
   "execution_count": 17,
   "metadata": {},
   "outputs": [
    {
     "data": {
      "text/html": [
       "<div>\n",
       "<style scoped>\n",
       "    .dataframe tbody tr th:only-of-type {\n",
       "        vertical-align: middle;\n",
       "    }\n",
       "\n",
       "    .dataframe tbody tr th {\n",
       "        vertical-align: top;\n",
       "    }\n",
       "\n",
       "    .dataframe thead th {\n",
       "        text-align: right;\n",
       "    }\n",
       "</style>\n",
       "<table border=\"1\" class=\"dataframe\">\n",
       "  <thead>\n",
       "    <tr style=\"text-align: right;\">\n",
       "      <th>Indicador - Distúrbio do sono</th>\n",
       "      <th>Não</th>\n",
       "      <th>Sim</th>\n",
       "      <th>Total</th>\n",
       "      <th>ln(Odds)</th>\n",
       "      <th>IV</th>\n",
       "    </tr>\n",
       "    <tr>\n",
       "      <th>Categoria IMC</th>\n",
       "      <th></th>\n",
       "      <th></th>\n",
       "      <th></th>\n",
       "      <th></th>\n",
       "      <th></th>\n",
       "    </tr>\n",
       "  </thead>\n",
       "  <tbody>\n",
       "    <tr>\n",
       "      <th>Normal</th>\n",
       "      <td>0.91</td>\n",
       "      <td>0.10</td>\n",
       "      <td>0.58</td>\n",
       "      <td>2.17</td>\n",
       "      <td>1.75</td>\n",
       "    </tr>\n",
       "    <tr>\n",
       "      <th>Obeso</th>\n",
       "      <td>0.00</td>\n",
       "      <td>0.06</td>\n",
       "      <td>0.03</td>\n",
       "      <td>-2.55</td>\n",
       "      <td>0.14</td>\n",
       "    </tr>\n",
       "    <tr>\n",
       "      <th>Sobrepeso</th>\n",
       "      <td>0.09</td>\n",
       "      <td>0.84</td>\n",
       "      <td>0.40</td>\n",
       "      <td>-2.27</td>\n",
       "      <td>1.71</td>\n",
       "    </tr>\n",
       "  </tbody>\n",
       "</table>\n",
       "</div>"
      ],
      "text/plain": [
       "Indicador - Distúrbio do sono  Não  Sim  Total  ln(Odds)   IV\n",
       "Categoria IMC                                                \n",
       "Normal                        0.91 0.10   0.58      2.17 1.75\n",
       "Obeso                         0.00 0.06   0.03     -2.55 0.14\n",
       "Sobrepeso                     0.09 0.84   0.40     -2.27 1.71"
      ]
     },
     "execution_count": 17,
     "metadata": {},
     "output_type": "execute_result"
    }
   ],
   "source": [
    "tabela_frequencia_relativa['IV'] = (tabela_frequencia_relativa['Não']-tabela_frequencia_relativa['Sim'])*tabela_frequencia_relativa['ln(Odds)']\n",
    "tabela_frequencia_relativa #.style.format('{:.1%}')                            "
   ]
  },
  {
   "cell_type": "code",
   "execution_count": 18,
   "metadata": {},
   "outputs": [
    {
     "data": {
      "text/plain": [
       "3.59"
      ]
     },
     "execution_count": 18,
     "metadata": {},
     "output_type": "execute_result"
    }
   ],
   "source": [
    "# IV para a variável \"Categoria IMC\"\n",
    "tabela_frequencia_relativa['IV'].sum().round(2)"
   ]
  },
  {
   "cell_type": "markdown",
   "metadata": {},
   "source": [
    "Esse IV para Categoria IMC é bastante alto - cabe consultar um especialista no assunto para entender a validade do resultado; do contrário, desconfie de um IV tão elevado...   \n",
    "Vamos verificar para outras categorias, mas para evitar repetições no código, vamos criar uma função para cálculo do IV."
   ]
  },
  {
   "cell_type": "code",
   "execution_count": 19,
   "metadata": {},
   "outputs": [],
   "source": [
    "def iv(x,y):\n",
    "    \"\"\"\n",
    "    x: Pandas Series\n",
    "    y: Pandas Series, dtype boolean\n",
    "    \"\"\"\n",
    "    df=pd.crosstab(x,y,margins=True, margins_name='Total', normalize='columns')\n",
    "    df['ln(Odds)'] = np.log(df[True]/df[False])\n",
    "    df['IV'] = (df[True]-df[False])*df['ln(Odds)']\n",
    "    return df.style.format('{:.1%}'), df['IV'].sum().round(2)"
   ]
  },
  {
   "cell_type": "markdown",
   "metadata": {},
   "source": [
    "Aplicando a função de cálculo do IV para a variável \"Gênero\""
   ]
  },
  {
   "cell_type": "code",
   "execution_count": 20,
   "metadata": {},
   "outputs": [
    {
     "data": {
      "text/html": [
       "<style type=\"text/css\">\n",
       "</style>\n",
       "<table id=\"T_a33ab\">\n",
       "  <thead>\n",
       "    <tr>\n",
       "      <th class=\"index_name level0\" >Indicador - Distúrbio do sono</th>\n",
       "      <th id=\"T_a33ab_level0_col0\" class=\"col_heading level0 col0\" >False</th>\n",
       "      <th id=\"T_a33ab_level0_col1\" class=\"col_heading level0 col1\" >True</th>\n",
       "      <th id=\"T_a33ab_level0_col2\" class=\"col_heading level0 col2\" >Total</th>\n",
       "      <th id=\"T_a33ab_level0_col3\" class=\"col_heading level0 col3\" >ln(Odds)</th>\n",
       "      <th id=\"T_a33ab_level0_col4\" class=\"col_heading level0 col4\" >IV</th>\n",
       "    </tr>\n",
       "    <tr>\n",
       "      <th class=\"index_name level0\" >Gênero</th>\n",
       "      <th class=\"blank col0\" >&nbsp;</th>\n",
       "      <th class=\"blank col1\" >&nbsp;</th>\n",
       "      <th class=\"blank col2\" >&nbsp;</th>\n",
       "      <th class=\"blank col3\" >&nbsp;</th>\n",
       "      <th class=\"blank col4\" >&nbsp;</th>\n",
       "    </tr>\n",
       "  </thead>\n",
       "  <tbody>\n",
       "    <tr>\n",
       "      <th id=\"T_a33ab_level0_row0\" class=\"row_heading level0 row0\" >F</th>\n",
       "      <td id=\"T_a33ab_row0_col0\" class=\"data row0 col0\" >37.4%</td>\n",
       "      <td id=\"T_a33ab_row0_col1\" class=\"data row0 col1\" >66.9%</td>\n",
       "      <td id=\"T_a33ab_row0_col2\" class=\"data row0 col2\" >49.6%</td>\n",
       "      <td id=\"T_a33ab_row0_col3\" class=\"data row0 col3\" >58.0%</td>\n",
       "      <td id=\"T_a33ab_row0_col4\" class=\"data row0 col4\" >17.1%</td>\n",
       "    </tr>\n",
       "    <tr>\n",
       "      <th id=\"T_a33ab_level0_row1\" class=\"row_heading level0 row1\" >M</th>\n",
       "      <td id=\"T_a33ab_row1_col0\" class=\"data row1 col0\" >62.6%</td>\n",
       "      <td id=\"T_a33ab_row1_col1\" class=\"data row1 col1\" >33.1%</td>\n",
       "      <td id=\"T_a33ab_row1_col2\" class=\"data row1 col2\" >50.4%</td>\n",
       "      <td id=\"T_a33ab_row1_col3\" class=\"data row1 col3\" >-63.6%</td>\n",
       "      <td id=\"T_a33ab_row1_col4\" class=\"data row1 col4\" >18.7%</td>\n",
       "    </tr>\n",
       "  </tbody>\n",
       "</table>\n"
      ],
      "text/plain": [
       "<pandas.io.formats.style.Styler at 0x213f570c690>"
      ]
     },
     "execution_count": 20,
     "metadata": {},
     "output_type": "execute_result"
    }
   ],
   "source": [
    "#criando a variável booleana para \"Distúrbio do sono\"\n",
    "df['Indicador - Distúrbio do sono'] = df['Distúrbio do sono']!='-'\n",
    "# avaliando a variável \"Gênero\"\n",
    "df_iv_genero,iv_genero = iv(df['Gênero'],df['Indicador - Distúrbio do sono'])\n",
    "df_iv_genero"
   ]
  },
  {
   "cell_type": "code",
   "execution_count": 21,
   "metadata": {},
   "outputs": [
    {
     "data": {
      "text/plain": [
       "0.36"
      ]
     },
     "execution_count": 21,
     "metadata": {},
     "output_type": "execute_result"
    }
   ],
   "source": [
    "iv_genero"
   ]
  },
  {
   "cell_type": "markdown",
   "metadata": {},
   "source": [
    "### Gráficos"
   ]
  },
  {
   "cell_type": "markdown",
   "metadata": {},
   "source": [
    "#### 2 variáveis quantitativas - gráfico de dispersão"
   ]
  },
  {
   "cell_type": "markdown",
   "metadata": {},
   "source": [
    "Exemplo Slide - com Matplotlib e Pyplot"
   ]
  },
  {
   "cell_type": "code",
   "execution_count": 28,
   "metadata": {},
   "outputs": [
    {
     "data": {
      "image/png": "[encoded data removed]",
      "text/plain": [
       "<Figure size 640x480 with 1 Axes>"
      ]
     },
     "metadata": {},
     "output_type": "display_data"
    }
   ],
   "source": [
    "import matplotlib.pyplot as plt\n",
    "import numpy as np\n",
    "\n",
    "# Dados de exemplo\n",
    "np.random.seed(3)\n",
    "x = 4 + np.random.normal(0, 2, 100)\n",
    "y =0.4 * x + np.random.randn(100) * 0.4\n",
    "\n",
    "# Criar o gráfico de dispersão\n",
    "plt.scatter(x, y)\n",
    "\n",
    "# Personalizar o gráfico\n",
    "plt.title('Gráfico de Dispersão')\n",
    "plt.xlabel('Eixo X')\n",
    "plt.ylabel('Eixo Y')\n",
    "\n",
    "# Mostrar o gráfico\n",
    "plt.show()"
   ]
  },
  {
   "cell_type": "markdown",
   "metadata": {},
   "source": [
    "Exemplo Slide - com Matplotlib - outra forma"
   ]
  },
  {
   "cell_type": "code",
   "execution_count": 29,
   "metadata": {},
   "outputs": [
    {
     "data": {
      "image/png": "[encoded data removed]",
      "text/plain": [
       "<Figure size 640x480 with 1 Axes>"
      ]
     },
     "metadata": {},
     "output_type": "display_data"
    }
   ],
   "source": [
    "import matplotlib.pyplot as plt\n",
    "import numpy as np\n",
    "\n",
    "# Dados de exemplo\n",
    "np.random.seed(3)\n",
    "x = 4 + np.random.normal(0, 2, 100)\n",
    "y =0.4 * x + np.random.randn(100) * 0.4\n",
    "\n",
    "# Criar figuras e eixos explicitamente\n",
    "fig, ax = plt.subplots()\n",
    "\n",
    "# Plotar um gráfico de dispersão\n",
    "ax.scatter(x, y)\n",
    "\n",
    "# Personalizar o gráfico\n",
    "ax.set_title('Gráfico de Dispersão')\n",
    "ax.set_xlabel('Eixo X')\n",
    "ax.set_ylabel('Eixo Y')\n",
    "\n",
    "# Mostrar o gráfico\n",
    "plt.show()"
   ]
  },
  {
   "cell_type": "markdown",
   "metadata": {},
   "source": [
    "Exemplo - com dados do caso de saúde dos funcionários da empresa"
   ]
  },
  {
   "cell_type": "code",
   "execution_count": 30,
   "metadata": {},
   "outputs": [
    {
     "data": {
      "image/png": "[encoded data removed]",
      "text/plain": [
       "<Figure size 640x480 with 1 Axes>"
      ]
     },
     "metadata": {},
     "output_type": "display_data"
    }
   ],
   "source": [
    "# Criar o gráfico de dispersão com matplotlib e pyplot\n",
    "plt.scatter(df['Idade'],df['Nível de Atividade Física'])\n",
    "\n",
    "# Personalizar o gráfico\n",
    "plt.title('Gráfico de Dispersão')\n",
    "plt.xlabel('Idade')\n",
    "plt.ylabel('Nível de Atividade Física')\n",
    "\n",
    "# Mostrar o gráfico\n",
    "plt.show()"
   ]
  },
  {
   "cell_type": "markdown",
   "metadata": {},
   "source": [
    "**Observação**:  \n",
    "O aspecto do gráfico de dispersão acima reflete a baixa correlação linear (0,18) verificada entre as variáveis \"Idade\" e \"Nível de Atividade Física\""
   ]
  },
  {
   "cell_type": "code",
   "execution_count": 31,
   "metadata": {},
   "outputs": [
    {
     "data": {
      "image/png": "[encoded data removed]",
      "text/plain": [
       "<Figure size 640x480 with 1 Axes>"
      ]
     },
     "metadata": {},
     "output_type": "display_data"
    }
   ],
   "source": [
    "# Criar o gráfico de dispersão com matplotlib e pyplot\n",
    "plt.scatter(df['Duração do sono'],df['Qualidade do sono'])\n",
    "\n",
    "# Personalizar o gráfico\n",
    "plt.title('Gráfico de Dispersão')\n",
    "plt.xlabel('Duração do sono (h)')\n",
    "plt.ylabel('Qualidade do sono')\n",
    "\n",
    "# Mostrar o gráfico\n",
    "plt.show()"
   ]
  },
  {
   "cell_type": "markdown",
   "metadata": {},
   "source": [
    "**Observação**:  \n",
    "O aspecto do gráfico de dispersão acima reflete a correlação linear elevada (0,88) verificada entre as variáveis \"Duração do sono\" e \"Qualidade do sono\""
   ]
  },
  {
   "cell_type": "code",
   "execution_count": 32,
   "metadata": {},
   "outputs": [
    {
     "data": {
      "image/png": "[encoded data removed]",
      "text/plain": [
       "<Figure size 640x480 with 1 Axes>"
      ]
     },
     "metadata": {},
     "output_type": "display_data"
    }
   ],
   "source": [
    "# Criar o gráfico de dispersão com seaborn\n",
    "import seaborn as sns\n",
    "\n",
    "sns.scatterplot(x=df['Duração do sono'], y=df['Qualidade do sono'], data=df)\n",
    "\n",
    "# Personalizar o gráfico\n",
    "plt.title('Gráfico de Dispersão')\n",
    "plt.xlabel('Duração do sono (h)')\n",
    "plt.ylabel('Qualidade do sono')\n",
    "\n",
    "# Mostrar o gráfico\n",
    "plt.show()"
   ]
  },
  {
   "cell_type": "markdown",
   "metadata": {},
   "source": [
    "#### 1 variável quantitativa e 1 qualitativa - boxplot"
   ]
  },
  {
   "cell_type": "code",
   "execution_count": 33,
   "metadata": {},
   "outputs": [
    {
     "data": {
      "image/png": "[encoded data removed]",
      "text/plain": [
       "<Figure size 640x480 with 1 Axes>"
      ]
     },
     "metadata": {},
     "output_type": "display_data"
    }
   ],
   "source": [
    "# Criar o boxplot com seaborn\n",
    "sns.boxplot(x=df['Qualidade do sono'],y=df['Duração do sono'],palette='Blues')\n",
    "           \n",
    "# Personalizar o gráfico\n",
    "plt.title('Boxplot')\n",
    "plt.xlabel('Qualidade do sono')\n",
    "plt.ylabel('Duração do sono (h)')\n",
    "\n",
    "# Mostrar o gráfico\n",
    "plt.show()"
   ]
  },
  {
   "cell_type": "code",
   "execution_count": null,
   "metadata": {},
   "outputs": [],
   "source": []
  }
 ],
 "metadata": {
  "kernelspec": {
   "display_name": "Python 3",
   "language": "python",
   "name": "python3"
  },
  "language_info": {
   "codemirror_mode": {
    "name": "ipython",
    "version": 3
   },
   "file_extension": ".py",
   "mimetype": "text/x-python",
   "name": "python",
   "nbconvert_exporter": "python",
   "pygments_lexer": "ipython3",
   "version": "3.7.6"
  }
 },
 "nbformat": 4,
 "nbformat_minor": 4
}
