{
 "cells": [
  {
   "cell_type": "markdown",
   "metadata": {},
   "source": [
    "<img src=\"https://s3-sa-east-1.amazonaws.com/preditiva.ai/diversos/preditiva_assinatura.jpg\">\n",
    "\n",
    "# Hands on: Validação de Modelos"
   ]
  },
  {
   "cell_type": "markdown",
   "metadata": {},
   "source": [
    "Uma empresa do ramo alimentício tem mais de 20 mil colaboradores em todo o Brasil. Com o passar dos anos a empresa percebeu um aumento no custo do plano de saúde com seus colaboradores. Como forma de entender esse comportamento, a gerência de Benefícios e Bem Estar da Diretoria de Pessoas conduziu uma pesquisa interna com um grupo de 1.338 colaboradores sorteados aleatoriamente ao longo de um ano.\n",
    "\n",
    "A gerência acredita que fatores como fumo e obesidade podem estar relacionados com o maior uso do plano de saúde, o que acaba elevando os custos. Portanto, os colaboradores da pesquisa responderam características pessoais como o Índice de Massa Corpórea (IMC), Qte de Filhos e se fazem uso de cigarros. Segue abaixo o dicionário dos dados:"
   ]
  },
  {
   "cell_type": "markdown",
   "metadata": {},
   "source": [
    "#### Dicionário de dados\n",
    "\n",
    "| Variável | Descrição |\n",
    "| ------ | ------ |\n",
    "| DtRef | Data de Referência quando a pesquisa com o colaborador foi realizada |\n",
    "| Idade | Idade do colaborador |\n",
    "| Sexo | Sexo do colaborador |\n",
    "| IMC | Índice de Massa Corporal do colaborador |\n",
    "| Qte_filhos | Qte de filhos que o colaborador tem |\n",
    "| Fumante | Flag se o colaborador é fumante ou não fumante |\n",
    "| Regiao | Região do Brasil onde o colaborador mora |\n",
    "| Custo_Saude | Custo de Plano de Saúde que esse colaborador trouxe para a empresa 3 meses depois da Data de Referência|"
   ]
  },
  {
   "cell_type": "markdown",
   "metadata": {},
   "source": [
    "Com base nessas informações, pede-se:\n",
    "\n",
    "- **Desenvolver um modelo que estime os custos de saúde dos próximos 3 meses dos colaboradores**\n",
    "- **Validar o modelo com técnicas Out of Sample, Out of Time e Validação Cruzada**\n",
    "- **Qual sua conclusão a respeito do melhor tipo de validação para o problema? Qual sua estimativa para a medida de performance esperada do modelo quando for usado para prever o custo do plano de saúde?**\n",
    "\n",
    "\n",
    "\n",
    "\n",
    "\n"
   ]
  },
  {
   "cell_type": "code",
   "execution_count": null,
   "metadata": {},
   "outputs": [],
   "source": []
  },
  {
   "cell_type": "markdown",
   "metadata": {},
   "source": [
    "#### Importação das bibliotecas"
   ]
  },
  {
   "cell_type": "code",
   "execution_count": 38,
   "metadata": {},
   "outputs": [],
   "source": [
    "import pandas as pd\n",
    "import numpy as np\n",
    "import matplotlib.pyplot as plt\n",
    "import seaborn as sns\n",
    "\n",
    "#modelo a ser treinado\n",
    "from sklearn import linear_model\n",
    "\n",
    "#métrica de performance\n",
    "from sklearn.metrics import mean_squared_error, r2_score\n",
    "\n",
    "#particionamento\n",
    "from sklearn.model_selection import train_test_split\n",
    "from sklearn.model_selection import KFold\n",
    "\n",
    "import warnings\n",
    "warnings.filterwarnings(\"ignore\")"
   ]
  },
  {
   "cell_type": "code",
   "execution_count": null,
   "metadata": {},
   "outputs": [],
   "source": []
  },
  {
   "cell_type": "markdown",
   "metadata": {},
   "source": [
    "#### Importação da base de dados"
   ]
  },
  {
   "cell_type": "code",
   "execution_count": 5,
   "metadata": {},
   "outputs": [
    {
     "data": {
      "text/html": [
       "<div>\n",
       "<style scoped>\n",
       "    .dataframe tbody tr th:only-of-type {\n",
       "        vertical-align: middle;\n",
       "    }\n",
       "\n",
       "    .dataframe tbody tr th {\n",
       "        vertical-align: top;\n",
       "    }\n",
       "\n",
       "    .dataframe thead th {\n",
       "        text-align: right;\n",
       "    }\n",
       "</style>\n",
       "<table border=\"1\" class=\"dataframe\">\n",
       "  <thead>\n",
       "    <tr style=\"text-align: right;\">\n",
       "      <th></th>\n",
       "      <th>DtRef</th>\n",
       "      <th>Idade</th>\n",
       "      <th>Sexo</th>\n",
       "      <th>IMC</th>\n",
       "      <th>Qte_Filhos</th>\n",
       "      <th>Fumante</th>\n",
       "      <th>Regiao</th>\n",
       "      <th>Custo_Saude</th>\n",
       "    </tr>\n",
       "  </thead>\n",
       "  <tbody>\n",
       "    <tr>\n",
       "      <th>0</th>\n",
       "      <td>202101</td>\n",
       "      <td>25</td>\n",
       "      <td>Masculino</td>\n",
       "      <td>26.220</td>\n",
       "      <td>0</td>\n",
       "      <td>Não</td>\n",
       "      <td>Nordeste</td>\n",
       "      <td>272.132080</td>\n",
       "    </tr>\n",
       "    <tr>\n",
       "      <th>1</th>\n",
       "      <td>202101</td>\n",
       "      <td>23</td>\n",
       "      <td>Masculino</td>\n",
       "      <td>17.385</td>\n",
       "      <td>1</td>\n",
       "      <td>Não</td>\n",
       "      <td>Norte</td>\n",
       "      <td>277.519215</td>\n",
       "    </tr>\n",
       "    <tr>\n",
       "      <th>2</th>\n",
       "      <td>202101</td>\n",
       "      <td>41</td>\n",
       "      <td>Masculino</td>\n",
       "      <td>21.780</td>\n",
       "      <td>1</td>\n",
       "      <td>Não</td>\n",
       "      <td>Sudeste</td>\n",
       "      <td>627.247720</td>\n",
       "    </tr>\n",
       "    <tr>\n",
       "      <th>3</th>\n",
       "      <td>202101</td>\n",
       "      <td>38</td>\n",
       "      <td>Masculino</td>\n",
       "      <td>37.050</td>\n",
       "      <td>1</td>\n",
       "      <td>Não</td>\n",
       "      <td>Nordeste</td>\n",
       "      <td>607.967150</td>\n",
       "    </tr>\n",
       "    <tr>\n",
       "      <th>4</th>\n",
       "      <td>202101</td>\n",
       "      <td>60</td>\n",
       "      <td>Feminino</td>\n",
       "      <td>24.530</td>\n",
       "      <td>0</td>\n",
       "      <td>Não</td>\n",
       "      <td>Sudeste</td>\n",
       "      <td>1262.989670</td>\n",
       "    </tr>\n",
       "    <tr>\n",
       "      <th>...</th>\n",
       "      <td>...</td>\n",
       "      <td>...</td>\n",
       "      <td>...</td>\n",
       "      <td>...</td>\n",
       "      <td>...</td>\n",
       "      <td>...</td>\n",
       "      <td>...</td>\n",
       "      <td>...</td>\n",
       "    </tr>\n",
       "    <tr>\n",
       "      <th>1333</th>\n",
       "      <td>202112</td>\n",
       "      <td>24</td>\n",
       "      <td>Masculino</td>\n",
       "      <td>31.065</td>\n",
       "      <td>0</td>\n",
       "      <td>Sim</td>\n",
       "      <td>Nordeste</td>\n",
       "      <td>3425.405335</td>\n",
       "    </tr>\n",
       "    <tr>\n",
       "      <th>1334</th>\n",
       "      <td>202112</td>\n",
       "      <td>43</td>\n",
       "      <td>Masculino</td>\n",
       "      <td>25.520</td>\n",
       "      <td>5</td>\n",
       "      <td>Não</td>\n",
       "      <td>Sudeste</td>\n",
       "      <td>1447.833015</td>\n",
       "    </tr>\n",
       "    <tr>\n",
       "      <th>1335</th>\n",
       "      <td>202112</td>\n",
       "      <td>19</td>\n",
       "      <td>Masculino</td>\n",
       "      <td>34.900</td>\n",
       "      <td>0</td>\n",
       "      <td>Sim</td>\n",
       "      <td>Centro</td>\n",
       "      <td>3482.865400</td>\n",
       "    </tr>\n",
       "    <tr>\n",
       "      <th>1336</th>\n",
       "      <td>202112</td>\n",
       "      <td>45</td>\n",
       "      <td>Masculino</td>\n",
       "      <td>30.360</td>\n",
       "      <td>0</td>\n",
       "      <td>Sim</td>\n",
       "      <td>Sudeste</td>\n",
       "      <td>6259.287309</td>\n",
       "    </tr>\n",
       "    <tr>\n",
       "      <th>1337</th>\n",
       "      <td>202112</td>\n",
       "      <td>42</td>\n",
       "      <td>Feminino</td>\n",
       "      <td>40.370</td>\n",
       "      <td>2</td>\n",
       "      <td>Sim</td>\n",
       "      <td>Sudeste</td>\n",
       "      <td>4389.637630</td>\n",
       "    </tr>\n",
       "  </tbody>\n",
       "</table>\n",
       "<p>1338 rows × 8 columns</p>\n",
       "</div>"
      ],
      "text/plain": [
       "       DtRef  Idade       Sexo     IMC  Qte_Filhos Fumante    Regiao  \\\n",
       "0     202101     25  Masculino  26.220           0     Não  Nordeste   \n",
       "1     202101     23  Masculino  17.385           1     Não     Norte   \n",
       "2     202101     41  Masculino  21.780           1     Não   Sudeste   \n",
       "3     202101     38  Masculino  37.050           1     Não  Nordeste   \n",
       "4     202101     60   Feminino  24.530           0     Não   Sudeste   \n",
       "...      ...    ...        ...     ...         ...     ...       ...   \n",
       "1333  202112     24  Masculino  31.065           0     Sim  Nordeste   \n",
       "1334  202112     43  Masculino  25.520           5     Não   Sudeste   \n",
       "1335  202112     19  Masculino  34.900           0     Sim    Centro   \n",
       "1336  202112     45  Masculino  30.360           0     Sim   Sudeste   \n",
       "1337  202112     42   Feminino  40.370           2     Sim   Sudeste   \n",
       "\n",
       "      Custo_Saude  \n",
       "0      272.132080  \n",
       "1      277.519215  \n",
       "2      627.247720  \n",
       "3      607.967150  \n",
       "4     1262.989670  \n",
       "...           ...  \n",
       "1333  3425.405335  \n",
       "1334  1447.833015  \n",
       "1335  3482.865400  \n",
       "1336  6259.287309  \n",
       "1337  4389.637630  \n",
       "\n",
       "[1338 rows x 8 columns]"
      ]
     },
     "execution_count": 5,
     "metadata": {},
     "output_type": "execute_result"
    }
   ],
   "source": [
    "df = pd.read_excel('base_custos_saude.xlsx')\n",
    "df"
   ]
  },
  {
   "cell_type": "markdown",
   "metadata": {},
   "source": [
    "#### 1) Análise Exploratória inicial"
   ]
  },
  {
   "cell_type": "code",
   "execution_count": 6,
   "metadata": {},
   "outputs": [
    {
     "data": {
      "text/plain": [
       "DtRef            int64\n",
       "Idade            int64\n",
       "Sexo            object\n",
       "IMC            float64\n",
       "Qte_Filhos       int64\n",
       "Fumante         object\n",
       "Regiao          object\n",
       "Custo_Saude    float64\n",
       "dtype: object"
      ]
     },
     "execution_count": 6,
     "metadata": {},
     "output_type": "execute_result"
    }
   ],
   "source": [
    "df.dtypes"
   ]
  },
  {
   "cell_type": "code",
   "execution_count": 7,
   "metadata": {},
   "outputs": [
    {
     "name": "stdout",
     "output_type": "stream",
     "text": [
      "<class 'pandas.core.frame.DataFrame'>\n",
      "RangeIndex: 1338 entries, 0 to 1337\n",
      "Data columns (total 8 columns):\n",
      " #   Column       Non-Null Count  Dtype  \n",
      "---  ------       --------------  -----  \n",
      " 0   DtRef        1338 non-null   int64  \n",
      " 1   Idade        1338 non-null   int64  \n",
      " 2   Sexo         1338 non-null   object \n",
      " 3   IMC          1338 non-null   float64\n",
      " 4   Qte_Filhos   1338 non-null   int64  \n",
      " 5   Fumante      1338 non-null   object \n",
      " 6   Regiao       1338 non-null   object \n",
      " 7   Custo_Saude  1338 non-null   float64\n",
      "dtypes: float64(2), int64(3), object(3)\n",
      "memory usage: 83.8+ KB\n"
     ]
    }
   ],
   "source": [
    "df.info()"
   ]
  },
  {
   "cell_type": "code",
   "execution_count": 8,
   "metadata": {},
   "outputs": [
    {
     "data": {
      "text/html": [
       "<div>\n",
       "<style scoped>\n",
       "    .dataframe tbody tr th:only-of-type {\n",
       "        vertical-align: middle;\n",
       "    }\n",
       "\n",
       "    .dataframe tbody tr th {\n",
       "        vertical-align: top;\n",
       "    }\n",
       "\n",
       "    .dataframe thead th {\n",
       "        text-align: right;\n",
       "    }\n",
       "</style>\n",
       "<table border=\"1\" class=\"dataframe\">\n",
       "  <thead>\n",
       "    <tr style=\"text-align: right;\">\n",
       "      <th></th>\n",
       "      <th>DtRef</th>\n",
       "      <th>Idade</th>\n",
       "      <th>IMC</th>\n",
       "      <th>Qte_Filhos</th>\n",
       "      <th>Custo_Saude</th>\n",
       "    </tr>\n",
       "  </thead>\n",
       "  <tbody>\n",
       "    <tr>\n",
       "      <th>count</th>\n",
       "      <td>1338.000000</td>\n",
       "      <td>1338.000000</td>\n",
       "      <td>1338.000000</td>\n",
       "      <td>1338.000000</td>\n",
       "      <td>1338.000000</td>\n",
       "    </tr>\n",
       "    <tr>\n",
       "      <th>mean</th>\n",
       "      <td>202106.503737</td>\n",
       "      <td>39.207025</td>\n",
       "      <td>30.663397</td>\n",
       "      <td>1.094918</td>\n",
       "      <td>1327.042227</td>\n",
       "    </tr>\n",
       "    <tr>\n",
       "      <th>std</th>\n",
       "      <td>3.428562</td>\n",
       "      <td>14.049960</td>\n",
       "      <td>6.098187</td>\n",
       "      <td>1.205493</td>\n",
       "      <td>1211.001124</td>\n",
       "    </tr>\n",
       "    <tr>\n",
       "      <th>min</th>\n",
       "      <td>202101.000000</td>\n",
       "      <td>18.000000</td>\n",
       "      <td>15.960000</td>\n",
       "      <td>0.000000</td>\n",
       "      <td>112.187390</td>\n",
       "    </tr>\n",
       "    <tr>\n",
       "      <th>25%</th>\n",
       "      <td>202104.000000</td>\n",
       "      <td>27.000000</td>\n",
       "      <td>26.296250</td>\n",
       "      <td>0.000000</td>\n",
       "      <td>474.028715</td>\n",
       "    </tr>\n",
       "    <tr>\n",
       "      <th>50%</th>\n",
       "      <td>202106.000000</td>\n",
       "      <td>39.000000</td>\n",
       "      <td>30.400000</td>\n",
       "      <td>1.000000</td>\n",
       "      <td>938.203300</td>\n",
       "    </tr>\n",
       "    <tr>\n",
       "      <th>75%</th>\n",
       "      <td>202109.000000</td>\n",
       "      <td>51.000000</td>\n",
       "      <td>34.693750</td>\n",
       "      <td>2.000000</td>\n",
       "      <td>1663.991252</td>\n",
       "    </tr>\n",
       "    <tr>\n",
       "      <th>max</th>\n",
       "      <td>202112.000000</td>\n",
       "      <td>64.000000</td>\n",
       "      <td>53.130000</td>\n",
       "      <td>5.000000</td>\n",
       "      <td>6377.042801</td>\n",
       "    </tr>\n",
       "  </tbody>\n",
       "</table>\n",
       "</div>"
      ],
      "text/plain": [
       "               DtRef        Idade          IMC   Qte_Filhos  Custo_Saude\n",
       "count    1338.000000  1338.000000  1338.000000  1338.000000  1338.000000\n",
       "mean   202106.503737    39.207025    30.663397     1.094918  1327.042227\n",
       "std         3.428562    14.049960     6.098187     1.205493  1211.001124\n",
       "min    202101.000000    18.000000    15.960000     0.000000   112.187390\n",
       "25%    202104.000000    27.000000    26.296250     0.000000   474.028715\n",
       "50%    202106.000000    39.000000    30.400000     1.000000   938.203300\n",
       "75%    202109.000000    51.000000    34.693750     2.000000  1663.991252\n",
       "max    202112.000000    64.000000    53.130000     5.000000  6377.042801"
      ]
     },
     "execution_count": 8,
     "metadata": {},
     "output_type": "execute_result"
    }
   ],
   "source": [
    "df.describe()"
   ]
  },
  {
   "cell_type": "code",
   "execution_count": 13,
   "metadata": {},
   "outputs": [
    {
     "data": {
      "text/plain": [
       "202101    105\n",
       "202102    112\n",
       "202103    107\n",
       "202104    122\n",
       "202105    114\n",
       "202106    117\n",
       "202107    101\n",
       "202108    115\n",
       "202109    119\n",
       "202110    102\n",
       "202111    114\n",
       "202112    110\n",
       "Name: DtRef, dtype: int64"
      ]
     },
     "execution_count": 13,
     "metadata": {},
     "output_type": "execute_result"
    }
   ],
   "source": [
    "df['DtRef'].value_counts().sort_index()"
   ]
  },
  {
   "cell_type": "code",
   "execution_count": null,
   "metadata": {},
   "outputs": [],
   "source": [
    "df['DtRef'].value_counts()"
   ]
  },
  {
   "cell_type": "markdown",
   "metadata": {},
   "source": [
    "#### 2) Análise de Correlação"
   ]
  },
  {
   "cell_type": "code",
   "execution_count": 21,
   "metadata": {},
   "outputs": [
    {
     "data": {
      "image/png": "[encoded data removed]",
      "text/plain": [
       "<Figure size 576x432 with 2 Axes>"
      ]
     },
     "metadata": {
      "needs_background": "light"
     },
     "output_type": "display_data"
    }
   ],
   "source": [
    "plt.figure(figsize=(8,6)) #ajusta o tamanho da figura\n",
    "sns.heatmap(df.drop('DtRef',axis = 1).corr(), cmap='RdBu', annot=True); #troca a cor e coloca o valor da correlação dentro da matriz"
   ]
  },
  {
   "cell_type": "code",
   "execution_count": 24,
   "metadata": {},
   "outputs": [
    {
     "data": {
      "text/plain": [
       "Text(0.5, 1.0, 'Qte_Filhos x Custos')"
      ]
     },
     "execution_count": 24,
     "metadata": {},
     "output_type": "execute_result"
    },
    {
     "data": {
      "image/png": "[encoded data removed]",
      "text/plain": [
       "<Figure size 1080x360 with 3 Axes>"
      ]
     },
     "metadata": {
      "needs_background": "light"
     },
     "output_type": "display_data"
    }
   ],
   "source": [
    "fig, ((ax1,ax2,ax3)) = plt.subplots(1,3,sharey=True,figsize=(15,5))\n",
    "ax1.scatter(df['Idade'],df['Custo_Saude']);\n",
    "ax1.set_title('Idade x Custos')\n",
    "\n",
    "ax2.scatter(df['IMC'],df['Custo_Saude']);\n",
    "ax2.set_title('IMC x Custos')\n",
    "\n",
    "ax3.scatter(df['Qte_Filhos'],df['Custo_Saude']);\n",
    "ax3.set_title('Qte_Filhos x Custos')"
   ]
  },
  {
   "cell_type": "markdown",
   "metadata": {},
   "source": [
    "Custo de Saúde tem pouca correlação com as variáveis numéricas IMC e Qte_Filhos. Talvez as variáveis qualitativas podem ter mais influência nos Custos de Saúde. Veremos ao rodar o modelo. A variável Idade sugere uma correlação. **Fora que podem existir grupos distintos de maior custos devido ao formato da Dispersão.**"
   ]
  },
  {
   "cell_type": "code",
   "execution_count": 32,
   "metadata": {},
   "outputs": [
    {
     "data": {
      "image/png": "[encoded data removed]",
      "text/plain": [
       "<Figure size 432x288 with 1 Axes>"
      ]
     },
     "metadata": {
      "needs_background": "light"
     },
     "output_type": "display_data"
    }
   ],
   "source": [
    "sns.scatterplot(df['Idade'],df['Custo_Saude'],hue = df['Regiao'] );"
   ]
  },
  {
   "cell_type": "code",
   "execution_count": 33,
   "metadata": {},
   "outputs": [
    {
     "data": {
      "image/png": "[encoded data removed]",
      "text/plain": [
       "<Figure size 432x288 with 1 Axes>"
      ]
     },
     "metadata": {
      "needs_background": "light"
     },
     "output_type": "display_data"
    }
   ],
   "source": [
    "sns.scatterplot(df['Idade'],df['Custo_Saude'],hue = df['Sexo'] );"
   ]
  },
  {
   "cell_type": "code",
   "execution_count": 30,
   "metadata": {},
   "outputs": [
    {
     "data": {
      "image/png": "[encoded data removed]",
      "text/plain": [
       "<Figure size 432x288 with 1 Axes>"
      ]
     },
     "metadata": {
      "needs_background": "light"
     },
     "output_type": "display_data"
    }
   ],
   "source": [
    "sns.scatterplot(df['Idade'],df['Custo_Saude'],hue = df['Fumante'] );"
   ]
  },
  {
   "cell_type": "markdown",
   "metadata": {},
   "source": [
    "Parece que encontramos uma relação importante. **Fumantes tem um custo de plano de saúde muito superior em relação a quem não fuma.**"
   ]
  },
  {
   "cell_type": "markdown",
   "metadata": {},
   "source": [
    "#### 3) Desenvolvimento do modelo"
   ]
  },
  {
   "cell_type": "code",
   "execution_count": 35,
   "metadata": {},
   "outputs": [
    {
     "data": {
      "text/plain": [
       "Index(['DtRef', 'Idade', 'Sexo', 'IMC', 'Qte_Filhos', 'Fumante', 'Regiao',\n",
       "       'Custo_Saude'],\n",
       "      dtype='object')"
      ]
     },
     "execution_count": 35,
     "metadata": {},
     "output_type": "execute_result"
    }
   ],
   "source": [
    "df.columns"
   ]
  },
  {
   "cell_type": "code",
   "execution_count": 46,
   "metadata": {},
   "outputs": [],
   "source": [
    "x = df[['Idade', 'Sexo', 'IMC', 'Qte_Filhos', 'Fumante', 'Regiao']]\n",
    "y = df['Custo_Saude']"
   ]
  },
  {
   "cell_type": "code",
   "execution_count": 47,
   "metadata": {},
   "outputs": [],
   "source": [
    "x = pd.get_dummies(x,drop_first=True) # Como o modelo de Regressão Linear não pode ter todas as dummies, esse parâmetro remove uma delas"
   ]
  },
  {
   "cell_type": "markdown",
   "metadata": {},
   "source": [
    "##### 3.1) Validação Out of Sample"
   ]
  },
  {
   "cell_type": "code",
   "execution_count": 48,
   "metadata": {},
   "outputs": [],
   "source": [
    "# Particiona a base em 70% para Treino e 30% para Teste\n",
    "X_train, X_test, y_train, y_test = train_test_split(x, y, \n",
    "                                                    test_size=0.30,\n",
    "                                                    random_state=50)"
   ]
  },
  {
   "cell_type": "code",
   "execution_count": 49,
   "metadata": {},
   "outputs": [
    {
     "data": {
      "text/plain": [
       "LinearRegression()"
      ]
     },
     "execution_count": 49,
     "metadata": {},
     "output_type": "execute_result"
    }
   ],
   "source": [
    "modelo = linear_model.LinearRegression(fit_intercept=True)\n",
    "modelo.fit(X_train,y_train)"
   ]
  },
  {
   "cell_type": "code",
   "execution_count": 65,
   "metadata": {},
   "outputs": [
    {
     "data": {
      "text/html": [
       "<div>\n",
       "<style scoped>\n",
       "    .dataframe tbody tr th:only-of-type {\n",
       "        vertical-align: middle;\n",
       "    }\n",
       "\n",
       "    .dataframe tbody tr th {\n",
       "        vertical-align: top;\n",
       "    }\n",
       "\n",
       "    .dataframe thead th {\n",
       "        text-align: right;\n",
       "    }\n",
       "</style>\n",
       "<table border=\"1\" class=\"dataframe\">\n",
       "  <thead>\n",
       "    <tr style=\"text-align: right;\">\n",
       "      <th></th>\n",
       "      <th>Variáveis</th>\n",
       "      <th>Betas</th>\n",
       "    </tr>\n",
       "  </thead>\n",
       "  <tbody>\n",
       "    <tr>\n",
       "      <th>0</th>\n",
       "      <td>Idade</td>\n",
       "      <td>27.249663</td>\n",
       "    </tr>\n",
       "    <tr>\n",
       "      <th>1</th>\n",
       "      <td>IMC</td>\n",
       "      <td>30.491901</td>\n",
       "    </tr>\n",
       "    <tr>\n",
       "      <th>2</th>\n",
       "      <td>Qte_Filhos</td>\n",
       "      <td>52.617739</td>\n",
       "    </tr>\n",
       "    <tr>\n",
       "      <th>3</th>\n",
       "      <td>Sexo_Masculino</td>\n",
       "      <td>25.683691</td>\n",
       "    </tr>\n",
       "    <tr>\n",
       "      <th>4</th>\n",
       "      <td>Fumante_Sim</td>\n",
       "      <td>2422.521255</td>\n",
       "    </tr>\n",
       "    <tr>\n",
       "      <th>5</th>\n",
       "      <td>Regiao_Nordeste</td>\n",
       "      <td>71.411429</td>\n",
       "    </tr>\n",
       "    <tr>\n",
       "      <th>6</th>\n",
       "      <td>Regiao_Norte</td>\n",
       "      <td>47.779341</td>\n",
       "    </tr>\n",
       "    <tr>\n",
       "      <th>7</th>\n",
       "      <td>Regiao_Sudeste</td>\n",
       "      <td>10.805256</td>\n",
       "    </tr>\n",
       "  </tbody>\n",
       "</table>\n",
       "</div>"
      ],
      "text/plain": [
       "         Variáveis        Betas\n",
       "0            Idade    27.249663\n",
       "1              IMC    30.491901\n",
       "2       Qte_Filhos    52.617739\n",
       "3   Sexo_Masculino    25.683691\n",
       "4      Fumante_Sim  2422.521255\n",
       "5  Regiao_Nordeste    71.411429\n",
       "6     Regiao_Norte    47.779341\n",
       "7   Regiao_Sudeste    10.805256"
      ]
     },
     "execution_count": 65,
     "metadata": {},
     "output_type": "execute_result"
    }
   ],
   "source": [
    "pd.DataFrame({'Variáveis': X_train.columns, 'Betas': modelo.coef_})"
   ]
  },
  {
   "cell_type": "code",
   "execution_count": 54,
   "metadata": {},
   "outputs": [
    {
     "data": {
      "text/html": [
       "<div>\n",
       "<style scoped>\n",
       "    .dataframe tbody tr th:only-of-type {\n",
       "        vertical-align: middle;\n",
       "    }\n",
       "\n",
       "    .dataframe tbody tr th {\n",
       "        vertical-align: top;\n",
       "    }\n",
       "\n",
       "    .dataframe thead th {\n",
       "        text-align: right;\n",
       "    }\n",
       "</style>\n",
       "<table border=\"1\" class=\"dataframe\">\n",
       "  <thead>\n",
       "    <tr style=\"text-align: right;\">\n",
       "      <th></th>\n",
       "      <th>R2 em Treino</th>\n",
       "      <th>R2 em Teste</th>\n",
       "    </tr>\n",
       "  </thead>\n",
       "  <tbody>\n",
       "    <tr>\n",
       "      <th>0</th>\n",
       "      <td>0.75165</td>\n",
       "      <td>0.74665</td>\n",
       "    </tr>\n",
       "  </tbody>\n",
       "</table>\n",
       "</div>"
      ],
      "text/plain": [
       "   R2 em Treino  R2 em Teste\n",
       "0       0.75165      0.74665"
      ]
     },
     "execution_count": 54,
     "metadata": {},
     "output_type": "execute_result"
    }
   ],
   "source": [
    "# R2 em Treino\n",
    "custo_estimado_train = modelo.predict(X_train)\n",
    "r2_train = r2_score(y_train,custo_estimado_train)\n",
    "\n",
    "# R2 em Teste\n",
    "custo_estimado_test = modelo.predict(X_test)\n",
    "r2_test = r2_score(y_test,custo_estimado_test)\n",
    "\n",
    "pd.DataFrame({'R2 em Treino':r2_train , 'R2 em Teste': r2_test},[0])"
   ]
  },
  {
   "cell_type": "markdown",
   "metadata": {},
   "source": [
    " "
   ]
  },
  {
   "cell_type": "markdown",
   "metadata": {},
   "source": [
    "##### 3.2) Validação Cruzada - F-Fold"
   ]
  },
  {
   "cell_type": "code",
   "execution_count": 55,
   "metadata": {},
   "outputs": [],
   "source": [
    "particoes = KFold(n_splits = 5, shuffle = True, random_state = 42) "
   ]
  },
  {
   "cell_type": "code",
   "execution_count": 59,
   "metadata": {},
   "outputs": [
    {
     "data": {
      "text/html": [
       "<div>\n",
       "<style scoped>\n",
       "    .dataframe tbody tr th:only-of-type {\n",
       "        vertical-align: middle;\n",
       "    }\n",
       "\n",
       "    .dataframe tbody tr th {\n",
       "        vertical-align: top;\n",
       "    }\n",
       "\n",
       "    .dataframe thead th {\n",
       "        text-align: right;\n",
       "    }\n",
       "</style>\n",
       "<table border=\"1\" class=\"dataframe\">\n",
       "  <thead>\n",
       "    <tr style=\"text-align: right;\">\n",
       "      <th></th>\n",
       "      <th>R2 em Treino</th>\n",
       "      <th>R2 em Teste</th>\n",
       "    </tr>\n",
       "  </thead>\n",
       "  <tbody>\n",
       "    <tr>\n",
       "      <th>0</th>\n",
       "      <td>0.752771</td>\n",
       "      <td>0.740228</td>\n",
       "    </tr>\n",
       "    <tr>\n",
       "      <th>1</th>\n",
       "      <td>0.750053</td>\n",
       "      <td>0.754157</td>\n",
       "    </tr>\n",
       "    <tr>\n",
       "      <th>2</th>\n",
       "      <td>0.757518</td>\n",
       "      <td>0.715936</td>\n",
       "    </tr>\n",
       "    <tr>\n",
       "      <th>3</th>\n",
       "      <td>0.743434</td>\n",
       "      <td>0.775681</td>\n",
       "    </tr>\n",
       "    <tr>\n",
       "      <th>4</th>\n",
       "      <td>0.753532</td>\n",
       "      <td>0.734160</td>\n",
       "    </tr>\n",
       "  </tbody>\n",
       "</table>\n",
       "</div>"
      ],
      "text/plain": [
       "   R2 em Treino  R2 em Teste\n",
       "0      0.752771     0.740228\n",
       "1      0.750053     0.754157\n",
       "2      0.757518     0.715936\n",
       "3      0.743434     0.775681\n",
       "4      0.753532     0.734160"
      ]
     },
     "execution_count": 59,
     "metadata": {},
     "output_type": "execute_result"
    }
   ],
   "source": [
    "r2_train = []\n",
    "r2_test = []\n",
    "\n",
    "for train_index, test_index in particoes.split(x):\n",
    "    \n",
    "    # Separa a base    \n",
    "    X_train, X_test = x.iloc[train_index], x.iloc[test_index]\n",
    "    y_train, y_test = y.iloc[train_index], y.iloc[test_index]\n",
    "    \n",
    "    #Treina o modelo\n",
    "    modelo = linear_model.LinearRegression(fit_intercept=True)\n",
    "    modelo.fit(X_train,y_train)\n",
    "    \n",
    "    # R2 em Treino\n",
    "    custo_estimado_train = modelo.predict(X_train)\n",
    "    r2_train.append(r2_score(y_train,custo_estimado_train))\n",
    "\n",
    "    # R2 em Teste\n",
    "    custo_estimado_test = modelo.predict(X_test)\n",
    "    r2_test.append(r2_score(y_test,custo_estimado_test))\n",
    "    \n",
    "    \n",
    "resultado = pd.DataFrame({\"R2 em Treino\":r2_train, \"R2 em Teste\":r2_test})\n",
    "resultado"
   ]
  },
  {
   "cell_type": "code",
   "execution_count": 60,
   "metadata": {},
   "outputs": [
    {
     "data": {
      "text/html": [
       "<div>\n",
       "<style scoped>\n",
       "    .dataframe tbody tr th:only-of-type {\n",
       "        vertical-align: middle;\n",
       "    }\n",
       "\n",
       "    .dataframe tbody tr th {\n",
       "        vertical-align: top;\n",
       "    }\n",
       "\n",
       "    .dataframe thead th {\n",
       "        text-align: right;\n",
       "    }\n",
       "</style>\n",
       "<table border=\"1\" class=\"dataframe\">\n",
       "  <thead>\n",
       "    <tr style=\"text-align: right;\">\n",
       "      <th></th>\n",
       "      <th>R2 em Treino</th>\n",
       "      <th>R2 em Teste</th>\n",
       "    </tr>\n",
       "  </thead>\n",
       "  <tbody>\n",
       "    <tr>\n",
       "      <th>mean</th>\n",
       "      <td>0.751462</td>\n",
       "      <td>0.744032</td>\n",
       "    </tr>\n",
       "    <tr>\n",
       "      <th>std</th>\n",
       "      <td>0.005223</td>\n",
       "      <td>0.022392</td>\n",
       "    </tr>\n",
       "  </tbody>\n",
       "</table>\n",
       "</div>"
      ],
      "text/plain": [
       "      R2 em Treino  R2 em Teste\n",
       "mean      0.751462     0.744032\n",
       "std       0.005223     0.022392"
      ]
     },
     "execution_count": 60,
     "metadata": {},
     "output_type": "execute_result"
    }
   ],
   "source": [
    "resultado.describe().loc[['mean','std']]"
   ]
  },
  {
   "cell_type": "code",
   "execution_count": null,
   "metadata": {},
   "outputs": [],
   "source": []
  },
  {
   "cell_type": "markdown",
   "metadata": {},
   "source": [
    "##### 3.3) Validação Out of Time"
   ]
  },
  {
   "cell_type": "code",
   "execution_count": 13,
   "metadata": {},
   "outputs": [
    {
     "data": {
      "text/plain": [
       "202101    105\n",
       "202102    112\n",
       "202103    107\n",
       "202104    122\n",
       "202105    114\n",
       "202106    117\n",
       "202107    101\n",
       "202108    115\n",
       "202109    119\n",
       "202110    102\n",
       "202111    114\n",
       "202112    110\n",
       "Name: DtRef, dtype: int64"
      ]
     },
     "execution_count": 13,
     "metadata": {},
     "output_type": "execute_result"
    }
   ],
   "source": [
    "df['DtRef'].value_counts().sort_index()"
   ]
  },
  {
   "cell_type": "markdown",
   "metadata": {},
   "source": [
    "Como temos um ano de base, vamos optar por separar 70% do ano como treino e os outros 30% como teste."
   ]
  },
  {
   "cell_type": "code",
   "execution_count": 67,
   "metadata": {},
   "outputs": [
    {
     "data": {
      "text/plain": [
       "8.399999999999999"
      ]
     },
     "execution_count": 67,
     "metadata": {},
     "output_type": "execute_result"
    }
   ],
   "source": [
    "12*0.7"
   ]
  },
  {
   "cell_type": "code",
   "execution_count": null,
   "metadata": {},
   "outputs": [],
   "source": [
    "# Portanto, vamos separar os meses de 202101 a 202108 como treino e o restante como teste."
   ]
  },
  {
   "cell_type": "code",
   "execution_count": 80,
   "metadata": {},
   "outputs": [],
   "source": [
    "df_dummies = pd.get_dummies(df,drop_first=True)"
   ]
  },
  {
   "cell_type": "code",
   "execution_count": 81,
   "metadata": {},
   "outputs": [],
   "source": [
    "df_train = df_dummies[df_dummies['DtRef'] <= 202108].copy()\n",
    "df_test = df_dummies[df_dummies['DtRef'] > 202108].copy()"
   ]
  },
  {
   "cell_type": "code",
   "execution_count": 83,
   "metadata": {},
   "outputs": [],
   "source": [
    "X_train = df_train.drop(['Custo_Saude','DtRef'],axis = 1)\n",
    "y_train = df_train['Custo_Saude']\n",
    "\n",
    "X_test = df_test.drop(['Custo_Saude','DtRef'],axis = 1)\n",
    "y_test = df_test['Custo_Saude']"
   ]
  },
  {
   "cell_type": "code",
   "execution_count": 84,
   "metadata": {},
   "outputs": [
    {
     "data": {
      "text/plain": [
       "LinearRegression()"
      ]
     },
     "execution_count": 84,
     "metadata": {},
     "output_type": "execute_result"
    }
   ],
   "source": [
    "modelo = linear_model.LinearRegression(fit_intercept=True)\n",
    "modelo.fit(X_train,y_train)"
   ]
  },
  {
   "cell_type": "code",
   "execution_count": 85,
   "metadata": {},
   "outputs": [
    {
     "data": {
      "text/html": [
       "<div>\n",
       "<style scoped>\n",
       "    .dataframe tbody tr th:only-of-type {\n",
       "        vertical-align: middle;\n",
       "    }\n",
       "\n",
       "    .dataframe tbody tr th {\n",
       "        vertical-align: top;\n",
       "    }\n",
       "\n",
       "    .dataframe thead th {\n",
       "        text-align: right;\n",
       "    }\n",
       "</style>\n",
       "<table border=\"1\" class=\"dataframe\">\n",
       "  <thead>\n",
       "    <tr style=\"text-align: right;\">\n",
       "      <th></th>\n",
       "      <th>Variáveis</th>\n",
       "      <th>Betas</th>\n",
       "    </tr>\n",
       "  </thead>\n",
       "  <tbody>\n",
       "    <tr>\n",
       "      <th>0</th>\n",
       "      <td>Idade</td>\n",
       "      <td>25.142540</td>\n",
       "    </tr>\n",
       "    <tr>\n",
       "      <th>1</th>\n",
       "      <td>IMC</td>\n",
       "      <td>31.804968</td>\n",
       "    </tr>\n",
       "    <tr>\n",
       "      <th>2</th>\n",
       "      <td>Qte_Filhos</td>\n",
       "      <td>48.894520</td>\n",
       "    </tr>\n",
       "    <tr>\n",
       "      <th>3</th>\n",
       "      <td>Sexo_Masculino</td>\n",
       "      <td>-34.764725</td>\n",
       "    </tr>\n",
       "    <tr>\n",
       "      <th>4</th>\n",
       "      <td>Fumante_Sim</td>\n",
       "      <td>2282.573503</td>\n",
       "    </tr>\n",
       "    <tr>\n",
       "      <th>5</th>\n",
       "      <td>Regiao_Nordeste</td>\n",
       "      <td>94.925033</td>\n",
       "    </tr>\n",
       "    <tr>\n",
       "      <th>6</th>\n",
       "      <td>Regiao_Norte</td>\n",
       "      <td>92.486954</td>\n",
       "    </tr>\n",
       "    <tr>\n",
       "      <th>7</th>\n",
       "      <td>Regiao_Sudeste</td>\n",
       "      <td>-5.951687</td>\n",
       "    </tr>\n",
       "  </tbody>\n",
       "</table>\n",
       "</div>"
      ],
      "text/plain": [
       "         Variáveis        Betas\n",
       "0            Idade    25.142540\n",
       "1              IMC    31.804968\n",
       "2       Qte_Filhos    48.894520\n",
       "3   Sexo_Masculino   -34.764725\n",
       "4      Fumante_Sim  2282.573503\n",
       "5  Regiao_Nordeste    94.925033\n",
       "6     Regiao_Norte    92.486954\n",
       "7   Regiao_Sudeste    -5.951687"
      ]
     },
     "execution_count": 85,
     "metadata": {},
     "output_type": "execute_result"
    }
   ],
   "source": [
    "pd.DataFrame({'Variáveis': X_train.columns, 'Betas': modelo.coef_})"
   ]
  },
  {
   "cell_type": "code",
   "execution_count": 86,
   "metadata": {},
   "outputs": [
    {
     "data": {
      "text/html": [
       "<div>\n",
       "<style scoped>\n",
       "    .dataframe tbody tr th:only-of-type {\n",
       "        vertical-align: middle;\n",
       "    }\n",
       "\n",
       "    .dataframe tbody tr th {\n",
       "        vertical-align: top;\n",
       "    }\n",
       "\n",
       "    .dataframe thead th {\n",
       "        text-align: right;\n",
       "    }\n",
       "</style>\n",
       "<table border=\"1\" class=\"dataframe\">\n",
       "  <thead>\n",
       "    <tr style=\"text-align: right;\">\n",
       "      <th></th>\n",
       "      <th>R2 em Treino</th>\n",
       "      <th>R2 em Teste</th>\n",
       "    </tr>\n",
       "  </thead>\n",
       "  <tbody>\n",
       "    <tr>\n",
       "      <th>0</th>\n",
       "      <td>0.730722</td>\n",
       "      <td>0.780252</td>\n",
       "    </tr>\n",
       "  </tbody>\n",
       "</table>\n",
       "</div>"
      ],
      "text/plain": [
       "   R2 em Treino  R2 em Teste\n",
       "0      0.730722     0.780252"
      ]
     },
     "execution_count": 86,
     "metadata": {},
     "output_type": "execute_result"
    }
   ],
   "source": [
    "# R2 em Treino\n",
    "custo_estimado_train = modelo.predict(X_train)\n",
    "r2_train = r2_score(y_train,custo_estimado_train)\n",
    "\n",
    "# R2 em Teste\n",
    "custo_estimado_test = modelo.predict(X_test)\n",
    "r2_test = r2_score(y_test,custo_estimado_test)\n",
    "\n",
    "pd.DataFrame({'R2 em Treino':r2_train , 'R2 em Teste': r2_test},[0])"
   ]
  },
  {
   "cell_type": "markdown",
   "metadata": {},
   "source": [
    "##### 3.3) Validação Out of Time - Acompanhamento o R2 ao longo do tempo"
   ]
  },
  {
   "cell_type": "code",
   "execution_count": 91,
   "metadata": {},
   "outputs": [],
   "source": [
    "df_dummies['Custo_Saude_Estimado'] = modelo.predict(df_dummies.drop(['Custo_Saude','DtRef'],axis = 1))"
   ]
  },
  {
   "cell_type": "code",
   "execution_count": 129,
   "metadata": {},
   "outputs": [],
   "source": [
    "r2_por_ano_mes = {}\n",
    "\n",
    "for anomes in df['DtRef'].unique():\n",
    "    df_anomes = df_dummies[df_dummies['DtRef'] == anomes]\n",
    "    r2 = r2_score(df_anomes['Custo_Saude'],df_anomes['Custo_Saude_Estimado'])\n",
    "    r2_por_ano_mes.update( {anomes : r2} )\n",
    "    \n",
    "df_r2_por_ano_mes = pd.DataFrame(r2_por_ano_mes,[0]).T.rename(columns={0: 'R2'})"
   ]
  },
  {
   "cell_type": "code",
   "execution_count": 130,
   "metadata": {},
   "outputs": [
    {
     "data": {
      "image/png": "[encoded data removed]",
      "text/plain": [
       "<Figure size 864x432 with 1 Axes>"
      ]
     },
     "metadata": {
      "needs_background": "light"
     },
     "output_type": "display_data"
    }
   ],
   "source": [
    "plt.figure(figsize=(12,6))\n",
    "plt.plot(df_r2_por_ano_mes['R2'])\n",
    "plt.ylim(bottom=0,top=1);\n",
    "\n",
    "plt.title(\"R2 do modelo ao longo do Ano\");\n",
    "plt.xlabel(\"Mês de 2021\");"
   ]
  },
  {
   "cell_type": "code",
   "execution_count": 133,
   "metadata": {},
   "outputs": [
    {
     "data": {
      "text/html": [
       "<div>\n",
       "<style scoped>\n",
       "    .dataframe tbody tr th:only-of-type {\n",
       "        vertical-align: middle;\n",
       "    }\n",
       "\n",
       "    .dataframe tbody tr th {\n",
       "        vertical-align: top;\n",
       "    }\n",
       "\n",
       "    .dataframe thead th {\n",
       "        text-align: right;\n",
       "    }\n",
       "</style>\n",
       "<table border=\"1\" class=\"dataframe\">\n",
       "  <thead>\n",
       "    <tr style=\"text-align: right;\">\n",
       "      <th></th>\n",
       "      <th>202101</th>\n",
       "      <th>202102</th>\n",
       "      <th>202103</th>\n",
       "      <th>202104</th>\n",
       "      <th>202105</th>\n",
       "      <th>202106</th>\n",
       "      <th>202107</th>\n",
       "      <th>202108</th>\n",
       "      <th>202109</th>\n",
       "      <th>202110</th>\n",
       "      <th>202111</th>\n",
       "      <th>202112</th>\n",
       "    </tr>\n",
       "  </thead>\n",
       "  <tbody>\n",
       "    <tr>\n",
       "      <th>R2</th>\n",
       "      <td>0.68562</td>\n",
       "      <td>0.76954</td>\n",
       "      <td>0.670654</td>\n",
       "      <td>0.706893</td>\n",
       "      <td>0.724774</td>\n",
       "      <td>0.807934</td>\n",
       "      <td>0.67371</td>\n",
       "      <td>0.770771</td>\n",
       "      <td>0.78354</td>\n",
       "      <td>0.780874</td>\n",
       "      <td>0.818386</td>\n",
       "      <td>0.734972</td>\n",
       "    </tr>\n",
       "  </tbody>\n",
       "</table>\n",
       "</div>"
      ],
      "text/plain": [
       "     202101   202102    202103    202104    202105    202106   202107  \\\n",
       "R2  0.68562  0.76954  0.670654  0.706893  0.724774  0.807934  0.67371   \n",
       "\n",
       "      202108   202109    202110    202111    202112  \n",
       "R2  0.770771  0.78354  0.780874  0.818386  0.734972  "
      ]
     },
     "execution_count": 133,
     "metadata": {},
     "output_type": "execute_result"
    }
   ],
   "source": [
    "df_r2_por_ano_mes.T"
   ]
  },
  {
   "cell_type": "code",
   "execution_count": null,
   "metadata": {},
   "outputs": [],
   "source": []
  },
  {
   "cell_type": "markdown",
   "metadata": {},
   "source": [
    "### 3.4) Afinal, qual a melhor validação para esse problema e qual o r2 geral do modelo ?"
   ]
  },
  {
   "cell_type": "markdown",
   "metadata": {},
   "source": [
    "Comparando os resultados de Validação Cruzada e Validação Out of Time:"
   ]
  },
  {
   "cell_type": "code",
   "execution_count": 134,
   "metadata": {},
   "outputs": [
    {
     "data": {
      "text/html": [
       "<div>\n",
       "<style scoped>\n",
       "    .dataframe tbody tr th:only-of-type {\n",
       "        vertical-align: middle;\n",
       "    }\n",
       "\n",
       "    .dataframe tbody tr th {\n",
       "        vertical-align: top;\n",
       "    }\n",
       "\n",
       "    .dataframe thead th {\n",
       "        text-align: right;\n",
       "    }\n",
       "</style>\n",
       "<table border=\"1\" class=\"dataframe\">\n",
       "  <thead>\n",
       "    <tr style=\"text-align: right;\">\n",
       "      <th></th>\n",
       "      <th>R2 em Treino</th>\n",
       "      <th>R2 em Teste</th>\n",
       "    </tr>\n",
       "  </thead>\n",
       "  <tbody>\n",
       "    <tr>\n",
       "      <th>0</th>\n",
       "      <td>0.752771</td>\n",
       "      <td>0.740228</td>\n",
       "    </tr>\n",
       "    <tr>\n",
       "      <th>1</th>\n",
       "      <td>0.750053</td>\n",
       "      <td>0.754157</td>\n",
       "    </tr>\n",
       "    <tr>\n",
       "      <th>2</th>\n",
       "      <td>0.757518</td>\n",
       "      <td>0.715936</td>\n",
       "    </tr>\n",
       "    <tr>\n",
       "      <th>3</th>\n",
       "      <td>0.743434</td>\n",
       "      <td>0.775681</td>\n",
       "    </tr>\n",
       "    <tr>\n",
       "      <th>4</th>\n",
       "      <td>0.753532</td>\n",
       "      <td>0.734160</td>\n",
       "    </tr>\n",
       "  </tbody>\n",
       "</table>\n",
       "</div>"
      ],
      "text/plain": [
       "   R2 em Treino  R2 em Teste\n",
       "0      0.752771     0.740228\n",
       "1      0.750053     0.754157\n",
       "2      0.757518     0.715936\n",
       "3      0.743434     0.775681\n",
       "4      0.753532     0.734160"
      ]
     },
     "execution_count": 134,
     "metadata": {},
     "output_type": "execute_result"
    }
   ],
   "source": [
    "# Validação Cruzada k fold = 5\n",
    "resultado"
   ]
  },
  {
   "cell_type": "code",
   "execution_count": 135,
   "metadata": {},
   "outputs": [
    {
     "data": {
      "text/html": [
       "<div>\n",
       "<style scoped>\n",
       "    .dataframe tbody tr th:only-of-type {\n",
       "        vertical-align: middle;\n",
       "    }\n",
       "\n",
       "    .dataframe tbody tr th {\n",
       "        vertical-align: top;\n",
       "    }\n",
       "\n",
       "    .dataframe thead th {\n",
       "        text-align: right;\n",
       "    }\n",
       "</style>\n",
       "<table border=\"1\" class=\"dataframe\">\n",
       "  <thead>\n",
       "    <tr style=\"text-align: right;\">\n",
       "      <th></th>\n",
       "      <th>R2 em Treino</th>\n",
       "      <th>R2 em Teste</th>\n",
       "    </tr>\n",
       "  </thead>\n",
       "  <tbody>\n",
       "    <tr>\n",
       "      <th>0</th>\n",
       "      <td>0.730722</td>\n",
       "      <td>0.780252</td>\n",
       "    </tr>\n",
       "  </tbody>\n",
       "</table>\n",
       "</div>"
      ],
      "text/plain": [
       "   R2 em Treino  R2 em Teste\n",
       "0      0.730722     0.780252"
      ]
     },
     "execution_count": 135,
     "metadata": {},
     "output_type": "execute_result"
    }
   ],
   "source": [
    "# Validação Out of Time (treino até 202108 e teste de 202109 a 202112)\n",
    "pd.DataFrame({'R2 em Treino':r2_train , 'R2 em Teste': r2_test},[0])"
   ]
  },
  {
   "cell_type": "code",
   "execution_count": null,
   "metadata": {},
   "outputs": [],
   "source": []
  }
 ],
 "metadata": {
  "kernelspec": {
   "display_name": "Python 3",
   "language": "python",
   "name": "python3"
  },
  "language_info": {
   "codemirror_mode": {
    "name": "ipython",
    "version": 3
   },
   "file_extension": ".py",
   "mimetype": "text/x-python",
   "name": "python",
   "nbconvert_exporter": "python",
   "pygments_lexer": "ipython3",
   "version": "3.7.6"
  }
 },
 "nbformat": 4,
 "nbformat_minor": 4
}
