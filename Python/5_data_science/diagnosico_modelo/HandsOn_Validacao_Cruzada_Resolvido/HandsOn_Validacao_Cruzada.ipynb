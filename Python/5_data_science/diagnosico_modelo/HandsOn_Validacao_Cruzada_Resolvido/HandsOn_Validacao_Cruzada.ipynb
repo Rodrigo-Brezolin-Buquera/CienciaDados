{
 "cells": [
  {
   "cell_type": "markdown",
   "metadata": {},
   "source": [
    "<img src=\"https://s3-sa-east-1.amazonaws.com/preditiva.ai/diversos/preditiva_assinatura.jpg\">\n",
    "\n",
    "# Hands on: Validação de Modelos"
   ]
  },
  {
   "cell_type": "markdown",
   "metadata": {},
   "source": [
    "Uma empresa do ramo alimentício tem mais de 20 mil colaboradores em todo o Brasil. Com o passar dos anos a empresa percebeu um aumento no custo do plano de saúde com seus colaboradores. Como forma de entender esse comportamento, a gerência de Benefícios e Bem Estar da Diretoria de Pessoas conduziu uma pesquisa interna com um grupo de 1.338 colaboradores sorteados aleatoriamente ao longo de um ano.\n",
    "\n",
    "A gerência acredita que fatores como fumo e obesidade podem estar relacionados com o maior uso do plano de saúde, o que acaba elevando os custos. Portanto, os colaboradores da pesquisa responderam características pessoais como o Índice de Massa Corpórea (IMC), Qte de Filhos e se fazem uso de cigarros. Segue abaixo o dicionário dos dados:"
   ]
  },
  {
   "cell_type": "markdown",
   "metadata": {},
   "source": [
    "#### Dicionário de dados\n",
    "\n",
    "| Variável | Descrição |\n",
    "| ------ | ------ |\n",
    "| DtRef | Data de Referência quando a pesquisa com o colaborador foi realizada |\n",
    "| Idade | Idade do colaborador |\n",
    "| Sexo | Sexo do colaborador |\n",
    "| IMC | Índice de Massa Corporal do colaborador |\n",
    "| Qte_filhos | Qte de filhos que o colaborador tem |\n",
    "| Fumante | Flag se o colaborador é fumante ou não fumante |\n",
    "| Regiao | Região do Brasil onde o colaborador mora |\n",
    "| Custo_Saude | Custo de Plano de Saúde que esse colaborador trouxe para a empresa 3 meses depois da Data de Referência|"
   ]
  },
  {
   "cell_type": "markdown",
   "metadata": {},
   "source": [
    "Com base nessas informações, pede-se:\n",
    "\n",
    "- **Desenvolver um modelo que estime os custos de saúde dos próximos 3 meses dos colaboradores**\n",
    "- **Validar o modelo com técnicas Out of Sample, Out of Time e Validação Cruzada**\n",
    "- **Qual sua conclusão a respeito do melhor tipo de validação para o problema? Qual sua estimativa para a medida de performance esperada do modelo quando for usado para prever o custo do plano de saúde?**\n",
    "\n",
    "\n",
    "\n",
    "\n",
    "\n"
   ]
  },
  {
   "cell_type": "code",
   "execution_count": null,
   "metadata": {},
   "outputs": [],
   "source": []
  },
  {
   "cell_type": "markdown",
   "metadata": {},
   "source": [
    "#### Importação das bibliotecas"
   ]
  },
  {
   "cell_type": "code",
   "execution_count": 38,
   "metadata": {},
   "outputs": [],
   "source": [
    "import pandas as pd\n",
    "import numpy as np\n",
    "import matplotlib.pyplot as plt\n",
    "import seaborn as sns\n",
    "\n",
    "#modelo a ser treinado\n",
    "from sklearn import linear_model\n",
    "\n",
    "#métrica de performance\n",
    "from sklearn.metrics import mean_squared_error, r2_score\n",
    "\n",
    "#particionamento\n",
    "from sklearn.model_selection import train_test_split\n",
    "from sklearn.model_selection import KFold\n",
    "\n",
    "import warnings\n",
    "warnings.filterwarnings(\"ignore\")"
   ]
  },
  {
   "cell_type": "code",
   "execution_count": null,
   "metadata": {},
   "outputs": [],
   "source": []
  },
  {
   "cell_type": "markdown",
   "metadata": {},
   "source": [
    "#### Importação da base de dados"
   ]
  },
  {
   "cell_type": "code",
   "execution_count": 5,
   "metadata": {},
   "outputs": [
    {
     "data": {
      "text/html": [
       "<div>\n",
       "<style scoped>\n",
       "    .dataframe tbody tr th:only-of-type {\n",
       "        vertical-align: middle;\n",
       "    }\n",
       "\n",
       "    .dataframe tbody tr th {\n",
       "        vertical-align: top;\n",
       "    }\n",
       "\n",
       "    .dataframe thead th {\n",
       "        text-align: right;\n",
       "    }\n",
       "</style>\n",
       "<table border=\"1\" class=\"dataframe\">\n",
       "  <thead>\n",
       "    <tr style=\"text-align: right;\">\n",
       "      <th></th>\n",
       "      <th>DtRef</th>\n",
       "      <th>Idade</th>\n",
       "      <th>Sexo</th>\n",
       "      <th>IMC</th>\n",
       "      <th>Qte_Filhos</th>\n",
       "      <th>Fumante</th>\n",
       "      <th>Regiao</th>\n",
       "      <th>Custo_Saude</th>\n",
       "    </tr>\n",
       "  </thead>\n",
       "  <tbody>\n",
       "    <tr>\n",
       "      <th>0</th>\n",
       "      <td>202101</td>\n",
       "      <td>25</td>\n",
       "      <td>Masculino</td>\n",
       "      <td>26.220</td>\n",
       "      <td>0</td>\n",
       "      <td>Não</td>\n",
       "      <td>Nordeste</td>\n",
       "      <td>272.132080</td>\n",
       "    </tr>\n",
       "    <tr>\n",
       "      <th>1</th>\n",
       "      <td>202101</td>\n",
       "      <td>23</td>\n",
       "      <td>Masculino</td>\n",
       "      <td>17.385</td>\n",
       "      <td>1</td>\n",
       "      <td>Não</td>\n",
       "      <td>Norte</td>\n",
       "      <td>277.519215</td>\n",
       "    </tr>\n",
       "    <tr>\n",
       "      <th>2</th>\n",
       "      <td>202101</td>\n",
       "      <td>41</td>\n",
       "      <td>Masculino</td>\n",
       "      <td>21.780</td>\n",
       "      <td>1</td>\n",
       "      <td>Não</td>\n",
       "      <td>Sudeste</td>\n",
       "      <td>627.247720</td>\n",
       "    </tr>\n",
       "    <tr>\n",
       "      <th>3</th>\n",
       "      <td>202101</td>\n",
       "      <td>38</td>\n",
       "      <td>Masculino</td>\n",
       "      <td>37.050</td>\n",
       "      <td>1</td>\n",
       "      <td>Não</td>\n",
       "      <td>Nordeste</td>\n",
       "      <td>607.967150</td>\n",
       "    </tr>\n",
       "    <tr>\n",
       "      <th>4</th>\n",
       "      <td>202101</td>\n",
       "      <td>60</td>\n",
       "      <td>Feminino</td>\n",
       "      <td>24.530</td>\n",
       "      <td>0</td>\n",
       "      <td>Não</td>\n",
       "      <td>Sudeste</td>\n",
       "      <td>1262.989670</td>\n",
       "    </tr>\n",
       "    <tr>\n",
       "      <th>...</th>\n",
       "      <td>...</td>\n",
       "      <td>...</td>\n",
       "      <td>...</td>\n",
       "      <td>...</td>\n",
       "      <td>...</td>\n",
       "      <td>...</td>\n",
       "      <td>...</td>\n",
       "      <td>...</td>\n",
       "    </tr>\n",
       "    <tr>\n",
       "      <th>1333</th>\n",
       "      <td>202112</td>\n",
       "      <td>24</td>\n",
       "      <td>Masculino</td>\n",
       "      <td>31.065</td>\n",
       "      <td>0</td>\n",
       "      <td>Sim</td>\n",
       "      <td>Nordeste</td>\n",
       "      <td>3425.405335</td>\n",
       "    </tr>\n",
       "    <tr>\n",
       "      <th>1334</th>\n",
       "      <td>202112</td>\n",
       "      <td>43</td>\n",
       "      <td>Masculino</td>\n",
       "      <td>25.520</td>\n",
       "      <td>5</td>\n",
       "      <td>Não</td>\n",
       "      <td>Sudeste</td>\n",
       "      <td>1447.833015</td>\n",
       "    </tr>\n",
       "    <tr>\n",
       "      <th>1335</th>\n",
       "      <td>202112</td>\n",
       "      <td>19</td>\n",
       "      <td>Masculino</td>\n",
       "      <td>34.900</td>\n",
       "      <td>0</td>\n",
       "      <td>Sim</td>\n",
       "      <td>Centro</td>\n",
       "      <td>3482.865400</td>\n",
       "    </tr>\n",
       "    <tr>\n",
       "      <th>1336</th>\n",
       "      <td>202112</td>\n",
       "      <td>45</td>\n",
       "      <td>Masculino</td>\n",
       "      <td>30.360</td>\n",
       "      <td>0</td>\n",
       "      <td>Sim</td>\n",
       "      <td>Sudeste</td>\n",
       "      <td>6259.287309</td>\n",
       "    </tr>\n",
       "    <tr>\n",
       "      <th>1337</th>\n",
       "      <td>202112</td>\n",
       "      <td>42</td>\n",
       "      <td>Feminino</td>\n",
       "      <td>40.370</td>\n",
       "      <td>2</td>\n",
       "      <td>Sim</td>\n",
       "      <td>Sudeste</td>\n",
       "      <td>4389.637630</td>\n",
       "    </tr>\n",
       "  </tbody>\n",
       "</table>\n",
       "<p>1338 rows × 8 columns</p>\n",
       "</div>"
      ],
      "text/plain": [
       "       DtRef  Idade       Sexo     IMC  Qte_Filhos Fumante    Regiao  \\\n",
       "0     202101     25  Masculino  26.220           0     Não  Nordeste   \n",
       "1     202101     23  Masculino  17.385           1     Não     Norte   \n",
       "2     202101     41  Masculino  21.780           1     Não   Sudeste   \n",
       "3     202101     38  Masculino  37.050           1     Não  Nordeste   \n",
       "4     202101     60   Feminino  24.530           0     Não   Sudeste   \n",
       "...      ...    ...        ...     ...         ...     ...       ...   \n",
       "1333  202112     24  Masculino  31.065           0     Sim  Nordeste   \n",
       "1334  202112     43  Masculino  25.520           5     Não   Sudeste   \n",
       "1335  202112     19  Masculino  34.900           0     Sim    Centro   \n",
       "1336  202112     45  Masculino  30.360           0     Sim   Sudeste   \n",
       "1337  202112     42   Feminino  40.370           2     Sim   Sudeste   \n",
       "\n",
       "      Custo_Saude  \n",
       "0      272.132080  \n",
       "1      277.519215  \n",
       "2      627.247720  \n",
       "3      607.967150  \n",
       "4     1262.989670  \n",
       "...           ...  \n",
       "1333  3425.405335  \n",
       "1334  1447.833015  \n",
       "1335  3482.865400  \n",
       "1336  6259.287309  \n",
       "1337  4389.637630  \n",
       "\n",
       "[1338 rows x 8 columns]"
      ]
     },
     "execution_count": 5,
     "metadata": {},
     "output_type": "execute_result"
    }
   ],
   "source": [
    "df = pd.read_excel('base_custos_saude.xlsx')\n",
    "df"
   ]
  },
  {
   "cell_type": "markdown",
   "metadata": {},
   "source": [
    "#### 1) Análise Exploratória inicial"
   ]
  },
  {
   "cell_type": "code",
   "execution_count": null,
   "metadata": {},
   "outputs": [],
   "source": []
  },
  {
   "cell_type": "markdown",
   "metadata": {},
   "source": [
    "#### 2) Análise de Correlação"
   ]
  },
  {
   "cell_type": "code",
   "execution_count": null,
   "metadata": {},
   "outputs": [],
   "source": []
  },
  {
   "cell_type": "markdown",
   "metadata": {},
   "source": [
    "#### 3) Desenvolvimento do modelo"
   ]
  },
  {
   "cell_type": "code",
   "execution_count": null,
   "metadata": {},
   "outputs": [],
   "source": []
  },
  {
   "cell_type": "markdown",
   "metadata": {},
   "source": [
    "##### 3.1) Validação Out of Sample"
   ]
  },
  {
   "cell_type": "code",
   "execution_count": null,
   "metadata": {},
   "outputs": [],
   "source": []
  },
  {
   "cell_type": "markdown",
   "metadata": {},
   "source": [
    " "
   ]
  },
  {
   "cell_type": "markdown",
   "metadata": {},
   "source": [
    "##### 3.2) Validação Cruzada - F-Fold"
   ]
  },
  {
   "cell_type": "code",
   "execution_count": null,
   "metadata": {},
   "outputs": [],
   "source": []
  },
  {
   "cell_type": "markdown",
   "metadata": {},
   "source": [
    "##### 3.3) Validação Out of Time"
   ]
  },
  {
   "cell_type": "code",
   "execution_count": null,
   "metadata": {},
   "outputs": [],
   "source": []
  },
  {
   "cell_type": "markdown",
   "metadata": {},
   "source": [
    "##### 3.3) Validação Out of Time - Acompanhamento o R2 ao longo do tempo"
   ]
  },
  {
   "cell_type": "code",
   "execution_count": null,
   "metadata": {},
   "outputs": [],
   "source": []
  },
  {
   "cell_type": "markdown",
   "metadata": {},
   "source": [
    "#### 3.4) Afinal, qual a melhor validação para esse problema e qual o r2 geral do modelo ?"
   ]
  },
  {
   "cell_type": "code",
   "execution_count": null,
   "metadata": {},
   "outputs": [],
   "source": []
  }
 ],
 "metadata": {
  "kernelspec": {
   "display_name": "Python 3",
   "language": "python",
   "name": "python3"
  },
  "language_info": {
   "codemirror_mode": {
    "name": "ipython",
    "version": 3
   },
   "file_extension": ".py",
   "mimetype": "text/x-python",
   "name": "python",
   "nbconvert_exporter": "python",
   "pygments_lexer": "ipython3",
   "version": "3.7.6"
  }
 },
 "nbformat": 4,
 "nbformat_minor": 4
}
