{
 "cells": [
  {
   "cell_type": "markdown",
   "metadata": {},
   "source": [
    "<img src=\"https://s3-sa-east-1.amazonaws.com/preditiva.ai/diversos/preditiva_assinatura.jpg\">\n",
    "\n",
    "# Particionamento da base"
   ]
  },
  {
   "cell_type": "markdown",
   "metadata": {},
   "source": [
    "## Demonstração"
   ]
  },
  {
   "cell_type": "markdown",
   "metadata": {},
   "source": [
    "### Importação das bibliotecas"
   ]
  },
  {
   "cell_type": "code",
   "execution_count": 1,
   "metadata": {},
   "outputs": [],
   "source": [
    "import pandas as pd\n",
    "import numpy as np\n",
    "import matplotlib.pyplot as plt\n",
    "\n",
    "#métrica de performance\n",
    "from sklearn.metrics import roc_auc_score\n",
    "\n",
    "#modelo a ser treinado\n",
    "from sklearn.tree import DecisionTreeClassifier"
   ]
  },
  {
   "cell_type": "markdown",
   "metadata": {},
   "source": [
    "### Importação da base de dados"
   ]
  },
  {
   "cell_type": "code",
   "execution_count": 2,
   "metadata": {},
   "outputs": [],
   "source": [
    "df = pd.read_csv('base_rh.csv',sep=\";\")"
   ]
  },
  {
   "cell_type": "code",
   "execution_count": 3,
   "metadata": {},
   "outputs": [
    {
     "data": {
      "text/html": [
       "<div>\n",
       "<style scoped>\n",
       "    .dataframe tbody tr th:only-of-type {\n",
       "        vertical-align: middle;\n",
       "    }\n",
       "\n",
       "    .dataframe tbody tr th {\n",
       "        vertical-align: top;\n",
       "    }\n",
       "\n",
       "    .dataframe thead th {\n",
       "        text-align: right;\n",
       "    }\n",
       "</style>\n",
       "<table border=\"1\" class=\"dataframe\">\n",
       "  <thead>\n",
       "    <tr style=\"text-align: right;\">\n",
       "      <th></th>\n",
       "      <th>ID</th>\n",
       "      <th>Funcionário_deixou_a_empresa</th>\n",
       "      <th>Idade</th>\n",
       "      <th>Frequência de Viagens</th>\n",
       "      <th>Distância_do_trabalho</th>\n",
       "      <th>Formação</th>\n",
       "      <th>E-Sat</th>\n",
       "      <th>Gênero</th>\n",
       "      <th>Estado_Civil</th>\n",
       "      <th>Salário</th>\n",
       "      <th>...</th>\n",
       "      <th>Faz_hora_extras?</th>\n",
       "      <th>Perc_de_aumento</th>\n",
       "      <th>Qte_ações_da_empresa</th>\n",
       "      <th>Tempo_de_carreira</th>\n",
       "      <th>Horas_de_treinamento</th>\n",
       "      <th>Equilibrio_de_Vida</th>\n",
       "      <th>Tempo_de_empresa</th>\n",
       "      <th>Anos_no_mesmo_cargo</th>\n",
       "      <th>Anos_desde_a_ultima_promocao</th>\n",
       "      <th>Anos_com_o_mesmo_chefe</th>\n",
       "    </tr>\n",
       "  </thead>\n",
       "  <tbody>\n",
       "    <tr>\n",
       "      <th>0</th>\n",
       "      <td>1</td>\n",
       "      <td>Sim</td>\n",
       "      <td>41</td>\n",
       "      <td>Viaja raramente</td>\n",
       "      <td>1</td>\n",
       "      <td>Ensino Técnico</td>\n",
       "      <td>Médio</td>\n",
       "      <td>M</td>\n",
       "      <td>Solteiro</td>\n",
       "      <td>5993</td>\n",
       "      <td>...</td>\n",
       "      <td>Sim</td>\n",
       "      <td>11</td>\n",
       "      <td>0</td>\n",
       "      <td>8</td>\n",
       "      <td>0</td>\n",
       "      <td>Ruim</td>\n",
       "      <td>6</td>\n",
       "      <td>4</td>\n",
       "      <td>0</td>\n",
       "      <td>5</td>\n",
       "    </tr>\n",
       "    <tr>\n",
       "      <th>1</th>\n",
       "      <td>2</td>\n",
       "      <td>Não</td>\n",
       "      <td>49</td>\n",
       "      <td>Viaja frequentemente</td>\n",
       "      <td>8</td>\n",
       "      <td>Ensino Médio</td>\n",
       "      <td>Alto</td>\n",
       "      <td>H</td>\n",
       "      <td>Casado</td>\n",
       "      <td>5130</td>\n",
       "      <td>...</td>\n",
       "      <td>Não</td>\n",
       "      <td>23</td>\n",
       "      <td>1</td>\n",
       "      <td>10</td>\n",
       "      <td>3</td>\n",
       "      <td>Muito bom</td>\n",
       "      <td>10</td>\n",
       "      <td>7</td>\n",
       "      <td>1</td>\n",
       "      <td>7</td>\n",
       "    </tr>\n",
       "    <tr>\n",
       "      <th>2</th>\n",
       "      <td>3</td>\n",
       "      <td>Sim</td>\n",
       "      <td>37</td>\n",
       "      <td>Viaja raramente</td>\n",
       "      <td>2</td>\n",
       "      <td>Ensino Técnico</td>\n",
       "      <td>Muito Alto</td>\n",
       "      <td>H</td>\n",
       "      <td>Solteiro</td>\n",
       "      <td>2090</td>\n",
       "      <td>...</td>\n",
       "      <td>Sim</td>\n",
       "      <td>15</td>\n",
       "      <td>0</td>\n",
       "      <td>7</td>\n",
       "      <td>3</td>\n",
       "      <td>Muito bom</td>\n",
       "      <td>0</td>\n",
       "      <td>0</td>\n",
       "      <td>0</td>\n",
       "      <td>0</td>\n",
       "    </tr>\n",
       "    <tr>\n",
       "      <th>3</th>\n",
       "      <td>4</td>\n",
       "      <td>Não</td>\n",
       "      <td>33</td>\n",
       "      <td>Viaja frequentemente</td>\n",
       "      <td>3</td>\n",
       "      <td>Mestrado</td>\n",
       "      <td>Muito Alto</td>\n",
       "      <td>M</td>\n",
       "      <td>Casado</td>\n",
       "      <td>2909</td>\n",
       "      <td>...</td>\n",
       "      <td>Sim</td>\n",
       "      <td>11</td>\n",
       "      <td>0</td>\n",
       "      <td>8</td>\n",
       "      <td>3</td>\n",
       "      <td>Muito bom</td>\n",
       "      <td>8</td>\n",
       "      <td>7</td>\n",
       "      <td>3</td>\n",
       "      <td>0</td>\n",
       "    </tr>\n",
       "    <tr>\n",
       "      <th>4</th>\n",
       "      <td>5</td>\n",
       "      <td>Não</td>\n",
       "      <td>27</td>\n",
       "      <td>Viaja raramente</td>\n",
       "      <td>2</td>\n",
       "      <td>Ensino Médio</td>\n",
       "      <td>Baixo</td>\n",
       "      <td>H</td>\n",
       "      <td>Casado</td>\n",
       "      <td>3468</td>\n",
       "      <td>...</td>\n",
       "      <td>Não</td>\n",
       "      <td>12</td>\n",
       "      <td>1</td>\n",
       "      <td>6</td>\n",
       "      <td>3</td>\n",
       "      <td>Muito bom</td>\n",
       "      <td>2</td>\n",
       "      <td>2</td>\n",
       "      <td>2</td>\n",
       "      <td>2</td>\n",
       "    </tr>\n",
       "  </tbody>\n",
       "</table>\n",
       "<p>5 rows × 21 columns</p>\n",
       "</div>"
      ],
      "text/plain": [
       "   ID Funcionário_deixou_a_empresa  Idade Frequência de Viagens  \\\n",
       "0   1                          Sim     41       Viaja raramente   \n",
       "1   2                          Não     49  Viaja frequentemente   \n",
       "2   3                          Sim     37       Viaja raramente   \n",
       "3   4                          Não     33  Viaja frequentemente   \n",
       "4   5                          Não     27       Viaja raramente   \n",
       "\n",
       "   Distância_do_trabalho        Formação       E-Sat Gênero Estado_Civil  \\\n",
       "0                      1  Ensino Técnico       Médio      M     Solteiro   \n",
       "1                      8    Ensino Médio        Alto      H       Casado   \n",
       "2                      2  Ensino Técnico  Muito Alto      H     Solteiro   \n",
       "3                      3        Mestrado  Muito Alto      M       Casado   \n",
       "4                      2    Ensino Médio       Baixo      H       Casado   \n",
       "\n",
       "   Salário  ...  Faz_hora_extras? Perc_de_aumento  Qte_ações_da_empresa  \\\n",
       "0     5993  ...               Sim              11                     0   \n",
       "1     5130  ...               Não              23                     1   \n",
       "2     2090  ...               Sim              15                     0   \n",
       "3     2909  ...               Sim              11                     0   \n",
       "4     3468  ...               Não              12                     1   \n",
       "\n",
       "   Tempo_de_carreira  Horas_de_treinamento  Equilibrio_de_Vida  \\\n",
       "0                  8                     0                Ruim   \n",
       "1                 10                     3           Muito bom   \n",
       "2                  7                     3           Muito bom   \n",
       "3                  8                     3           Muito bom   \n",
       "4                  6                     3           Muito bom   \n",
       "\n",
       "  Tempo_de_empresa  Anos_no_mesmo_cargo  Anos_desde_a_ultima_promocao  \\\n",
       "0                6                    4                             0   \n",
       "1               10                    7                             1   \n",
       "2                0                    0                             0   \n",
       "3                8                    7                             3   \n",
       "4                2                    2                             2   \n",
       "\n",
       "   Anos_com_o_mesmo_chefe  \n",
       "0                       5  \n",
       "1                       7  \n",
       "2                       0  \n",
       "3                       0  \n",
       "4                       2  \n",
       "\n",
       "[5 rows x 21 columns]"
      ]
     },
     "execution_count": 3,
     "metadata": {},
     "output_type": "execute_result"
    }
   ],
   "source": [
    "df.head()"
   ]
  },
  {
   "cell_type": "markdown",
   "metadata": {},
   "source": [
    "### Separação das bases em Treino e Teste"
   ]
  },
  {
   "cell_type": "code",
   "execution_count": 4,
   "metadata": {},
   "outputs": [],
   "source": [
    "from sklearn.model_selection import train_test_split"
   ]
  },
  {
   "cell_type": "code",
   "execution_count": 5,
   "metadata": {},
   "outputs": [],
   "source": [
    "# Separação das variáveis explicativas e a variável target\n",
    "x = df.drop('Funcionário_deixou_a_empresa', axis=1)\n",
    "y = df['Funcionário_deixou_a_empresa']"
   ]
  },
  {
   "cell_type": "code",
   "execution_count": 6,
   "metadata": {},
   "outputs": [
    {
     "data": {
      "text/html": [
       "<div>\n",
       "<style scoped>\n",
       "    .dataframe tbody tr th:only-of-type {\n",
       "        vertical-align: middle;\n",
       "    }\n",
       "\n",
       "    .dataframe tbody tr th {\n",
       "        vertical-align: top;\n",
       "    }\n",
       "\n",
       "    .dataframe thead th {\n",
       "        text-align: right;\n",
       "    }\n",
       "</style>\n",
       "<table border=\"1\" class=\"dataframe\">\n",
       "  <thead>\n",
       "    <tr style=\"text-align: right;\">\n",
       "      <th></th>\n",
       "      <th>ID</th>\n",
       "      <th>Idade</th>\n",
       "      <th>Distância_do_trabalho</th>\n",
       "      <th>Salário</th>\n",
       "      <th>Qte_Empresas_Trabalhadas</th>\n",
       "      <th>Perc_de_aumento</th>\n",
       "      <th>Qte_ações_da_empresa</th>\n",
       "      <th>Tempo_de_carreira</th>\n",
       "      <th>Horas_de_treinamento</th>\n",
       "      <th>Tempo_de_empresa</th>\n",
       "      <th>...</th>\n",
       "      <th>Gênero_M</th>\n",
       "      <th>Estado_Civil_Casado</th>\n",
       "      <th>Estado_Civil_Divorciado</th>\n",
       "      <th>Estado_Civil_Solteiro</th>\n",
       "      <th>Faz_hora_extras?_Não</th>\n",
       "      <th>Faz_hora_extras?_Sim</th>\n",
       "      <th>Equilibrio_de_Vida_Bom</th>\n",
       "      <th>Equilibrio_de_Vida_Excelente</th>\n",
       "      <th>Equilibrio_de_Vida_Muito bom</th>\n",
       "      <th>Equilibrio_de_Vida_Ruim</th>\n",
       "    </tr>\n",
       "  </thead>\n",
       "  <tbody>\n",
       "    <tr>\n",
       "      <th>0</th>\n",
       "      <td>1</td>\n",
       "      <td>41</td>\n",
       "      <td>1</td>\n",
       "      <td>5993</td>\n",
       "      <td>8</td>\n",
       "      <td>11</td>\n",
       "      <td>0</td>\n",
       "      <td>8</td>\n",
       "      <td>0</td>\n",
       "      <td>6</td>\n",
       "      <td>...</td>\n",
       "      <td>1</td>\n",
       "      <td>0</td>\n",
       "      <td>0</td>\n",
       "      <td>1</td>\n",
       "      <td>0</td>\n",
       "      <td>1</td>\n",
       "      <td>0</td>\n",
       "      <td>0</td>\n",
       "      <td>0</td>\n",
       "      <td>1</td>\n",
       "    </tr>\n",
       "    <tr>\n",
       "      <th>1</th>\n",
       "      <td>2</td>\n",
       "      <td>49</td>\n",
       "      <td>8</td>\n",
       "      <td>5130</td>\n",
       "      <td>1</td>\n",
       "      <td>23</td>\n",
       "      <td>1</td>\n",
       "      <td>10</td>\n",
       "      <td>3</td>\n",
       "      <td>10</td>\n",
       "      <td>...</td>\n",
       "      <td>0</td>\n",
       "      <td>1</td>\n",
       "      <td>0</td>\n",
       "      <td>0</td>\n",
       "      <td>1</td>\n",
       "      <td>0</td>\n",
       "      <td>0</td>\n",
       "      <td>0</td>\n",
       "      <td>1</td>\n",
       "      <td>0</td>\n",
       "    </tr>\n",
       "    <tr>\n",
       "      <th>2</th>\n",
       "      <td>3</td>\n",
       "      <td>37</td>\n",
       "      <td>2</td>\n",
       "      <td>2090</td>\n",
       "      <td>6</td>\n",
       "      <td>15</td>\n",
       "      <td>0</td>\n",
       "      <td>7</td>\n",
       "      <td>3</td>\n",
       "      <td>0</td>\n",
       "      <td>...</td>\n",
       "      <td>0</td>\n",
       "      <td>0</td>\n",
       "      <td>0</td>\n",
       "      <td>1</td>\n",
       "      <td>0</td>\n",
       "      <td>1</td>\n",
       "      <td>0</td>\n",
       "      <td>0</td>\n",
       "      <td>1</td>\n",
       "      <td>0</td>\n",
       "    </tr>\n",
       "    <tr>\n",
       "      <th>3</th>\n",
       "      <td>4</td>\n",
       "      <td>33</td>\n",
       "      <td>3</td>\n",
       "      <td>2909</td>\n",
       "      <td>1</td>\n",
       "      <td>11</td>\n",
       "      <td>0</td>\n",
       "      <td>8</td>\n",
       "      <td>3</td>\n",
       "      <td>8</td>\n",
       "      <td>...</td>\n",
       "      <td>1</td>\n",
       "      <td>1</td>\n",
       "      <td>0</td>\n",
       "      <td>0</td>\n",
       "      <td>0</td>\n",
       "      <td>1</td>\n",
       "      <td>0</td>\n",
       "      <td>0</td>\n",
       "      <td>1</td>\n",
       "      <td>0</td>\n",
       "    </tr>\n",
       "    <tr>\n",
       "      <th>4</th>\n",
       "      <td>5</td>\n",
       "      <td>27</td>\n",
       "      <td>2</td>\n",
       "      <td>3468</td>\n",
       "      <td>9</td>\n",
       "      <td>12</td>\n",
       "      <td>1</td>\n",
       "      <td>6</td>\n",
       "      <td>3</td>\n",
       "      <td>2</td>\n",
       "      <td>...</td>\n",
       "      <td>0</td>\n",
       "      <td>1</td>\n",
       "      <td>0</td>\n",
       "      <td>0</td>\n",
       "      <td>1</td>\n",
       "      <td>0</td>\n",
       "      <td>0</td>\n",
       "      <td>0</td>\n",
       "      <td>1</td>\n",
       "      <td>0</td>\n",
       "    </tr>\n",
       "  </tbody>\n",
       "</table>\n",
       "<p>5 rows × 36 columns</p>\n",
       "</div>"
      ],
      "text/plain": [
       "   ID  Idade  Distância_do_trabalho  Salário  Qte_Empresas_Trabalhadas  \\\n",
       "0   1     41                      1     5993                         8   \n",
       "1   2     49                      8     5130                         1   \n",
       "2   3     37                      2     2090                         6   \n",
       "3   4     33                      3     2909                         1   \n",
       "4   5     27                      2     3468                         9   \n",
       "\n",
       "   Perc_de_aumento  Qte_ações_da_empresa  Tempo_de_carreira  \\\n",
       "0               11                     0                  8   \n",
       "1               23                     1                 10   \n",
       "2               15                     0                  7   \n",
       "3               11                     0                  8   \n",
       "4               12                     1                  6   \n",
       "\n",
       "   Horas_de_treinamento  Tempo_de_empresa  ...  Gênero_M  Estado_Civil_Casado  \\\n",
       "0                     0                 6  ...         1                    0   \n",
       "1                     3                10  ...         0                    1   \n",
       "2                     3                 0  ...         0                    0   \n",
       "3                     3                 8  ...         1                    1   \n",
       "4                     3                 2  ...         0                    1   \n",
       "\n",
       "   Estado_Civil_Divorciado  Estado_Civil_Solteiro  Faz_hora_extras?_Não  \\\n",
       "0                        0                      1                     0   \n",
       "1                        0                      0                     1   \n",
       "2                        0                      1                     0   \n",
       "3                        0                      0                     0   \n",
       "4                        0                      0                     1   \n",
       "\n",
       "   Faz_hora_extras?_Sim  Equilibrio_de_Vida_Bom  Equilibrio_de_Vida_Excelente  \\\n",
       "0                     1                       0                             0   \n",
       "1                     0                       0                             0   \n",
       "2                     1                       0                             0   \n",
       "3                     1                       0                             0   \n",
       "4                     0                       0                             0   \n",
       "\n",
       "   Equilibrio_de_Vida_Muito bom  Equilibrio_de_Vida_Ruim  \n",
       "0                             0                        1  \n",
       "1                             1                        0  \n",
       "2                             1                        0  \n",
       "3                             1                        0  \n",
       "4                             1                        0  \n",
       "\n",
       "[5 rows x 36 columns]"
      ]
     },
     "execution_count": 6,
     "metadata": {},
     "output_type": "execute_result"
    }
   ],
   "source": [
    "# Criando as variáveis dummies\n",
    "x = pd.get_dummies(x)\n",
    "x.head()"
   ]
  },
  {
   "cell_type": "code",
   "execution_count": 7,
   "metadata": {},
   "outputs": [],
   "source": [
    "# Particiona a base em 70% para Treino e 30% para Teste\n",
    "X_train, X_test, y_train, y_test = train_test_split(x, y, \n",
    "                                                    test_size=0.30,\n",
    "                                                    random_state=50)"
   ]
  },
  {
   "cell_type": "code",
   "execution_count": 8,
   "metadata": {},
   "outputs": [
    {
     "data": {
      "text/plain": [
       "(1470, 36)"
      ]
     },
     "execution_count": 8,
     "metadata": {},
     "output_type": "execute_result"
    }
   ],
   "source": [
    "x.shape"
   ]
  },
  {
   "cell_type": "code",
   "execution_count": 9,
   "metadata": {},
   "outputs": [
    {
     "data": {
      "text/plain": [
       "1029.0"
      ]
     },
     "execution_count": 9,
     "metadata": {},
     "output_type": "execute_result"
    }
   ],
   "source": [
    "1470*0.7"
   ]
  },
  {
   "cell_type": "code",
   "execution_count": 11,
   "metadata": {},
   "outputs": [
    {
     "data": {
      "text/plain": [
       "(441, 36)"
      ]
     },
     "execution_count": 11,
     "metadata": {},
     "output_type": "execute_result"
    }
   ],
   "source": [
    "X_test.shape"
   ]
  },
  {
   "cell_type": "markdown",
   "metadata": {},
   "source": [
    "### Treinamento de uma Árvore de Decisão usando Scikit Learn"
   ]
  },
  {
   "cell_type": "code",
   "execution_count": 12,
   "metadata": {},
   "outputs": [
    {
     "data": {
      "text/plain": [
       "DecisionTreeClassifier(max_depth=2)"
      ]
     },
     "execution_count": 12,
     "metadata": {},
     "output_type": "execute_result"
    }
   ],
   "source": [
    "modelo = DecisionTreeClassifier(max_depth=2)\n",
    "modelo.fit(X_train, y_train)"
   ]
  },
  {
   "cell_type": "code",
   "execution_count": 13,
   "metadata": {},
   "outputs": [
    {
     "data": {
      "image/png": "[encoded data removed]",
      "text/plain": [
       "<Figure size 1080x720 with 1 Axes>"
      ]
     },
     "metadata": {
      "needs_background": "light"
     },
     "output_type": "display_data"
    }
   ],
   "source": [
    "from sklearn import tree\n",
    "fig = plt.figure(figsize=(15,10))\n",
    "features = list(x.columns)\n",
    "tree.plot_tree(modelo,feature_names=features);\n",
    "plt.title(\"Árvore de Decisão para Classificação\");"
   ]
  },
  {
   "cell_type": "markdown",
   "metadata": {},
   "source": [
    "## Cálculo do AUC"
   ]
  },
  {
   "cell_type": "code",
   "execution_count": 14,
   "metadata": {},
   "outputs": [
    {
     "name": "stdout",
     "output_type": "stream",
     "text": [
      "AUC em Treino: 0.7079674433539489\n"
     ]
    }
   ],
   "source": [
    "# Treino\n",
    "prob_train = modelo.predict_proba(X_train)[:,1]\n",
    "roc_train = roc_auc_score(y_train, prob_train)\n",
    "print(\"AUC em Treino:\", roc_train)"
   ]
  },
  {
   "cell_type": "code",
   "execution_count": 15,
   "metadata": {},
   "outputs": [
    {
     "name": "stdout",
     "output_type": "stream",
     "text": [
      "AUC em Teste: 0.6882946326608298\n"
     ]
    }
   ],
   "source": [
    "# Teste\n",
    "prob_test = modelo.predict_proba(X_test)[:,1]\n",
    "roc_test = roc_auc_score(y_test, prob_test)\n",
    "print(\"AUC em Teste:\", roc_test)"
   ]
  },
  {
   "cell_type": "code",
   "execution_count": null,
   "metadata": {},
   "outputs": [],
   "source": []
  }
 ],
 "metadata": {
  "kernelspec": {
   "display_name": "Python 3",
   "language": "python",
   "name": "python3"
  },
  "language_info": {
   "codemirror_mode": {
    "name": "ipython",
    "version": 3
   },
   "file_extension": ".py",
   "mimetype": "text/x-python",
   "name": "python",
   "nbconvert_exporter": "python",
   "pygments_lexer": "ipython3",
   "version": "3.7.6"
  }
 },
 "nbformat": 4,
 "nbformat_minor": 4
}
