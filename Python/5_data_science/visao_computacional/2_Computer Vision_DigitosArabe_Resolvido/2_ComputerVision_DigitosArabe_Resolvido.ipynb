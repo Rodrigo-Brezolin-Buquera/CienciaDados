{
 "cells": [
  {
   "cell_type": "markdown",
   "metadata": {},
   "source": [
    "<img src=\"https://s3-sa-east-1.amazonaws.com/preditiva.ai/diversos/preditiva_assinatura.jpg\">\n",
    "\n",
    "# Computer Vision\n",
    "\n",
    "Referências:\n",
    "* https://www.kaggle.com/mloey1/ahdd1?select=csvTestLabel+10k+x+1.csv"
   ]
  },
  {
   "cell_type": "markdown",
   "metadata": {},
   "source": [
    "## Hands On: Dígitos Escritos a Mão em Árabe"
   ]
  },
  {
   "cell_type": "markdown",
   "metadata": {},
   "source": [
    "### Importação das bibliotecas"
   ]
  },
  {
   "cell_type": "code",
   "execution_count": null,
   "metadata": {},
   "outputs": [],
   "source": [
    "# Pacotes de preparação dos dados\n",
    "import pandas as pd\n",
    "import numpy as np\n",
    "\n",
    "# Pacotes gráficos\n",
    "import matplotlib.pyplot as plt\n",
    "%matplotlib inline\n",
    "import matplotlib.cm as cm\n",
    "import seaborn as sns\n",
    "\n",
    "# Pacotes de Modelagem\n",
    "from sklearn.model_selection import train_test_split\n",
    "import tensorflow as tf\n",
    "from tensorflow import keras\n",
    "from tensorflow.keras import layers\n",
    "from keras.utils import np_utils\n",
    "\n",
    "# Funções adicionais\n",
    "import preditiva"
   ]
  },
  {
   "cell_type": "markdown",
   "metadata": {},
   "source": [
    "### Importação da base de dados"
   ]
  },
  {
   "cell_type": "code",
   "execution_count": null,
   "metadata": {},
   "outputs": [],
   "source": [
    "# Load the data\n",
    "df_x_train = pd.read_csv(\"csvTrainImages 60k x 784.csv\", header=None)\n",
    "df_y_train = pd.read_csv(\"csvTrainLabel 60k x 1.csv\", header=None)\n",
    "df_x_test = pd.read_csv(\"csvTestImages 10k x 784.csv\", header=None)\n",
    "df_y_test = pd.read_csv(\"csvTestLabel 10k x 1.csv\", header=None)\n",
    "\n",
    "print(df_x_train.shape)\n",
    "print(df_y_train.shape)\n",
    "print(df_x_test.shape)\n",
    "print(df_y_test.shape)"
   ]
  },
  {
   "cell_type": "code",
   "execution_count": null,
   "metadata": {},
   "outputs": [],
   "source": [
    "df_x_train"
   ]
  },
  {
   "cell_type": "markdown",
   "metadata": {},
   "source": [
    "### Separação dos dados da imagem dos Rótulos"
   ]
  },
  {
   "cell_type": "code",
   "execution_count": null,
   "metadata": {},
   "outputs": [],
   "source": [
    "x_train = df_x_train.values.astype('float32')\n",
    "x_test  = df_x_test.values.astype('float32')\n",
    "\n",
    "y_train = df_y_train.values.astype('int32')\n",
    "y_test  = df_y_test.values.astype('int32')"
   ]
  },
  {
   "cell_type": "markdown",
   "metadata": {},
   "source": [
    "### Análise Exploratória de Dados"
   ]
  },
  {
   "cell_type": "code",
   "execution_count": null,
   "metadata": {},
   "outputs": [],
   "source": [
    "# Conjunto de Treino\n",
    "preditiva.cria_grafico_var_qualitativa(preditiva.tabela_bivariada(pd.DataFrame(y_train, columns=['y_train']), 'y_train'))"
   ]
  },
  {
   "cell_type": "code",
   "execution_count": null,
   "metadata": {},
   "outputs": [],
   "source": [
    "# Conjunto de Teste\n",
    "preditiva.cria_grafico_var_qualitativa(preditiva.tabela_bivariada(pd.DataFrame(y_test, columns=['y_test']), 'y_test'))"
   ]
  },
  {
   "cell_type": "markdown",
   "metadata": {},
   "source": [
    "### Visualização das imagens"
   ]
  },
  {
   "cell_type": "code",
   "execution_count": null,
   "metadata": {},
   "outputs": [],
   "source": [
    "x_train.shape"
   ]
  },
  {
   "cell_type": "code",
   "execution_count": null,
   "metadata": {},
   "outputs": [],
   "source": [
    "x_train = x_train.reshape(x_train.shape[0], 28, 28)\n",
    "\n",
    "plt.figure(figsize=(5,7))\n",
    "\n",
    "for i in range(9):\n",
    "    plt.subplot(330 + (i+1))\n",
    "    plt.imshow(x_train[i], cmap=plt.get_cmap('gray'))\n",
    "    plt.title(y_train[i])"
   ]
  },
  {
   "cell_type": "code",
   "execution_count": null,
   "metadata": {},
   "outputs": [],
   "source": [
    "def visualize_input(img, ax):\n",
    "    ax.imshow(img, cmap='gray')\n",
    "    width, height = img.shape\n",
    "    thresh = img.max()/2.5\n",
    "    for x in range(width):\n",
    "        for y in range(height):\n",
    "            ax.annotate(str(round(img[x][y],2)), xy=(y,x),\n",
    "                        horizontalalignment='center',\n",
    "                        verticalalignment='center',\n",
    "                        color='white' if img[x][y]<thresh else 'black')\n",
    "\n",
    "obs = 42\n",
    "fig = plt.figure(figsize = (18,18)) \n",
    "ax = fig.add_subplot(111)\n",
    "visualize_input(x_train[obs], ax)"
   ]
  },
  {
   "cell_type": "markdown",
   "metadata": {},
   "source": [
    "### Pré-processamento"
   ]
  },
  {
   "cell_type": "code",
   "execution_count": null,
   "metadata": {},
   "outputs": [],
   "source": [
    "x_train = x_train.astype('float32')/255.0\n",
    "x_test  = x_test.astype('float32')/255.0"
   ]
  },
  {
   "cell_type": "code",
   "execution_count": null,
   "metadata": {},
   "outputs": [],
   "source": [
    "x_train = x_train.reshape(-1,28,28,1)\n",
    "x_test = x_test.reshape(-1,28,28,1)"
   ]
  },
  {
   "cell_type": "code",
   "execution_count": null,
   "metadata": {},
   "outputs": [],
   "source": [
    "# Criação das variáveis dummy\n",
    "y_train = np_utils.to_categorical(y_train, 10)\n",
    "y_test = np_utils.to_categorical(y_test, 10)"
   ]
  },
  {
   "cell_type": "markdown",
   "metadata": {},
   "source": [
    "## Definição da CNN"
   ]
  },
  {
   "cell_type": "code",
   "execution_count": null,
   "metadata": {},
   "outputs": [],
   "source": [
    "model = keras.Sequential()\n",
    "\n",
    "# 1a Camada: Convolução\n",
    "model.add(layers.Conv2D(10,\n",
    "                        kernel_size=5, \n",
    "                        activation='relu', \n",
    "                        input_shape=(28,28,1)))\n",
    "model.add(layers.Dropout(0.3))\n",
    "\n",
    "# 2a Camada: MaxPolling\n",
    "model.add(layers.MaxPooling2D())\n",
    "\n",
    "# 3a Camada: FullyConnected / Dense / MLP\n",
    "model.add(layers.Flatten())\n",
    "model.add(layers.Dense(10, activation='softmax'))\n",
    "\n",
    "model.compile(loss='categorical_crossentropy',\n",
    "              optimizer=keras.optimizers.Adam(), \n",
    "              metrics=[keras.metrics.CategoricalAccuracy()])\n",
    "\n",
    "model.summary()\n",
    "print(\"Input shape \",model.input_shape)\n",
    "print(\"Output shape \",model.output_shape)"
   ]
  },
  {
   "cell_type": "markdown",
   "metadata": {},
   "source": [
    "## Treinamento da CNN"
   ]
  },
  {
   "cell_type": "code",
   "execution_count": null,
   "metadata": {},
   "outputs": [],
   "source": [
    "cnn_es = tf.keras.callbacks.EarlyStopping(\n",
    "    monitor=\"val_loss\",\n",
    "    min_delta=0.01,\n",
    "    patience = 10,\n",
    "    verbose=2,\n",
    "    mode='min',\n",
    "    restore_best_weights=True)\n",
    "\n",
    "historico = model.fit(x=x_train, \n",
    "                      y=y_train,\n",
    "                      epochs=50,\n",
    "                      batch_size=512,\n",
    "                      validation_split=0.1,\n",
    "                      callbacks=cnn_es,\n",
    "                      verbose=1)"
   ]
  },
  {
   "cell_type": "markdown",
   "metadata": {},
   "source": [
    "## Avaliação do Desempenho"
   ]
  },
  {
   "cell_type": "code",
   "execution_count": null,
   "metadata": {},
   "outputs": [],
   "source": [
    "score, metric_train = model.evaluate(x_train, y_train, verbose=0)\n",
    "score, metric_test = model.evaluate(x_test, y_test, verbose=0)\n",
    "\n",
    "print('Desempenho no conjunto de Treino: {:.2%}'.format(metric_train))\n",
    "print('Desempenho no conjunto de Teste: {:.2%}'.format(metric_test))"
   ]
  },
  {
   "cell_type": "code",
   "execution_count": null,
   "metadata": {},
   "outputs": [],
   "source": [
    "# Gráfico com a evolução do treinamento\n",
    "fig, ax = plt.subplots(figsize=(8, 8))\n",
    "plt.style.use('ggplot')\n",
    "plt.plot(historico.history['categorical_accuracy'])\n",
    "plt.plot(historico.history['val_categorical_accuracy'])\n",
    "plt.title('Desempenho do Modelo')\n",
    "plt.ylabel('Acurácia')\n",
    "plt.xlabel('Épocas')\n",
    "plt.legend(['Treino', 'Validação'], loc='upper left')\n",
    "plt.show()"
   ]
  },
  {
   "cell_type": "code",
   "execution_count": null,
   "metadata": {},
   "outputs": [],
   "source": []
  }
 ],
 "metadata": {
  "kernelspec": {
   "display_name": "Python 3",
   "language": "python",
   "name": "python3"
  },
  "language_info": {
   "codemirror_mode": {
    "name": "ipython",
    "version": 3
   },
   "file_extension": ".py",
   "mimetype": "text/x-python",
   "name": "python",
   "nbconvert_exporter": "python",
   "pygments_lexer": "ipython3",
   "version": "3.8.3"
  }
 },
 "nbformat": 4,
 "nbformat_minor": 4
}
