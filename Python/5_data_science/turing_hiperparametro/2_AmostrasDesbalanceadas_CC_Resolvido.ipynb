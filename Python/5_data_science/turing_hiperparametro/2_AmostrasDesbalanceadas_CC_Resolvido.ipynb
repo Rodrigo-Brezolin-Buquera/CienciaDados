{
 "cells": [
  {
   "cell_type": "markdown",
   "metadata": {},
   "source": [
    "<img src=\"https://s3-sa-east-1.amazonaws.com/preditiva.ai/diversos/preditiva_assinatura.jpg\">\n",
    "\n",
    "# Hands On: Fraudes no Cartão de Crédito\n",
    "\n",
    "Referências:\n",
    "- Dataset Kaggle: https://www.kaggle.com/mlg-ulb/creditcardfraud\n",
    "- Lidando com dados desbalanceados: https://towardsdatascience.com/methods-for-dealing-with-imbalanced-data-5b761be45a18\n",
    "- Aula sobre Conceito Tuning Hiperparâmetros - Random Search: https://ead.preditiva.ai/74307-14-otimizacao-de-modelos/1737893-aula-2-random-search\n",
    "- Aula sobre Conceito Tuning Hiperparâmetros - Otimização Bayesiana: https://ead.preditiva.ai/74307-14-otimizacao-de-modelos/1737895-aula-4-bayesian-optimization\n",
    "- Aula sobre Mensuração de Valor de um Projeto: https://ead.preditiva.ai/61404-10-calculando-o-valor-de-um-projeto-de-dados-e-apresentando-os-resultados"
   ]
  },
  {
   "cell_type": "markdown",
   "metadata": {},
   "source": [
    "## Importação das bibliotecas"
   ]
  },
  {
   "cell_type": "code",
   "execution_count": null,
   "metadata": {},
   "outputs": [],
   "source": [
    "#pip install imbalanced-learn==0.7.0\n",
    "#pip install hyperopt"
   ]
  },
  {
   "cell_type": "code",
   "execution_count": 1,
   "metadata": {},
   "outputs": [],
   "source": [
    "# Pacotes de preparação dos dados\n",
    "import numpy as np\n",
    "import pandas as pd\n",
    "\n",
    "# Pacotes gráficos\n",
    "import matplotlib.pyplot as plt\n",
    "%matplotlib inline\n",
    "import seaborn as sns\n",
    "import matplotlib\n",
    "matplotlib.use('module://ipykernel.pylab.backend_inline')\n",
    "\n",
    "# Pacotes de Modelagem\n",
    "from sklearn.model_selection import train_test_split\n",
    "from sklearn.model_selection import RandomizedSearchCV\n",
    "from sklearn.model_selection import GridSearchCV\n",
    "from sklearn.model_selection import cross_val_score\n",
    "from sklearn.ensemble import GradientBoostingClassifier\n",
    "\n",
    "# Métricas de Desempenho\n",
    "from sklearn.metrics import accuracy_score\n",
    "from sklearn.metrics import roc_auc_score\n",
    "from sklearn.metrics import precision_score\n",
    "from sklearn.metrics import recall_score\n",
    "from sklearn.metrics import f1_score\n",
    "from sklearn.metrics import r2_score\n",
    "from sklearn.metrics import mean_squared_error\n",
    "from sklearn.metrics import ConfusionMatrixDisplay, confusion_matrix\n",
    "from scipy.stats import ks_2samp\n",
    "\n",
    "# Pacote para Rebalanceameto de Amostras\n",
    "# Para instalar essa biblioteca utilize: pip install imbalanced-learn==0.7.0\n",
    "# IMPORTANTE: Necessário scikit-learn 0.22.1 em diante\n",
    "import imblearn\n",
    "\n",
    "# Pacote para Otimização de Hiperparâmetros\n",
    "from hyperopt import fmin, tpe, hp, STATUS_OK, Trials\n",
    "from hyperopt import space_eval"
   ]
  },
  {
   "cell_type": "code",
   "execution_count": 2,
   "metadata": {},
   "outputs": [],
   "source": [
    "import datetime\n",
    "def log_message(message):\n",
    "    print(datetime.datetime.now().strftime(\"%H:%M:%S - \"), message)"
   ]
  },
  {
   "cell_type": "markdown",
   "metadata": {},
   "source": [
    "## Definição de funções auxiliares"
   ]
  },
  {
   "cell_type": "code",
   "execution_count": 3,
   "metadata": {},
   "outputs": [],
   "source": [
    "def cria_grafico_var_qualitativa(tab):\n",
    "\n",
    "    # Aumenta o tamanho do gráfico (largura 8 e altura 4)\n",
    "    fig = plt.figure(figsize=(8,4))\n",
    "\n",
    "    # Cria um gráfico de barras usando o indice da tabela como rótulos do eixo X\n",
    "    cor = np.random.rand(3)\n",
    "    plt.bar(tab.index,tab['Freq_Relativa'],width = 0.7, tick_label=tab.index,color=cor,alpha=0.6)\n",
    "\n",
    "    plt.ylim(0,tab['Freq_Relativa'].max()+0.2)\n",
    "    plt.title(\"Frequência Relativa de {}\".format(list(tab.columns)[0]))\n",
    "\n",
    "    # cria um conjunto de pares de rótulos e frequencias relativas\n",
    "    for x,y in zip(tab.index,tab['Freq_Relativa']):\n",
    "\n",
    "        # formata o rotulo do percentual\n",
    "        rotulo = \"{:.4f}\".format(y)\n",
    "\n",
    "        # coloca o rotulo na posição (x,y), alinhado ao centro e com distância 0,5 do ponto (x,y)\n",
    "        plt.annotate(rotulo,(x,y),ha='center',textcoords=\"offset points\",xytext=(0,5))\n",
    "                \n",
    "def tabela_bivariada(data, var):\n",
    "    \n",
    "    df = pd.DataFrame(data[var].value_counts().sort_values(ascending=False).rename(var))\n",
    "    total = df[var].sum()\n",
    "    df['Freq_Relativa'] = (df[var]/total).round(decimals=4)\n",
    "    df['Freq_Acumulada'] = df['Freq_Relativa'].cumsum().round(decimals=4)\n",
    "    return df\n",
    "\n",
    "# Função para cálculo do KS\n",
    "def ks_stat(y, y_pred):\n",
    "    return ks_2samp(y_pred[y==1], y_pred[y!=1]).statistic\n",
    "\n",
    "# Função para cálculo do desempenho de modelos\n",
    "def calcula_desempenho(modelo, x_train, y_train, x_test, y_test):\n",
    "\n",
    "    # Cálculo dos valores preditos\n",
    "    ypred_train = modelo.predict(x_train)\n",
    "    ypred_proba_train = modelo.predict_proba(x_train)[:,1]\n",
    "\n",
    "    ypred_test = modelo.predict(x_test)\n",
    "    ypred_proba_test = modelo.predict_proba(x_test)[:,1]\n",
    "\n",
    "    # Métricas de Desempenho\n",
    "    acc_train = accuracy_score(y_train, ypred_train)\n",
    "    acc_test = accuracy_score(y_test, ypred_test)\n",
    "    \n",
    "    roc_train = roc_auc_score(y_train, ypred_proba_train)\n",
    "    roc_test = roc_auc_score(y_test, ypred_proba_test)\n",
    "    \n",
    "    ks_train = ks_stat(y_train, ypred_proba_train)\n",
    "    ks_test = ks_stat(y_test, ypred_proba_test)\n",
    "    \n",
    "    prec_train = precision_score(y_train, ypred_train, zero_division=0)\n",
    "    prec_test = precision_score(y_test, ypred_test, zero_division=0)\n",
    "    \n",
    "    recl_train = recall_score(y_train, ypred_train)\n",
    "    recl_test = recall_score(y_test, ypred_test)\n",
    "    \n",
    "    f1_train = f1_score(y_train, ypred_train)\n",
    "    f1_test = f1_score(y_test, ypred_test)\n",
    "\n",
    "    df_desemp = pd.DataFrame({'Treino':[acc_train, roc_train, ks_train, \n",
    "                                        prec_train, recl_train, f1_train],\n",
    "                              'Teste':[acc_test, roc_test, ks_test,\n",
    "                                       prec_test, recl_test, f1_test]},\n",
    "                            index=['Acurácia','AUROC','KS',\n",
    "                                   'Precision','Recall','F1'])\n",
    "    \n",
    "    df_desemp['Variação'] = round(df_desemp['Teste'] / df_desemp['Treino'] - 1, 2)\n",
    "    \n",
    "    return df_desemp\n",
    "\n",
    "def plot_confusion_matrix(modelo,X,y):\n",
    "    y_pred = modelo.predict(X)\n",
    "    cm = confusion_matrix(y, y_pred, normalize='all')\n",
    "    return ConfusionMatrixDisplay(cm).plot()\n",
    "    \n",
    "def matriz_confusao(modelo, X_train, y_train, X_test, y_test):\n",
    "    plot_confusion_matrix(modelo, X_train, y_train)\n",
    "    plt.title('Treino')    \n",
    "    plot_confusion_matrix(modelo, X_test, y_test)\n",
    "    plt.title('Teste')"
   ]
  },
  {
   "cell_type": "markdown",
   "metadata": {},
   "source": [
    "## Importação da base de dados"
   ]
  },
  {
   "cell_type": "code",
   "execution_count": 4,
   "metadata": {},
   "outputs": [
    {
     "data": {
      "text/html": [
       "<div>\n",
       "<style scoped>\n",
       "    .dataframe tbody tr th:only-of-type {\n",
       "        vertical-align: middle;\n",
       "    }\n",
       "\n",
       "    .dataframe tbody tr th {\n",
       "        vertical-align: top;\n",
       "    }\n",
       "\n",
       "    .dataframe thead th {\n",
       "        text-align: right;\n",
       "    }\n",
       "</style>\n",
       "<table border=\"1\" class=\"dataframe\">\n",
       "  <thead>\n",
       "    <tr style=\"text-align: right;\">\n",
       "      <th></th>\n",
       "      <th>Time</th>\n",
       "      <th>V1</th>\n",
       "      <th>V2</th>\n",
       "      <th>V3</th>\n",
       "      <th>V4</th>\n",
       "      <th>V5</th>\n",
       "      <th>V6</th>\n",
       "      <th>V7</th>\n",
       "      <th>V8</th>\n",
       "      <th>V9</th>\n",
       "      <th>...</th>\n",
       "      <th>V21</th>\n",
       "      <th>V22</th>\n",
       "      <th>V23</th>\n",
       "      <th>V24</th>\n",
       "      <th>V25</th>\n",
       "      <th>V26</th>\n",
       "      <th>V27</th>\n",
       "      <th>V28</th>\n",
       "      <th>Amount</th>\n",
       "      <th>Class</th>\n",
       "    </tr>\n",
       "  </thead>\n",
       "  <tbody>\n",
       "    <tr>\n",
       "      <th>0</th>\n",
       "      <td>0.0</td>\n",
       "      <td>-1.359807</td>\n",
       "      <td>-0.072781</td>\n",
       "      <td>2.536347</td>\n",
       "      <td>1.378155</td>\n",
       "      <td>-0.338321</td>\n",
       "      <td>0.462388</td>\n",
       "      <td>0.239599</td>\n",
       "      <td>0.098698</td>\n",
       "      <td>0.363787</td>\n",
       "      <td>...</td>\n",
       "      <td>-0.018307</td>\n",
       "      <td>0.277838</td>\n",
       "      <td>-0.110474</td>\n",
       "      <td>0.066928</td>\n",
       "      <td>0.128539</td>\n",
       "      <td>-0.189115</td>\n",
       "      <td>0.133558</td>\n",
       "      <td>-0.021053</td>\n",
       "      <td>149.62</td>\n",
       "      <td>0</td>\n",
       "    </tr>\n",
       "    <tr>\n",
       "      <th>1</th>\n",
       "      <td>0.0</td>\n",
       "      <td>1.191857</td>\n",
       "      <td>0.266151</td>\n",
       "      <td>0.166480</td>\n",
       "      <td>0.448154</td>\n",
       "      <td>0.060018</td>\n",
       "      <td>-0.082361</td>\n",
       "      <td>-0.078803</td>\n",
       "      <td>0.085102</td>\n",
       "      <td>-0.255425</td>\n",
       "      <td>...</td>\n",
       "      <td>-0.225775</td>\n",
       "      <td>-0.638672</td>\n",
       "      <td>0.101288</td>\n",
       "      <td>-0.339846</td>\n",
       "      <td>0.167170</td>\n",
       "      <td>0.125895</td>\n",
       "      <td>-0.008983</td>\n",
       "      <td>0.014724</td>\n",
       "      <td>2.69</td>\n",
       "      <td>0</td>\n",
       "    </tr>\n",
       "    <tr>\n",
       "      <th>2</th>\n",
       "      <td>1.0</td>\n",
       "      <td>-1.358354</td>\n",
       "      <td>-1.340163</td>\n",
       "      <td>1.773209</td>\n",
       "      <td>0.379780</td>\n",
       "      <td>-0.503198</td>\n",
       "      <td>1.800499</td>\n",
       "      <td>0.791461</td>\n",
       "      <td>0.247676</td>\n",
       "      <td>-1.514654</td>\n",
       "      <td>...</td>\n",
       "      <td>0.247998</td>\n",
       "      <td>0.771679</td>\n",
       "      <td>0.909412</td>\n",
       "      <td>-0.689281</td>\n",
       "      <td>-0.327642</td>\n",
       "      <td>-0.139097</td>\n",
       "      <td>-0.055353</td>\n",
       "      <td>-0.059752</td>\n",
       "      <td>378.66</td>\n",
       "      <td>0</td>\n",
       "    </tr>\n",
       "    <tr>\n",
       "      <th>3</th>\n",
       "      <td>1.0</td>\n",
       "      <td>-0.966272</td>\n",
       "      <td>-0.185226</td>\n",
       "      <td>1.792993</td>\n",
       "      <td>-0.863291</td>\n",
       "      <td>-0.010309</td>\n",
       "      <td>1.247203</td>\n",
       "      <td>0.237609</td>\n",
       "      <td>0.377436</td>\n",
       "      <td>-1.387024</td>\n",
       "      <td>...</td>\n",
       "      <td>-0.108300</td>\n",
       "      <td>0.005274</td>\n",
       "      <td>-0.190321</td>\n",
       "      <td>-1.175575</td>\n",
       "      <td>0.647376</td>\n",
       "      <td>-0.221929</td>\n",
       "      <td>0.062723</td>\n",
       "      <td>0.061458</td>\n",
       "      <td>123.50</td>\n",
       "      <td>0</td>\n",
       "    </tr>\n",
       "    <tr>\n",
       "      <th>4</th>\n",
       "      <td>2.0</td>\n",
       "      <td>-1.158233</td>\n",
       "      <td>0.877737</td>\n",
       "      <td>1.548718</td>\n",
       "      <td>0.403034</td>\n",
       "      <td>-0.407193</td>\n",
       "      <td>0.095921</td>\n",
       "      <td>0.592941</td>\n",
       "      <td>-0.270533</td>\n",
       "      <td>0.817739</td>\n",
       "      <td>...</td>\n",
       "      <td>-0.009431</td>\n",
       "      <td>0.798278</td>\n",
       "      <td>-0.137458</td>\n",
       "      <td>0.141267</td>\n",
       "      <td>-0.206010</td>\n",
       "      <td>0.502292</td>\n",
       "      <td>0.219422</td>\n",
       "      <td>0.215153</td>\n",
       "      <td>69.99</td>\n",
       "      <td>0</td>\n",
       "    </tr>\n",
       "  </tbody>\n",
       "</table>\n",
       "<p>5 rows × 31 columns</p>\n",
       "</div>"
      ],
      "text/plain": [
       "   Time        V1        V2        V3        V4        V5        V6        V7  \\\n",
       "0   0.0 -1.359807 -0.072781  2.536347  1.378155 -0.338321  0.462388  0.239599   \n",
       "1   0.0  1.191857  0.266151  0.166480  0.448154  0.060018 -0.082361 -0.078803   \n",
       "2   1.0 -1.358354 -1.340163  1.773209  0.379780 -0.503198  1.800499  0.791461   \n",
       "3   1.0 -0.966272 -0.185226  1.792993 -0.863291 -0.010309  1.247203  0.237609   \n",
       "4   2.0 -1.158233  0.877737  1.548718  0.403034 -0.407193  0.095921  0.592941   \n",
       "\n",
       "         V8        V9  ...       V21       V22       V23       V24       V25  \\\n",
       "0  0.098698  0.363787  ... -0.018307  0.277838 -0.110474  0.066928  0.128539   \n",
       "1  0.085102 -0.255425  ... -0.225775 -0.638672  0.101288 -0.339846  0.167170   \n",
       "2  0.247676 -1.514654  ...  0.247998  0.771679  0.909412 -0.689281 -0.327642   \n",
       "3  0.377436 -1.387024  ... -0.108300  0.005274 -0.190321 -1.175575  0.647376   \n",
       "4 -0.270533  0.817739  ... -0.009431  0.798278 -0.137458  0.141267 -0.206010   \n",
       "\n",
       "        V26       V27       V28  Amount  Class  \n",
       "0 -0.189115  0.133558 -0.021053  149.62      0  \n",
       "1  0.125895 -0.008983  0.014724    2.69      0  \n",
       "2 -0.139097 -0.055353 -0.059752  378.66      0  \n",
       "3 -0.221929  0.062723  0.061458  123.50      0  \n",
       "4  0.502292  0.219422  0.215153   69.99      0  \n",
       "\n",
       "[5 rows x 31 columns]"
      ]
     },
     "execution_count": 4,
     "metadata": {},
     "output_type": "execute_result"
    }
   ],
   "source": [
    "df = pd.read_csv('creditcard.zip')\n",
    "df.head()"
   ]
  },
  {
   "cell_type": "markdown",
   "metadata": {
    "tags": []
   },
   "source": [
    "## Preparação dos Dados"
   ]
  },
  {
   "cell_type": "markdown",
   "metadata": {
    "tags": []
   },
   "source": [
    "### Missing Values"
   ]
  },
  {
   "cell_type": "code",
   "execution_count": 5,
   "metadata": {
    "tags": []
   },
   "outputs": [
    {
     "data": {
      "text/plain": [
       "Time      0\n",
       "V1        0\n",
       "V2        0\n",
       "V3        0\n",
       "V4        0\n",
       "V5        0\n",
       "V6        0\n",
       "V7        0\n",
       "V8        0\n",
       "V9        0\n",
       "V10       0\n",
       "V11       0\n",
       "V12       0\n",
       "V13       0\n",
       "V14       0\n",
       "V15       0\n",
       "V16       0\n",
       "V17       0\n",
       "V18       0\n",
       "V19       0\n",
       "V20       0\n",
       "V21       0\n",
       "V22       0\n",
       "V23       0\n",
       "V24       0\n",
       "V25       0\n",
       "V26       0\n",
       "V27       0\n",
       "V28       0\n",
       "Amount    0\n",
       "Class     0\n",
       "dtype: int64"
      ]
     },
     "execution_count": 5,
     "metadata": {},
     "output_type": "execute_result"
    }
   ],
   "source": [
    "df.isnull().sum()"
   ]
  },
  {
   "cell_type": "markdown",
   "metadata": {
    "tags": []
   },
   "source": [
    "### Duplicações"
   ]
  },
  {
   "cell_type": "code",
   "execution_count": 6,
   "metadata": {
    "tags": []
   },
   "outputs": [
    {
     "data": {
      "text/plain": [
       "1081"
      ]
     },
     "execution_count": 6,
     "metadata": {},
     "output_type": "execute_result"
    }
   ],
   "source": [
    "df.duplicated().sum()"
   ]
  },
  {
   "cell_type": "code",
   "execution_count": 7,
   "metadata": {},
   "outputs": [],
   "source": [
    "df.drop_duplicates(inplace=True)"
   ]
  },
  {
   "cell_type": "markdown",
   "metadata": {},
   "source": [
    "### Tipos de Variáveis"
   ]
  },
  {
   "cell_type": "code",
   "execution_count": 8,
   "metadata": {},
   "outputs": [
    {
     "data": {
      "text/html": [
       "<div>\n",
       "<style scoped>\n",
       "    .dataframe tbody tr th:only-of-type {\n",
       "        vertical-align: middle;\n",
       "    }\n",
       "\n",
       "    .dataframe tbody tr th {\n",
       "        vertical-align: top;\n",
       "    }\n",
       "\n",
       "    .dataframe thead th {\n",
       "        text-align: right;\n",
       "    }\n",
       "</style>\n",
       "<table border=\"1\" class=\"dataframe\">\n",
       "  <thead>\n",
       "    <tr style=\"text-align: right;\">\n",
       "      <th></th>\n",
       "      <th>Time</th>\n",
       "      <th>V1</th>\n",
       "      <th>V2</th>\n",
       "      <th>V3</th>\n",
       "      <th>V4</th>\n",
       "      <th>V5</th>\n",
       "      <th>V6</th>\n",
       "      <th>V7</th>\n",
       "      <th>V8</th>\n",
       "      <th>V9</th>\n",
       "      <th>...</th>\n",
       "      <th>V21</th>\n",
       "      <th>V22</th>\n",
       "      <th>V23</th>\n",
       "      <th>V24</th>\n",
       "      <th>V25</th>\n",
       "      <th>V26</th>\n",
       "      <th>V27</th>\n",
       "      <th>V28</th>\n",
       "      <th>Amount</th>\n",
       "      <th>Class</th>\n",
       "    </tr>\n",
       "  </thead>\n",
       "  <tbody>\n",
       "    <tr>\n",
       "      <th>0</th>\n",
       "      <td>0.0</td>\n",
       "      <td>-1.359807</td>\n",
       "      <td>-0.072781</td>\n",
       "      <td>2.536347</td>\n",
       "      <td>1.378155</td>\n",
       "      <td>-0.338321</td>\n",
       "      <td>0.462388</td>\n",
       "      <td>0.239599</td>\n",
       "      <td>0.098698</td>\n",
       "      <td>0.363787</td>\n",
       "      <td>...</td>\n",
       "      <td>-0.018307</td>\n",
       "      <td>0.277838</td>\n",
       "      <td>-0.110474</td>\n",
       "      <td>0.066928</td>\n",
       "      <td>0.128539</td>\n",
       "      <td>-0.189115</td>\n",
       "      <td>0.133558</td>\n",
       "      <td>-0.021053</td>\n",
       "      <td>149.62</td>\n",
       "      <td>0</td>\n",
       "    </tr>\n",
       "    <tr>\n",
       "      <th>1</th>\n",
       "      <td>0.0</td>\n",
       "      <td>1.191857</td>\n",
       "      <td>0.266151</td>\n",
       "      <td>0.166480</td>\n",
       "      <td>0.448154</td>\n",
       "      <td>0.060018</td>\n",
       "      <td>-0.082361</td>\n",
       "      <td>-0.078803</td>\n",
       "      <td>0.085102</td>\n",
       "      <td>-0.255425</td>\n",
       "      <td>...</td>\n",
       "      <td>-0.225775</td>\n",
       "      <td>-0.638672</td>\n",
       "      <td>0.101288</td>\n",
       "      <td>-0.339846</td>\n",
       "      <td>0.167170</td>\n",
       "      <td>0.125895</td>\n",
       "      <td>-0.008983</td>\n",
       "      <td>0.014724</td>\n",
       "      <td>2.69</td>\n",
       "      <td>0</td>\n",
       "    </tr>\n",
       "  </tbody>\n",
       "</table>\n",
       "<p>2 rows × 31 columns</p>\n",
       "</div>"
      ],
      "text/plain": [
       "   Time        V1        V2        V3        V4        V5        V6        V7  \\\n",
       "0   0.0 -1.359807 -0.072781  2.536347  1.378155 -0.338321  0.462388  0.239599   \n",
       "1   0.0  1.191857  0.266151  0.166480  0.448154  0.060018 -0.082361 -0.078803   \n",
       "\n",
       "         V8        V9  ...       V21       V22       V23       V24       V25  \\\n",
       "0  0.098698  0.363787  ... -0.018307  0.277838 -0.110474  0.066928  0.128539   \n",
       "1  0.085102 -0.255425  ... -0.225775 -0.638672  0.101288 -0.339846  0.167170   \n",
       "\n",
       "        V26       V27       V28  Amount  Class  \n",
       "0 -0.189115  0.133558 -0.021053  149.62      0  \n",
       "1  0.125895 -0.008983  0.014724    2.69      0  \n",
       "\n",
       "[2 rows x 31 columns]"
      ]
     },
     "execution_count": 8,
     "metadata": {},
     "output_type": "execute_result"
    }
   ],
   "source": [
    "df.head(2)"
   ]
  },
  {
   "cell_type": "code",
   "execution_count": 9,
   "metadata": {},
   "outputs": [
    {
     "name": "stdout",
     "output_type": "stream",
     "text": [
      "<class 'pandas.core.frame.DataFrame'>\n",
      "Index: 283726 entries, 0 to 284806\n",
      "Data columns (total 31 columns):\n",
      " #   Column  Non-Null Count   Dtype  \n",
      "---  ------  --------------   -----  \n",
      " 0   Time    283726 non-null  float64\n",
      " 1   V1      283726 non-null  float64\n",
      " 2   V2      283726 non-null  float64\n",
      " 3   V3      283726 non-null  float64\n",
      " 4   V4      283726 non-null  float64\n",
      " 5   V5      283726 non-null  float64\n",
      " 6   V6      283726 non-null  float64\n",
      " 7   V7      283726 non-null  float64\n",
      " 8   V8      283726 non-null  float64\n",
      " 9   V9      283726 non-null  float64\n",
      " 10  V10     283726 non-null  float64\n",
      " 11  V11     283726 non-null  float64\n",
      " 12  V12     283726 non-null  float64\n",
      " 13  V13     283726 non-null  float64\n",
      " 14  V14     283726 non-null  float64\n",
      " 15  V15     283726 non-null  float64\n",
      " 16  V16     283726 non-null  float64\n",
      " 17  V17     283726 non-null  float64\n",
      " 18  V18     283726 non-null  float64\n",
      " 19  V19     283726 non-null  float64\n",
      " 20  V20     283726 non-null  float64\n",
      " 21  V21     283726 non-null  float64\n",
      " 22  V22     283726 non-null  float64\n",
      " 23  V23     283726 non-null  float64\n",
      " 24  V24     283726 non-null  float64\n",
      " 25  V25     283726 non-null  float64\n",
      " 26  V26     283726 non-null  float64\n",
      " 27  V27     283726 non-null  float64\n",
      " 28  V28     283726 non-null  float64\n",
      " 29  Amount  283726 non-null  float64\n",
      " 30  Class   283726 non-null  int64  \n",
      "dtypes: float64(30), int64(1)\n",
      "memory usage: 69.3 MB\n"
     ]
    }
   ],
   "source": [
    "df.info()"
   ]
  },
  {
   "cell_type": "markdown",
   "metadata": {
    "tags": []
   },
   "source": [
    "## Análise Exploratória dos Dados"
   ]
  },
  {
   "cell_type": "markdown",
   "metadata": {},
   "source": [
    "### Distribuição das classes: Fraude / Não Fraude"
   ]
  },
  {
   "cell_type": "code",
   "execution_count": 10,
   "metadata": {},
   "outputs": [
    {
     "data": {
      "image/png": "[encoded data removed]",
      "text/plain": [
       "<Figure size 800x400 with 1 Axes>"
      ]
     },
     "metadata": {},
     "output_type": "display_data"
    }
   ],
   "source": [
    "cria_grafico_var_qualitativa(tabela_bivariada(df,'Class'))"
   ]
  },
  {
   "cell_type": "code",
   "execution_count": 11,
   "metadata": {},
   "outputs": [
    {
     "data": {
      "text/html": [
       "<div>\n",
       "<style scoped>\n",
       "    .dataframe tbody tr th:only-of-type {\n",
       "        vertical-align: middle;\n",
       "    }\n",
       "\n",
       "    .dataframe tbody tr th {\n",
       "        vertical-align: top;\n",
       "    }\n",
       "\n",
       "    .dataframe thead th {\n",
       "        text-align: right;\n",
       "    }\n",
       "</style>\n",
       "<table border=\"1\" class=\"dataframe\">\n",
       "  <thead>\n",
       "    <tr style=\"text-align: right;\">\n",
       "      <th></th>\n",
       "      <th>Class</th>\n",
       "      <th>Freq_Relativa</th>\n",
       "      <th>Freq_Acumulada</th>\n",
       "    </tr>\n",
       "    <tr>\n",
       "      <th>Class</th>\n",
       "      <th></th>\n",
       "      <th></th>\n",
       "      <th></th>\n",
       "    </tr>\n",
       "  </thead>\n",
       "  <tbody>\n",
       "    <tr>\n",
       "      <th>0</th>\n",
       "      <td>283253</td>\n",
       "      <td>0.9983</td>\n",
       "      <td>0.9983</td>\n",
       "    </tr>\n",
       "    <tr>\n",
       "      <th>1</th>\n",
       "      <td>473</td>\n",
       "      <td>0.0017</td>\n",
       "      <td>1.0000</td>\n",
       "    </tr>\n",
       "  </tbody>\n",
       "</table>\n",
       "</div>"
      ],
      "text/plain": [
       "        Class  Freq_Relativa  Freq_Acumulada\n",
       "Class                                       \n",
       "0      283253         0.9983          0.9983\n",
       "1         473         0.0017          1.0000"
      ]
     },
     "execution_count": 11,
     "metadata": {},
     "output_type": "execute_result"
    }
   ],
   "source": [
    "tabela_bivariada(df, 'Class')"
   ]
  },
  {
   "cell_type": "markdown",
   "metadata": {},
   "source": [
    "## Desenvolvimento dos Modelos"
   ]
  },
  {
   "cell_type": "markdown",
   "metadata": {},
   "source": [
    "### Definição do *Target* e das *Features*"
   ]
  },
  {
   "cell_type": "code",
   "execution_count": 12,
   "metadata": {},
   "outputs": [
    {
     "data": {
      "text/plain": [
       "Index(['Time', 'V1', 'V2', 'V3', 'V4', 'V5', 'V6', 'V7', 'V8', 'V9', 'V10',\n",
       "       'V11', 'V12', 'V13', 'V14', 'V15', 'V16', 'V17', 'V18', 'V19', 'V20',\n",
       "       'V21', 'V22', 'V23', 'V24', 'V25', 'V26', 'V27', 'V28', 'Amount',\n",
       "       'Class'],\n",
       "      dtype='object')"
      ]
     },
     "execution_count": 12,
     "metadata": {},
     "output_type": "execute_result"
    }
   ],
   "source": [
    "df.columns"
   ]
  },
  {
   "cell_type": "code",
   "execution_count": 13,
   "metadata": {},
   "outputs": [],
   "source": [
    "# Target (variável resposta)\n",
    "y_var = 'Class'\n",
    "y = df[y_var]\n",
    "\n",
    "# Features (variáveis explicativas)\n",
    "# Variáveis Numéricas\n",
    "x_var_num = [\n",
    "    'V1', 'V2', 'V3', 'V4', 'V5', 'V6', 'V7', 'V8', 'V9', 'V10',\n",
    "    'V11', 'V12', 'V13', 'V14', 'V15', 'V16', 'V17', 'V18', 'V19',\n",
    "    'V20', 'V21', 'V22', 'V23', 'V24', 'V25', 'V26', 'V27', 'V28',\n",
    "    'Amount'\n",
    "    ]\n",
    "x_num = df[x_var_num].to_numpy()"
   ]
  },
  {
   "cell_type": "markdown",
   "metadata": {},
   "source": [
    "### Divisão das bases em Treino e Teste"
   ]
  },
  {
   "cell_type": "code",
   "execution_count": 14,
   "metadata": {},
   "outputs": [],
   "source": [
    "# Divisão em treino e teste\n",
    "from sklearn.model_selection import train_test_split\n",
    "x_train, x_test, y_train, y_test = train_test_split(x_num, y, \n",
    "                                                    test_size=0.30,\n",
    "                                                    random_state=42)"
   ]
  },
  {
   "cell_type": "markdown",
   "metadata": {},
   "source": [
    "### Criação de modelo baseline"
   ]
  },
  {
   "cell_type": "code",
   "execution_count": 15,
   "metadata": {},
   "outputs": [],
   "source": [
    "# função para modelo Gradient Boosting\n",
    "def modelo_GB(min_samples_leaf=10, max_depth=3,n_estimators=50, random_state=42, subsample=0.5):\n",
    "    \n",
    "    # Definição da estrutura do modelo\n",
    "    model = GradientBoostingClassifier(\n",
    "        n_estimators=n_estimators, \n",
    "        subsample=subsample,\n",
    "        min_samples_leaf=min_samples_leaf,\n",
    "        max_depth=max_depth, \n",
    "        random_state=42\n",
    "    )\n",
    "    return model"
   ]
  },
  {
   "cell_type": "code",
   "execution_count": 16,
   "metadata": {
    "tags": []
   },
   "outputs": [
    {
     "data": {
      "text/html": [
       "<style>#sk-container-id-1 {color: black;background-color: white;}#sk-container-id-1 pre{padding: 0;}#sk-container-id-1 div.sk-toggleable {background-color: white;}#sk-container-id-1 label.sk-toggleable__label {cursor: pointer;display: block;width: 100%;margin-bottom: 0;padding: 0.3em;box-sizing: border-box;text-align: center;}#sk-container-id-1 label.sk-toggleable__label-arrow:before {content: \"▸\";float: left;margin-right: 0.25em;color: #696969;}#sk-container-id-1 label.sk-toggleable__label-arrow:hover:before {color: black;}#sk-container-id-1 div.sk-estimator:hover label.sk-toggleable__label-arrow:before {color: black;}#sk-container-id-1 div.sk-toggleable__content {max-height: 0;max-width: 0;overflow: hidden;text-align: left;background-color: #f0f8ff;}#sk-container-id-1 div.sk-toggleable__content pre {margin: 0.2em;color: black;border-radius: 0.25em;background-color: #f0f8ff;}#sk-container-id-1 input.sk-toggleable__control:checked~div.sk-toggleable__content {max-height: 200px;max-width: 100%;overflow: auto;}#sk-container-id-1 input.sk-toggleable__control:checked~label.sk-toggleable__label-arrow:before {content: \"▾\";}#sk-container-id-1 div.sk-estimator input.sk-toggleable__control:checked~label.sk-toggleable__label {background-color: #d4ebff;}#sk-container-id-1 div.sk-label input.sk-toggleable__control:checked~label.sk-toggleable__label {background-color: #d4ebff;}#sk-container-id-1 input.sk-hidden--visually {border: 0;clip: rect(1px 1px 1px 1px);clip: rect(1px, 1px, 1px, 1px);height: 1px;margin: -1px;overflow: hidden;padding: 0;position: absolute;width: 1px;}#sk-container-id-1 div.sk-estimator {font-family: monospace;background-color: #f0f8ff;border: 1px dotted black;border-radius: 0.25em;box-sizing: border-box;margin-bottom: 0.5em;}#sk-container-id-1 div.sk-estimator:hover {background-color: #d4ebff;}#sk-container-id-1 div.sk-parallel-item::after {content: \"\";width: 100%;border-bottom: 1px solid gray;flex-grow: 1;}#sk-container-id-1 div.sk-label:hover label.sk-toggleable__label {background-color: #d4ebff;}#sk-container-id-1 div.sk-serial::before {content: \"\";position: absolute;border-left: 1px solid gray;box-sizing: border-box;top: 0;bottom: 0;left: 50%;z-index: 0;}#sk-container-id-1 div.sk-serial {display: flex;flex-direction: column;align-items: center;background-color: white;padding-right: 0.2em;padding-left: 0.2em;position: relative;}#sk-container-id-1 div.sk-item {position: relative;z-index: 1;}#sk-container-id-1 div.sk-parallel {display: flex;align-items: stretch;justify-content: center;background-color: white;position: relative;}#sk-container-id-1 div.sk-item::before, #sk-container-id-1 div.sk-parallel-item::before {content: \"\";position: absolute;border-left: 1px solid gray;box-sizing: border-box;top: 0;bottom: 0;left: 50%;z-index: -1;}#sk-container-id-1 div.sk-parallel-item {display: flex;flex-direction: column;z-index: 1;position: relative;background-color: white;}#sk-container-id-1 div.sk-parallel-item:first-child::after {align-self: flex-end;width: 50%;}#sk-container-id-1 div.sk-parallel-item:last-child::after {align-self: flex-start;width: 50%;}#sk-container-id-1 div.sk-parallel-item:only-child::after {width: 0;}#sk-container-id-1 div.sk-dashed-wrapped {border: 1px dashed gray;margin: 0 0.4em 0.5em 0.4em;box-sizing: border-box;padding-bottom: 0.4em;background-color: white;}#sk-container-id-1 div.sk-label label {font-family: monospace;font-weight: bold;display: inline-block;line-height: 1.2em;}#sk-container-id-1 div.sk-label-container {text-align: center;}#sk-container-id-1 div.sk-container {/* jupyter's `normalize.less` sets `[hidden] { display: none; }` but bootstrap.min.css set `[hidden] { display: none !important; }` so we also need the `!important` here to be able to override the default hidden behavior on the sphinx rendered scikit-learn.org. See: https://github.com/scikit-learn/scikit-learn/issues/21755 */display: inline-block !important;position: relative;}#sk-container-id-1 div.sk-text-repr-fallback {display: none;}</style><div id=\"sk-container-id-1\" class=\"sk-top-container\"><div class=\"sk-text-repr-fallback\"><pre>GradientBoostingClassifier(min_samples_leaf=10, n_estimators=50,\n",
       "                           random_state=42, subsample=0.5)</pre><b>In a Jupyter environment, please rerun this cell to show the HTML representation or trust the notebook. <br />On GitHub, the HTML representation is unable to render, please try loading this page with nbviewer.org.</b></div><div class=\"sk-container\" hidden><div class=\"sk-item\"><div class=\"sk-estimator sk-toggleable\"><input class=\"sk-toggleable__control sk-hidden--visually\" id=\"sk-estimator-id-1\" type=\"checkbox\" checked><label for=\"sk-estimator-id-1\" class=\"sk-toggleable__label sk-toggleable__label-arrow\">GradientBoostingClassifier</label><div class=\"sk-toggleable__content\"><pre>GradientBoostingClassifier(min_samples_leaf=10, n_estimators=50,\n",
       "                           random_state=42, subsample=0.5)</pre></div></div></div></div></div>"
      ],
      "text/plain": [
       "GradientBoostingClassifier(min_samples_leaf=10, n_estimators=50,\n",
       "                           random_state=42, subsample=0.5)"
      ]
     },
     "execution_count": 16,
     "metadata": {},
     "output_type": "execute_result"
    }
   ],
   "source": [
    "# Treinamento de um modelo Gradient Boosting\n",
    "modelo_base = modelo_GB()\n",
    "modelo_base.fit(x_train, y_train)"
   ]
  },
  {
   "cell_type": "code",
   "execution_count": 17,
   "metadata": {},
   "outputs": [
    {
     "data": {
      "text/html": [
       "<div>\n",
       "<style scoped>\n",
       "    .dataframe tbody tr th:only-of-type {\n",
       "        vertical-align: middle;\n",
       "    }\n",
       "\n",
       "    .dataframe tbody tr th {\n",
       "        vertical-align: top;\n",
       "    }\n",
       "\n",
       "    .dataframe thead th {\n",
       "        text-align: right;\n",
       "    }\n",
       "</style>\n",
       "<table border=\"1\" class=\"dataframe\">\n",
       "  <thead>\n",
       "    <tr style=\"text-align: right;\">\n",
       "      <th></th>\n",
       "      <th>Treino</th>\n",
       "      <th>Teste</th>\n",
       "      <th>Variação</th>\n",
       "    </tr>\n",
       "  </thead>\n",
       "  <tbody>\n",
       "    <tr>\n",
       "      <th>Acurácia</th>\n",
       "      <td>0.998993</td>\n",
       "      <td>0.998896</td>\n",
       "      <td>-0.00</td>\n",
       "    </tr>\n",
       "    <tr>\n",
       "      <th>AUROC</th>\n",
       "      <td>0.805145</td>\n",
       "      <td>0.779668</td>\n",
       "      <td>-0.03</td>\n",
       "    </tr>\n",
       "    <tr>\n",
       "      <th>KS</th>\n",
       "      <td>0.730575</td>\n",
       "      <td>0.685002</td>\n",
       "      <td>-0.06</td>\n",
       "    </tr>\n",
       "    <tr>\n",
       "      <th>Precision</th>\n",
       "      <td>0.702624</td>\n",
       "      <td>0.647059</td>\n",
       "      <td>-0.08</td>\n",
       "    </tr>\n",
       "    <tr>\n",
       "      <th>Recall</th>\n",
       "      <td>0.710914</td>\n",
       "      <td>0.656716</td>\n",
       "      <td>-0.08</td>\n",
       "    </tr>\n",
       "    <tr>\n",
       "      <th>F1</th>\n",
       "      <td>0.706745</td>\n",
       "      <td>0.651852</td>\n",
       "      <td>-0.08</td>\n",
       "    </tr>\n",
       "  </tbody>\n",
       "</table>\n",
       "</div>"
      ],
      "text/plain": [
       "             Treino     Teste  Variação\n",
       "Acurácia   0.998993  0.998896     -0.00\n",
       "AUROC      0.805145  0.779668     -0.03\n",
       "KS         0.730575  0.685002     -0.06\n",
       "Precision  0.702624  0.647059     -0.08\n",
       "Recall     0.710914  0.656716     -0.08\n",
       "F1         0.706745  0.651852     -0.08"
      ]
     },
     "execution_count": 17,
     "metadata": {},
     "output_type": "execute_result"
    }
   ],
   "source": [
    "modelo_base_desemp = calcula_desempenho(modelo_base,\n",
    "                                        x_train, y_train,\n",
    "                                        x_test, y_test)\n",
    "modelo_base_desemp"
   ]
  },
  {
   "cell_type": "code",
   "execution_count": 18,
   "metadata": {},
   "outputs": [
    {
     "data": {
      "image/png": "[encoded data removed]",
      "text/plain": [
       "<Figure size 640x480 with 2 Axes>"
      ]
     },
     "metadata": {},
     "output_type": "display_data"
    },
    {
     "data": {
      "image/png": "[encoded data removed]",
      "text/plain": [
       "<Figure size 640x480 with 2 Axes>"
      ]
     },
     "metadata": {},
     "output_type": "display_data"
    }
   ],
   "source": [
    "modelo_base_matriz_confusao = matriz_confusao(modelo_base,\n",
    "                                              x_train, y_train,\n",
    "                                              x_test, y_test)\n",
    "\n",
    "modelo_base_matriz_confusao"
   ]
  },
  {
   "cell_type": "markdown",
   "metadata": {},
   "source": [
    "## Reamostragem dos Dados de Treino"
   ]
  },
  {
   "cell_type": "markdown",
   "metadata": {},
   "source": [
    "### Random Oversampling"
   ]
  },
  {
   "cell_type": "code",
   "execution_count": 19,
   "metadata": {},
   "outputs": [
    {
     "name": "stdout",
     "output_type": "stream",
     "text": [
      "Shape do y_train:  (198608,)\n",
      "Shape do y_train_over:  (237922,)\n"
     ]
    }
   ],
   "source": [
    "# IMPORTANTE: a reamostragem deve ser feita APENAS na base de Treino\n",
    "rnd_over = imblearn.over_sampling.RandomOverSampler(sampling_strategy=0.2,\n",
    "                                                    random_state=42)\n",
    "x_train_over, y_train_over = rnd_over.fit_resample(x_train, y_train)\n",
    "\n",
    "print('Shape do y_train: ', y_train.shape)\n",
    "print('Shape do y_train_over: ', y_train_over.shape)"
   ]
  },
  {
   "cell_type": "code",
   "execution_count": 20,
   "metadata": {},
   "outputs": [
    {
     "data": {
      "image/png": "[encoded data removed]",
      "text/plain": [
       "<Figure size 800x400 with 1 Axes>"
      ]
     },
     "metadata": {},
     "output_type": "display_data"
    }
   ],
   "source": [
    "cria_grafico_var_qualitativa(tabela_bivariada(pd.DataFrame(y_train_over),'Class'))"
   ]
  },
  {
   "cell_type": "code",
   "execution_count": 21,
   "metadata": {},
   "outputs": [
    {
     "data": {
      "text/html": [
       "<style>#sk-container-id-2 {color: black;background-color: white;}#sk-container-id-2 pre{padding: 0;}#sk-container-id-2 div.sk-toggleable {background-color: white;}#sk-container-id-2 label.sk-toggleable__label {cursor: pointer;display: block;width: 100%;margin-bottom: 0;padding: 0.3em;box-sizing: border-box;text-align: center;}#sk-container-id-2 label.sk-toggleable__label-arrow:before {content: \"▸\";float: left;margin-right: 0.25em;color: #696969;}#sk-container-id-2 label.sk-toggleable__label-arrow:hover:before {color: black;}#sk-container-id-2 div.sk-estimator:hover label.sk-toggleable__label-arrow:before {color: black;}#sk-container-id-2 div.sk-toggleable__content {max-height: 0;max-width: 0;overflow: hidden;text-align: left;background-color: #f0f8ff;}#sk-container-id-2 div.sk-toggleable__content pre {margin: 0.2em;color: black;border-radius: 0.25em;background-color: #f0f8ff;}#sk-container-id-2 input.sk-toggleable__control:checked~div.sk-toggleable__content {max-height: 200px;max-width: 100%;overflow: auto;}#sk-container-id-2 input.sk-toggleable__control:checked~label.sk-toggleable__label-arrow:before {content: \"▾\";}#sk-container-id-2 div.sk-estimator input.sk-toggleable__control:checked~label.sk-toggleable__label {background-color: #d4ebff;}#sk-container-id-2 div.sk-label input.sk-toggleable__control:checked~label.sk-toggleable__label {background-color: #d4ebff;}#sk-container-id-2 input.sk-hidden--visually {border: 0;clip: rect(1px 1px 1px 1px);clip: rect(1px, 1px, 1px, 1px);height: 1px;margin: -1px;overflow: hidden;padding: 0;position: absolute;width: 1px;}#sk-container-id-2 div.sk-estimator {font-family: monospace;background-color: #f0f8ff;border: 1px dotted black;border-radius: 0.25em;box-sizing: border-box;margin-bottom: 0.5em;}#sk-container-id-2 div.sk-estimator:hover {background-color: #d4ebff;}#sk-container-id-2 div.sk-parallel-item::after {content: \"\";width: 100%;border-bottom: 1px solid gray;flex-grow: 1;}#sk-container-id-2 div.sk-label:hover label.sk-toggleable__label {background-color: #d4ebff;}#sk-container-id-2 div.sk-serial::before {content: \"\";position: absolute;border-left: 1px solid gray;box-sizing: border-box;top: 0;bottom: 0;left: 50%;z-index: 0;}#sk-container-id-2 div.sk-serial {display: flex;flex-direction: column;align-items: center;background-color: white;padding-right: 0.2em;padding-left: 0.2em;position: relative;}#sk-container-id-2 div.sk-item {position: relative;z-index: 1;}#sk-container-id-2 div.sk-parallel {display: flex;align-items: stretch;justify-content: center;background-color: white;position: relative;}#sk-container-id-2 div.sk-item::before, #sk-container-id-2 div.sk-parallel-item::before {content: \"\";position: absolute;border-left: 1px solid gray;box-sizing: border-box;top: 0;bottom: 0;left: 50%;z-index: -1;}#sk-container-id-2 div.sk-parallel-item {display: flex;flex-direction: column;z-index: 1;position: relative;background-color: white;}#sk-container-id-2 div.sk-parallel-item:first-child::after {align-self: flex-end;width: 50%;}#sk-container-id-2 div.sk-parallel-item:last-child::after {align-self: flex-start;width: 50%;}#sk-container-id-2 div.sk-parallel-item:only-child::after {width: 0;}#sk-container-id-2 div.sk-dashed-wrapped {border: 1px dashed gray;margin: 0 0.4em 0.5em 0.4em;box-sizing: border-box;padding-bottom: 0.4em;background-color: white;}#sk-container-id-2 div.sk-label label {font-family: monospace;font-weight: bold;display: inline-block;line-height: 1.2em;}#sk-container-id-2 div.sk-label-container {text-align: center;}#sk-container-id-2 div.sk-container {/* jupyter's `normalize.less` sets `[hidden] { display: none; }` but bootstrap.min.css set `[hidden] { display: none !important; }` so we also need the `!important` here to be able to override the default hidden behavior on the sphinx rendered scikit-learn.org. See: https://github.com/scikit-learn/scikit-learn/issues/21755 */display: inline-block !important;position: relative;}#sk-container-id-2 div.sk-text-repr-fallback {display: none;}</style><div id=\"sk-container-id-2\" class=\"sk-top-container\"><div class=\"sk-text-repr-fallback\"><pre>GradientBoostingClassifier(min_samples_leaf=10, n_estimators=50,\n",
       "                           random_state=42, subsample=0.5)</pre><b>In a Jupyter environment, please rerun this cell to show the HTML representation or trust the notebook. <br />On GitHub, the HTML representation is unable to render, please try loading this page with nbviewer.org.</b></div><div class=\"sk-container\" hidden><div class=\"sk-item\"><div class=\"sk-estimator sk-toggleable\"><input class=\"sk-toggleable__control sk-hidden--visually\" id=\"sk-estimator-id-2\" type=\"checkbox\" checked><label for=\"sk-estimator-id-2\" class=\"sk-toggleable__label sk-toggleable__label-arrow\">GradientBoostingClassifier</label><div class=\"sk-toggleable__content\"><pre>GradientBoostingClassifier(min_samples_leaf=10, n_estimators=50,\n",
       "                           random_state=42, subsample=0.5)</pre></div></div></div></div></div>"
      ],
      "text/plain": [
       "GradientBoostingClassifier(min_samples_leaf=10, n_estimators=50,\n",
       "                           random_state=42, subsample=0.5)"
      ]
     },
     "execution_count": 21,
     "metadata": {},
     "output_type": "execute_result"
    }
   ],
   "source": [
    "# Treinamento de um modelo Gradient Boosting com Random Oversampling\n",
    "modelo_ro = modelo_GB()\n",
    "modelo_ro.fit(x_train_over, y_train_over)"
   ]
  },
  {
   "cell_type": "code",
   "execution_count": 22,
   "metadata": {},
   "outputs": [
    {
     "data": {
      "text/html": [
       "<div>\n",
       "<style scoped>\n",
       "    .dataframe tbody tr th:only-of-type {\n",
       "        vertical-align: middle;\n",
       "    }\n",
       "\n",
       "    .dataframe tbody tr th {\n",
       "        vertical-align: top;\n",
       "    }\n",
       "\n",
       "    .dataframe thead th {\n",
       "        text-align: right;\n",
       "    }\n",
       "</style>\n",
       "<table border=\"1\" class=\"dataframe\">\n",
       "  <thead>\n",
       "    <tr style=\"text-align: right;\">\n",
       "      <th></th>\n",
       "      <th>Treino</th>\n",
       "      <th>Teste</th>\n",
       "      <th>Variação</th>\n",
       "    </tr>\n",
       "  </thead>\n",
       "  <tbody>\n",
       "    <tr>\n",
       "      <th>Acurácia</th>\n",
       "      <td>0.986353</td>\n",
       "      <td>0.997486</td>\n",
       "      <td>0.01</td>\n",
       "    </tr>\n",
       "    <tr>\n",
       "      <th>AUROC</th>\n",
       "      <td>0.998174</td>\n",
       "      <td>0.977470</td>\n",
       "      <td>-0.02</td>\n",
       "    </tr>\n",
       "    <tr>\n",
       "      <th>KS</th>\n",
       "      <td>0.977066</td>\n",
       "      <td>0.883817</td>\n",
       "      <td>-0.10</td>\n",
       "    </tr>\n",
       "    <tr>\n",
       "      <th>Precision</th>\n",
       "      <td>0.989881</td>\n",
       "      <td>0.369281</td>\n",
       "      <td>-0.63</td>\n",
       "    </tr>\n",
       "    <tr>\n",
       "      <th>Recall</th>\n",
       "      <td>0.927597</td>\n",
       "      <td>0.843284</td>\n",
       "      <td>-0.09</td>\n",
       "    </tr>\n",
       "    <tr>\n",
       "      <th>F1</th>\n",
       "      <td>0.957727</td>\n",
       "      <td>0.513636</td>\n",
       "      <td>-0.46</td>\n",
       "    </tr>\n",
       "  </tbody>\n",
       "</table>\n",
       "</div>"
      ],
      "text/plain": [
       "             Treino     Teste  Variação\n",
       "Acurácia   0.986353  0.997486      0.01\n",
       "AUROC      0.998174  0.977470     -0.02\n",
       "KS         0.977066  0.883817     -0.10\n",
       "Precision  0.989881  0.369281     -0.63\n",
       "Recall     0.927597  0.843284     -0.09\n",
       "F1         0.957727  0.513636     -0.46"
      ]
     },
     "execution_count": 22,
     "metadata": {},
     "output_type": "execute_result"
    }
   ],
   "source": [
    "modelo_ro_desemp = calcula_desempenho(modelo_ro,\n",
    "                                      x_train_over, y_train_over,\n",
    "                                      x_test, y_test)\n",
    "modelo_ro_desemp"
   ]
  },
  {
   "cell_type": "code",
   "execution_count": 23,
   "metadata": {},
   "outputs": [
    {
     "data": {
      "text/html": [
       "<div>\n",
       "<style scoped>\n",
       "    .dataframe tbody tr th:only-of-type {\n",
       "        vertical-align: middle;\n",
       "    }\n",
       "\n",
       "    .dataframe tbody tr th {\n",
       "        vertical-align: top;\n",
       "    }\n",
       "\n",
       "    .dataframe thead th {\n",
       "        text-align: right;\n",
       "    }\n",
       "</style>\n",
       "<table border=\"1\" class=\"dataframe\">\n",
       "  <thead>\n",
       "    <tr style=\"text-align: right;\">\n",
       "      <th></th>\n",
       "      <th>Treino</th>\n",
       "      <th>Teste</th>\n",
       "      <th>Variação</th>\n",
       "    </tr>\n",
       "  </thead>\n",
       "  <tbody>\n",
       "    <tr>\n",
       "      <th>Acurácia</th>\n",
       "      <td>0.998993</td>\n",
       "      <td>0.998896</td>\n",
       "      <td>-0.00</td>\n",
       "    </tr>\n",
       "    <tr>\n",
       "      <th>AUROC</th>\n",
       "      <td>0.805145</td>\n",
       "      <td>0.779668</td>\n",
       "      <td>-0.03</td>\n",
       "    </tr>\n",
       "    <tr>\n",
       "      <th>KS</th>\n",
       "      <td>0.730575</td>\n",
       "      <td>0.685002</td>\n",
       "      <td>-0.06</td>\n",
       "    </tr>\n",
       "    <tr>\n",
       "      <th>Precision</th>\n",
       "      <td>0.702624</td>\n",
       "      <td>0.647059</td>\n",
       "      <td>-0.08</td>\n",
       "    </tr>\n",
       "    <tr>\n",
       "      <th>Recall</th>\n",
       "      <td>0.710914</td>\n",
       "      <td>0.656716</td>\n",
       "      <td>-0.08</td>\n",
       "    </tr>\n",
       "    <tr>\n",
       "      <th>F1</th>\n",
       "      <td>0.706745</td>\n",
       "      <td>0.651852</td>\n",
       "      <td>-0.08</td>\n",
       "    </tr>\n",
       "  </tbody>\n",
       "</table>\n",
       "</div>"
      ],
      "text/plain": [
       "             Treino     Teste  Variação\n",
       "Acurácia   0.998993  0.998896     -0.00\n",
       "AUROC      0.805145  0.779668     -0.03\n",
       "KS         0.730575  0.685002     -0.06\n",
       "Precision  0.702624  0.647059     -0.08\n",
       "Recall     0.710914  0.656716     -0.08\n",
       "F1         0.706745  0.651852     -0.08"
      ]
     },
     "execution_count": 23,
     "metadata": {},
     "output_type": "execute_result"
    }
   ],
   "source": [
    "modelo_base_desemp"
   ]
  },
  {
   "cell_type": "markdown",
   "metadata": {},
   "source": [
    "### SMOTE Oversampling"
   ]
  },
  {
   "cell_type": "code",
   "execution_count": 24,
   "metadata": {},
   "outputs": [
    {
     "name": "stdout",
     "output_type": "stream",
     "text": [
      "Shape do y_train:  (198608,)\n",
      "Shape do y_train_over:  (237922,)\n"
     ]
    }
   ],
   "source": [
    "over_smote = imblearn.over_sampling.SMOTE(sampling_strategy=0.2,\n",
    "                                          random_state=42, \n",
    "                                          n_jobs=4)\n",
    "x_train_over_smote, y_train_over_smote = over_smote.fit_resample(x_train, y_train)\n",
    "\n",
    "print('Shape do y_train: ', y_train.shape)\n",
    "print('Shape do y_train_over: ', y_train_over_smote.shape)"
   ]
  },
  {
   "cell_type": "code",
   "execution_count": 25,
   "metadata": {},
   "outputs": [
    {
     "data": {
      "image/png": "[encoded data removed]",
      "text/plain": [
       "<Figure size 800x400 with 1 Axes>"
      ]
     },
     "metadata": {},
     "output_type": "display_data"
    }
   ],
   "source": [
    "cria_grafico_var_qualitativa(tabela_bivariada(pd.DataFrame(y_train_over_smote),'Class'))"
   ]
  },
  {
   "cell_type": "code",
   "execution_count": 26,
   "metadata": {},
   "outputs": [
    {
     "data": {
      "text/html": [
       "<style>#sk-container-id-3 {color: black;background-color: white;}#sk-container-id-3 pre{padding: 0;}#sk-container-id-3 div.sk-toggleable {background-color: white;}#sk-container-id-3 label.sk-toggleable__label {cursor: pointer;display: block;width: 100%;margin-bottom: 0;padding: 0.3em;box-sizing: border-box;text-align: center;}#sk-container-id-3 label.sk-toggleable__label-arrow:before {content: \"▸\";float: left;margin-right: 0.25em;color: #696969;}#sk-container-id-3 label.sk-toggleable__label-arrow:hover:before {color: black;}#sk-container-id-3 div.sk-estimator:hover label.sk-toggleable__label-arrow:before {color: black;}#sk-container-id-3 div.sk-toggleable__content {max-height: 0;max-width: 0;overflow: hidden;text-align: left;background-color: #f0f8ff;}#sk-container-id-3 div.sk-toggleable__content pre {margin: 0.2em;color: black;border-radius: 0.25em;background-color: #f0f8ff;}#sk-container-id-3 input.sk-toggleable__control:checked~div.sk-toggleable__content {max-height: 200px;max-width: 100%;overflow: auto;}#sk-container-id-3 input.sk-toggleable__control:checked~label.sk-toggleable__label-arrow:before {content: \"▾\";}#sk-container-id-3 div.sk-estimator input.sk-toggleable__control:checked~label.sk-toggleable__label {background-color: #d4ebff;}#sk-container-id-3 div.sk-label input.sk-toggleable__control:checked~label.sk-toggleable__label {background-color: #d4ebff;}#sk-container-id-3 input.sk-hidden--visually {border: 0;clip: rect(1px 1px 1px 1px);clip: rect(1px, 1px, 1px, 1px);height: 1px;margin: -1px;overflow: hidden;padding: 0;position: absolute;width: 1px;}#sk-container-id-3 div.sk-estimator {font-family: monospace;background-color: #f0f8ff;border: 1px dotted black;border-radius: 0.25em;box-sizing: border-box;margin-bottom: 0.5em;}#sk-container-id-3 div.sk-estimator:hover {background-color: #d4ebff;}#sk-container-id-3 div.sk-parallel-item::after {content: \"\";width: 100%;border-bottom: 1px solid gray;flex-grow: 1;}#sk-container-id-3 div.sk-label:hover label.sk-toggleable__label {background-color: #d4ebff;}#sk-container-id-3 div.sk-serial::before {content: \"\";position: absolute;border-left: 1px solid gray;box-sizing: border-box;top: 0;bottom: 0;left: 50%;z-index: 0;}#sk-container-id-3 div.sk-serial {display: flex;flex-direction: column;align-items: center;background-color: white;padding-right: 0.2em;padding-left: 0.2em;position: relative;}#sk-container-id-3 div.sk-item {position: relative;z-index: 1;}#sk-container-id-3 div.sk-parallel {display: flex;align-items: stretch;justify-content: center;background-color: white;position: relative;}#sk-container-id-3 div.sk-item::before, #sk-container-id-3 div.sk-parallel-item::before {content: \"\";position: absolute;border-left: 1px solid gray;box-sizing: border-box;top: 0;bottom: 0;left: 50%;z-index: -1;}#sk-container-id-3 div.sk-parallel-item {display: flex;flex-direction: column;z-index: 1;position: relative;background-color: white;}#sk-container-id-3 div.sk-parallel-item:first-child::after {align-self: flex-end;width: 50%;}#sk-container-id-3 div.sk-parallel-item:last-child::after {align-self: flex-start;width: 50%;}#sk-container-id-3 div.sk-parallel-item:only-child::after {width: 0;}#sk-container-id-3 div.sk-dashed-wrapped {border: 1px dashed gray;margin: 0 0.4em 0.5em 0.4em;box-sizing: border-box;padding-bottom: 0.4em;background-color: white;}#sk-container-id-3 div.sk-label label {font-family: monospace;font-weight: bold;display: inline-block;line-height: 1.2em;}#sk-container-id-3 div.sk-label-container {text-align: center;}#sk-container-id-3 div.sk-container {/* jupyter's `normalize.less` sets `[hidden] { display: none; }` but bootstrap.min.css set `[hidden] { display: none !important; }` so we also need the `!important` here to be able to override the default hidden behavior on the sphinx rendered scikit-learn.org. See: https://github.com/scikit-learn/scikit-learn/issues/21755 */display: inline-block !important;position: relative;}#sk-container-id-3 div.sk-text-repr-fallback {display: none;}</style><div id=\"sk-container-id-3\" class=\"sk-top-container\"><div class=\"sk-text-repr-fallback\"><pre>GradientBoostingClassifier(min_samples_leaf=10, n_estimators=50,\n",
       "                           random_state=42, subsample=0.5)</pre><b>In a Jupyter environment, please rerun this cell to show the HTML representation or trust the notebook. <br />On GitHub, the HTML representation is unable to render, please try loading this page with nbviewer.org.</b></div><div class=\"sk-container\" hidden><div class=\"sk-item\"><div class=\"sk-estimator sk-toggleable\"><input class=\"sk-toggleable__control sk-hidden--visually\" id=\"sk-estimator-id-3\" type=\"checkbox\" checked><label for=\"sk-estimator-id-3\" class=\"sk-toggleable__label sk-toggleable__label-arrow\">GradientBoostingClassifier</label><div class=\"sk-toggleable__content\"><pre>GradientBoostingClassifier(min_samples_leaf=10, n_estimators=50,\n",
       "                           random_state=42, subsample=0.5)</pre></div></div></div></div></div>"
      ],
      "text/plain": [
       "GradientBoostingClassifier(min_samples_leaf=10, n_estimators=50,\n",
       "                           random_state=42, subsample=0.5)"
      ]
     },
     "execution_count": 26,
     "metadata": {},
     "output_type": "execute_result"
    }
   ],
   "source": [
    "# Treinamento de um modelo Gradient Boosting com SMOTE Oversampling\n",
    "modelo_smote = modelo_GB()\n",
    "modelo_smote.fit(x_train_over_smote, y_train_over_smote)"
   ]
  },
  {
   "cell_type": "code",
   "execution_count": 27,
   "metadata": {},
   "outputs": [
    {
     "data": {
      "text/html": [
       "<div>\n",
       "<style scoped>\n",
       "    .dataframe tbody tr th:only-of-type {\n",
       "        vertical-align: middle;\n",
       "    }\n",
       "\n",
       "    .dataframe tbody tr th {\n",
       "        vertical-align: top;\n",
       "    }\n",
       "\n",
       "    .dataframe thead th {\n",
       "        text-align: right;\n",
       "    }\n",
       "</style>\n",
       "<table border=\"1\" class=\"dataframe\">\n",
       "  <thead>\n",
       "    <tr style=\"text-align: right;\">\n",
       "      <th></th>\n",
       "      <th>Treino</th>\n",
       "      <th>Teste</th>\n",
       "      <th>Variação</th>\n",
       "    </tr>\n",
       "  </thead>\n",
       "  <tbody>\n",
       "    <tr>\n",
       "      <th>Acurácia</th>\n",
       "      <td>0.983709</td>\n",
       "      <td>0.997110</td>\n",
       "      <td>0.01</td>\n",
       "    </tr>\n",
       "    <tr>\n",
       "      <th>AUROC</th>\n",
       "      <td>0.995106</td>\n",
       "      <td>0.976996</td>\n",
       "      <td>-0.02</td>\n",
       "    </tr>\n",
       "    <tr>\n",
       "      <th>KS</th>\n",
       "      <td>0.938164</td>\n",
       "      <td>0.894344</td>\n",
       "      <td>-0.05</td>\n",
       "    </tr>\n",
       "    <tr>\n",
       "      <th>Precision</th>\n",
       "      <td>0.988610</td>\n",
       "      <td>0.335294</td>\n",
       "      <td>-0.66</td>\n",
       "    </tr>\n",
       "    <tr>\n",
       "      <th>Recall</th>\n",
       "      <td>0.912768</td>\n",
       "      <td>0.850746</td>\n",
       "      <td>-0.07</td>\n",
       "    </tr>\n",
       "    <tr>\n",
       "      <th>F1</th>\n",
       "      <td>0.949177</td>\n",
       "      <td>0.481013</td>\n",
       "      <td>-0.49</td>\n",
       "    </tr>\n",
       "  </tbody>\n",
       "</table>\n",
       "</div>"
      ],
      "text/plain": [
       "             Treino     Teste  Variação\n",
       "Acurácia   0.983709  0.997110      0.01\n",
       "AUROC      0.995106  0.976996     -0.02\n",
       "KS         0.938164  0.894344     -0.05\n",
       "Precision  0.988610  0.335294     -0.66\n",
       "Recall     0.912768  0.850746     -0.07\n",
       "F1         0.949177  0.481013     -0.49"
      ]
     },
     "execution_count": 27,
     "metadata": {},
     "output_type": "execute_result"
    }
   ],
   "source": [
    "modelo_smote_desemp = calcula_desempenho(modelo_smote, \n",
    "                                         x_train_over_smote, y_train_over_smote,\n",
    "                                         x_test, y_test)\n",
    "modelo_smote_desemp"
   ]
  },
  {
   "cell_type": "code",
   "execution_count": 28,
   "metadata": {},
   "outputs": [
    {
     "data": {
      "text/html": [
       "<div>\n",
       "<style scoped>\n",
       "    .dataframe tbody tr th:only-of-type {\n",
       "        vertical-align: middle;\n",
       "    }\n",
       "\n",
       "    .dataframe tbody tr th {\n",
       "        vertical-align: top;\n",
       "    }\n",
       "\n",
       "    .dataframe thead th {\n",
       "        text-align: right;\n",
       "    }\n",
       "</style>\n",
       "<table border=\"1\" class=\"dataframe\">\n",
       "  <thead>\n",
       "    <tr style=\"text-align: right;\">\n",
       "      <th></th>\n",
       "      <th>Treino</th>\n",
       "      <th>Teste</th>\n",
       "      <th>Variação</th>\n",
       "    </tr>\n",
       "  </thead>\n",
       "  <tbody>\n",
       "    <tr>\n",
       "      <th>Acurácia</th>\n",
       "      <td>0.998993</td>\n",
       "      <td>0.998896</td>\n",
       "      <td>-0.00</td>\n",
       "    </tr>\n",
       "    <tr>\n",
       "      <th>AUROC</th>\n",
       "      <td>0.805145</td>\n",
       "      <td>0.779668</td>\n",
       "      <td>-0.03</td>\n",
       "    </tr>\n",
       "    <tr>\n",
       "      <th>KS</th>\n",
       "      <td>0.730575</td>\n",
       "      <td>0.685002</td>\n",
       "      <td>-0.06</td>\n",
       "    </tr>\n",
       "    <tr>\n",
       "      <th>Precision</th>\n",
       "      <td>0.702624</td>\n",
       "      <td>0.647059</td>\n",
       "      <td>-0.08</td>\n",
       "    </tr>\n",
       "    <tr>\n",
       "      <th>Recall</th>\n",
       "      <td>0.710914</td>\n",
       "      <td>0.656716</td>\n",
       "      <td>-0.08</td>\n",
       "    </tr>\n",
       "    <tr>\n",
       "      <th>F1</th>\n",
       "      <td>0.706745</td>\n",
       "      <td>0.651852</td>\n",
       "      <td>-0.08</td>\n",
       "    </tr>\n",
       "  </tbody>\n",
       "</table>\n",
       "</div>"
      ],
      "text/plain": [
       "             Treino     Teste  Variação\n",
       "Acurácia   0.998993  0.998896     -0.00\n",
       "AUROC      0.805145  0.779668     -0.03\n",
       "KS         0.730575  0.685002     -0.06\n",
       "Precision  0.702624  0.647059     -0.08\n",
       "Recall     0.710914  0.656716     -0.08\n",
       "F1         0.706745  0.651852     -0.08"
      ]
     },
     "execution_count": 28,
     "metadata": {},
     "output_type": "execute_result"
    }
   ],
   "source": [
    "modelo_base_desemp"
   ]
  },
  {
   "cell_type": "markdown",
   "metadata": {},
   "source": [
    "### Random Undersampling"
   ]
  },
  {
   "cell_type": "code",
   "execution_count": 29,
   "metadata": {},
   "outputs": [
    {
     "name": "stdout",
     "output_type": "stream",
     "text": [
      "Shape do y_train:  (198608,)\n",
      "Shape do y_train_under:  (2034,)\n"
     ]
    }
   ],
   "source": [
    "# IMPORTANTE: a reamostragem deve ser feita APENAS na base de Treino\n",
    "rnd_under = imblearn.under_sampling.RandomUnderSampler(sampling_strategy=0.2,\n",
    "                                                       random_state=42)\n",
    "x_train_under, y_train_under = rnd_under.fit_resample(x_train, y_train)\n",
    "\n",
    "print('Shape do y_train: ', y_train.shape)\n",
    "print('Shape do y_train_under: ', y_train_under.shape)"
   ]
  },
  {
   "cell_type": "code",
   "execution_count": 30,
   "metadata": {},
   "outputs": [
    {
     "data": {
      "image/png": "[encoded data removed]",
      "text/plain": [
       "<Figure size 800x400 with 1 Axes>"
      ]
     },
     "metadata": {},
     "output_type": "display_data"
    }
   ],
   "source": [
    "cria_grafico_var_qualitativa(tabela_bivariada(pd.DataFrame(y_train_under),'Class'))"
   ]
  },
  {
   "cell_type": "code",
   "execution_count": 31,
   "metadata": {},
   "outputs": [
    {
     "data": {
      "text/html": [
       "<div>\n",
       "<style scoped>\n",
       "    .dataframe tbody tr th:only-of-type {\n",
       "        vertical-align: middle;\n",
       "    }\n",
       "\n",
       "    .dataframe tbody tr th {\n",
       "        vertical-align: top;\n",
       "    }\n",
       "\n",
       "    .dataframe thead th {\n",
       "        text-align: right;\n",
       "    }\n",
       "</style>\n",
       "<table border=\"1\" class=\"dataframe\">\n",
       "  <thead>\n",
       "    <tr style=\"text-align: right;\">\n",
       "      <th></th>\n",
       "      <th>Class</th>\n",
       "      <th>Freq_Relativa</th>\n",
       "      <th>Freq_Acumulada</th>\n",
       "    </tr>\n",
       "    <tr>\n",
       "      <th>Class</th>\n",
       "      <th></th>\n",
       "      <th></th>\n",
       "      <th></th>\n",
       "    </tr>\n",
       "  </thead>\n",
       "  <tbody>\n",
       "    <tr>\n",
       "      <th>0</th>\n",
       "      <td>198269</td>\n",
       "      <td>0.9983</td>\n",
       "      <td>0.9983</td>\n",
       "    </tr>\n",
       "    <tr>\n",
       "      <th>1</th>\n",
       "      <td>339</td>\n",
       "      <td>0.0017</td>\n",
       "      <td>1.0000</td>\n",
       "    </tr>\n",
       "  </tbody>\n",
       "</table>\n",
       "</div>"
      ],
      "text/plain": [
       "        Class  Freq_Relativa  Freq_Acumulada\n",
       "Class                                       \n",
       "0      198269         0.9983          0.9983\n",
       "1         339         0.0017          1.0000"
      ]
     },
     "execution_count": 31,
     "metadata": {},
     "output_type": "execute_result"
    }
   ],
   "source": [
    "tabela_bivariada(pd.DataFrame(y_train), 'Class')"
   ]
  },
  {
   "cell_type": "code",
   "execution_count": 32,
   "metadata": {},
   "outputs": [
    {
     "data": {
      "text/html": [
       "<div>\n",
       "<style scoped>\n",
       "    .dataframe tbody tr th:only-of-type {\n",
       "        vertical-align: middle;\n",
       "    }\n",
       "\n",
       "    .dataframe tbody tr th {\n",
       "        vertical-align: top;\n",
       "    }\n",
       "\n",
       "    .dataframe thead th {\n",
       "        text-align: right;\n",
       "    }\n",
       "</style>\n",
       "<table border=\"1\" class=\"dataframe\">\n",
       "  <thead>\n",
       "    <tr style=\"text-align: right;\">\n",
       "      <th></th>\n",
       "      <th>Class</th>\n",
       "      <th>Freq_Relativa</th>\n",
       "      <th>Freq_Acumulada</th>\n",
       "    </tr>\n",
       "    <tr>\n",
       "      <th>Class</th>\n",
       "      <th></th>\n",
       "      <th></th>\n",
       "      <th></th>\n",
       "    </tr>\n",
       "  </thead>\n",
       "  <tbody>\n",
       "    <tr>\n",
       "      <th>0</th>\n",
       "      <td>1695</td>\n",
       "      <td>0.8333</td>\n",
       "      <td>0.8333</td>\n",
       "    </tr>\n",
       "    <tr>\n",
       "      <th>1</th>\n",
       "      <td>339</td>\n",
       "      <td>0.1667</td>\n",
       "      <td>1.0000</td>\n",
       "    </tr>\n",
       "  </tbody>\n",
       "</table>\n",
       "</div>"
      ],
      "text/plain": [
       "       Class  Freq_Relativa  Freq_Acumulada\n",
       "Class                                      \n",
       "0       1695         0.8333          0.8333\n",
       "1        339         0.1667          1.0000"
      ]
     },
     "execution_count": 32,
     "metadata": {},
     "output_type": "execute_result"
    }
   ],
   "source": [
    "tabela_bivariada(pd.DataFrame(y_train_under), 'Class')"
   ]
  },
  {
   "cell_type": "code",
   "execution_count": 33,
   "metadata": {},
   "outputs": [
    {
     "data": {
      "text/html": [
       "<style>#sk-container-id-4 {color: black;background-color: white;}#sk-container-id-4 pre{padding: 0;}#sk-container-id-4 div.sk-toggleable {background-color: white;}#sk-container-id-4 label.sk-toggleable__label {cursor: pointer;display: block;width: 100%;margin-bottom: 0;padding: 0.3em;box-sizing: border-box;text-align: center;}#sk-container-id-4 label.sk-toggleable__label-arrow:before {content: \"▸\";float: left;margin-right: 0.25em;color: #696969;}#sk-container-id-4 label.sk-toggleable__label-arrow:hover:before {color: black;}#sk-container-id-4 div.sk-estimator:hover label.sk-toggleable__label-arrow:before {color: black;}#sk-container-id-4 div.sk-toggleable__content {max-height: 0;max-width: 0;overflow: hidden;text-align: left;background-color: #f0f8ff;}#sk-container-id-4 div.sk-toggleable__content pre {margin: 0.2em;color: black;border-radius: 0.25em;background-color: #f0f8ff;}#sk-container-id-4 input.sk-toggleable__control:checked~div.sk-toggleable__content {max-height: 200px;max-width: 100%;overflow: auto;}#sk-container-id-4 input.sk-toggleable__control:checked~label.sk-toggleable__label-arrow:before {content: \"▾\";}#sk-container-id-4 div.sk-estimator input.sk-toggleable__control:checked~label.sk-toggleable__label {background-color: #d4ebff;}#sk-container-id-4 div.sk-label input.sk-toggleable__control:checked~label.sk-toggleable__label {background-color: #d4ebff;}#sk-container-id-4 input.sk-hidden--visually {border: 0;clip: rect(1px 1px 1px 1px);clip: rect(1px, 1px, 1px, 1px);height: 1px;margin: -1px;overflow: hidden;padding: 0;position: absolute;width: 1px;}#sk-container-id-4 div.sk-estimator {font-family: monospace;background-color: #f0f8ff;border: 1px dotted black;border-radius: 0.25em;box-sizing: border-box;margin-bottom: 0.5em;}#sk-container-id-4 div.sk-estimator:hover {background-color: #d4ebff;}#sk-container-id-4 div.sk-parallel-item::after {content: \"\";width: 100%;border-bottom: 1px solid gray;flex-grow: 1;}#sk-container-id-4 div.sk-label:hover label.sk-toggleable__label {background-color: #d4ebff;}#sk-container-id-4 div.sk-serial::before {content: \"\";position: absolute;border-left: 1px solid gray;box-sizing: border-box;top: 0;bottom: 0;left: 50%;z-index: 0;}#sk-container-id-4 div.sk-serial {display: flex;flex-direction: column;align-items: center;background-color: white;padding-right: 0.2em;padding-left: 0.2em;position: relative;}#sk-container-id-4 div.sk-item {position: relative;z-index: 1;}#sk-container-id-4 div.sk-parallel {display: flex;align-items: stretch;justify-content: center;background-color: white;position: relative;}#sk-container-id-4 div.sk-item::before, #sk-container-id-4 div.sk-parallel-item::before {content: \"\";position: absolute;border-left: 1px solid gray;box-sizing: border-box;top: 0;bottom: 0;left: 50%;z-index: -1;}#sk-container-id-4 div.sk-parallel-item {display: flex;flex-direction: column;z-index: 1;position: relative;background-color: white;}#sk-container-id-4 div.sk-parallel-item:first-child::after {align-self: flex-end;width: 50%;}#sk-container-id-4 div.sk-parallel-item:last-child::after {align-self: flex-start;width: 50%;}#sk-container-id-4 div.sk-parallel-item:only-child::after {width: 0;}#sk-container-id-4 div.sk-dashed-wrapped {border: 1px dashed gray;margin: 0 0.4em 0.5em 0.4em;box-sizing: border-box;padding-bottom: 0.4em;background-color: white;}#sk-container-id-4 div.sk-label label {font-family: monospace;font-weight: bold;display: inline-block;line-height: 1.2em;}#sk-container-id-4 div.sk-label-container {text-align: center;}#sk-container-id-4 div.sk-container {/* jupyter's `normalize.less` sets `[hidden] { display: none; }` but bootstrap.min.css set `[hidden] { display: none !important; }` so we also need the `!important` here to be able to override the default hidden behavior on the sphinx rendered scikit-learn.org. See: https://github.com/scikit-learn/scikit-learn/issues/21755 */display: inline-block !important;position: relative;}#sk-container-id-4 div.sk-text-repr-fallback {display: none;}</style><div id=\"sk-container-id-4\" class=\"sk-top-container\"><div class=\"sk-text-repr-fallback\"><pre>GradientBoostingClassifier(min_samples_leaf=10, n_estimators=50,\n",
       "                           random_state=42, subsample=0.5)</pre><b>In a Jupyter environment, please rerun this cell to show the HTML representation or trust the notebook. <br />On GitHub, the HTML representation is unable to render, please try loading this page with nbviewer.org.</b></div><div class=\"sk-container\" hidden><div class=\"sk-item\"><div class=\"sk-estimator sk-toggleable\"><input class=\"sk-toggleable__control sk-hidden--visually\" id=\"sk-estimator-id-4\" type=\"checkbox\" checked><label for=\"sk-estimator-id-4\" class=\"sk-toggleable__label sk-toggleable__label-arrow\">GradientBoostingClassifier</label><div class=\"sk-toggleable__content\"><pre>GradientBoostingClassifier(min_samples_leaf=10, n_estimators=50,\n",
       "                           random_state=42, subsample=0.5)</pre></div></div></div></div></div>"
      ],
      "text/plain": [
       "GradientBoostingClassifier(min_samples_leaf=10, n_estimators=50,\n",
       "                           random_state=42, subsample=0.5)"
      ]
     },
     "execution_count": 33,
     "metadata": {},
     "output_type": "execute_result"
    }
   ],
   "source": [
    "# Treinamento de um modelo Gradient Boosting com Random Undersampling\n",
    "modelo_ru = modelo_GB()\n",
    "modelo_ru.fit(x_train_under, y_train_under)"
   ]
  },
  {
   "cell_type": "code",
   "execution_count": 34,
   "metadata": {},
   "outputs": [
    {
     "data": {
      "text/html": [
       "<div>\n",
       "<style scoped>\n",
       "    .dataframe tbody tr th:only-of-type {\n",
       "        vertical-align: middle;\n",
       "    }\n",
       "\n",
       "    .dataframe tbody tr th {\n",
       "        vertical-align: top;\n",
       "    }\n",
       "\n",
       "    .dataframe thead th {\n",
       "        text-align: right;\n",
       "    }\n",
       "</style>\n",
       "<table border=\"1\" class=\"dataframe\">\n",
       "  <thead>\n",
       "    <tr style=\"text-align: right;\">\n",
       "      <th></th>\n",
       "      <th>Treino</th>\n",
       "      <th>Teste</th>\n",
       "      <th>Variação</th>\n",
       "    </tr>\n",
       "  </thead>\n",
       "  <tbody>\n",
       "    <tr>\n",
       "      <th>Acurácia</th>\n",
       "      <td>0.984759</td>\n",
       "      <td>0.993151</td>\n",
       "      <td>0.01</td>\n",
       "    </tr>\n",
       "    <tr>\n",
       "      <th>AUROC</th>\n",
       "      <td>0.997061</td>\n",
       "      <td>0.977337</td>\n",
       "      <td>-0.02</td>\n",
       "    </tr>\n",
       "    <tr>\n",
       "      <th>KS</th>\n",
       "      <td>0.959882</td>\n",
       "      <td>0.868703</td>\n",
       "      <td>-0.09</td>\n",
       "    </tr>\n",
       "    <tr>\n",
       "      <th>Precision</th>\n",
       "      <td>0.996774</td>\n",
       "      <td>0.169367</td>\n",
       "      <td>-0.83</td>\n",
       "    </tr>\n",
       "    <tr>\n",
       "      <th>Recall</th>\n",
       "      <td>0.911504</td>\n",
       "      <td>0.858209</td>\n",
       "      <td>-0.06</td>\n",
       "    </tr>\n",
       "    <tr>\n",
       "      <th>F1</th>\n",
       "      <td>0.952234</td>\n",
       "      <td>0.282903</td>\n",
       "      <td>-0.70</td>\n",
       "    </tr>\n",
       "  </tbody>\n",
       "</table>\n",
       "</div>"
      ],
      "text/plain": [
       "             Treino     Teste  Variação\n",
       "Acurácia   0.984759  0.993151      0.01\n",
       "AUROC      0.997061  0.977337     -0.02\n",
       "KS         0.959882  0.868703     -0.09\n",
       "Precision  0.996774  0.169367     -0.83\n",
       "Recall     0.911504  0.858209     -0.06\n",
       "F1         0.952234  0.282903     -0.70"
      ]
     },
     "execution_count": 34,
     "metadata": {},
     "output_type": "execute_result"
    }
   ],
   "source": [
    "modelo_ru_desemp = calcula_desempenho(modelo_ru,\n",
    "                                      x_train_under, y_train_under,\n",
    "                                      x_test, y_test)\n",
    "modelo_ru_desemp"
   ]
  },
  {
   "cell_type": "code",
   "execution_count": 35,
   "metadata": {},
   "outputs": [
    {
     "data": {
      "text/html": [
       "<div>\n",
       "<style scoped>\n",
       "    .dataframe tbody tr th:only-of-type {\n",
       "        vertical-align: middle;\n",
       "    }\n",
       "\n",
       "    .dataframe tbody tr th {\n",
       "        vertical-align: top;\n",
       "    }\n",
       "\n",
       "    .dataframe thead th {\n",
       "        text-align: right;\n",
       "    }\n",
       "</style>\n",
       "<table border=\"1\" class=\"dataframe\">\n",
       "  <thead>\n",
       "    <tr style=\"text-align: right;\">\n",
       "      <th></th>\n",
       "      <th>Treino</th>\n",
       "      <th>Teste</th>\n",
       "      <th>Variação</th>\n",
       "    </tr>\n",
       "  </thead>\n",
       "  <tbody>\n",
       "    <tr>\n",
       "      <th>Acurácia</th>\n",
       "      <td>0.998993</td>\n",
       "      <td>0.998896</td>\n",
       "      <td>-0.00</td>\n",
       "    </tr>\n",
       "    <tr>\n",
       "      <th>AUROC</th>\n",
       "      <td>0.805145</td>\n",
       "      <td>0.779668</td>\n",
       "      <td>-0.03</td>\n",
       "    </tr>\n",
       "    <tr>\n",
       "      <th>KS</th>\n",
       "      <td>0.730575</td>\n",
       "      <td>0.685002</td>\n",
       "      <td>-0.06</td>\n",
       "    </tr>\n",
       "    <tr>\n",
       "      <th>Precision</th>\n",
       "      <td>0.702624</td>\n",
       "      <td>0.647059</td>\n",
       "      <td>-0.08</td>\n",
       "    </tr>\n",
       "    <tr>\n",
       "      <th>Recall</th>\n",
       "      <td>0.710914</td>\n",
       "      <td>0.656716</td>\n",
       "      <td>-0.08</td>\n",
       "    </tr>\n",
       "    <tr>\n",
       "      <th>F1</th>\n",
       "      <td>0.706745</td>\n",
       "      <td>0.651852</td>\n",
       "      <td>-0.08</td>\n",
       "    </tr>\n",
       "  </tbody>\n",
       "</table>\n",
       "</div>"
      ],
      "text/plain": [
       "             Treino     Teste  Variação\n",
       "Acurácia   0.998993  0.998896     -0.00\n",
       "AUROC      0.805145  0.779668     -0.03\n",
       "KS         0.730575  0.685002     -0.06\n",
       "Precision  0.702624  0.647059     -0.08\n",
       "Recall     0.710914  0.656716     -0.08\n",
       "F1         0.706745  0.651852     -0.08"
      ]
     },
     "execution_count": 35,
     "metadata": {},
     "output_type": "execute_result"
    }
   ],
   "source": [
    "modelo_base_desemp"
   ]
  },
  {
   "cell_type": "markdown",
   "metadata": {},
   "source": [
    "### Tomek Link Undersampling"
   ]
  },
  {
   "cell_type": "code",
   "execution_count": 36,
   "metadata": {},
   "outputs": [
    {
     "name": "stdout",
     "output_type": "stream",
     "text": [
      "15:47:06 -  Iniciando Tomek Link Undersampling...\n",
      "15:49:37 -  Concluída preparação Tomek Link Undersampling!\n",
      "Shape do y_train:  (198608,)\n",
      "Shape do y_train_tomek:  (198586,)\n"
     ]
    }
   ],
   "source": [
    "# IMPORTANTE: a reamostragem deve ser feita APENAS na base de Treino\n",
    "log_message('Iniciando Tomek Link Undersampling...')\n",
    "under_tomek = imblearn.under_sampling.TomekLinks(sampling_strategy='auto',\n",
    "                                                 n_jobs=4)\n",
    "x_train_under_tomek, y_train_under_tomek = under_tomek.fit_resample(x_train, y_train)\n",
    "\n",
    "log_message('Concluída preparação Tomek Link Undersampling!')\n",
    "print('Shape do y_train: ', y_train.shape)\n",
    "print('Shape do y_train_tomek: ', y_train_under_tomek.shape)"
   ]
  },
  {
   "cell_type": "code",
   "execution_count": 37,
   "metadata": {},
   "outputs": [
    {
     "data": {
      "image/png": "[encoded data removed]",
      "text/plain": [
       "<Figure size 800x400 with 1 Axes>"
      ]
     },
     "metadata": {},
     "output_type": "display_data"
    }
   ],
   "source": [
    "cria_grafico_var_qualitativa(tabela_bivariada(pd.DataFrame(y_train_under_tomek),'Class'))"
   ]
  },
  {
   "cell_type": "code",
   "execution_count": 38,
   "metadata": {},
   "outputs": [
    {
     "data": {
      "text/html": [
       "<style>#sk-container-id-5 {color: black;background-color: white;}#sk-container-id-5 pre{padding: 0;}#sk-container-id-5 div.sk-toggleable {background-color: white;}#sk-container-id-5 label.sk-toggleable__label {cursor: pointer;display: block;width: 100%;margin-bottom: 0;padding: 0.3em;box-sizing: border-box;text-align: center;}#sk-container-id-5 label.sk-toggleable__label-arrow:before {content: \"▸\";float: left;margin-right: 0.25em;color: #696969;}#sk-container-id-5 label.sk-toggleable__label-arrow:hover:before {color: black;}#sk-container-id-5 div.sk-estimator:hover label.sk-toggleable__label-arrow:before {color: black;}#sk-container-id-5 div.sk-toggleable__content {max-height: 0;max-width: 0;overflow: hidden;text-align: left;background-color: #f0f8ff;}#sk-container-id-5 div.sk-toggleable__content pre {margin: 0.2em;color: black;border-radius: 0.25em;background-color: #f0f8ff;}#sk-container-id-5 input.sk-toggleable__control:checked~div.sk-toggleable__content {max-height: 200px;max-width: 100%;overflow: auto;}#sk-container-id-5 input.sk-toggleable__control:checked~label.sk-toggleable__label-arrow:before {content: \"▾\";}#sk-container-id-5 div.sk-estimator input.sk-toggleable__control:checked~label.sk-toggleable__label {background-color: #d4ebff;}#sk-container-id-5 div.sk-label input.sk-toggleable__control:checked~label.sk-toggleable__label {background-color: #d4ebff;}#sk-container-id-5 input.sk-hidden--visually {border: 0;clip: rect(1px 1px 1px 1px);clip: rect(1px, 1px, 1px, 1px);height: 1px;margin: -1px;overflow: hidden;padding: 0;position: absolute;width: 1px;}#sk-container-id-5 div.sk-estimator {font-family: monospace;background-color: #f0f8ff;border: 1px dotted black;border-radius: 0.25em;box-sizing: border-box;margin-bottom: 0.5em;}#sk-container-id-5 div.sk-estimator:hover {background-color: #d4ebff;}#sk-container-id-5 div.sk-parallel-item::after {content: \"\";width: 100%;border-bottom: 1px solid gray;flex-grow: 1;}#sk-container-id-5 div.sk-label:hover label.sk-toggleable__label {background-color: #d4ebff;}#sk-container-id-5 div.sk-serial::before {content: \"\";position: absolute;border-left: 1px solid gray;box-sizing: border-box;top: 0;bottom: 0;left: 50%;z-index: 0;}#sk-container-id-5 div.sk-serial {display: flex;flex-direction: column;align-items: center;background-color: white;padding-right: 0.2em;padding-left: 0.2em;position: relative;}#sk-container-id-5 div.sk-item {position: relative;z-index: 1;}#sk-container-id-5 div.sk-parallel {display: flex;align-items: stretch;justify-content: center;background-color: white;position: relative;}#sk-container-id-5 div.sk-item::before, #sk-container-id-5 div.sk-parallel-item::before {content: \"\";position: absolute;border-left: 1px solid gray;box-sizing: border-box;top: 0;bottom: 0;left: 50%;z-index: -1;}#sk-container-id-5 div.sk-parallel-item {display: flex;flex-direction: column;z-index: 1;position: relative;background-color: white;}#sk-container-id-5 div.sk-parallel-item:first-child::after {align-self: flex-end;width: 50%;}#sk-container-id-5 div.sk-parallel-item:last-child::after {align-self: flex-start;width: 50%;}#sk-container-id-5 div.sk-parallel-item:only-child::after {width: 0;}#sk-container-id-5 div.sk-dashed-wrapped {border: 1px dashed gray;margin: 0 0.4em 0.5em 0.4em;box-sizing: border-box;padding-bottom: 0.4em;background-color: white;}#sk-container-id-5 div.sk-label label {font-family: monospace;font-weight: bold;display: inline-block;line-height: 1.2em;}#sk-container-id-5 div.sk-label-container {text-align: center;}#sk-container-id-5 div.sk-container {/* jupyter's `normalize.less` sets `[hidden] { display: none; }` but bootstrap.min.css set `[hidden] { display: none !important; }` so we also need the `!important` here to be able to override the default hidden behavior on the sphinx rendered scikit-learn.org. See: https://github.com/scikit-learn/scikit-learn/issues/21755 */display: inline-block !important;position: relative;}#sk-container-id-5 div.sk-text-repr-fallback {display: none;}</style><div id=\"sk-container-id-5\" class=\"sk-top-container\"><div class=\"sk-text-repr-fallback\"><pre>GradientBoostingClassifier(min_samples_leaf=10, n_estimators=50,\n",
       "                           random_state=42, subsample=0.5)</pre><b>In a Jupyter environment, please rerun this cell to show the HTML representation or trust the notebook. <br />On GitHub, the HTML representation is unable to render, please try loading this page with nbviewer.org.</b></div><div class=\"sk-container\" hidden><div class=\"sk-item\"><div class=\"sk-estimator sk-toggleable\"><input class=\"sk-toggleable__control sk-hidden--visually\" id=\"sk-estimator-id-5\" type=\"checkbox\" checked><label for=\"sk-estimator-id-5\" class=\"sk-toggleable__label sk-toggleable__label-arrow\">GradientBoostingClassifier</label><div class=\"sk-toggleable__content\"><pre>GradientBoostingClassifier(min_samples_leaf=10, n_estimators=50,\n",
       "                           random_state=42, subsample=0.5)</pre></div></div></div></div></div>"
      ],
      "text/plain": [
       "GradientBoostingClassifier(min_samples_leaf=10, n_estimators=50,\n",
       "                           random_state=42, subsample=0.5)"
      ]
     },
     "execution_count": 38,
     "metadata": {},
     "output_type": "execute_result"
    }
   ],
   "source": [
    "# Treinamento de um modelo Gradient Boosting com Tomek Link Undersampling\n",
    "modelo_tomek = modelo_GB()\n",
    "modelo_tomek.fit(x_train_under_tomek, y_train_under_tomek)"
   ]
  },
  {
   "cell_type": "code",
   "execution_count": 39,
   "metadata": {},
   "outputs": [
    {
     "data": {
      "text/html": [
       "<div>\n",
       "<style scoped>\n",
       "    .dataframe tbody tr th:only-of-type {\n",
       "        vertical-align: middle;\n",
       "    }\n",
       "\n",
       "    .dataframe tbody tr th {\n",
       "        vertical-align: top;\n",
       "    }\n",
       "\n",
       "    .dataframe thead th {\n",
       "        text-align: right;\n",
       "    }\n",
       "</style>\n",
       "<table border=\"1\" class=\"dataframe\">\n",
       "  <thead>\n",
       "    <tr style=\"text-align: right;\">\n",
       "      <th></th>\n",
       "      <th>Treino</th>\n",
       "      <th>Teste</th>\n",
       "      <th>Variação</th>\n",
       "    </tr>\n",
       "  </thead>\n",
       "  <tbody>\n",
       "    <tr>\n",
       "      <th>Acurácia</th>\n",
       "      <td>0.998781</td>\n",
       "      <td>0.998520</td>\n",
       "      <td>-0.00</td>\n",
       "    </tr>\n",
       "    <tr>\n",
       "      <th>AUROC</th>\n",
       "      <td>0.906514</td>\n",
       "      <td>0.876194</td>\n",
       "      <td>-0.03</td>\n",
       "    </tr>\n",
       "    <tr>\n",
       "      <th>KS</th>\n",
       "      <td>0.829639</td>\n",
       "      <td>0.781005</td>\n",
       "      <td>-0.06</td>\n",
       "    </tr>\n",
       "    <tr>\n",
       "      <th>Precision</th>\n",
       "      <td>0.604301</td>\n",
       "      <td>0.520000</td>\n",
       "      <td>-0.14</td>\n",
       "    </tr>\n",
       "    <tr>\n",
       "      <th>Recall</th>\n",
       "      <td>0.828909</td>\n",
       "      <td>0.776119</td>\n",
       "      <td>-0.06</td>\n",
       "    </tr>\n",
       "    <tr>\n",
       "      <th>F1</th>\n",
       "      <td>0.699005</td>\n",
       "      <td>0.622754</td>\n",
       "      <td>-0.11</td>\n",
       "    </tr>\n",
       "  </tbody>\n",
       "</table>\n",
       "</div>"
      ],
      "text/plain": [
       "             Treino     Teste  Variação\n",
       "Acurácia   0.998781  0.998520     -0.00\n",
       "AUROC      0.906514  0.876194     -0.03\n",
       "KS         0.829639  0.781005     -0.06\n",
       "Precision  0.604301  0.520000     -0.14\n",
       "Recall     0.828909  0.776119     -0.06\n",
       "F1         0.699005  0.622754     -0.11"
      ]
     },
     "execution_count": 39,
     "metadata": {},
     "output_type": "execute_result"
    }
   ],
   "source": [
    "modelo_tomek_desemp = calcula_desempenho(modelo_tomek,\n",
    "                                         x_train_under_tomek, y_train_under_tomek,\n",
    "                                         x_test, y_test)\n",
    "modelo_tomek_desemp"
   ]
  },
  {
   "cell_type": "code",
   "execution_count": 40,
   "metadata": {},
   "outputs": [
    {
     "data": {
      "text/html": [
       "<div>\n",
       "<style scoped>\n",
       "    .dataframe tbody tr th:only-of-type {\n",
       "        vertical-align: middle;\n",
       "    }\n",
       "\n",
       "    .dataframe tbody tr th {\n",
       "        vertical-align: top;\n",
       "    }\n",
       "\n",
       "    .dataframe thead th {\n",
       "        text-align: right;\n",
       "    }\n",
       "</style>\n",
       "<table border=\"1\" class=\"dataframe\">\n",
       "  <thead>\n",
       "    <tr style=\"text-align: right;\">\n",
       "      <th></th>\n",
       "      <th>Treino</th>\n",
       "      <th>Teste</th>\n",
       "      <th>Variação</th>\n",
       "    </tr>\n",
       "  </thead>\n",
       "  <tbody>\n",
       "    <tr>\n",
       "      <th>Acurácia</th>\n",
       "      <td>0.998993</td>\n",
       "      <td>0.998896</td>\n",
       "      <td>-0.00</td>\n",
       "    </tr>\n",
       "    <tr>\n",
       "      <th>AUROC</th>\n",
       "      <td>0.805145</td>\n",
       "      <td>0.779668</td>\n",
       "      <td>-0.03</td>\n",
       "    </tr>\n",
       "    <tr>\n",
       "      <th>KS</th>\n",
       "      <td>0.730575</td>\n",
       "      <td>0.685002</td>\n",
       "      <td>-0.06</td>\n",
       "    </tr>\n",
       "    <tr>\n",
       "      <th>Precision</th>\n",
       "      <td>0.702624</td>\n",
       "      <td>0.647059</td>\n",
       "      <td>-0.08</td>\n",
       "    </tr>\n",
       "    <tr>\n",
       "      <th>Recall</th>\n",
       "      <td>0.710914</td>\n",
       "      <td>0.656716</td>\n",
       "      <td>-0.08</td>\n",
       "    </tr>\n",
       "    <tr>\n",
       "      <th>F1</th>\n",
       "      <td>0.706745</td>\n",
       "      <td>0.651852</td>\n",
       "      <td>-0.08</td>\n",
       "    </tr>\n",
       "  </tbody>\n",
       "</table>\n",
       "</div>"
      ],
      "text/plain": [
       "             Treino     Teste  Variação\n",
       "Acurácia   0.998993  0.998896     -0.00\n",
       "AUROC      0.805145  0.779668     -0.03\n",
       "KS         0.730575  0.685002     -0.06\n",
       "Precision  0.702624  0.647059     -0.08\n",
       "Recall     0.710914  0.656716     -0.08\n",
       "F1         0.706745  0.651852     -0.08"
      ]
     },
     "execution_count": 40,
     "metadata": {},
     "output_type": "execute_result"
    }
   ],
   "source": [
    "modelo_base_desemp"
   ]
  },
  {
   "cell_type": "markdown",
   "metadata": {},
   "source": [
    "### Combinação SMOTE + Tomek"
   ]
  },
  {
   "cell_type": "code",
   "execution_count": 41,
   "metadata": {},
   "outputs": [
    {
     "name": "stdout",
     "output_type": "stream",
     "text": [
      "15:54:51 -  Iniciando SMOTE + Tomek Link Undersampling...\n",
      "15:58:30 -  Concluída preparação SMOTE + Tomek Link Undersampling!\n",
      "Shape do y_train:  (198608,)\n",
      "Shape do y_train_smote_tomek:  (237905,)\n"
     ]
    }
   ],
   "source": [
    "# IMPORTANTE: a reamostragem deve ser feita APENAS na base de Treino\n",
    "log_message('Iniciando SMOTE + Tomek Link Undersampling...')\n",
    "smote_tomek = imblearn.combine.SMOTETomek(sampling_strategy='auto', \n",
    "                                          random_state=42,\n",
    "                                          smote=over_smote,\n",
    "                                          tomek=under_tomek,\n",
    "                                          n_jobs=-1)\n",
    "x_train_smote_tomek, y_train_smote_tomek = smote_tomek.fit_resample(x_train, y_train)\n",
    "log_message('Concluída preparação SMOTE + Tomek Link Undersampling!')\n",
    "\n",
    "print('Shape do y_train: ', y_train.shape)\n",
    "print('Shape do y_train_smote_tomek: ', y_train_smote_tomek.shape)"
   ]
  },
  {
   "cell_type": "code",
   "execution_count": 42,
   "metadata": {},
   "outputs": [
    {
     "data": {
      "image/png": "[encoded data removed]",
      "text/plain": [
       "<Figure size 800x400 with 1 Axes>"
      ]
     },
     "metadata": {},
     "output_type": "display_data"
    }
   ],
   "source": [
    "cria_grafico_var_qualitativa(tabela_bivariada(pd.DataFrame(y_train_smote_tomek),'Class'))"
   ]
  },
  {
   "cell_type": "code",
   "execution_count": 43,
   "metadata": {},
   "outputs": [
    {
     "data": {
      "text/html": [
       "<style>#sk-container-id-6 {color: black;background-color: white;}#sk-container-id-6 pre{padding: 0;}#sk-container-id-6 div.sk-toggleable {background-color: white;}#sk-container-id-6 label.sk-toggleable__label {cursor: pointer;display: block;width: 100%;margin-bottom: 0;padding: 0.3em;box-sizing: border-box;text-align: center;}#sk-container-id-6 label.sk-toggleable__label-arrow:before {content: \"▸\";float: left;margin-right: 0.25em;color: #696969;}#sk-container-id-6 label.sk-toggleable__label-arrow:hover:before {color: black;}#sk-container-id-6 div.sk-estimator:hover label.sk-toggleable__label-arrow:before {color: black;}#sk-container-id-6 div.sk-toggleable__content {max-height: 0;max-width: 0;overflow: hidden;text-align: left;background-color: #f0f8ff;}#sk-container-id-6 div.sk-toggleable__content pre {margin: 0.2em;color: black;border-radius: 0.25em;background-color: #f0f8ff;}#sk-container-id-6 input.sk-toggleable__control:checked~div.sk-toggleable__content {max-height: 200px;max-width: 100%;overflow: auto;}#sk-container-id-6 input.sk-toggleable__control:checked~label.sk-toggleable__label-arrow:before {content: \"▾\";}#sk-container-id-6 div.sk-estimator input.sk-toggleable__control:checked~label.sk-toggleable__label {background-color: #d4ebff;}#sk-container-id-6 div.sk-label input.sk-toggleable__control:checked~label.sk-toggleable__label {background-color: #d4ebff;}#sk-container-id-6 input.sk-hidden--visually {border: 0;clip: rect(1px 1px 1px 1px);clip: rect(1px, 1px, 1px, 1px);height: 1px;margin: -1px;overflow: hidden;padding: 0;position: absolute;width: 1px;}#sk-container-id-6 div.sk-estimator {font-family: monospace;background-color: #f0f8ff;border: 1px dotted black;border-radius: 0.25em;box-sizing: border-box;margin-bottom: 0.5em;}#sk-container-id-6 div.sk-estimator:hover {background-color: #d4ebff;}#sk-container-id-6 div.sk-parallel-item::after {content: \"\";width: 100%;border-bottom: 1px solid gray;flex-grow: 1;}#sk-container-id-6 div.sk-label:hover label.sk-toggleable__label {background-color: #d4ebff;}#sk-container-id-6 div.sk-serial::before {content: \"\";position: absolute;border-left: 1px solid gray;box-sizing: border-box;top: 0;bottom: 0;left: 50%;z-index: 0;}#sk-container-id-6 div.sk-serial {display: flex;flex-direction: column;align-items: center;background-color: white;padding-right: 0.2em;padding-left: 0.2em;position: relative;}#sk-container-id-6 div.sk-item {position: relative;z-index: 1;}#sk-container-id-6 div.sk-parallel {display: flex;align-items: stretch;justify-content: center;background-color: white;position: relative;}#sk-container-id-6 div.sk-item::before, #sk-container-id-6 div.sk-parallel-item::before {content: \"\";position: absolute;border-left: 1px solid gray;box-sizing: border-box;top: 0;bottom: 0;left: 50%;z-index: -1;}#sk-container-id-6 div.sk-parallel-item {display: flex;flex-direction: column;z-index: 1;position: relative;background-color: white;}#sk-container-id-6 div.sk-parallel-item:first-child::after {align-self: flex-end;width: 50%;}#sk-container-id-6 div.sk-parallel-item:last-child::after {align-self: flex-start;width: 50%;}#sk-container-id-6 div.sk-parallel-item:only-child::after {width: 0;}#sk-container-id-6 div.sk-dashed-wrapped {border: 1px dashed gray;margin: 0 0.4em 0.5em 0.4em;box-sizing: border-box;padding-bottom: 0.4em;background-color: white;}#sk-container-id-6 div.sk-label label {font-family: monospace;font-weight: bold;display: inline-block;line-height: 1.2em;}#sk-container-id-6 div.sk-label-container {text-align: center;}#sk-container-id-6 div.sk-container {/* jupyter's `normalize.less` sets `[hidden] { display: none; }` but bootstrap.min.css set `[hidden] { display: none !important; }` so we also need the `!important` here to be able to override the default hidden behavior on the sphinx rendered scikit-learn.org. See: https://github.com/scikit-learn/scikit-learn/issues/21755 */display: inline-block !important;position: relative;}#sk-container-id-6 div.sk-text-repr-fallback {display: none;}</style><div id=\"sk-container-id-6\" class=\"sk-top-container\"><div class=\"sk-text-repr-fallback\"><pre>GradientBoostingClassifier(min_samples_leaf=10, n_estimators=50,\n",
       "                           random_state=42, subsample=0.5)</pre><b>In a Jupyter environment, please rerun this cell to show the HTML representation or trust the notebook. <br />On GitHub, the HTML representation is unable to render, please try loading this page with nbviewer.org.</b></div><div class=\"sk-container\" hidden><div class=\"sk-item\"><div class=\"sk-estimator sk-toggleable\"><input class=\"sk-toggleable__control sk-hidden--visually\" id=\"sk-estimator-id-6\" type=\"checkbox\" checked><label for=\"sk-estimator-id-6\" class=\"sk-toggleable__label sk-toggleable__label-arrow\">GradientBoostingClassifier</label><div class=\"sk-toggleable__content\"><pre>GradientBoostingClassifier(min_samples_leaf=10, n_estimators=50,\n",
       "                           random_state=42, subsample=0.5)</pre></div></div></div></div></div>"
      ],
      "text/plain": [
       "GradientBoostingClassifier(min_samples_leaf=10, n_estimators=50,\n",
       "                           random_state=42, subsample=0.5)"
      ]
     },
     "execution_count": 43,
     "metadata": {},
     "output_type": "execute_result"
    }
   ],
   "source": [
    "# Treinamento de um modelo Gradient Boosting com SMOTE + Tomek Link Resampling\n",
    "modelo_smote_tomek = modelo_GB()\n",
    "modelo_smote_tomek.fit(x_train_smote_tomek, y_train_smote_tomek)"
   ]
  },
  {
   "cell_type": "code",
   "execution_count": 44,
   "metadata": {},
   "outputs": [
    {
     "data": {
      "text/html": [
       "<div>\n",
       "<style scoped>\n",
       "    .dataframe tbody tr th:only-of-type {\n",
       "        vertical-align: middle;\n",
       "    }\n",
       "\n",
       "    .dataframe tbody tr th {\n",
       "        vertical-align: top;\n",
       "    }\n",
       "\n",
       "    .dataframe thead th {\n",
       "        text-align: right;\n",
       "    }\n",
       "</style>\n",
       "<table border=\"1\" class=\"dataframe\">\n",
       "  <thead>\n",
       "    <tr style=\"text-align: right;\">\n",
       "      <th></th>\n",
       "      <th>Treino</th>\n",
       "      <th>Teste</th>\n",
       "      <th>Variação</th>\n",
       "    </tr>\n",
       "  </thead>\n",
       "  <tbody>\n",
       "    <tr>\n",
       "      <th>Acurácia</th>\n",
       "      <td>0.983384</td>\n",
       "      <td>0.997004</td>\n",
       "      <td>0.01</td>\n",
       "    </tr>\n",
       "    <tr>\n",
       "      <th>AUROC</th>\n",
       "      <td>0.995102</td>\n",
       "      <td>0.979443</td>\n",
       "      <td>-0.02</td>\n",
       "    </tr>\n",
       "    <tr>\n",
       "      <th>KS</th>\n",
       "      <td>0.938536</td>\n",
       "      <td>0.902969</td>\n",
       "      <td>-0.04</td>\n",
       "    </tr>\n",
       "    <tr>\n",
       "      <th>Precision</th>\n",
       "      <td>0.988426</td>\n",
       "      <td>0.325648</td>\n",
       "      <td>-0.67</td>\n",
       "    </tr>\n",
       "    <tr>\n",
       "      <th>Recall</th>\n",
       "      <td>0.910978</td>\n",
       "      <td>0.843284</td>\n",
       "      <td>-0.07</td>\n",
       "    </tr>\n",
       "    <tr>\n",
       "      <th>F1</th>\n",
       "      <td>0.948123</td>\n",
       "      <td>0.469854</td>\n",
       "      <td>-0.50</td>\n",
       "    </tr>\n",
       "  </tbody>\n",
       "</table>\n",
       "</div>"
      ],
      "text/plain": [
       "             Treino     Teste  Variação\n",
       "Acurácia   0.983384  0.997004      0.01\n",
       "AUROC      0.995102  0.979443     -0.02\n",
       "KS         0.938536  0.902969     -0.04\n",
       "Precision  0.988426  0.325648     -0.67\n",
       "Recall     0.910978  0.843284     -0.07\n",
       "F1         0.948123  0.469854     -0.50"
      ]
     },
     "execution_count": 44,
     "metadata": {},
     "output_type": "execute_result"
    }
   ],
   "source": [
    "modelo_smote_tomek_desemp = calcula_desempenho(modelo_smote_tomek, \n",
    "                   x_train_smote_tomek, y_train_smote_tomek,\n",
    "                   x_test, y_test)\n",
    "modelo_smote_tomek_desemp"
   ]
  },
  {
   "cell_type": "code",
   "execution_count": 45,
   "metadata": {},
   "outputs": [
    {
     "data": {
      "text/html": [
       "<div>\n",
       "<style scoped>\n",
       "    .dataframe tbody tr th:only-of-type {\n",
       "        vertical-align: middle;\n",
       "    }\n",
       "\n",
       "    .dataframe tbody tr th {\n",
       "        vertical-align: top;\n",
       "    }\n",
       "\n",
       "    .dataframe thead th {\n",
       "        text-align: right;\n",
       "    }\n",
       "</style>\n",
       "<table border=\"1\" class=\"dataframe\">\n",
       "  <thead>\n",
       "    <tr style=\"text-align: right;\">\n",
       "      <th></th>\n",
       "      <th>Treino</th>\n",
       "      <th>Teste</th>\n",
       "      <th>Variação</th>\n",
       "    </tr>\n",
       "  </thead>\n",
       "  <tbody>\n",
       "    <tr>\n",
       "      <th>Acurácia</th>\n",
       "      <td>0.998993</td>\n",
       "      <td>0.998896</td>\n",
       "      <td>-0.00</td>\n",
       "    </tr>\n",
       "    <tr>\n",
       "      <th>AUROC</th>\n",
       "      <td>0.805145</td>\n",
       "      <td>0.779668</td>\n",
       "      <td>-0.03</td>\n",
       "    </tr>\n",
       "    <tr>\n",
       "      <th>KS</th>\n",
       "      <td>0.730575</td>\n",
       "      <td>0.685002</td>\n",
       "      <td>-0.06</td>\n",
       "    </tr>\n",
       "    <tr>\n",
       "      <th>Precision</th>\n",
       "      <td>0.702624</td>\n",
       "      <td>0.647059</td>\n",
       "      <td>-0.08</td>\n",
       "    </tr>\n",
       "    <tr>\n",
       "      <th>Recall</th>\n",
       "      <td>0.710914</td>\n",
       "      <td>0.656716</td>\n",
       "      <td>-0.08</td>\n",
       "    </tr>\n",
       "    <tr>\n",
       "      <th>F1</th>\n",
       "      <td>0.706745</td>\n",
       "      <td>0.651852</td>\n",
       "      <td>-0.08</td>\n",
       "    </tr>\n",
       "  </tbody>\n",
       "</table>\n",
       "</div>"
      ],
      "text/plain": [
       "             Treino     Teste  Variação\n",
       "Acurácia   0.998993  0.998896     -0.00\n",
       "AUROC      0.805145  0.779668     -0.03\n",
       "KS         0.730575  0.685002     -0.06\n",
       "Precision  0.702624  0.647059     -0.08\n",
       "Recall     0.710914  0.656716     -0.08\n",
       "F1         0.706745  0.651852     -0.08"
      ]
     },
     "execution_count": 45,
     "metadata": {},
     "output_type": "execute_result"
    }
   ],
   "source": [
    "modelo_base_desemp"
   ]
  },
  {
   "cell_type": "markdown",
   "metadata": {},
   "source": [
    "### Melhor técnica (referência: maior Recall)"
   ]
  },
  {
   "cell_type": "code",
   "execution_count": 46,
   "metadata": {},
   "outputs": [
    {
     "data": {
      "text/plain": [
       "Modelo Random Undersampling        0.858209\n",
       "Modelo SMOTE Oversampling          0.850746\n",
       "Modelo Random Oversampling         0.843284\n",
       "Modelo SMOTE + Tomek               0.843284\n",
       "Modelo Tomek Link Undersampling    0.776119\n",
       "Modelo Base                        0.656716\n",
       "dtype: float64"
      ]
     },
     "execution_count": 46,
     "metadata": {},
     "output_type": "execute_result"
    }
   ],
   "source": [
    "pd.Series(data = {'Modelo Base': modelo_base_desemp.loc['Recall','Teste'],\n",
    "                  'Modelo Random Oversampling': modelo_ro_desemp.loc['Recall','Teste'],\n",
    "                  'Modelo SMOTE Oversampling': modelo_smote_desemp.loc['Recall','Teste'],\n",
    "                  'Modelo Random Undersampling': modelo_ru_desemp.loc['Recall','Teste'],\n",
    "                  'Modelo Tomek Link Undersampling': modelo_tomek_desemp.loc['Recall','Teste'],\n",
    "                  'Modelo SMOTE + Tomek': modelo_smote_tomek_desemp.loc['Recall','Teste'],\n",
    "                    }).sort_values(ascending=False)"
   ]
  },
  {
   "cell_type": "markdown",
   "metadata": {},
   "source": [
    "**Conclusão**:  \n",
    "Entre as técnicas para tratamento de amostras desbalanceadas, a que resultou em maior Recall foi a de _Random Undersampling_.  \n",
    "Deve-se considerar no entanto, que as técnicas SMOTE, Random Oversampling e SMOTE Tomek apresentaram resultados de Recall bastante próximos ao primeiro colocado.  \n",
    "Entre todas, destaca-se a técnica de Random Undersampling, com resultado de Recall bastante similar e tempo de treinamento do modelo muito mais rápido em função do menor tamanho do dataset de treino."
   ]
  },
  {
   "cell_type": "code",
   "execution_count": 47,
   "metadata": {},
   "outputs": [
    {
     "data": {
      "text/plain": [
       "Modelo Random Undersampling       -0.06\n",
       "Modelo Tomek Link Undersampling   -0.06\n",
       "Modelo SMOTE Oversampling         -0.07\n",
       "Modelo SMOTE + Tomek              -0.07\n",
       "Modelo Base                       -0.08\n",
       "Modelo Random Oversampling        -0.09\n",
       "dtype: float64"
      ]
     },
     "execution_count": 47,
     "metadata": {},
     "output_type": "execute_result"
    }
   ],
   "source": [
    "# Avaliação da generalização do modelo\n",
    "pd.Series(data = {'Modelo Base': modelo_base_desemp.loc['Recall','Variação'],\n",
    "                  'Modelo Random Oversampling': modelo_ro_desemp.loc['Recall','Variação'],\n",
    "                  'Modelo SMOTE Oversampling': modelo_smote_desemp.loc['Recall','Variação'],\n",
    "                  'Modelo Random Undersampling': modelo_ru_desemp.loc['Recall','Variação'],\n",
    "                  'Modelo Tomek Link Undersampling': modelo_tomek_desemp.loc['Recall','Variação'],\n",
    "                  'Modelo SMOTE + Tomek': modelo_smote_tomek_desemp.loc['Recall','Variação'],\n",
    "                    }).sort_values(ascending=False)"
   ]
  },
  {
   "cell_type": "markdown",
   "metadata": {},
   "source": [
    "## Otimização dos Modelos"
   ]
  },
  {
   "cell_type": "code",
   "execution_count": 48,
   "metadata": {},
   "outputs": [],
   "source": [
    "# Número mínimo de amostras por folha\n",
    "ehp_min_samples_leaf = np.arange(5, 26, 5)\n",
    "\n",
    "# Máxima profundidade\n",
    "ehp_max_depth = [2, 3, 4, 5]\n",
    "\n",
    "# Número de estimadores\n",
    "ehp_n_estimators = [10, 20, 50, 100, 150, 200]\n",
    "\n",
    "# Amostragem de observações usadas para cada árvore\n",
    "ehp_subsample = [0.1, 0.2, 0.3, 0.4, 0.5]\n",
    "\n",
    "# Definição do dicionário de parâmetros\n",
    "param_grid = dict(min_samples_leaf=ehp_min_samples_leaf,\n",
    "                  max_depth=ehp_max_depth,\n",
    "                  n_estimators=ehp_n_estimators,\n",
    "                  subsample=ehp_subsample\n",
    "                 )"
   ]
  },
  {
   "cell_type": "code",
   "execution_count": 49,
   "metadata": {},
   "outputs": [
    {
     "data": {
      "text/plain": [
       "{'min_samples_leaf': array([ 5, 10, 15, 20, 25]),\n",
       " 'max_depth': [2, 3, 4, 5],\n",
       " 'n_estimators': [10, 20, 50, 100, 150, 200],\n",
       " 'subsample': [0.1, 0.2, 0.3, 0.4, 0.5]}"
      ]
     },
     "execution_count": 49,
     "metadata": {},
     "output_type": "execute_result"
    }
   ],
   "source": [
    "param_grid"
   ]
  },
  {
   "cell_type": "markdown",
   "metadata": {},
   "source": [
    "### Random Search"
   ]
  },
  {
   "cell_type": "code",
   "execution_count": 50,
   "metadata": {},
   "outputs": [
    {
     "name": "stdout",
     "output_type": "stream",
     "text": [
      "16:11:08 -  Iniciando Random Search...\n",
      "Fitting 2 folds for each of 100 candidates, totalling 200 fits\n",
      "16:12:26 -  Random Search finalizado!\n"
     ]
    }
   ],
   "source": [
    "log_message('Iniciando Random Search...')\n",
    "modelo_random = RandomizedSearchCV(estimator=modelo_base, \n",
    "                                   param_distributions=param_grid,\n",
    "                                   n_iter=100, #n_iter=10,\n",
    "                                   n_jobs=5,\n",
    "                                   cv=2,\n",
    "                                   verbose=4,\n",
    "                                   random_state=42)\n",
    "\n",
    "modelo_random.fit(x_train_under, y_train_under)\n",
    "log_message('Random Search finalizado!')"
   ]
  },
  {
   "cell_type": "code",
   "execution_count": 51,
   "metadata": {},
   "outputs": [
    {
     "data": {
      "text/html": [
       "<style>#sk-container-id-7 {color: black;background-color: white;}#sk-container-id-7 pre{padding: 0;}#sk-container-id-7 div.sk-toggleable {background-color: white;}#sk-container-id-7 label.sk-toggleable__label {cursor: pointer;display: block;width: 100%;margin-bottom: 0;padding: 0.3em;box-sizing: border-box;text-align: center;}#sk-container-id-7 label.sk-toggleable__label-arrow:before {content: \"▸\";float: left;margin-right: 0.25em;color: #696969;}#sk-container-id-7 label.sk-toggleable__label-arrow:hover:before {color: black;}#sk-container-id-7 div.sk-estimator:hover label.sk-toggleable__label-arrow:before {color: black;}#sk-container-id-7 div.sk-toggleable__content {max-height: 0;max-width: 0;overflow: hidden;text-align: left;background-color: #f0f8ff;}#sk-container-id-7 div.sk-toggleable__content pre {margin: 0.2em;color: black;border-radius: 0.25em;background-color: #f0f8ff;}#sk-container-id-7 input.sk-toggleable__control:checked~div.sk-toggleable__content {max-height: 200px;max-width: 100%;overflow: auto;}#sk-container-id-7 input.sk-toggleable__control:checked~label.sk-toggleable__label-arrow:before {content: \"▾\";}#sk-container-id-7 div.sk-estimator input.sk-toggleable__control:checked~label.sk-toggleable__label {background-color: #d4ebff;}#sk-container-id-7 div.sk-label input.sk-toggleable__control:checked~label.sk-toggleable__label {background-color: #d4ebff;}#sk-container-id-7 input.sk-hidden--visually {border: 0;clip: rect(1px 1px 1px 1px);clip: rect(1px, 1px, 1px, 1px);height: 1px;margin: -1px;overflow: hidden;padding: 0;position: absolute;width: 1px;}#sk-container-id-7 div.sk-estimator {font-family: monospace;background-color: #f0f8ff;border: 1px dotted black;border-radius: 0.25em;box-sizing: border-box;margin-bottom: 0.5em;}#sk-container-id-7 div.sk-estimator:hover {background-color: #d4ebff;}#sk-container-id-7 div.sk-parallel-item::after {content: \"\";width: 100%;border-bottom: 1px solid gray;flex-grow: 1;}#sk-container-id-7 div.sk-label:hover label.sk-toggleable__label {background-color: #d4ebff;}#sk-container-id-7 div.sk-serial::before {content: \"\";position: absolute;border-left: 1px solid gray;box-sizing: border-box;top: 0;bottom: 0;left: 50%;z-index: 0;}#sk-container-id-7 div.sk-serial {display: flex;flex-direction: column;align-items: center;background-color: white;padding-right: 0.2em;padding-left: 0.2em;position: relative;}#sk-container-id-7 div.sk-item {position: relative;z-index: 1;}#sk-container-id-7 div.sk-parallel {display: flex;align-items: stretch;justify-content: center;background-color: white;position: relative;}#sk-container-id-7 div.sk-item::before, #sk-container-id-7 div.sk-parallel-item::before {content: \"\";position: absolute;border-left: 1px solid gray;box-sizing: border-box;top: 0;bottom: 0;left: 50%;z-index: -1;}#sk-container-id-7 div.sk-parallel-item {display: flex;flex-direction: column;z-index: 1;position: relative;background-color: white;}#sk-container-id-7 div.sk-parallel-item:first-child::after {align-self: flex-end;width: 50%;}#sk-container-id-7 div.sk-parallel-item:last-child::after {align-self: flex-start;width: 50%;}#sk-container-id-7 div.sk-parallel-item:only-child::after {width: 0;}#sk-container-id-7 div.sk-dashed-wrapped {border: 1px dashed gray;margin: 0 0.4em 0.5em 0.4em;box-sizing: border-box;padding-bottom: 0.4em;background-color: white;}#sk-container-id-7 div.sk-label label {font-family: monospace;font-weight: bold;display: inline-block;line-height: 1.2em;}#sk-container-id-7 div.sk-label-container {text-align: center;}#sk-container-id-7 div.sk-container {/* jupyter's `normalize.less` sets `[hidden] { display: none; }` but bootstrap.min.css set `[hidden] { display: none !important; }` so we also need the `!important` here to be able to override the default hidden behavior on the sphinx rendered scikit-learn.org. See: https://github.com/scikit-learn/scikit-learn/issues/21755 */display: inline-block !important;position: relative;}#sk-container-id-7 div.sk-text-repr-fallback {display: none;}</style><div id=\"sk-container-id-7\" class=\"sk-top-container\"><div class=\"sk-text-repr-fallback\"><pre>GradientBoostingClassifier(max_depth=2, min_samples_leaf=15, n_estimators=50,\n",
       "                           random_state=42, subsample=0.3)</pre><b>In a Jupyter environment, please rerun this cell to show the HTML representation or trust the notebook. <br />On GitHub, the HTML representation is unable to render, please try loading this page with nbviewer.org.</b></div><div class=\"sk-container\" hidden><div class=\"sk-item\"><div class=\"sk-estimator sk-toggleable\"><input class=\"sk-toggleable__control sk-hidden--visually\" id=\"sk-estimator-id-7\" type=\"checkbox\" checked><label for=\"sk-estimator-id-7\" class=\"sk-toggleable__label sk-toggleable__label-arrow\">GradientBoostingClassifier</label><div class=\"sk-toggleable__content\"><pre>GradientBoostingClassifier(max_depth=2, min_samples_leaf=15, n_estimators=50,\n",
       "                           random_state=42, subsample=0.3)</pre></div></div></div></div></div>"
      ],
      "text/plain": [
       "GradientBoostingClassifier(max_depth=2, min_samples_leaf=15, n_estimators=50,\n",
       "                           random_state=42, subsample=0.3)"
      ]
     },
     "execution_count": 51,
     "metadata": {},
     "output_type": "execute_result"
    }
   ],
   "source": [
    "modelo_random.best_estimator_"
   ]
  },
  {
   "cell_type": "code",
   "execution_count": 52,
   "metadata": {},
   "outputs": [
    {
     "data": {
      "text/html": [
       "<div>\n",
       "<style scoped>\n",
       "    .dataframe tbody tr th:only-of-type {\n",
       "        vertical-align: middle;\n",
       "    }\n",
       "\n",
       "    .dataframe tbody tr th {\n",
       "        vertical-align: top;\n",
       "    }\n",
       "\n",
       "    .dataframe thead th {\n",
       "        text-align: right;\n",
       "    }\n",
       "</style>\n",
       "<table border=\"1\" class=\"dataframe\">\n",
       "  <thead>\n",
       "    <tr style=\"text-align: right;\">\n",
       "      <th></th>\n",
       "      <th>Treino</th>\n",
       "      <th>Teste</th>\n",
       "      <th>Variação</th>\n",
       "    </tr>\n",
       "  </thead>\n",
       "  <tbody>\n",
       "    <tr>\n",
       "      <th>Acurácia</th>\n",
       "      <td>0.977876</td>\n",
       "      <td>0.993820</td>\n",
       "      <td>0.02</td>\n",
       "    </tr>\n",
       "    <tr>\n",
       "      <th>AUROC</th>\n",
       "      <td>0.989403</td>\n",
       "      <td>0.975889</td>\n",
       "      <td>-0.01</td>\n",
       "    </tr>\n",
       "    <tr>\n",
       "      <th>KS</th>\n",
       "      <td>0.912684</td>\n",
       "      <td>0.866068</td>\n",
       "      <td>-0.05</td>\n",
       "    </tr>\n",
       "    <tr>\n",
       "      <th>Precision</th>\n",
       "      <td>0.983553</td>\n",
       "      <td>0.181818</td>\n",
       "      <td>-0.82</td>\n",
       "    </tr>\n",
       "    <tr>\n",
       "      <th>Recall</th>\n",
       "      <td>0.882006</td>\n",
       "      <td>0.835821</td>\n",
       "      <td>-0.05</td>\n",
       "    </tr>\n",
       "    <tr>\n",
       "      <th>F1</th>\n",
       "      <td>0.930016</td>\n",
       "      <td>0.298667</td>\n",
       "      <td>-0.68</td>\n",
       "    </tr>\n",
       "  </tbody>\n",
       "</table>\n",
       "</div>"
      ],
      "text/plain": [
       "             Treino     Teste  Variação\n",
       "Acurácia   0.977876  0.993820      0.02\n",
       "AUROC      0.989403  0.975889     -0.01\n",
       "KS         0.912684  0.866068     -0.05\n",
       "Precision  0.983553  0.181818     -0.82\n",
       "Recall     0.882006  0.835821     -0.05\n",
       "F1         0.930016  0.298667     -0.68"
      ]
     },
     "execution_count": 52,
     "metadata": {},
     "output_type": "execute_result"
    }
   ],
   "source": [
    "modelo_random_desemp = calcula_desempenho(modelo_random.best_estimator_,\n",
    "                                          x_train_under, y_train_under,\n",
    "                                          x_test,  y_test)\n",
    "modelo_random_desemp"
   ]
  },
  {
   "cell_type": "markdown",
   "metadata": {},
   "source": [
    "### Bayesian Optimization"
   ]
  },
  {
   "cell_type": "markdown",
   "metadata": {},
   "source": [
    "Referência - Distância Euclidiana: https://pt.wikipedia.org/wiki/Dist%C3%A2ncia_euclidiana"
   ]
  },
  {
   "cell_type": "code",
   "execution_count": 53,
   "metadata": {},
   "outputs": [
    {
     "data": {
      "text/plain": [
       "{'min_samples_leaf': array([ 5, 10, 15, 20, 25]),\n",
       " 'max_depth': [2, 3, 4, 5],\n",
       " 'n_estimators': [10, 20, 50, 100, 150, 200],\n",
       " 'subsample': [0.1, 0.2, 0.3, 0.4, 0.5]}"
      ]
     },
     "execution_count": 53,
     "metadata": {},
     "output_type": "execute_result"
    }
   ],
   "source": [
    "param_grid"
   ]
  },
  {
   "cell_type": "code",
   "execution_count": 54,
   "metadata": {},
   "outputs": [],
   "source": [
    "bo_space = {'min_samples_leaf': hp.choice('min_samples_leaf', param_grid['min_samples_leaf']),\n",
    "            'max_depth': hp.choice('max_depth', param_grid['max_depth']),\n",
    "            'n_estimators': hp.choice('n_estimators', param_grid['n_estimators']),\n",
    "            'subsample': hp.choice('subsample', param_grid['subsample'])\n",
    "           }"
   ]
  },
  {
   "cell_type": "code",
   "execution_count": 55,
   "metadata": {},
   "outputs": [],
   "source": [
    "def bo_gb(param):   \n",
    "\n",
    "    print ('Hiperparametros testados: ', param)\n",
    "    modelo_bo = modelo_GB(min_samples_leaf=param['min_samples_leaf'],\n",
    "                          max_depth=param['max_depth'],\n",
    "                          n_estimators=param['n_estimators'],\n",
    "                          subsample=param['subsample']\n",
    "                         )\n",
    "    \n",
    "    #modelo_bo.fit(x_train, y_train)\n",
    "    modelo_bo.fit(x_train_under, y_train_under)\n",
    "\n",
    "    # Previsões para treino e teste\n",
    "    #y_train_pred = modelo_bo.predict(x_train)\n",
    "    y_train_pred = modelo_bo.predict(x_train_under)\n",
    "    y_test_pred = modelo_bo.predict(x_test)\n",
    "\n",
    "    \n",
    "    # Cálculo do recall de treino e teste\n",
    "    #recall_train = recall_score(y_train, y_train_pred)\n",
    "    recall_train = recall_score(y_train_under, y_train_pred)\n",
    "    recall_test = recall_score(y_test, y_test_pred)\n",
    "    recall_diff = np.abs(recall_train - recall_test)\n",
    "    \n",
    "    # Exemplo de função : maximizar o recall e minimizar a diferença entre recall de treino e teste\n",
    "    #score = -recall_test\n",
    "\n",
    "    # Função para cálculo da distância euclidiana entre o resultado obtido e o ideal, \n",
    "    # para maximizar o recall (ideal = 1) e minimizar a diferença entre recall de treino e teste (ideal = 0)\n",
    "    score = np.sqrt((recall_test - 1) ** 2 + (recall_diff - 0) ** 2)\n",
    "    \n",
    "    # Calcula AuROC no conjunto de Teste\n",
    "    y_test_pred_proba = modelo_bo.predict_proba(x_test)[:,1]\n",
    "    auroc_test = roc_auc_score(y_test, y_test_pred_proba)\n",
    "    \n",
    "    print(f'AuROC Teste: {auroc_test} | Recall Teste: {recall_test} | Variação: {recall_diff}')\n",
    "    \n",
    "    return {'loss': score, 'status': STATUS_OK}"
   ]
  },
  {
   "cell_type": "code",
   "execution_count": 56,
   "metadata": {},
   "outputs": [
    {
     "name": "stdout",
     "output_type": "stream",
     "text": [
      "Hiperparametros testados:                                                                                              \n",
      "{'max_depth': 4, 'min_samples_leaf': 25, 'n_estimators': 150, 'subsample': 0.1}                                        \n",
      "AuROC Teste: 0.9561124587455269 | Recall Teste: 0.835820895522388 | Variação: 0.075683529256373                        \n",
      "Hiperparametros testados:                                                                                              \n",
      "{'max_depth': 3, 'min_samples_leaf': 15, 'n_estimators': 200, 'subsample': 0.2}                                        \n",
      "AuROC Teste: 0.9631392423648489 | Recall Teste: 0.8731343283582089 | Variação: 0.08261788403117165                     \n",
      "Hiperparametros testados:                                                                                              \n",
      "{'max_depth': 5, 'min_samples_leaf': 5, 'n_estimators': 10, 'subsample': 0.2}                                          \n",
      "AuROC Teste: 0.969016160724196 | Recall Teste: 0.7910447761194029 | Variação: 0.043763483467617714                     \n",
      "Hiperparametros testados:                                                                                              \n",
      "{'max_depth': 2, 'min_samples_leaf': 5, 'n_estimators': 20, 'subsample': 0.1}                                          \n",
      "AuROC Teste: 0.9742064704717025 | Recall Teste: 0.8059701492537313 | Variação: 0.05243693039228636                     \n",
      "Hiperparametros testados:                                                                                              \n",
      "{'max_depth': 3, 'min_samples_leaf': 10, 'n_estimators': 150, 'subsample': 0.3}                                        \n",
      "AuROC Teste: 0.9675902118888753 | Recall Teste: 0.8432835820895522 | Variação: 0.12131818782195214                     \n",
      "Hiperparametros testados:                                                                                              \n",
      "{'max_depth': 4, 'min_samples_leaf': 25, 'n_estimators': 200, 'subsample': 0.3}                                        \n",
      "AuROC Teste: 0.9698563979031698 | Recall Teste: 0.8507462686567164 | Variação: 0.14040417382115966                     \n",
      "Hiperparametros testados:                                                                                              \n",
      "{'max_depth': 2, 'min_samples_leaf': 15, 'n_estimators': 10, 'subsample': 0.4}                                         \n",
      "AuROC Teste: 0.96325515531633 | Recall Teste: 0.7761194029850746 | Variação: 0.03803988905032363                       \n",
      "Hiperparametros testados:                                                                                              \n",
      "{'max_depth': 3, 'min_samples_leaf': 25, 'n_estimators': 20, 'subsample': 0.1}                                         \n",
      "AuROC Teste: 0.9747315473606271 | Recall Teste: 0.7835820895522388 | Variação: 0.05712587504953104                     \n",
      "Hiperparametros testados:                                                                                              \n",
      "{'max_depth': 2, 'min_samples_leaf': 15, 'n_estimators': 20, 'subsample': 0.4}                                         \n",
      "AuROC Teste: 0.971611600989686 | Recall Teste: 0.8059701492537313 | Variação: 0.04653722537753713                      \n",
      "Hiperparametros testados:                                                                                              \n",
      "{'max_depth': 4, 'min_samples_leaf': 25, 'n_estimators': 200, 'subsample': 0.2}                                        \n",
      "AuROC Teste: 0.9696399392475633 | Recall Teste: 0.8432835820895522 | Variação: 0.11246863029982834                     \n",
      "Hiperparametros testados:                                                                                              \n",
      "{'max_depth': 2, 'min_samples_leaf': 20, 'n_estimators': 50, 'subsample': 0.1}                                         \n",
      "AuROC Teste: 0.9703181617329899 | Recall Teste: 0.8208955223880597 | Variação: 0.04931096728745643                     \n",
      "Hiperparametros testados:                                                                                              \n",
      "{'max_depth': 5, 'min_samples_leaf': 10, 'n_estimators': 10, 'subsample': 0.1}                                         \n",
      "AuROC Teste: 0.9681615661455502 | Recall Teste: 0.7611940298507462 | Variação: 0.0736142297362744                      \n",
      "Hiperparametros testados:                                                                                              \n",
      "{'max_depth': 5, 'min_samples_leaf': 20, 'n_estimators': 200, 'subsample': 0.2}                                        \n",
      "AuROC Teste: 0.9739570820003344 | Recall Teste: 0.8656716417910447 | Variação: 0.09598027561308509                     \n",
      "Hiperparametros testados:                                                                                              \n",
      "{'max_depth': 5, 'min_samples_leaf': 20, 'n_estimators': 100, 'subsample': 0.2}                                        \n",
      "AuROC Teste: 0.9704347771872072 | Recall Teste: 0.8432835820895522 | Variação: 0.08886981024083129                     \n",
      "Hiperparametros testados:                                                                                              \n",
      "{'max_depth': 3, 'min_samples_leaf': 25, 'n_estimators': 10, 'subsample': 0.1}                                         \n",
      "AuROC Teste: 0.9516586792105555 | Recall Teste: 0.7388059701492538 | Variação: 0.060604059349271266                    \n",
      "Hiperparametros testados:                                                                                              \n",
      "{'max_depth': 5, 'min_samples_leaf': 5, 'n_estimators': 10, 'subsample': 0.4}                                          \n",
      "AuROC Teste: 0.9626868745091263 | Recall Teste: 0.8208955223880597 | Variação: 0.04636111478008187                     \n",
      "Hiperparametros testados:                                                                                              \n",
      "{'max_depth': 5, 'min_samples_leaf': 10, 'n_estimators': 150, 'subsample': 0.5}                                        \n",
      "AuROC Teste: 0.9793351356041032 | Recall Teste: 0.8432835820895522 | Variação: 0.15671641791044777                     \n",
      "Hiperparametros testados:                                                                                              \n",
      "{'max_depth': 3, 'min_samples_leaf': 25, 'n_estimators': 20, 'subsample': 0.4}                                         \n",
      "AuROC Teste: 0.9676267420311601 | Recall Teste: 0.8059701492537313 | Variação: 0.04948707788491169                     \n",
      "Hiperparametros testados:                                                                                              \n",
      "{'max_depth': 3, 'min_samples_leaf': 15, 'n_estimators': 150, 'subsample': 0.3}                                        \n",
      "AuROC Teste: 0.9670752773832053 | Recall Teste: 0.8507462686567164 | Variação: 0.10500594373266414                     \n",
      "Hiperparametros testados:                                                                                              \n",
      "{'max_depth': 5, 'min_samples_leaf': 10, 'n_estimators': 20, 'subsample': 0.3}                                         \n",
      "AuROC Teste: 0.9715319986483848 | Recall Teste: 0.8134328358208955 | Variação: 0.0508739488398714                      \n",
      "Hiperparametros testados:                                                                                              \n",
      "{'max_depth': 3, 'min_samples_leaf': 20, 'n_estimators': 200, 'subsample': 0.2}                                        \n",
      "AuROC Teste: 0.9661518375364072 | Recall Teste: 0.8656716417910447 | Variação: 0.08713071809096118                     \n",
      "Hiperparametros testados:                                                                                              \n",
      "{'max_depth': 3, 'min_samples_leaf': 20, 'n_estimators': 200, 'subsample': 0.2}                                        \n",
      "AuROC Teste: 0.9661518375364072 | Recall Teste: 0.8656716417910447 | Variação: 0.08713071809096118                     \n",
      "Hiperparametros testados:                                                                                              \n",
      "{'max_depth': 3, 'min_samples_leaf': 15, 'n_estimators': 200, 'subsample': 0.5}                                        \n",
      "AuROC Teste: 0.971020620562817 | Recall Teste: 0.8582089552238806 | Variação: 0.14179104477611937                      \n",
      "Hiperparametros testados:                                                                                              \n",
      "{'max_depth': 3, 'min_samples_leaf': 20, 'n_estimators': 50, 'subsample': 0.2}                                         \n",
      "AuROC Teste: 0.9762847809104717 | Recall Teste: 0.8432835820895522 | Variação: 0.05052172764496099                     \n",
      "Hiperparametros testados:                                                                                              \n",
      "{'max_depth': 3, 'min_samples_leaf': 15, 'n_estimators': 100, 'subsample': 0.2}                                        \n",
      "AuROC Teste: 0.9631998332258505 | Recall Teste: 0.8507462686567164 | Variação: 0.06370800862941928                     \n",
      "Hiperparametros testados:                                                                                              \n",
      "{'max_depth': 3, 'min_samples_leaf': 20, 'n_estimators': 200, 'subsample': 0.2}                                        \n",
      "AuROC Teste: 0.9661518375364072 | Recall Teste: 0.8656716417910447 | Variação: 0.08713071809096118                     \n",
      "Hiperparametros testados:                                                                                              \n",
      "{'max_depth': 3, 'min_samples_leaf': 15, 'n_estimators': 200, 'subsample': 0.2}                                        \n",
      "AuROC Teste: 0.9631392423648489 | Recall Teste: 0.8731343283582089 | Variação: 0.08261788403117165                     \n",
      "Hiperparametros testados:                                                                                              \n",
      "{'max_depth': 4, 'min_samples_leaf': 15, 'n_estimators': 200, 'subsample': 0.5}                                        \n",
      "AuROC Teste: 0.9739867188345198 | Recall Teste: 0.835820895522388 | Variação: 0.16417910447761197                      \n",
      "Hiperparametros testados:                                                                                              \n",
      "{'max_depth': 3, 'min_samples_leaf': 15, 'n_estimators': 200, 'subsample': 0.2}                                        \n",
      "AuROC Teste: 0.9631392423648489 | Recall Teste: 0.8731343283582089 | Variação: 0.08261788403117165                     \n",
      "Hiperparametros testados:                                                                                              \n",
      "{'max_depth': 4, 'min_samples_leaf': 15, 'n_estimators': 50, 'subsample': 0.2}                                         \n",
      "AuROC Teste: 0.9759441988026543 | Recall Teste: 0.8507462686567164 | Variação: 0.04600889358517146                     \n",
      "Hiperparametros testados:                                                                                              \n",
      "{'max_depth': 3, 'min_samples_leaf': 15, 'n_estimators': 200, 'subsample': 0.2}                                        \n",
      "AuROC Teste: 0.9631392423648489 | Recall Teste: 0.8731343283582089 | Variação: 0.08261788403117165                     \n",
      "Hiperparametros testados:                                                                                              \n",
      "{'max_depth': 3, 'min_samples_leaf': 5, 'n_estimators': 100, 'subsample': 0.5}                                         \n",
      "AuROC Teste: 0.9665085333007373 | Recall Teste: 0.8582089552238806 | Variação: 0.10934266719499841                     \n",
      "Hiperparametros testados:                                                                                              \n",
      "{'max_depth': 2, 'min_samples_leaf': 15, 'n_estimators': 200, 'subsample': 0.2}                                        \n",
      "AuROC Teste: 0.9742240769465297 | Recall Teste: 0.8656716417910447 | Variação: 0.05468234050984022                     \n",
      "Hiperparametros testados:                                                                                              \n",
      "{'max_depth': 2, 'min_samples_leaf': 5, 'n_estimators': 150, 'subsample': 0.2}                                         \n",
      "AuROC Teste: 0.9752756357298512 | Recall Teste: 0.8731343283582089 | Variação: 0.03542024391317755                     \n",
      "Hiperparametros testados:                                                                                              \n",
      "{'max_depth': 2, 'min_samples_leaf': 5, 'n_estimators': 150, 'subsample': 0.2}                                         \n",
      "AuROC Teste: 0.9752756357298512 | Recall Teste: 0.8731343283582089 | Variação: 0.03542024391317755                     \n",
      "Hiperparametros testados:                                                                                              \n",
      "{'max_depth': 2, 'min_samples_leaf': 5, 'n_estimators': 150, 'subsample': 0.3}                                         \n",
      "AuROC Teste: 0.9696736593789033 | Recall Teste: 0.8582089552238806 | Variação: 0.06214502707700431                     \n",
      "Hiperparametros testados:                                                                                              \n",
      "{'max_depth': 2, 'min_samples_leaf': 5, 'n_estimators': 150, 'subsample': 0.4}                                         \n",
      "AuROC Teste: 0.9711265228503065 | Recall Teste: 0.8432835820895522 | Variação: 0.08886981024083129                     \n",
      "Hiperparametros testados:                                                                                              \n",
      "{'max_depth': 2, 'min_samples_leaf': 5, 'n_estimators': 150, 'subsample': 0.2}                                         \n",
      "AuROC Teste: 0.9752756357298512 | Recall Teste: 0.8731343283582089 | Variação: 0.03542024391317755                     \n",
      "Hiperparametros testados:                                                                                              \n",
      "{'max_depth': 2, 'min_samples_leaf': 5, 'n_estimators': 150, 'subsample': 0.3}                                         \n",
      "AuROC Teste: 0.9696736593789033 | Recall Teste: 0.8582089552238806 | Variação: 0.06214502707700431                     \n",
      "Hiperparametros testados:                                                                                              \n",
      "{'max_depth': 2, 'min_samples_leaf': 5, 'n_estimators': 150, 'subsample': 0.1}                                         \n",
      "AuROC Teste: 0.9670384838023944 | Recall Teste: 0.8656716417910447 | Variação: 0.03108352045084317                     \n",
      "Hiperparametros testados:                                                                                              \n",
      "{'max_depth': 2, 'min_samples_leaf': 5, 'n_estimators': 150, 'subsample': 0.5}                                         \n",
      "AuROC Teste: 0.9739064578969036 | Recall Teste: 0.8507462686567164 | Variação: 0.09615638621054023                     \n",
      "Hiperparametros testados:                                                                                              \n",
      "{'max_depth': 2, 'min_samples_leaf': 5, 'n_estimators': 150, 'subsample': 0.2}                                         \n",
      "AuROC Teste: 0.9752756357298512 | Recall Teste: 0.8731343283582089 | Variação: 0.03542024391317755                     \n",
      "Hiperparametros testados:                                                                                              \n",
      "{'max_depth': 2, 'min_samples_leaf': 5, 'n_estimators': 150, 'subsample': 0.4}                                         \n",
      "AuROC Teste: 0.9711265228503065 | Recall Teste: 0.8432835820895522 | Variação: 0.08886981024083129                     \n",
      "Hiperparametros testados:                                                                                              \n",
      "{'max_depth': 2, 'min_samples_leaf': 5, 'n_estimators': 50, 'subsample': 0.1}                                          \n",
      "AuROC Teste: 0.9778478934050447 | Recall Teste: 0.8582089552238806 | Variação: 0.029696649495883354                    \n",
      "Hiperparametros testados:                                                                                              \n",
      "{'max_depth': 4, 'min_samples_leaf': 10, 'n_estimators': 150, 'subsample': 0.2}                                        \n",
      "AuROC Teste: 0.9663116569089036 | Recall Teste: 0.8507462686567164 | Variação: 0.09320653370316556                     \n",
      "Hiperparametros testados:                                                                                              \n",
      "{'max_depth': 2, 'min_samples_leaf': 5, 'n_estimators': 100, 'subsample': 0.2}                                         \n",
      "AuROC Teste: 0.9749064705419528 | Recall Teste: 0.8731343283582089 | Variação: 0.041319948927926786                    \n",
      "Hiperparametros testados:                                                                                              \n",
      "{'max_depth': 2, 'min_samples_leaf': 25, 'n_estimators': 10, 'subsample': 0.3}                                         \n",
      "AuROC Teste: 0.9641162041388652 | Recall Teste: 0.7686567164179104 | Variação: 0.04845242812486239                     \n",
      "Hiperparametros testados:                                                                                              \n",
      "{'max_depth': 4, 'min_samples_leaf': 5, 'n_estimators': 20, 'subsample': 0.1}                                          \n",
      "AuROC Teste: 0.9673665525802222 | Recall Teste: 0.8134328358208955 | Variação: 0.04497424382512216                     \n",
      "Hiperparametros testados:                                                                                              \n",
      "{'max_depth': 2, 'min_samples_leaf': 10, 'n_estimators': 150, 'subsample': 0.4}                                        \n",
      "AuROC Teste: 0.9708845106576691 | Recall Teste: 0.8656716417910447 | Variação: 0.06943160304671336                     \n",
      "Hiperparametros testados:                                                                                              \n",
      "{'max_depth': 2, 'min_samples_leaf': 25, 'n_estimators': 150, 'subsample': 0.2}                                        \n",
      "AuROC Teste: 0.9681206892675848 | Recall Teste: 0.8432835820895522 | Variação: 0.0682208426892088                      \n",
      "Hiperparametros testados:                                                                                              \n",
      "{'max_depth': 5, 'min_samples_leaf': 5, 'n_estimators': 10, 'subsample': 0.5}                                          \n",
      "AuROC Teste: 0.9573298959874447 | Recall Teste: 0.8208955223880597 | Variação: 0.05521067230220578                     \n",
      "Hiperparametros testados:                                                                                              \n",
      "{'max_depth': 2, 'min_samples_leaf': 5, 'n_estimators': 20, 'subsample': 0.2}                                          \n",
      "AuROC Teste: 0.9675741860452046 | Recall Teste: 0.8208955223880597 | Variação: 0.028661999735834054                    \n",
      "Hiperparametros testados:                                                                                              \n",
      "{'max_depth': 4, 'min_samples_leaf': 10, 'n_estimators': 50, 'subsample': 0.1}                                         \n",
      "AuROC Teste: 0.9645380131255612 | Recall Teste: 0.835820895522388 | Variação: 0.049134856690001394                     \n",
      "Hiperparametros testados:                                                                                              \n",
      "{'max_depth': 5, 'min_samples_leaf': 25, 'n_estimators': 100, 'subsample': 0.4}                                        \n",
      "AuROC Teste: 0.9721353167795589 | Recall Teste: 0.8507462686567164 | Variação: 0.12270505877691185                     \n",
      "Hiperparametros testados:                                                                                              \n",
      "{'max_depth': 2, 'min_samples_leaf': 5, 'n_estimators': 150, 'subsample': 0.3}                                         \n",
      "AuROC Teste: 0.9696736593789033 | Recall Teste: 0.8582089552238806 | Variação: 0.06214502707700431                     \n",
      "Hiperparametros testados:                                                                                              \n",
      "{'max_depth': 2, 'min_samples_leaf': 5, 'n_estimators': 150, 'subsample': 0.2}                                         \n",
      "AuROC Teste: 0.9752756357298512 | Recall Teste: 0.8731343283582089 | Variação: 0.03542024391317755                     \n",
      "Hiperparametros testados:                                                                                              \n",
      "{'max_depth': 5, 'min_samples_leaf': 20, 'n_estimators': 10, 'subsample': 0.2}                                         \n",
      "AuROC Teste: 0.974601672167263 | Recall Teste: 0.7835820895522388 | Variação: 0.030577202483159427                     \n",
      "Hiperparametros testados:                                                                                              \n",
      "{'max_depth': 2, 'min_samples_leaf': 10, 'n_estimators': 20, 'subsample': 0.5}                                         \n",
      "AuROC Teste: 0.9637052839445809 | Recall Teste: 0.8208955223880597 | Variação: 0.03161185224320873                     \n",
      "Hiperparametros testados:                                                                                              \n",
      "{'max_depth': 4, 'min_samples_leaf': 25, 'n_estimators': 50, 'subsample': 0.2}                                         \n",
      "AuROC Teste: 0.9794212360957146 | Recall Teste: 0.8432835820895522 | Variação: 0.04757187513758643                     \n",
      "Hiperparametros testados:                                                                                              \n",
      "{'max_depth': 2, 'min_samples_leaf': 5, 'n_estimators': 150, 'subsample': 0.2}                                         \n",
      "AuROC Teste: 0.9752756357298512 | Recall Teste: 0.8731343283582089 | Variação: 0.03542024391317755                     \n",
      "Hiperparametros testados:                                                                                              \n",
      "{'max_depth': 5, 'min_samples_leaf': 20, 'n_estimators': 100, 'subsample': 0.4}                                        \n",
      "AuROC Teste: 0.9760336800886839 | Recall Teste: 0.8432835820895522 | Variação: 0.1360674503588254                      \n",
      "Hiperparametros testados:                                                                                              \n",
      "{'max_depth': 2, 'min_samples_leaf': 5, 'n_estimators': 150, 'subsample': 0.1}                                         \n",
      "AuROC Teste: 0.9670384838023944 | Recall Teste: 0.8656716417910447 | Variação: 0.03108352045084317                     \n",
      "Hiperparametros testados:                                                                                              \n",
      "{'max_depth': 4, 'min_samples_leaf': 5, 'n_estimators': 10, 'subsample': 0.3}                                          \n",
      "AuROC Teste: 0.9653376807715166 | Recall Teste: 0.7910447761194029 | Variação: 0.06146259851186553                     \n",
      "Hiperparametros testados:                                                                                              \n",
      "{'max_depth': 2, 'min_samples_leaf': 10, 'n_estimators': 20, 'subsample': 0.2}                                         \n",
      "AuROC Teste: 0.9743712951761947 | Recall Teste: 0.8134328358208955 | Variação: 0.036124686302998255                    \n",
      "Hiperparametros testados:                                                                                              \n",
      "{'max_depth': 2, 'min_samples_leaf': 20, 'n_estimators': 150, 'subsample': 0.5}                                        \n",
      "AuROC Teste: 0.9738348465242272 | Recall Teste: 0.8507462686567164 | Variação: 0.08435697618104165                     \n",
      "Hiperparametros testados:                                                                                              \n",
      "{'max_depth': 2, 'min_samples_leaf': 5, 'n_estimators': 150, 'subsample': 0.2}                                         \n",
      "AuROC Teste: 0.9752756357298512 | Recall Teste: 0.8731343283582089 | Variação: 0.03542024391317755                     \n",
      "Hiperparametros testados:                                                                                              \n",
      "{'max_depth': 2, 'min_samples_leaf': 5, 'n_estimators': 150, 'subsample': 0.2}                                         \n",
      "AuROC Teste: 0.9752756357298512 | Recall Teste: 0.8731343283582089 | Variação: 0.03542024391317755                     \n",
      "Hiperparametros testados:                                                                                              \n",
      "{'max_depth': 2, 'min_samples_leaf': 5, 'n_estimators': 150, 'subsample': 0.2}                                         \n",
      "AuROC Teste: 0.9752756357298512 | Recall Teste: 0.8731343283582089 | Variação: 0.03542024391317755                     \n",
      "Hiperparametros testados:                                                                                              \n",
      "{'max_depth': 2, 'min_samples_leaf': 5, 'n_estimators': 150, 'subsample': 0.2}                                         \n",
      "AuROC Teste: 0.9752756357298512 | Recall Teste: 0.8731343283582089 | Variação: 0.03542024391317755                     \n",
      "Hiperparametros testados:                                                                                              \n",
      "{'max_depth': 2, 'min_samples_leaf': 5, 'n_estimators': 150, 'subsample': 0.2}                                         \n",
      "AuROC Teste: 0.9752756357298512 | Recall Teste: 0.8731343283582089 | Variação: 0.03542024391317755                     \n",
      "Hiperparametros testados:                                                                                              \n",
      "{'max_depth': 2, 'min_samples_leaf': 5, 'n_estimators': 150, 'subsample': 0.2}                                         \n",
      "AuROC Teste: 0.9752756357298512 | Recall Teste: 0.8731343283582089 | Variação: 0.03542024391317755                     \n",
      "Hiperparametros testados:                                                                                              \n",
      "{'max_depth': 2, 'min_samples_leaf': 5, 'n_estimators': 150, 'subsample': 0.2}                                         \n",
      "AuROC Teste: 0.9752756357298512 | Recall Teste: 0.8731343283582089 | Variação: 0.03542024391317755                     \n",
      "Hiperparametros testados:                                                                                              \n",
      "{'max_depth': 2, 'min_samples_leaf': 5, 'n_estimators': 50, 'subsample': 0.2}                                          \n",
      "AuROC Teste: 0.9803017793691806 | Recall Teste: 0.8507462686567164 | Variação: 0.04010918857042223                     \n",
      "Hiperparametros testados:                                                                                              \n",
      "{'max_depth': 5, 'min_samples_leaf': 25, 'n_estimators': 100, 'subsample': 0.2}                                        \n",
      "AuROC Teste: 0.9711872893369919 | Recall Teste: 0.8507462686567164 | Variação: 0.08435697618104165                     \n",
      "Hiperparametros testados:                                                                                              \n",
      "{'max_depth': 2, 'min_samples_leaf': 5, 'n_estimators': 150, 'subsample': 0.3}                                         \n",
      "AuROC Teste: 0.9696736593789033 | Recall Teste: 0.8582089552238806 | Variação: 0.06214502707700431                     \n",
      "Hiperparametros testados:                                                                                              \n",
      "{'max_depth': 2, 'min_samples_leaf': 15, 'n_estimators': 150, 'subsample': 0.2}                                        \n",
      "AuROC Teste: 0.9775081016128058 | Recall Teste: 0.8656716417910447 | Variação: 0.05468234050984022                     \n",
      "Hiperparametros testados:                                                                                              \n",
      "{'max_depth': 4, 'min_samples_leaf': 5, 'n_estimators': 150, 'subsample': 0.2}                                         \n",
      "AuROC Teste: 0.9671340241745242 | Recall Teste: 0.8656716417910447 | Variação: 0.07828116056883727                     \n",
      "Hiperparametros testados:                                                                                              \n",
      "{'max_depth': 2, 'min_samples_leaf': 20, 'n_estimators': 10, 'subsample': 0.4}                                         \n",
      "AuROC Teste: 0.958626803851401 | Recall Teste: 0.7761194029850746 | Variação: 0.03803988905032363                      \n",
      "Hiperparametros testados:                                                                                              \n",
      "{'max_depth': 3, 'min_samples_leaf': 5, 'n_estimators': 20, 'subsample': 0.1}                                          \n",
      "AuROC Teste: 0.9663837951586322 | Recall Teste: 0.8059701492537313 | Variação: 0.05243693039228636                     \n",
      "Hiperparametros testados:                                                                                              \n",
      "{'max_depth': 2, 'min_samples_leaf': 5, 'n_estimators': 150, 'subsample': 0.2}                                         \n",
      "AuROC Teste: 0.9752756357298512 | Recall Teste: 0.8731343283582089 | Variação: 0.03542024391317755                     \n",
      "Hiperparametros testados:                                                                                              \n",
      "{'max_depth': 5, 'min_samples_leaf': 10, 'n_estimators': 50, 'subsample': 0.5}                                         \n",
      "AuROC Teste: 0.9800720609744275 | Recall Teste: 0.8656716417910447 | Variação: 0.0753313080614626                      \n",
      "Hiperparametros testados:                                                                                              \n",
      "{'max_depth': 2, 'min_samples_leaf': 25, 'n_estimators': 200, 'subsample': 0.2}                                        \n",
      "AuROC Teste: 0.9618687661663443 | Recall Teste: 0.8582089552238806 | Variação: 0.07394443710650289                     \n",
      "Hiperparametros testados:                                                                                              \n",
      "{'max_depth': 2, 'min_samples_leaf': 15, 'n_estimators': 100, 'subsample': 0.2}                                        \n",
      "AuROC Teste: 0.9767320556213567 | Recall Teste: 0.8582089552238806 | Variação: 0.044445912032756496                    \n",
      "Hiperparametros testados:                                                                                              \n",
      "{'max_depth': 4, 'min_samples_leaf': 5, 'n_estimators': 150, 'subsample': 0.3}                                         \n",
      "AuROC Teste: 0.9728254379050806 | Recall Teste: 0.8656716417910447 | Variação: 0.11662924316470746                     \n",
      "Hiperparametros testados:                                                                                              \n",
      "{'max_depth': 3, 'min_samples_leaf': 5, 'n_estimators': 150, 'subsample': 0.4}                                         \n",
      "AuROC Teste: 0.9688180549525741 | Recall Teste: 0.8432835820895522 | Variação: 0.13311759785145072                     \n",
      "Hiperparametros testados:                                                                                              \n",
      "{'max_depth': 2, 'min_samples_leaf': 5, 'n_estimators': 150, 'subsample': 0.1}                                         \n",
      "AuROC Teste: 0.9670384838023944 | Recall Teste: 0.8656716417910447 | Variação: 0.03108352045084317                     \n",
      "Hiperparametros testados:                                                                                              \n",
      "{'max_depth': 2, 'min_samples_leaf': 20, 'n_estimators': 10, 'subsample': 0.2}                                         \n",
      "AuROC Teste: 0.9688108103931065 | Recall Teste: 0.7835820895522388 | Variação: 0.02467749746841008                     \n",
      "Hiperparametros testados:                                                                                              \n",
      "{'max_depth': 5, 'min_samples_leaf': 10, 'n_estimators': 200, 'subsample': 0.5}                                        \n",
      "AuROC Teste: 0.9786699094192972 | Recall Teste: 0.8507462686567164 | Variação: 0.14925373134328357                     \n",
      "Hiperparametros testados:                                                                                              \n",
      "{'max_depth': 2, 'min_samples_leaf': 5, 'n_estimators': 20, 'subsample': 0.2}                                          \n",
      "AuROC Teste: 0.9675741860452046 | Recall Teste: 0.8208955223880597 | Variação: 0.028661999735834054                    \n",
      "Hiperparametros testados:                                                                                              \n",
      "{'max_depth': 3, 'min_samples_leaf': 15, 'n_estimators': 50, 'subsample': 0.2}                                         \n",
      "AuROC Teste: 0.9737477361849324 | Recall Teste: 0.8507462686567164 | Variação: 0.04305904107779679                     \n",
      "Hiperparametros testados:                                                                                              \n",
      "{'max_depth': 2, 'min_samples_leaf': 25, 'n_estimators': 150, 'subsample': 0.2}                                        \n",
      "AuROC Teste: 0.9681206892675848 | Recall Teste: 0.8432835820895522 | Variação: 0.0682208426892088                      \n",
      "Hiperparametros testados:                                                                                              \n",
      "{'max_depth': 4, 'min_samples_leaf': 5, 'n_estimators': 100, 'subsample': 0.3}                                         \n",
      "AuROC Teste: 0.9746755666738321 | Recall Teste: 0.8507462686567164 | Variação: 0.11680535376216261                     \n",
      "Hiperparametros testados:                                                                                              \n",
      "{'max_depth': 2, 'min_samples_leaf': 5, 'n_estimators': 150, 'subsample': 0.4}                                         \n",
      "AuROC Teste: 0.9711265228503065 | Recall Teste: 0.8432835820895522 | Variação: 0.08886981024083129                     \n",
      "Hiperparametros testados:                                                                                              \n",
      "{'max_depth': 5, 'min_samples_leaf': 20, 'n_estimators': 150, 'subsample': 0.1}                                        \n",
      "AuROC Teste: 0.9609600788770072 | Recall Teste: 0.8432835820895522 | Variação: 0.05347158015233566                     \n",
      "Hiperparametros testados:                                                                                              \n",
      "{'max_depth': 2, 'min_samples_leaf': 10, 'n_estimators': 10, 'subsample': 0.5}                                         \n",
      "AuROC Teste: 0.9491260690335388 | Recall Teste: 0.7985074626865671 | Variação: 0.05694976445207589                     \n",
      "Hiperparametros testados:                                                                                              \n",
      "{'max_depth': 3, 'min_samples_leaf': 5, 'n_estimators': 200, 'subsample': 0.2}                                         \n",
      "AuROC Teste: 0.96866741202207 | Recall Teste: 0.8656716417910447 | Variação: 0.10187998062783432                       \n",
      "Hiperparametros testados:                                                                                              \n",
      "{'max_depth': 2, 'min_samples_leaf': 15, 'n_estimators': 150, 'subsample': 0.2}                                        \n",
      "AuROC Teste: 0.9775081016128058 | Recall Teste: 0.8656716417910447 | Variação: 0.05468234050984022                     \n",
      "Hiperparametros testados:                                                                                              \n",
      "{'max_depth': 4, 'min_samples_leaf': 5, 'n_estimators': 20, 'subsample': 0.2}                                          \n",
      "AuROC Teste: 0.9696413003466148 | Recall Teste: 0.8134328358208955 | Variação: 0.0508739488398714                      \n",
      "Hiperparametros testados:                                                                                              \n",
      "{'max_depth': 2, 'min_samples_leaf': 25, 'n_estimators': 50, 'subsample': 0.3}                                         \n",
      "AuROC Teste: 0.9718491786338008 | Recall Teste: 0.8432835820895522 | Variação: 0.044622022630211755                    \n",
      "Hiperparametros testados:                                                                                              \n",
      "{'max_depth': 2, 'min_samples_leaf': 5, 'n_estimators': 150, 'subsample': 0.2}                                         \n",
      "AuROC Teste: 0.9752756357298512 | Recall Teste: 0.8731343283582089 | Variação: 0.03542024391317755                     \n",
      "100%|█████████████████████████████████████████████| 100/100 [03:10<00:00,  1.91s/trial, best loss: 0.13171747158213956]\n"
     ]
    }
   ],
   "source": [
    "trials = Trials()\n",
    "bo_search = fmin(fn=bo_gb,\n",
    "                 space=bo_space,\n",
    "                 algo=tpe.suggest,\n",
    "                 max_evals=100, #max_evals=10,\n",
    "                 trials=trials)"
   ]
  },
  {
   "cell_type": "code",
   "execution_count": 57,
   "metadata": {},
   "outputs": [
    {
     "name": "stdout",
     "output_type": "stream",
     "text": [
      "Melhor conjunto de hiperparâmetros:  {'max_depth': 2, 'min_samples_leaf': 5, 'n_estimators': 150, 'subsample': 0.2}\n"
     ]
    }
   ],
   "source": [
    "bo_melhor_hp = space_eval(bo_space, bo_search)\n",
    "print('Melhor conjunto de hiperparâmetros: ', bo_melhor_hp)"
   ]
  },
  {
   "cell_type": "markdown",
   "metadata": {},
   "source": [
    "### Melhor Modelo (referência: maior Recall e menor variação entre treino e teste)"
   ]
  },
  {
   "cell_type": "code",
   "execution_count": 58,
   "metadata": {},
   "outputs": [],
   "source": [
    "# Utilizando o melhor conjunto de hiperparâmetros para treino com a melhor técnica para amostras desbalanceadas\n",
    "modelo_bo = modelo_GB(min_samples_leaf=bo_melhor_hp['min_samples_leaf'],\n",
    "                          max_depth=bo_melhor_hp['max_depth'],\n",
    "                          n_estimators=bo_melhor_hp['n_estimators'],\n",
    "                          subsample=bo_melhor_hp['subsample']\n",
    "                     )\n",
    "\n",
    "historico = modelo_bo.fit(x_train_under, y_train_under)"
   ]
  },
  {
   "cell_type": "code",
   "execution_count": 59,
   "metadata": {},
   "outputs": [
    {
     "data": {
      "text/html": [
       "<div>\n",
       "<style scoped>\n",
       "    .dataframe tbody tr th:only-of-type {\n",
       "        vertical-align: middle;\n",
       "    }\n",
       "\n",
       "    .dataframe tbody tr th {\n",
       "        vertical-align: top;\n",
       "    }\n",
       "\n",
       "    .dataframe thead th {\n",
       "        text-align: right;\n",
       "    }\n",
       "</style>\n",
       "<table border=\"1\" class=\"dataframe\">\n",
       "  <thead>\n",
       "    <tr style=\"text-align: right;\">\n",
       "      <th></th>\n",
       "      <th>Treino</th>\n",
       "      <th>Teste</th>\n",
       "      <th>Variação</th>\n",
       "    </tr>\n",
       "  </thead>\n",
       "  <tbody>\n",
       "    <tr>\n",
       "      <th>Acurácia</th>\n",
       "      <td>0.983776</td>\n",
       "      <td>0.990014</td>\n",
       "      <td>0.01</td>\n",
       "    </tr>\n",
       "    <tr>\n",
       "      <th>AUROC</th>\n",
       "      <td>0.996394</td>\n",
       "      <td>0.975276</td>\n",
       "      <td>-0.02</td>\n",
       "    </tr>\n",
       "    <tr>\n",
       "      <th>KS</th>\n",
       "      <td>0.948673</td>\n",
       "      <td>0.869412</td>\n",
       "      <td>-0.08</td>\n",
       "    </tr>\n",
       "    <tr>\n",
       "      <th>Precision</th>\n",
       "      <td>0.993548</td>\n",
       "      <td>0.123158</td>\n",
       "      <td>-0.88</td>\n",
       "    </tr>\n",
       "    <tr>\n",
       "      <th>Recall</th>\n",
       "      <td>0.908555</td>\n",
       "      <td>0.873134</td>\n",
       "      <td>-0.04</td>\n",
       "    </tr>\n",
       "    <tr>\n",
       "      <th>F1</th>\n",
       "      <td>0.949153</td>\n",
       "      <td>0.215867</td>\n",
       "      <td>-0.77</td>\n",
       "    </tr>\n",
       "  </tbody>\n",
       "</table>\n",
       "</div>"
      ],
      "text/plain": [
       "             Treino     Teste  Variação\n",
       "Acurácia   0.983776  0.990014      0.01\n",
       "AUROC      0.996394  0.975276     -0.02\n",
       "KS         0.948673  0.869412     -0.08\n",
       "Precision  0.993548  0.123158     -0.88\n",
       "Recall     0.908555  0.873134     -0.04\n",
       "F1         0.949153  0.215867     -0.77"
      ]
     },
     "execution_count": 59,
     "metadata": {},
     "output_type": "execute_result"
    }
   ],
   "source": [
    "modelo_bo_desemp = calcula_desempenho(modelo_bo,\n",
    "                                      x_train_under, y_train_under,\n",
    "                                      x_test,  y_test)\n",
    "modelo_bo_desemp"
   ]
  },
  {
   "cell_type": "code",
   "execution_count": 60,
   "metadata": {},
   "outputs": [
    {
     "data": {
      "text/plain": [
       "Modelo Bayesian Optimized                    0.873134\n",
       "Modelo Random Undersampling                  0.858209\n",
       "Modelo Random Search Random Undersampling    0.835821\n",
       "Modelo Base                                  0.656716\n",
       "dtype: float64"
      ]
     },
     "execution_count": 60,
     "metadata": {},
     "output_type": "execute_result"
    }
   ],
   "source": [
    "pd.Series(data = {'Modelo Base': modelo_base_desemp.loc['Recall','Teste'],\n",
    "                  'Modelo Random Undersampling': modelo_ru_desemp.loc['Recall','Teste'],\n",
    "                  'Modelo Random Search Random Undersampling': modelo_random_desemp.loc['Recall','Teste'],\n",
    "                  'Modelo Bayesian Optimized': modelo_bo_desemp.loc['Recall','Teste'],\n",
    "                    }).sort_values(ascending=False)"
   ]
  },
  {
   "cell_type": "code",
   "execution_count": 61,
   "metadata": {},
   "outputs": [
    {
     "data": {
      "text/plain": [
       "Modelo Bayesian Optimized                   -0.04\n",
       "Modelo Random Search Random Undersampling   -0.05\n",
       "Modelo Random Undersampling                 -0.06\n",
       "Modelo Base                                 -0.08\n",
       "dtype: float64"
      ]
     },
     "execution_count": 61,
     "metadata": {},
     "output_type": "execute_result"
    }
   ],
   "source": [
    "pd.Series(data = {'Modelo Base': modelo_base_desemp.loc['Recall','Variação'],\n",
    "                  'Modelo Random Undersampling': modelo_ru_desemp.loc['Recall','Variação'],\n",
    "                  'Modelo Random Search Random Undersampling': modelo_random_desemp.loc['Recall','Variação'],\n",
    "                  'Modelo Bayesian Optimized': modelo_bo_desemp.loc['Recall','Variação'],\n",
    "                    }).sort_values(ascending=False)"
   ]
  },
  {
   "cell_type": "markdown",
   "metadata": {},
   "source": [
    "O Modelo desenvolvido com a técnica de Random UnderSampling para tratamento do dataset desbalanceado, aliado à técnica de Otimização Bayesiana para finetuning de hiperparâmetros, apresentou os melhores resultados do ponto de vista de melhor recall e melhor generalização (menor variação entre treino e teste)."
   ]
  },
  {
   "cell_type": "markdown",
   "metadata": {},
   "source": [
    "## Mensuração do Valor"
   ]
  },
  {
   "cell_type": "markdown",
   "metadata": {},
   "source": [
    "Do ponto de vista do negócio, considerando que o custo do Falso Negativo é 1000 reais e o custo do Falso Positivo é 500 reais, qual é valor de se aplicar as técnicas de oversampling/ undersampling e finetuning dos modelos?"
   ]
  },
  {
   "cell_type": "code",
   "execution_count": 62,
   "metadata": {},
   "outputs": [],
   "source": [
    "#Custo Falso Negativo\n",
    "custo_fn = 1000\n",
    "#Custo Falso Positivo\n",
    "custo_fp = 500"
   ]
  },
  {
   "cell_type": "code",
   "execution_count": 63,
   "metadata": {},
   "outputs": [
    {
     "name": "stdout",
     "output_type": "stream",
     "text": [
      "0.9978617918654104 0.0005639230245071548 0.0005404262318193567 0.001033858878263117\n"
     ]
    }
   ],
   "source": [
    "# Modelo Base\n",
    "y_pred_base = modelo_base.predict(x_test)\n",
    "tn, fp, fn, tp = confusion_matrix(y_test, y_pred_base, normalize='all').ravel()\n",
    "print(tn, fp, fn, tp)"
   ]
  },
  {
   "cell_type": "code",
   "execution_count": 64,
   "metadata": {},
   "outputs": [
    {
     "data": {
      "text/plain": [
       "0.8223877440729341"
      ]
     },
     "execution_count": 64,
     "metadata": {},
     "output_type": "execute_result"
    }
   ],
   "source": [
    "# Valor do Modelo Base\n",
    "valor_base = fp*custo_fp + fn*custo_fn\n",
    "valor_base"
   ]
  },
  {
   "cell_type": "code",
   "execution_count": 65,
   "metadata": {},
   "outputs": [
    {
     "name": "stdout",
     "output_type": "stream",
     "text": [
      "0.9917996193519585 0.006626095537959068 0.00022321953053408208 0.0013510655795483917\n"
     ]
    }
   ],
   "source": [
    "# Modelo UnderSampling\n",
    "y_pred_ru = modelo_ru.predict(x_test)\n",
    "tn, fp, fn, tp = confusion_matrix(y_test, y_pred_ru, normalize='all').ravel()\n",
    "print(tn, fp, fn, tp)"
   ]
  },
  {
   "cell_type": "code",
   "execution_count": 66,
   "metadata": {},
   "outputs": [
    {
     "data": {
      "text/plain": [
       "3.536267299513616"
      ]
     },
     "execution_count": 66,
     "metadata": {},
     "output_type": "execute_result"
    }
   ],
   "source": [
    "# Valor do Modelo Undersampling\n",
    "valor_ru = fp*custo_fp + fn*custo_fn\n",
    "valor_ru"
   ]
  },
  {
   "cell_type": "code",
   "execution_count": 67,
   "metadata": {},
   "outputs": [
    {
     "name": "stdout",
     "output_type": "stream",
     "text": [
      "0.9886393007354496 0.009786414154467914 0.00019972273784628399 0.0013745623722361898\n"
     ]
    }
   ],
   "source": [
    "# Modelo com Finetuning\n",
    "y_pred_optimized = modelo_bo.predict(x_test)\n",
    "tn, fp, fn, tp = confusion_matrix(y_test, y_pred_optimized, normalize='all').ravel()\n",
    "print(tn, fp, fn, tp)"
   ]
  },
  {
   "cell_type": "code",
   "execution_count": 68,
   "metadata": {},
   "outputs": [
    {
     "data": {
      "text/plain": [
       "5.092929815080241"
      ]
     },
     "execution_count": 68,
     "metadata": {},
     "output_type": "execute_result"
    }
   ],
   "source": [
    "# Valor do Modelo com Finetuning\n",
    "valor_bo = fp*custo_fp + fn*custo_fn\n",
    "valor_bo"
   ]
  },
  {
   "cell_type": "markdown",
   "metadata": {},
   "source": [
    "# Para ir além..."
   ]
  },
  {
   "cell_type": "markdown",
   "metadata": {},
   "source": [
    "Para explorar outras possibilidades de resolução do desafio proposto, considere também:  \n",
    "\n",
    "1) Para otimizar conjuntamente a escolha da técnica oversampling/undersampling com o finetuning dos hiperparâmetros, explore os recursos de pipeline do sklearn e impalanced-learn:  \n",
    "- https://imbalanced-learn.org/stable/auto_examples/pipeline/plot_pipeline_classification.html\n",
    "- https://scikit-learn.org/stable/modules/generated/sklearn.pipeline.Pipeline.html#sklearn.pipeline.Pipeline\n",
    "\n",
    "2) Adaptar a função customizada do score para considerar os custos de falsos negativos e falsos positivos\n"
   ]
  },
  {
   "cell_type": "code",
   "execution_count": null,
   "metadata": {},
   "outputs": [],
   "source": []
  }
 ],
 "metadata": {
  "kernelspec": {
   "display_name": "Python 3 (ipykernel)",
   "language": "python",
   "name": "python3"
  },
  "language_info": {
   "codemirror_mode": {
    "name": "ipython",
    "version": 3
   },
   "file_extension": ".py",
   "mimetype": "text/x-python",
   "name": "python",
   "nbconvert_exporter": "python",
   "pygments_lexer": "ipython3",
   "version": "3.11.7"
  },
  "toc-autonumbering": true
 },
 "nbformat": 4,
 "nbformat_minor": 4
}
